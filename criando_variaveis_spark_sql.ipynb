{
  "nbformat": 4,
  "nbformat_minor": 0,
  "metadata": {
    "colab": {
      "provenance": [],
      "mount_file_id": "1vGb-JQXP7s1QUmf9cemgoWTokFI1MOFJ",
      "authorship_tag": "ABX9TyOJirfTGZ5xQMM8yIiuQpP+",
      "include_colab_link": true
    },
    "kernelspec": {
      "name": "python3",
      "display_name": "Python 3"
    },
    "language_info": {
      "name": "python"
    }
  },
  "cells": [
    {
      "cell_type": "markdown",
      "metadata": {
        "id": "view-in-github",
        "colab_type": "text"
      },
      "source": [
        "<a href=\"https://colab.research.google.com/github/MaCavalca/Criando_variaveis_Spark_SQL/blob/main/criando_variaveis_spark_sql.ipynb\" target=\"_parent\"><img src=\"https://colab.research.google.com/assets/colab-badge.svg\" alt=\"Open In Colab\"/></a>"
      ]
    },
    {
      "cell_type": "markdown",
      "source": [
        "#Transformação e o processamento massivo de variáves com"
      ],
      "metadata": {
        "id": "oZYxn3kErq0P"
      }
    },
    {
      "cell_type": "markdown",
      "source": [
        "![spark_sql_logo.png](data:image/png;base64,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)"
      ],
      "metadata": {
        "id": "_2dBzsqhrLyS"
      }
    },
    {
      "cell_type": "markdown",
      "source": [
        "\n",
        "O Spark SQL faz parte do framework de Big Data Apache Spark, sendo utilizado no processamento de dados estruturados por meio de consultas SQL no conjunto de dados armazenados no Spark. Também é possível realizar processos como ETL sobre dados de diversos formatos como json, parquet, csv, entre outros.\n",
        "\n",
        "\n"
      ],
      "metadata": {
        "id": "jEqfgarotLa3"
      }
    },
    {
      "cell_type": "markdown",
      "source": [
        "###Criando mais variáveis"
      ],
      "metadata": {
        "id": "A3Ez7PbQ3Sw7"
      }
    },
    {
      "cell_type": "markdown",
      "source": [
        "O objetivo é realizar uma transformação e processamento massivo nos dados da competição do Kaggle “Home Credit Default Risk” (https://www.kaggle.com/competitions/home-credit-default-risk/data), para enriquecer ainda mais os dados de treino da tabela application_train. Para isso, serão criadas diversas colunas combinando dados históricos transacionais da tabela bureau.csv.\n",
        "\n",
        "- O foco não é criar um dashboard ou uma análise específica, mas combinar conceitos para criar variáveis massivamente para gerar mais poder preditivo para um modelo. \n",
        "\n",
        "- Foi assumido que os dados do kaggle estejam minimamente tratados para criar as variáveis\n",
        "\n",
        "- Para entendimento das colunas, foram verificados os metadados que estão entre os arquivos .csv disponibilizados no Kaggle.\n",
        "\n"
      ],
      "metadata": {
        "id": "d4F-BzK2WYtI"
      }
    },
    {
      "cell_type": "markdown",
      "source": [
        "###Instalando o pyspark"
      ],
      "metadata": {
        "id": "G_px1Hv2ygqK"
      }
    },
    {
      "cell_type": "code",
      "execution_count": 1,
      "metadata": {
        "colab": {
          "base_uri": "https://localhost:8080/"
        },
        "id": "ybZ4etTpQXWR",
        "outputId": "4b3600cd-25d8-424e-e5c9-d9372c53e655"
      },
      "outputs": [
        {
          "output_type": "stream",
          "name": "stdout",
          "text": [
            "Looking in indexes: https://pypi.org/simple, https://us-python.pkg.dev/colab-wheels/public/simple/\n",
            "Collecting pyspark\n",
            "  Downloading pyspark-3.4.0.tar.gz (310.8 MB)\n",
            "\u001b[2K     \u001b[90m━━━━━━━━━━━━━━━━━━━━━━━━━━━━━━━━━━━━━━━\u001b[0m \u001b[32m310.8/310.8 MB\u001b[0m \u001b[31m3.5 MB/s\u001b[0m eta \u001b[36m0:00:00\u001b[0m\n",
            "\u001b[?25h  Preparing metadata (setup.py) ... \u001b[?25l\u001b[?25hdone\n",
            "Requirement already satisfied: py4j==0.10.9.7 in /usr/local/lib/python3.10/dist-packages (from pyspark) (0.10.9.7)\n",
            "Building wheels for collected packages: pyspark\n",
            "  Building wheel for pyspark (setup.py) ... \u001b[?25l\u001b[?25hdone\n",
            "  Created wheel for pyspark: filename=pyspark-3.4.0-py2.py3-none-any.whl size=311317145 sha256=c2547b53fd5ae5576a307daf37c462e15baf8fcdd46890f683b622b942be93e3\n",
            "  Stored in directory: /root/.cache/pip/wheels/7b/1b/4b/3363a1d04368e7ff0d408e57ff57966fcdf00583774e761327\n",
            "Successfully built pyspark\n",
            "Installing collected packages: pyspark\n",
            "Successfully installed pyspark-3.4.0\n"
          ]
        }
      ],
      "source": [
        "!pip install pyspark"
      ]
    },
    {
      "cell_type": "markdown",
      "source": [
        "###Mapeando o Google Drive, para possibilitar o acesso aos arquivos de leitura"
      ],
      "metadata": {
        "id": "ulh5JfWDyqTm"
      }
    },
    {
      "cell_type": "code",
      "source": [
        "from google.colab import drive\n",
        "drive.mount('/content/gdrive')"
      ],
      "metadata": {
        "colab": {
          "base_uri": "https://localhost:8080/"
        },
        "id": "Cuu2wh8pV_DX",
        "outputId": "d49addb2-977e-4b76-c0d2-73f36c6aea97"
      },
      "execution_count": 2,
      "outputs": [
        {
          "output_type": "stream",
          "name": "stdout",
          "text": [
            "Mounted at /content/gdrive\n"
          ]
        }
      ]
    },
    {
      "cell_type": "markdown",
      "source": [
        "###Etapas obrigatórias no pré-processamento de dados com Spark"
      ],
      "metadata": {
        "id": "gnpRfFM1y1OF"
      }
    },
    {
      "cell_type": "markdown",
      "source": [
        "Etapa 1: Importar a SparkSession para iniciar a sessão PySpark"
      ],
      "metadata": {
        "id": "j1nUrs22y4ge"
      }
    },
    {
      "cell_type": "code",
      "source": [
        "from pyspark.sql import SparkSession"
      ],
      "metadata": {
        "id": "ewzfzGCRzEWK"
      },
      "execution_count": 3,
      "outputs": []
    },
    {
      "cell_type": "markdown",
      "source": [
        "Etapa 2: Utilizar a função getOrCreate() para criar a sessão do Apache Spark"
      ],
      "metadata": {
        "id": "fdogUI4MzG0g"
      }
    },
    {
      "cell_type": "code",
      "source": [
        "spark = SparkSession \\\n",
        "    .builder \\\n",
        "    .appName(\"Criando variáveis!\") \\\n",
        "    .config('spark.ui.port', '4050') \\\n",
        "    .getOrCreate()"
      ],
      "metadata": {
        "id": "2MJrHQGhQzmn"
      },
      "execution_count": 4,
      "outputs": []
    },
    {
      "cell_type": "markdown",
      "source": [
        "Etapa 3: Verificar se o objeto spark contém em um formato graphical"
      ],
      "metadata": {
        "id": "ogM9klUMzQe4"
      }
    },
    {
      "cell_type": "code",
      "source": [
        "spark"
      ],
      "metadata": {
        "colab": {
          "base_uri": "https://localhost:8080/",
          "height": 219
        },
        "id": "nefpvvyTRAsQ",
        "outputId": "7ed19fe2-3113-4750-93b2-778ca2b08642"
      },
      "execution_count": 5,
      "outputs": [
        {
          "output_type": "execute_result",
          "data": {
            "text/plain": [
              "<pyspark.sql.session.SparkSession at 0x7f64dd649e40>"
            ],
            "text/html": [
              "\n",
              "            <div>\n",
              "                <p><b>SparkSession - in-memory</b></p>\n",
              "                \n",
              "        <div>\n",
              "            <p><b>SparkContext</b></p>\n",
              "\n",
              "            <p><a href=\"http://f943177a53ea:4050\">Spark UI</a></p>\n",
              "\n",
              "            <dl>\n",
              "              <dt>Version</dt>\n",
              "                <dd><code>v3.4.0</code></dd>\n",
              "              <dt>Master</dt>\n",
              "                <dd><code>local[*]</code></dd>\n",
              "              <dt>AppName</dt>\n",
              "                <dd><code>Criando variáveis!</code></dd>\n",
              "            </dl>\n",
              "        </div>\n",
              "        \n",
              "            </div>\n",
              "        "
            ]
          },
          "metadata": {},
          "execution_count": 5
        }
      ]
    },
    {
      "cell_type": "markdown",
      "source": [
        "###Lendo os arquivos de formado csv"
      ],
      "metadata": {
        "id": "7ulAo-L2zZf5"
      }
    },
    {
      "cell_type": "markdown",
      "source": [
        "- O dataframe df_colunas contém a descrição das colunas dos outros dfs"
      ],
      "metadata": {
        "id": "AvRnaedt0v9h"
      }
    },
    {
      "cell_type": "code",
      "source": [
        "df_colunas = spark.read.csv(\"HomeCredit_columns_description.csv\", header=True)"
      ],
      "metadata": {
        "id": "ybsulZnrRF9q"
      },
      "execution_count": 6,
      "outputs": []
    },
    {
      "cell_type": "code",
      "source": [
        "df_colunas.show()"
      ],
      "metadata": {
        "colab": {
          "base_uri": "https://localhost:8080/"
        },
        "id": "2ImM18tGL0bO",
        "outputId": "701c3398-34b2-4185-c92d-226ca4465b06"
      },
      "execution_count": 7,
      "outputs": [
        {
          "output_type": "stream",
          "name": "stdout",
          "text": [
            "+---+--------------------+--------------------+--------------------+--------------------+\n",
            "|_c0|               Table|                 Row|         Description|             Special|\n",
            "+---+--------------------+--------------------+--------------------+--------------------+\n",
            "|  1|application_{trai...|          SK_ID_CURR|ID of loan in our...|                null|\n",
            "|  2|application_{trai...|              TARGET|Target variable (...|                null|\n",
            "|  5|application_{trai...|  NAME_CONTRACT_TYPE|Identification if...|                null|\n",
            "|  6|application_{trai...|         CODE_GENDER|Gender of the client|                null|\n",
            "|  7|application_{trai...|        FLAG_OWN_CAR|Flag if the clien...|                null|\n",
            "|  8|application_{trai...|     FLAG_OWN_REALTY|Flag if client ow...|                null|\n",
            "|  9|application_{trai...|        CNT_CHILDREN|Number of childre...|                null|\n",
            "| 10|application_{trai...|    AMT_INCOME_TOTAL|Income of the client|                null|\n",
            "| 11|application_{trai...|          AMT_CREDIT|Credit amount of ...|                null|\n",
            "| 12|application_{trai...|         AMT_ANNUITY|        Loan annuity|                null|\n",
            "| 13|application_{trai...|     AMT_GOODS_PRICE|For consumer loan...|                null|\n",
            "| 14|application_{trai...|     NAME_TYPE_SUITE|Who was accompany...|                null|\n",
            "| 15|application_{trai...|    NAME_INCOME_TYPE|Clients income ty...|                null|\n",
            "| 16|application_{trai...| NAME_EDUCATION_TYPE|Level of highest ...|                null|\n",
            "| 17|application_{trai...|  NAME_FAMILY_STATUS|Family status of ...|                null|\n",
            "| 18|application_{trai...|   NAME_HOUSING_TYPE|What is the housi...|                null|\n",
            "| 19|application_{trai...|REGION_POPULATION...|Normalized popula...|         normalized |\n",
            "| 20|application_{trai...|          DAYS_BIRTH|Client's age in d...|time only relativ...|\n",
            "| 21|application_{trai...|       DAYS_EMPLOYED|How many days bef...|time only relativ...|\n",
            "| 22|application_{trai...|   DAYS_REGISTRATION|How many days bef...|time only relativ...|\n",
            "+---+--------------------+--------------------+--------------------+--------------------+\n",
            "only showing top 20 rows\n",
            "\n"
          ]
        }
      ]
    },
    {
      "cell_type": "markdown",
      "source": [
        "- O dataframe df_application_train contém os dados de treino"
      ],
      "metadata": {
        "id": "F9tV_BsL1T9E"
      }
    },
    {
      "cell_type": "code",
      "source": [
        "df_application_train = spark.read.csv('application_train.csv', header=True)"
      ],
      "metadata": {
        "id": "WlkuOJyiS6im"
      },
      "execution_count": 8,
      "outputs": []
    },
    {
      "cell_type": "markdown",
      "source": [
        "- O dataframe df_bureaus contém dados transacionais de saldos mensais dos créditos anteriores"
      ],
      "metadata": {
        "id": "CJjDB3IW1SZW"
      }
    },
    {
      "cell_type": "code",
      "source": [
        "df_bureau = spark.read.csv('criando_variaveis/bureau.csv', header=True)"
      ],
      "metadata": {
        "id": "xxL4ZlT3U9Dy"
      },
      "execution_count": 9,
      "outputs": []
    },
    {
      "cell_type": "markdown",
      "source": [
        "####Criando Views Temporárias \n",
        "\n",
        "Para cada um dos dataframes, df_application_train e df_bureau, é necessário criar uma view temporária em memória para ser possível criar consultas em linguagem SQL\n"
      ],
      "metadata": {
        "id": "vlPDFeDOz7Xt"
      }
    },
    {
      "cell_type": "code",
      "source": [
        "df_application_train.createOrReplaceTempView('application_train')\n",
        "df_bureau.createOrReplaceTempView('bureau')"
      ],
      "metadata": {
        "id": "NskNnNqZV0Vw"
      },
      "execution_count": 10,
      "outputs": []
    },
    {
      "cell_type": "markdown",
      "source": [
        "###Consulta spark.sql"
      ],
      "metadata": {
        "id": "c45dNtUUA8r3"
      }
    },
    {
      "cell_type": "markdown",
      "source": [
        "- Lendo os dados da tabela application_train\n"
      ],
      "metadata": {
        "id": "VToBrX4pBF2j"
      }
    },
    {
      "cell_type": "code",
      "source": [
        "spark.sql(\"\"\"\n",
        "SELECT\n",
        "*\n",
        "FROM\n",
        "application_train\n",
        "LIMIT 20\n",
        "\"\"\").show()"
      ],
      "metadata": {
        "id": "y0ptwZ1MZmNd"
      },
      "execution_count": null,
      "outputs": []
    },
    {
      "cell_type": "markdown",
      "source": [
        "- Lendo os dados da tabela bureau"
      ],
      "metadata": {
        "id": "TZ9xJqPlMLhs"
      }
    },
    {
      "cell_type": "code",
      "source": [
        "spark.sql(\"\"\"\n",
        "SELECT\n",
        "*\n",
        "FROM\n",
        "bureau\n",
        "LIMIT 20\n",
        "\"\"\").show()"
      ],
      "metadata": {
        "id": "EKvjAcdRMMAi"
      },
      "execution_count": null,
      "outputs": []
    },
    {
      "cell_type": "markdown",
      "source": [
        "- Contando a quantidade de linhas das tabelas application_train e bureau"
      ],
      "metadata": {
        "id": "GUaFoMIKGJ27"
      }
    },
    {
      "cell_type": "code",
      "source": [
        "spark.sql(\"\"\"\n",
        "SELECT\n",
        "COUNT(SK_ID_CURR) AS Quantidade_SK_ID\n",
        "FROM\n",
        "application_train\n",
        "\"\"\").show()"
      ],
      "metadata": {
        "colab": {
          "base_uri": "https://localhost:8080/"
        },
        "id": "BelDPWK3somo",
        "outputId": "a4a0c4f6-c688-49e3-ea3f-ffeb1d9a3973"
      },
      "execution_count": 13,
      "outputs": [
        {
          "output_type": "stream",
          "name": "stdout",
          "text": [
            "+----------------+\n",
            "|Quantidade_SK_ID|\n",
            "+----------------+\n",
            "|          307511|\n",
            "+----------------+\n",
            "\n"
          ]
        }
      ]
    },
    {
      "cell_type": "code",
      "source": [
        "spark.sql(\"\"\"\n",
        "SELECT\n",
        "Count(*) AS Quantidadede_Transacoes\n",
        "FROM\n",
        "bureau\n",
        "\"\"\").show()"
      ],
      "metadata": {
        "colab": {
          "base_uri": "https://localhost:8080/"
        },
        "id": "O61UGhh5tDAy",
        "outputId": "3026e2f6-ec02-478b-f74b-48ea9bf2aef3"
      },
      "execution_count": 14,
      "outputs": [
        {
          "output_type": "stream",
          "name": "stdout",
          "text": [
            "+-----------------------+\n",
            "|Quantidadede_Transacoes|\n",
            "+-----------------------+\n",
            "|                1716428|\n",
            "+-----------------------+\n",
            "\n"
          ]
        }
      ]
    },
    {
      "cell_type": "markdown",
      "source": [
        "###Análise exploratória da chave SK_ID_CURR = '100002'\n",
        "\n",
        "Pelo modelo entidade relacionamento (MER) tem-se que as tabelas application_train e bureau se relacionam pela chave 'SK_ID_CURR'."
      ],
      "metadata": {
        "id": "07jpFnCVZY9O"
      }
    },
    {
      "cell_type": "markdown",
      "source": [
        "- Lendo os dados do SK_ID_CURR = '100002' na tabela applicantion_train"
      ],
      "metadata": {
        "id": "jzcap2hTCTZq"
      }
    },
    {
      "cell_type": "code",
      "source": [
        "spark.sql(\"\"\"\n",
        "SELECT\n",
        "*\n",
        "FROM\n",
        "application_train\n",
        "WHERE SK_ID_CURR = '100002'\n",
        "\"\"\").show()\n"
      ],
      "metadata": {
        "id": "Smj_xgvuZPGT"
      },
      "execution_count": null,
      "outputs": []
    },
    {
      "cell_type": "markdown",
      "source": [
        "- Lendo os dados do SK_ID_CURR = '100002' na tabela bureau"
      ],
      "metadata": {
        "id": "cLThQ2uFCjJS"
      }
    },
    {
      "cell_type": "code",
      "source": [
        "spark.sql(\"\"\"\n",
        "SELECT\n",
        "*\n",
        "FROM\n",
        "bureau\n",
        "WHERE SK_ID_CURR = '100002'\n",
        "\"\"\").show()\n"
      ],
      "metadata": {
        "id": "kkQwkDBLaPUR"
      },
      "execution_count": null,
      "outputs": []
    },
    {
      "cell_type": "markdown",
      "source": [
        "Através da vizualização da chave SK_ID_CURR = '100002' vemos que para um cadastro (tabela application_train) pode-se ter várias transações (tabela bureau). \n"
      ],
      "metadata": {
        "id": "OWzORSyGtenJ"
      }
    },
    {
      "cell_type": "markdown",
      "source": [
        "- Analisando os dados categóricos da tabela bureau, colunas:\n",
        "  - CREDIT_ACTIVE\n",
        "  - CREDIT_CURRENCY\n",
        "  - CREDIT_TYPE"
      ],
      "metadata": {
        "id": "ds_97bBdGVrv"
      }
    },
    {
      "cell_type": "code",
      "source": [
        "spark.sql(\"\"\"\n",
        "SELECT\n",
        "SK_ID_CURR,\n",
        "CREDIT_ACTIVE,\n",
        "CREDIT_CURRENCY, \n",
        "CREDIT_TYPE\n",
        "FROM\n",
        "bureau\n",
        "WHERE SK_ID_CURR = '100002'\n",
        "\"\"\").show()"
      ],
      "metadata": {
        "colab": {
          "base_uri": "https://localhost:8080/"
        },
        "id": "bxBvGu1_f7vO",
        "outputId": "8a36fbe9-76ba-4f70-a1e9-7bd4873e260e"
      },
      "execution_count": 17,
      "outputs": [
        {
          "output_type": "stream",
          "name": "stdout",
          "text": [
            "+----------+-------------+---------------+---------------+\n",
            "|SK_ID_CURR|CREDIT_ACTIVE|CREDIT_CURRENCY|    CREDIT_TYPE|\n",
            "+----------+-------------+---------------+---------------+\n",
            "|    100002|       Closed|     currency 1|    Credit card|\n",
            "|    100002|       Closed|     currency 1|    Credit card|\n",
            "|    100002|       Closed|     currency 1|Consumer credit|\n",
            "|    100002|       Closed|     currency 1|Consumer credit|\n",
            "|    100002|       Closed|     currency 1|Consumer credit|\n",
            "|    100002|       Active|     currency 1|    Credit card|\n",
            "|    100002|       Active|     currency 1|Consumer credit|\n",
            "|    100002|       Closed|     currency 1|    Credit card|\n",
            "+----------+-------------+---------------+---------------+\n",
            "\n"
          ]
        }
      ]
    },
    {
      "cell_type": "markdown",
      "source": [
        "Analisando a tabela acima vemos que cada coluna categórica possui domínios variados."
      ],
      "metadata": {
        "id": "ThbWXT0pLQD7"
      }
    },
    {
      "cell_type": "markdown",
      "source": [
        "###Metodologia"
      ],
      "metadata": {
        "id": "UwwHdZDFNmFs"
      }
    },
    {
      "cell_type": "markdown",
      "source": [
        "- Como o foco principal é enriquecer a tabela de treino application_train com mais colunas, de modo que explique melhor as transações que determinado indivíduo fez, temos que agrupar as categorias em colunas.\n",
        "\n",
        "- Para isso vamos criar colunas agregadas como:\n",
        "  - SUM(CASE WHEN CREDIT_ACTIVE = 'Closed' THEN 1 ELSE 0 END) \n",
        "  \n",
        "- A rotina acima cria uma coluna agregada que quando o crédito for igual a 'Closed' então conta como 1 senão é zero, e como está dentro de um SUM, cada vez que achar um 'Closed' vai somar 1. Com isso eu crio uma variável que pode ter vários créditos em situação 'Closed'.  Após isso, posso pegar esse dado e juntar com a tabela application_train, pois agora eu só tenho 1 linha para um único ID e não mais várias linhas.\n",
        "\n",
        "- Com isso, podemos aplicar o máximo de conceitos de negócio, de combinação de conceitos e criar variáveis massivamente, ou seja, podemos criar um books de variáveis, com foco de aumentar o poder preditivo na parte de modelagem.\n"
      ],
      "metadata": {
        "id": "NcLYXWtTxvr9"
      }
    },
    {
      "cell_type": "markdown",
      "source": [
        "###Identificando todos domínios das variáveis categóricas da tabela 'bureau': \n",
        "  - CREDIT_ACTIVE\n",
        "  - CREDIT_CURRENCY\n",
        "  - CREDIT_TYPE"
      ],
      "metadata": {
        "id": "OtAzvd42TPFl"
      }
    },
    {
      "cell_type": "code",
      "source": [
        "spark.sql(\"\"\"\n",
        "SELECT\n",
        "CREDIT_ACTIVE, \n",
        "Count(*)\n",
        "FROM\n",
        "bureau\n",
        "GROUP BY CREDIT_ACTIVE\n",
        "ORDER BY Count(*)\n",
        "\"\"\").show()"
      ],
      "metadata": {
        "colab": {
          "base_uri": "https://localhost:8080/"
        },
        "id": "okoy52_PdXdl",
        "outputId": "d86a5301-288e-4363-f02f-5234c685e9b0"
      },
      "execution_count": 18,
      "outputs": [
        {
          "output_type": "stream",
          "name": "stdout",
          "text": [
            "+-------------+--------+\n",
            "|CREDIT_ACTIVE|count(1)|\n",
            "+-------------+--------+\n",
            "|     Bad debt|      21|\n",
            "|         Sold|    6527|\n",
            "|       Active|  630607|\n",
            "|       Closed| 1079273|\n",
            "+-------------+--------+\n",
            "\n"
          ]
        }
      ]
    },
    {
      "cell_type": "code",
      "source": [
        "spark.sql(\"\"\"\n",
        "SELECT \n",
        "CREDIT_TYPE, \n",
        "Count(*)\n",
        "FROM\n",
        "bureau\n",
        "GROUP BY\n",
        "CREDIT_TYPE\n",
        "ORDER BY Count(*)\n",
        "\"\"\").show(truncate=False)"
      ],
      "metadata": {
        "colab": {
          "base_uri": "https://localhost:8080/"
        },
        "id": "QS_sI65xvMj-",
        "outputId": "5c012c17-74e3-426d-f7ed-287a365e07aa"
      },
      "execution_count": 19,
      "outputs": [
        {
          "output_type": "stream",
          "name": "stdout",
          "text": [
            "+--------------------------------------------+--------+\n",
            "|CREDIT_TYPE                                 |count(1)|\n",
            "+--------------------------------------------+--------+\n",
            "|Mobile operator loan                        |1       |\n",
            "|Interbank credit                            |1       |\n",
            "|Loan for purchase of shares (margin lending)|4       |\n",
            "|Loan for the purchase of equipment          |19      |\n",
            "|Real estate loan                            |27      |\n",
            "|Cash loan (non-earmarked)                   |56      |\n",
            "|Loan for working capital replenishment      |469     |\n",
            "|Unknown type of loan                        |555     |\n",
            "|Another type of loan                        |1017    |\n",
            "|Loan for business development               |1975    |\n",
            "|Microloan                                   |12413   |\n",
            "|Mortgage                                    |18391   |\n",
            "|Car loan                                    |27690   |\n",
            "|Credit card                                 |402195  |\n",
            "|Consumer credit                             |1251615 |\n",
            "+--------------------------------------------+--------+\n",
            "\n"
          ]
        }
      ]
    },
    {
      "cell_type": "code",
      "source": [
        "spark.sql(\"\"\"\n",
        "SELECT\n",
        "CREDIT_CURRENCY, \n",
        "Count(*)\n",
        "FROM\n",
        "bureau\n",
        "GROUP BY CREDIT_CURRENCY\n",
        "ORDER BY Count(*)\n",
        "\"\"\").show()"
      ],
      "metadata": {
        "colab": {
          "base_uri": "https://localhost:8080/"
        },
        "id": "x5oFlkCkhjdc",
        "outputId": "5ea59f27-74a8-4f16-807e-bd94c3907999"
      },
      "execution_count": 20,
      "outputs": [
        {
          "output_type": "stream",
          "name": "stdout",
          "text": [
            "+---------------+--------+\n",
            "|CREDIT_CURRENCY|count(1)|\n",
            "+---------------+--------+\n",
            "|     currency 4|      10|\n",
            "|     currency 3|     174|\n",
            "|     currency 2|    1224|\n",
            "|     currency 1| 1715020|\n",
            "+---------------+--------+\n",
            "\n"
          ]
        }
      ]
    },
    {
      "cell_type": "markdown",
      "source": [
        "###Transformando as variáveis categóricas em variáveis numéricas"
      ],
      "metadata": {
        "id": "p1wKVSrvqvee"
      }
    },
    {
      "cell_type": "markdown",
      "source": [
        "- Agregando apenas as variáveis categóricas e seus domínios"
      ],
      "metadata": {
        "id": "X8fD0uB6jrJq"
      }
    },
    {
      "cell_type": "code",
      "source": [
        "df_bureau_cat = spark.sql(\"\"\"\n",
        "SELECT\n",
        "  SK_ID_CURR,\n",
        "  SUM(CASE WHEN CREDIT_ACTIVE = 'Closed' THEN 1 ELSE 0 END) AS qtd_credit_active_closed,\n",
        "  SUM(CASE WHEN CREDIT_ACTIVE = 'Active' THEN 1 ELSE 0 END) AS qtd_credit_active_active,\n",
        "  SUM(CASE WHEN CREDIT_ACTIVE = 'Bad debt' THEN 1 ELSE 0 END) AS qtd_credit_active_bad_debt,\n",
        "  SUM(CASE WHEN CREDIT_ACTIVE = 'Sold' THEN 1 ELSE 0 END) AS qtd_credit_active_sold,\n",
        "  SUM(CASE WHEN CREDIT_CURRENCY = 'currency 4' THEN 1 ELSE 0 END) AS qtd_credit_currency_4,\n",
        "  SUM(CASE WHEN CREDIT_CURRENCY = 'currency 3' THEN 1 ELSE 0 END) AS qtd_credit_currency_3,\n",
        "  SUM(CASE WHEN CREDIT_CURRENCY = 'currency 2' THEN 1 ELSE 0 END) AS qtd_credit_currency_2,\n",
        "  SUM(CASE WHEN CREDIT_CURRENCY = 'currency 1' THEN 1 ELSE 0 END) AS qtd_credit_currency_1,\n",
        "  SUM(CASE WHEN CREDIT_Type = 'Mobile operator loan' THEN 1 ELSE 0 END) AS qtd_credit_type_mobile_operator_loan,\n",
        "  SUM(CASE WHEN CREDIT_Type = 'Interbank credit' THEN 1 ELSE 0 END) AS qtd_credit_type_interbank_credit,\n",
        "  SUM(CASE WHEN CREDIT_Type = 'Loan for purchase of shares (margin lending)' THEN 1 ELSE 0 END) AS qtd_credit_type_loan_for_purchase_of_shares,\n",
        "  SUM(CASE WHEN CREDIT_Type = 'Loan for the purchase of equipment' THEN 1 ELSE 0 END) AS qtd_credit_type_mobile_operator_loan_for_the_purchase_of_equipament,\n",
        "  SUM(CASE WHEN CREDIT_Type = 'Real estate loan' THEN 1 ELSE 0 END) AS qtd_credit_type_real_estate_loan,\n",
        "  SUM(CASE WHEN CREDIT_Type = 'Cash loan (non-earmarked)' THEN 1 ELSE 0 END) AS qtd_credit_type_cash_loan,\n",
        "  SUM(CASE WHEN CREDIT_Type = 'Loan for working capital replenishment' THEN 1 ELSE 0 END) AS qtd_credit_type_loan_for_working_capital_replenishment,\n",
        "  SUM(CASE WHEN CREDIT_Type = 'Unknown type of loan' THEN 1 ELSE 0 END) AS qtd_credit_type_unknown_type_of_loan,\n",
        "  SUM(CASE WHEN CREDIT_Type = 'Another type of loan' THEN 1 ELSE 0 END) AS qtd_credit_type_another_type_of_loan,\n",
        "  SUM(CASE WHEN CREDIT_Type = 'Loan for business development' THEN 1 ELSE 0 END) AS qtd_credit_type_loan_for_business_development,\n",
        "  SUM(CASE WHEN CREDIT_Type = 'Microloan' THEN 1 ELSE 0 END) AS qtd_credit_type_microloan,\n",
        "  SUM(CASE WHEN CREDIT_Type = 'Mortgage' THEN 1 ELSE 0 END) AS qtd_credit_type_mortgage,\n",
        "  SUM(CASE WHEN CREDIT_Type = 'Car loan ' THEN 1 ELSE 0 END) AS qtd_credit_type_car_loan,\n",
        "  SUM(CASE WHEN CREDIT_Type = 'Credit card' THEN 1 ELSE 0 END) AS qtd_credit_type_real_estate_loan,\n",
        "  SUM(CASE WHEN CREDIT_Type = 'Consumer credit' THEN 1 ELSE 0 END) AS qtd_credit_type_real_estate_loan,\n",
        "  MIN(CASE WHEN CREDIT_ACTIVE = 'Closed' THEN 1 ELSE 0 END) AS min_credit_active_closed,\n",
        "  MIN(CASE WHEN CREDIT_ACTIVE = 'Active' THEN 1 ELSE 0 END) AS min_credit_active_active,\n",
        "  MIN(CASE WHEN CREDIT_ACTIVE = 'Bad debt' THEN 1 ELSE 0 END) AS min_credit_active_bad_debt,\n",
        "  MIN(CASE WHEN CREDIT_ACTIVE = 'Sold' THEN 1 ELSE 0 END) AS min_credit_active_sold,\n",
        "  MIN(CASE WHEN CREDIT_CURRENCY = 'currency 4' THEN 1 ELSE 0 END) AS min_credit_currency_4,\n",
        "  MIN(CASE WHEN CREDIT_CURRENCY = 'currency 3' THEN 1 ELSE 0 END) AS min_credit_currency_3,\n",
        "  MIN(CASE WHEN CREDIT_CURRENCY = 'currency 2' THEN 1 ELSE 0 END) AS min_credit_currency_2,\n",
        "  MIN(CASE WHEN CREDIT_CURRENCY = 'currency 1' THEN 1 ELSE 0 END) AS min_credit_currency_1,\n",
        "  MIN(CASE WHEN CREDIT_Type = 'Mobile operator loan' THEN 1 ELSE 0 END) AS min_credit_type_mobile_operator_loan,\n",
        "  MIN(CASE WHEN CREDIT_Type = 'Interbank credit' THEN 1 ELSE 0 END) AS min_credit_type_interbank_credit,\n",
        "  MIN(CASE WHEN CREDIT_Type = 'Loan for purchase of shares (margin lending)' THEN 1 ELSE 0 END) AS min_credit_type_loan_for_purchase_of_shares,\n",
        "  MIN(CASE WHEN CREDIT_Type = 'Loan for the purchase of equipment' THEN 1 ELSE 0 END) AS min_credit_type_mobile_operator_loan_for_the_purchase_of_equipament,\n",
        "  MIN(CASE WHEN CREDIT_Type = 'Real estate loan' THEN 1 ELSE 0 END) AS min_credit_type_real_estate_loan,\n",
        "  MIN(CASE WHEN CREDIT_Type = 'Cash loan (non-earmarked)' THEN 1 ELSE 0 END) AS min_credit_type_cash_loan,\n",
        "  MIN(CASE WHEN CREDIT_Type = 'Loan for working capital replenishment' THEN 1 ELSE 0 END) AS min_credit_type_loan_for_working_capital_replenishment,\n",
        "  MIN(CASE WHEN CREDIT_Type = 'Unknown type of loan' THEN 1 ELSE 0 END) AS min_credit_type_unknown_type_of_loan,\n",
        "  MIN(CASE WHEN CREDIT_Type = 'Another type of loan' THEN 1 ELSE 0 END) AS min_credit_type_another_type_of_loan,\n",
        "  MIN(CASE WHEN CREDIT_Type = 'Loan for business development' THEN 1 ELSE 0 END) AS min_credit_type_loan_for_business_development,\n",
        "  MIN(CASE WHEN CREDIT_Type = 'Microloan' THEN 1 ELSE 0 END) AS min_credit_type_microloan,\n",
        "  MIN(CASE WHEN CREDIT_Type = 'Mortgage' THEN 1 ELSE 0 END) AS min_credit_type_mortgage,\n",
        "  MIN(CASE WHEN CREDIT_Type = 'Car loan ' THEN 1 ELSE 0 END) AS min_credit_type_car_loan,\n",
        "  MIN(CASE WHEN CREDIT_Type = 'Credit card' THEN 1 ELSE 0 END) AS min_credit_type_real_estate_loan,\n",
        "  MIN(CASE WHEN CREDIT_Type = 'Consumer credit' THEN 1 ELSE 0 END) AS min_credit_type_real_estate_loan,\n",
        "  MAX(CASE WHEN CREDIT_ACTIVE = 'Closed' THEN 1 ELSE 0 END) AS max_credit_active_closed,\n",
        "  MAX(CASE WHEN CREDIT_ACTIVE = 'Active' THEN 1 ELSE 0 END) AS max_credit_active_active,\n",
        "  MAX(CASE WHEN CREDIT_ACTIVE = 'Bad debt' THEN 1 ELSE 0 END) AS max_credit_active_bad_debt,\n",
        "  MAX(CASE WHEN CREDIT_ACTIVE = 'Sold' THEN 1 ELSE 0 END) AS max_credit_active_sold,\n",
        "  MAX(CASE WHEN CREDIT_CURRENCY = 'currency 4' THEN 1 ELSE 0 END) AS max_credit_currency_4,\n",
        "  MAX(CASE WHEN CREDIT_CURRENCY = 'currency 3' THEN 1 ELSE 0 END) AS max_credit_currency_3,\n",
        "  MAX(CASE WHEN CREDIT_CURRENCY = 'currency 2' THEN 1 ELSE 0 END) AS max_credit_currency_2,\n",
        "  MAX(CASE WHEN CREDIT_CURRENCY = 'currency 1' THEN 1 ELSE 0 END) AS max_credit_currency_1,\n",
        "  MAX(CASE WHEN CREDIT_Type = 'Mobile operator loan' THEN 1 ELSE 0 END) AS max_credit_type_mobile_operator_loan,\n",
        "  MAX(CASE WHEN CREDIT_Type = 'Interbank credit' THEN 1 ELSE 0 END) AS max_credit_type_interbank_credit,\n",
        "  MAX(CASE WHEN CREDIT_Type = 'Loan for purchase of shares (margin lending)' THEN 1 ELSE 0 END) AS max_credit_type_loan_for_purchase_of_shares,\n",
        "  MAX(CASE WHEN CREDIT_Type = 'Loan for the purchase of equipment' THEN 1 ELSE 0 END) AS max_credit_type_mobile_operator_loan_for_the_purchase_of_equipament,\n",
        "  MAX(CASE WHEN CREDIT_Type = 'Real estate loan' THEN 1 ELSE 0 END) AS max_credit_type_real_estate_loan,\n",
        "  MAX(CASE WHEN CREDIT_Type = 'Cash loan (non-earmarked)' THEN 1 ELSE 0 END) AS max_credit_type_cash_loan,\n",
        "  MAX(CASE WHEN CREDIT_Type = 'Loan for working capital replenishment' THEN 1 ELSE 0 END) AS max_credit_type_loan_for_working_capital_replenishment,\n",
        "  MAX(CASE WHEN CREDIT_Type = 'Unknown type of loan' THEN 1 ELSE 0 END) AS max_credit_type_unknown_type_of_loan,\n",
        "  MAX(CASE WHEN CREDIT_Type = 'Another type of loan' THEN 1 ELSE 0 END) AS max_credit_type_another_type_of_loan,\n",
        "  MAX(CASE WHEN CREDIT_Type = 'Loan for business development' THEN 1 ELSE 0 END) AS max_credit_type_loan_for_business_development,\n",
        "  MAX(CASE WHEN CREDIT_Type = 'Microloan' THEN 1 ELSE 0 END) AS max_credit_type_microloan,\n",
        "  MAX(CASE WHEN CREDIT_Type = 'Mortgage' THEN 1 ELSE 0 END) AS max_credit_type_mortgage,\n",
        "  MAX(CASE WHEN CREDIT_Type = 'Car loan ' THEN 1 ELSE 0 END) AS max_credit_type_car_loan,\n",
        "  MAX(CASE WHEN CREDIT_Type = 'Credit card' THEN 1 ELSE 0 END) AS max_credit_type_real_estate_loan,\n",
        "  MAX(CASE WHEN CREDIT_Type = 'Consumer credit' THEN 1 ELSE 0 END) AS max_credit_type_real_estate_loan,\n",
        "  AVG(CASE WHEN CREDIT_ACTIVE = 'Closed' THEN 1 ELSE 0 END) AS avg_credit_active_closed,\n",
        "  AVG(CASE WHEN CREDIT_ACTIVE = 'Active' THEN 1 ELSE 0 END) AS avg_credit_active_active,\n",
        "  AVG(CASE WHEN CREDIT_ACTIVE = 'Bad debt' THEN 1 ELSE 0 END) AS avg_credit_active_bad_debt,\n",
        "  AVG(CASE WHEN CREDIT_ACTIVE = 'Sold' THEN 1 ELSE 0 END) AS avg_credit_active_sold,\n",
        "  AVG(CASE WHEN CREDIT_CURRENCY = 'currency 4' THEN 1 ELSE 0 END) AS avg_credit_currency_4,\n",
        "  AVG(CASE WHEN CREDIT_CURRENCY = 'currency 3' THEN 1 ELSE 0 END) AS avg_credit_currency_3,\n",
        "  AVG(CASE WHEN CREDIT_CURRENCY = 'currency 2' THEN 1 ELSE 0 END) AS avg_credit_currency_2,\n",
        "  AVG(CASE WHEN CREDIT_CURRENCY = 'currency 1' THEN 1 ELSE 0 END) AS avg_credit_currency_1,\n",
        "  AVG(CASE WHEN CREDIT_Type = 'Mobile operator loan' THEN 1 ELSE 0 END) AS avg_credit_type_mobile_operator_loan,\n",
        "  AVG(CASE WHEN CREDIT_Type = 'Interbank credit' THEN 1 ELSE 0 END) AS avg_credit_type_interbank_credit,\n",
        "  AVG(CASE WHEN CREDIT_Type = 'Loan for purchase of shares (margin lending)' THEN 1 ELSE 0 END) AS avg_credit_type_loan_for_purchase_of_shares,\n",
        "  AVG(CASE WHEN CREDIT_Type = 'Loan for the purchase of equipment' THEN 1 ELSE 0 END) AS avg_credit_type_mobile_operator_loan_for_the_purchase_of_equipament,\n",
        "  AVG(CASE WHEN CREDIT_Type = 'Real estate loan' THEN 1 ELSE 0 END) AS avg_credit_type_real_estate_loan,\n",
        "  AVG(CASE WHEN CREDIT_Type = 'Cash loan (non-earmarked)' THEN 1 ELSE 0 END) AS avg_credit_type_cash_loan,\n",
        "  AVG(CASE WHEN CREDIT_Type = 'Loan for working capital replenishment' THEN 1 ELSE 0 END) AS avg_credit_type_loan_for_working_capital_replenishment,\n",
        "  AVG(CASE WHEN CREDIT_Type = 'Unknown type of loan' THEN 1 ELSE 0 END) AS avg_credit_type_unknown_type_of_loan,\n",
        "  AVG(CASE WHEN CREDIT_Type = 'Another type of loan' THEN 1 ELSE 0 END) AS avg_credit_type_another_type_of_loan,\n",
        "  AVG(CASE WHEN CREDIT_Type = 'Loan for business development' THEN 1 ELSE 0 END) AS avg_credit_type_loan_for_business_development,\n",
        "  AVG(CASE WHEN CREDIT_Type = 'Microloan' THEN 1 ELSE 0 END) AS avg_credit_type_microloan,\n",
        "  AVG(CASE WHEN CREDIT_Type = 'Mortgage' THEN 1 ELSE 0 END) AS avg_credit_type_mortgage,\n",
        "  AVG(CASE WHEN CREDIT_Type = 'Car loan ' THEN 1 ELSE 0 END) AS avg_credit_type_car_loan,\n",
        "  AVG(CASE WHEN CREDIT_Type = 'Credit card' THEN 1 ELSE 0 END) AS avg_credit_type_real_estate_loan,\n",
        "  AVG(CASE WHEN CREDIT_Type = 'Consumer credit' THEN 1 ELSE 0 END) AS avg_credit_type_real_estate_loan\n",
        "FROM\n",
        "  bureau\n",
        "GROUP BY\n",
        "  SK_ID_CURR\n",
        "\"\"\")"
      ],
      "metadata": {
        "id": "gAPizziWl0Cv"
      },
      "execution_count": 21,
      "outputs": []
    },
    {
      "cell_type": "markdown",
      "source": [
        "Após criar o dataframe df_bureau_cat somente com agregações de variáveis categóricas, podemos criar outros dataframes com agregações entre as variáveis categóricas e numéricas. As variáveis numéricas da tabela bureau são:\n",
        "\n",
        "- AMT_CREDIT_MAX_OVERDUE\n",
        "- CNT_CREDIT_PROLONG\n",
        "- AMT_CREDIT_SUM\n",
        "- AMT_CREDIT_SUM_DEBT\n",
        "- AMT_CREDIT_SUM_LIMIT\n",
        "- AMT_CREDIT_SUM_OVERDUE\n",
        "- AMT_ANNUITY\n",
        "\n",
        "OBS: Para automatizar a criação de cada linha de agregação vamos desenvolver uma rotina que gera o texto de agregação. Após, basta susbstiruir na requesição SQL."
      ],
      "metadata": {
        "id": "fS2iEmcVkP9M"
      }
    },
    {
      "cell_type": "markdown",
      "source": [
        "###Agregando cada variável numérica a cada variável categórica e seus domínios\n"
      ],
      "metadata": {
        "id": "norih1QiqheF"
      }
    },
    {
      "cell_type": "markdown",
      "source": [
        "1- Considerando a variável categórica CREDIT_ACTIVE\n"
      ],
      "metadata": {
        "id": "nLwVYLqmvKXl"
      }
    },
    {
      "cell_type": "code",
      "source": [
        "# Criando as agregações\n",
        "\n",
        "agg = ['SUM', 'MIN', 'MAX', 'AVG']\n",
        "\n",
        "# Criando a variável categórica\n",
        "\n",
        "cat = ['CREDIT_ACTIVE']\n",
        "\n",
        "# Criando os domínios\n",
        "\n",
        "dominios_cat = ['Active', 'Closed', 'Bad debt', 'Sold']\n",
        "\n",
        "# Criando variável numérica\n",
        "\n",
        "var_num = ['AMT_CREDIT_MAX_OVERDUE', 'CNT_CREDIT_PROLONG', 'AMT_CREDIT_SUM', \\\n",
        "           'AMT_CREDIT_SUM_DEBT', 'AMT_CREDIT_SUM_LIMIT', \\\n",
        "           'AMT_CREDIT_SUM_OVERDUE', 'AMT_ANNUITY']"
      ],
      "metadata": {
        "id": "2klZKt_sq8EY"
      },
      "execution_count": 22,
      "outputs": []
    },
    {
      "cell_type": "code",
      "source": [
        "# Criando uma rotina que gera o texto da função de agregação\n",
        "\n",
        "for ag in agg:\n",
        "  for cate in cat:\n",
        "    for dominio in dominios_cat:\n",
        "      for var_n in var_num:\n",
        "        print(ag +'(CASE WHEN ' + cate + '= ' + \"'\" + dominio + \"'\" + \" THEN \" + var_n + \" ELSE 0 END) AS \" + ag + \"_\" + cate + \"_\" + dominio.replace(\" \", \"_\") + \"_\" + var_n + ',')\n",
        "\n",
        "    #SUM(CASE WHEN CREDIT_Type = 'Real estate loan' THEN 1 ELSE 0 END) AS qtd_credit_type_real_estate_loan"
      ],
      "metadata": {
        "colab": {
          "base_uri": "https://localhost:8080/"
        },
        "id": "Ewdykm8lqqJG",
        "outputId": "11fe447a-04f6-4aaf-e25b-51660171b10b"
      },
      "execution_count": 23,
      "outputs": [
        {
          "output_type": "stream",
          "name": "stdout",
          "text": [
            "SUM(CASE WHEN CREDIT_ACTIVE= 'Active' THEN AMT_CREDIT_MAX_OVERDUE ELSE 0 END) AS SUM_CREDIT_ACTIVE_Active_AMT_CREDIT_MAX_OVERDUE,\n",
            "SUM(CASE WHEN CREDIT_ACTIVE= 'Active' THEN CNT_CREDIT_PROLONG ELSE 0 END) AS SUM_CREDIT_ACTIVE_Active_CNT_CREDIT_PROLONG,\n",
            "SUM(CASE WHEN CREDIT_ACTIVE= 'Active' THEN AMT_CREDIT_SUM ELSE 0 END) AS SUM_CREDIT_ACTIVE_Active_AMT_CREDIT_SUM,\n",
            "SUM(CASE WHEN CREDIT_ACTIVE= 'Active' THEN AMT_CREDIT_SUM_DEBT ELSE 0 END) AS SUM_CREDIT_ACTIVE_Active_AMT_CREDIT_SUM_DEBT,\n",
            "SUM(CASE WHEN CREDIT_ACTIVE= 'Active' THEN AMT_CREDIT_SUM_LIMIT ELSE 0 END) AS SUM_CREDIT_ACTIVE_Active_AMT_CREDIT_SUM_LIMIT,\n",
            "SUM(CASE WHEN CREDIT_ACTIVE= 'Active' THEN AMT_CREDIT_SUM_OVERDUE ELSE 0 END) AS SUM_CREDIT_ACTIVE_Active_AMT_CREDIT_SUM_OVERDUE,\n",
            "SUM(CASE WHEN CREDIT_ACTIVE= 'Active' THEN AMT_ANNUITY ELSE 0 END) AS SUM_CREDIT_ACTIVE_Active_AMT_ANNUITY,\n",
            "SUM(CASE WHEN CREDIT_ACTIVE= 'Closed' THEN AMT_CREDIT_MAX_OVERDUE ELSE 0 END) AS SUM_CREDIT_ACTIVE_Closed_AMT_CREDIT_MAX_OVERDUE,\n",
            "SUM(CASE WHEN CREDIT_ACTIVE= 'Closed' THEN CNT_CREDIT_PROLONG ELSE 0 END) AS SUM_CREDIT_ACTIVE_Closed_CNT_CREDIT_PROLONG,\n",
            "SUM(CASE WHEN CREDIT_ACTIVE= 'Closed' THEN AMT_CREDIT_SUM ELSE 0 END) AS SUM_CREDIT_ACTIVE_Closed_AMT_CREDIT_SUM,\n",
            "SUM(CASE WHEN CREDIT_ACTIVE= 'Closed' THEN AMT_CREDIT_SUM_DEBT ELSE 0 END) AS SUM_CREDIT_ACTIVE_Closed_AMT_CREDIT_SUM_DEBT,\n",
            "SUM(CASE WHEN CREDIT_ACTIVE= 'Closed' THEN AMT_CREDIT_SUM_LIMIT ELSE 0 END) AS SUM_CREDIT_ACTIVE_Closed_AMT_CREDIT_SUM_LIMIT,\n",
            "SUM(CASE WHEN CREDIT_ACTIVE= 'Closed' THEN AMT_CREDIT_SUM_OVERDUE ELSE 0 END) AS SUM_CREDIT_ACTIVE_Closed_AMT_CREDIT_SUM_OVERDUE,\n",
            "SUM(CASE WHEN CREDIT_ACTIVE= 'Closed' THEN AMT_ANNUITY ELSE 0 END) AS SUM_CREDIT_ACTIVE_Closed_AMT_ANNUITY,\n",
            "SUM(CASE WHEN CREDIT_ACTIVE= 'Bad debt' THEN AMT_CREDIT_MAX_OVERDUE ELSE 0 END) AS SUM_CREDIT_ACTIVE_Bad_debt_AMT_CREDIT_MAX_OVERDUE,\n",
            "SUM(CASE WHEN CREDIT_ACTIVE= 'Bad debt' THEN CNT_CREDIT_PROLONG ELSE 0 END) AS SUM_CREDIT_ACTIVE_Bad_debt_CNT_CREDIT_PROLONG,\n",
            "SUM(CASE WHEN CREDIT_ACTIVE= 'Bad debt' THEN AMT_CREDIT_SUM ELSE 0 END) AS SUM_CREDIT_ACTIVE_Bad_debt_AMT_CREDIT_SUM,\n",
            "SUM(CASE WHEN CREDIT_ACTIVE= 'Bad debt' THEN AMT_CREDIT_SUM_DEBT ELSE 0 END) AS SUM_CREDIT_ACTIVE_Bad_debt_AMT_CREDIT_SUM_DEBT,\n",
            "SUM(CASE WHEN CREDIT_ACTIVE= 'Bad debt' THEN AMT_CREDIT_SUM_LIMIT ELSE 0 END) AS SUM_CREDIT_ACTIVE_Bad_debt_AMT_CREDIT_SUM_LIMIT,\n",
            "SUM(CASE WHEN CREDIT_ACTIVE= 'Bad debt' THEN AMT_CREDIT_SUM_OVERDUE ELSE 0 END) AS SUM_CREDIT_ACTIVE_Bad_debt_AMT_CREDIT_SUM_OVERDUE,\n",
            "SUM(CASE WHEN CREDIT_ACTIVE= 'Bad debt' THEN AMT_ANNUITY ELSE 0 END) AS SUM_CREDIT_ACTIVE_Bad_debt_AMT_ANNUITY,\n",
            "SUM(CASE WHEN CREDIT_ACTIVE= 'Sold' THEN AMT_CREDIT_MAX_OVERDUE ELSE 0 END) AS SUM_CREDIT_ACTIVE_Sold_AMT_CREDIT_MAX_OVERDUE,\n",
            "SUM(CASE WHEN CREDIT_ACTIVE= 'Sold' THEN CNT_CREDIT_PROLONG ELSE 0 END) AS SUM_CREDIT_ACTIVE_Sold_CNT_CREDIT_PROLONG,\n",
            "SUM(CASE WHEN CREDIT_ACTIVE= 'Sold' THEN AMT_CREDIT_SUM ELSE 0 END) AS SUM_CREDIT_ACTIVE_Sold_AMT_CREDIT_SUM,\n",
            "SUM(CASE WHEN CREDIT_ACTIVE= 'Sold' THEN AMT_CREDIT_SUM_DEBT ELSE 0 END) AS SUM_CREDIT_ACTIVE_Sold_AMT_CREDIT_SUM_DEBT,\n",
            "SUM(CASE WHEN CREDIT_ACTIVE= 'Sold' THEN AMT_CREDIT_SUM_LIMIT ELSE 0 END) AS SUM_CREDIT_ACTIVE_Sold_AMT_CREDIT_SUM_LIMIT,\n",
            "SUM(CASE WHEN CREDIT_ACTIVE= 'Sold' THEN AMT_CREDIT_SUM_OVERDUE ELSE 0 END) AS SUM_CREDIT_ACTIVE_Sold_AMT_CREDIT_SUM_OVERDUE,\n",
            "SUM(CASE WHEN CREDIT_ACTIVE= 'Sold' THEN AMT_ANNUITY ELSE 0 END) AS SUM_CREDIT_ACTIVE_Sold_AMT_ANNUITY,\n",
            "MIN(CASE WHEN CREDIT_ACTIVE= 'Active' THEN AMT_CREDIT_MAX_OVERDUE ELSE 0 END) AS MIN_CREDIT_ACTIVE_Active_AMT_CREDIT_MAX_OVERDUE,\n",
            "MIN(CASE WHEN CREDIT_ACTIVE= 'Active' THEN CNT_CREDIT_PROLONG ELSE 0 END) AS MIN_CREDIT_ACTIVE_Active_CNT_CREDIT_PROLONG,\n",
            "MIN(CASE WHEN CREDIT_ACTIVE= 'Active' THEN AMT_CREDIT_SUM ELSE 0 END) AS MIN_CREDIT_ACTIVE_Active_AMT_CREDIT_SUM,\n",
            "MIN(CASE WHEN CREDIT_ACTIVE= 'Active' THEN AMT_CREDIT_SUM_DEBT ELSE 0 END) AS MIN_CREDIT_ACTIVE_Active_AMT_CREDIT_SUM_DEBT,\n",
            "MIN(CASE WHEN CREDIT_ACTIVE= 'Active' THEN AMT_CREDIT_SUM_LIMIT ELSE 0 END) AS MIN_CREDIT_ACTIVE_Active_AMT_CREDIT_SUM_LIMIT,\n",
            "MIN(CASE WHEN CREDIT_ACTIVE= 'Active' THEN AMT_CREDIT_SUM_OVERDUE ELSE 0 END) AS MIN_CREDIT_ACTIVE_Active_AMT_CREDIT_SUM_OVERDUE,\n",
            "MIN(CASE WHEN CREDIT_ACTIVE= 'Active' THEN AMT_ANNUITY ELSE 0 END) AS MIN_CREDIT_ACTIVE_Active_AMT_ANNUITY,\n",
            "MIN(CASE WHEN CREDIT_ACTIVE= 'Closed' THEN AMT_CREDIT_MAX_OVERDUE ELSE 0 END) AS MIN_CREDIT_ACTIVE_Closed_AMT_CREDIT_MAX_OVERDUE,\n",
            "MIN(CASE WHEN CREDIT_ACTIVE= 'Closed' THEN CNT_CREDIT_PROLONG ELSE 0 END) AS MIN_CREDIT_ACTIVE_Closed_CNT_CREDIT_PROLONG,\n",
            "MIN(CASE WHEN CREDIT_ACTIVE= 'Closed' THEN AMT_CREDIT_SUM ELSE 0 END) AS MIN_CREDIT_ACTIVE_Closed_AMT_CREDIT_SUM,\n",
            "MIN(CASE WHEN CREDIT_ACTIVE= 'Closed' THEN AMT_CREDIT_SUM_DEBT ELSE 0 END) AS MIN_CREDIT_ACTIVE_Closed_AMT_CREDIT_SUM_DEBT,\n",
            "MIN(CASE WHEN CREDIT_ACTIVE= 'Closed' THEN AMT_CREDIT_SUM_LIMIT ELSE 0 END) AS MIN_CREDIT_ACTIVE_Closed_AMT_CREDIT_SUM_LIMIT,\n",
            "MIN(CASE WHEN CREDIT_ACTIVE= 'Closed' THEN AMT_CREDIT_SUM_OVERDUE ELSE 0 END) AS MIN_CREDIT_ACTIVE_Closed_AMT_CREDIT_SUM_OVERDUE,\n",
            "MIN(CASE WHEN CREDIT_ACTIVE= 'Closed' THEN AMT_ANNUITY ELSE 0 END) AS MIN_CREDIT_ACTIVE_Closed_AMT_ANNUITY,\n",
            "MIN(CASE WHEN CREDIT_ACTIVE= 'Bad debt' THEN AMT_CREDIT_MAX_OVERDUE ELSE 0 END) AS MIN_CREDIT_ACTIVE_Bad_debt_AMT_CREDIT_MAX_OVERDUE,\n",
            "MIN(CASE WHEN CREDIT_ACTIVE= 'Bad debt' THEN CNT_CREDIT_PROLONG ELSE 0 END) AS MIN_CREDIT_ACTIVE_Bad_debt_CNT_CREDIT_PROLONG,\n",
            "MIN(CASE WHEN CREDIT_ACTIVE= 'Bad debt' THEN AMT_CREDIT_SUM ELSE 0 END) AS MIN_CREDIT_ACTIVE_Bad_debt_AMT_CREDIT_SUM,\n",
            "MIN(CASE WHEN CREDIT_ACTIVE= 'Bad debt' THEN AMT_CREDIT_SUM_DEBT ELSE 0 END) AS MIN_CREDIT_ACTIVE_Bad_debt_AMT_CREDIT_SUM_DEBT,\n",
            "MIN(CASE WHEN CREDIT_ACTIVE= 'Bad debt' THEN AMT_CREDIT_SUM_LIMIT ELSE 0 END) AS MIN_CREDIT_ACTIVE_Bad_debt_AMT_CREDIT_SUM_LIMIT,\n",
            "MIN(CASE WHEN CREDIT_ACTIVE= 'Bad debt' THEN AMT_CREDIT_SUM_OVERDUE ELSE 0 END) AS MIN_CREDIT_ACTIVE_Bad_debt_AMT_CREDIT_SUM_OVERDUE,\n",
            "MIN(CASE WHEN CREDIT_ACTIVE= 'Bad debt' THEN AMT_ANNUITY ELSE 0 END) AS MIN_CREDIT_ACTIVE_Bad_debt_AMT_ANNUITY,\n",
            "MIN(CASE WHEN CREDIT_ACTIVE= 'Sold' THEN AMT_CREDIT_MAX_OVERDUE ELSE 0 END) AS MIN_CREDIT_ACTIVE_Sold_AMT_CREDIT_MAX_OVERDUE,\n",
            "MIN(CASE WHEN CREDIT_ACTIVE= 'Sold' THEN CNT_CREDIT_PROLONG ELSE 0 END) AS MIN_CREDIT_ACTIVE_Sold_CNT_CREDIT_PROLONG,\n",
            "MIN(CASE WHEN CREDIT_ACTIVE= 'Sold' THEN AMT_CREDIT_SUM ELSE 0 END) AS MIN_CREDIT_ACTIVE_Sold_AMT_CREDIT_SUM,\n",
            "MIN(CASE WHEN CREDIT_ACTIVE= 'Sold' THEN AMT_CREDIT_SUM_DEBT ELSE 0 END) AS MIN_CREDIT_ACTIVE_Sold_AMT_CREDIT_SUM_DEBT,\n",
            "MIN(CASE WHEN CREDIT_ACTIVE= 'Sold' THEN AMT_CREDIT_SUM_LIMIT ELSE 0 END) AS MIN_CREDIT_ACTIVE_Sold_AMT_CREDIT_SUM_LIMIT,\n",
            "MIN(CASE WHEN CREDIT_ACTIVE= 'Sold' THEN AMT_CREDIT_SUM_OVERDUE ELSE 0 END) AS MIN_CREDIT_ACTIVE_Sold_AMT_CREDIT_SUM_OVERDUE,\n",
            "MIN(CASE WHEN CREDIT_ACTIVE= 'Sold' THEN AMT_ANNUITY ELSE 0 END) AS MIN_CREDIT_ACTIVE_Sold_AMT_ANNUITY,\n",
            "MAX(CASE WHEN CREDIT_ACTIVE= 'Active' THEN AMT_CREDIT_MAX_OVERDUE ELSE 0 END) AS MAX_CREDIT_ACTIVE_Active_AMT_CREDIT_MAX_OVERDUE,\n",
            "MAX(CASE WHEN CREDIT_ACTIVE= 'Active' THEN CNT_CREDIT_PROLONG ELSE 0 END) AS MAX_CREDIT_ACTIVE_Active_CNT_CREDIT_PROLONG,\n",
            "MAX(CASE WHEN CREDIT_ACTIVE= 'Active' THEN AMT_CREDIT_SUM ELSE 0 END) AS MAX_CREDIT_ACTIVE_Active_AMT_CREDIT_SUM,\n",
            "MAX(CASE WHEN CREDIT_ACTIVE= 'Active' THEN AMT_CREDIT_SUM_DEBT ELSE 0 END) AS MAX_CREDIT_ACTIVE_Active_AMT_CREDIT_SUM_DEBT,\n",
            "MAX(CASE WHEN CREDIT_ACTIVE= 'Active' THEN AMT_CREDIT_SUM_LIMIT ELSE 0 END) AS MAX_CREDIT_ACTIVE_Active_AMT_CREDIT_SUM_LIMIT,\n",
            "MAX(CASE WHEN CREDIT_ACTIVE= 'Active' THEN AMT_CREDIT_SUM_OVERDUE ELSE 0 END) AS MAX_CREDIT_ACTIVE_Active_AMT_CREDIT_SUM_OVERDUE,\n",
            "MAX(CASE WHEN CREDIT_ACTIVE= 'Active' THEN AMT_ANNUITY ELSE 0 END) AS MAX_CREDIT_ACTIVE_Active_AMT_ANNUITY,\n",
            "MAX(CASE WHEN CREDIT_ACTIVE= 'Closed' THEN AMT_CREDIT_MAX_OVERDUE ELSE 0 END) AS MAX_CREDIT_ACTIVE_Closed_AMT_CREDIT_MAX_OVERDUE,\n",
            "MAX(CASE WHEN CREDIT_ACTIVE= 'Closed' THEN CNT_CREDIT_PROLONG ELSE 0 END) AS MAX_CREDIT_ACTIVE_Closed_CNT_CREDIT_PROLONG,\n",
            "MAX(CASE WHEN CREDIT_ACTIVE= 'Closed' THEN AMT_CREDIT_SUM ELSE 0 END) AS MAX_CREDIT_ACTIVE_Closed_AMT_CREDIT_SUM,\n",
            "MAX(CASE WHEN CREDIT_ACTIVE= 'Closed' THEN AMT_CREDIT_SUM_DEBT ELSE 0 END) AS MAX_CREDIT_ACTIVE_Closed_AMT_CREDIT_SUM_DEBT,\n",
            "MAX(CASE WHEN CREDIT_ACTIVE= 'Closed' THEN AMT_CREDIT_SUM_LIMIT ELSE 0 END) AS MAX_CREDIT_ACTIVE_Closed_AMT_CREDIT_SUM_LIMIT,\n",
            "MAX(CASE WHEN CREDIT_ACTIVE= 'Closed' THEN AMT_CREDIT_SUM_OVERDUE ELSE 0 END) AS MAX_CREDIT_ACTIVE_Closed_AMT_CREDIT_SUM_OVERDUE,\n",
            "MAX(CASE WHEN CREDIT_ACTIVE= 'Closed' THEN AMT_ANNUITY ELSE 0 END) AS MAX_CREDIT_ACTIVE_Closed_AMT_ANNUITY,\n",
            "MAX(CASE WHEN CREDIT_ACTIVE= 'Bad debt' THEN AMT_CREDIT_MAX_OVERDUE ELSE 0 END) AS MAX_CREDIT_ACTIVE_Bad_debt_AMT_CREDIT_MAX_OVERDUE,\n",
            "MAX(CASE WHEN CREDIT_ACTIVE= 'Bad debt' THEN CNT_CREDIT_PROLONG ELSE 0 END) AS MAX_CREDIT_ACTIVE_Bad_debt_CNT_CREDIT_PROLONG,\n",
            "MAX(CASE WHEN CREDIT_ACTIVE= 'Bad debt' THEN AMT_CREDIT_SUM ELSE 0 END) AS MAX_CREDIT_ACTIVE_Bad_debt_AMT_CREDIT_SUM,\n",
            "MAX(CASE WHEN CREDIT_ACTIVE= 'Bad debt' THEN AMT_CREDIT_SUM_DEBT ELSE 0 END) AS MAX_CREDIT_ACTIVE_Bad_debt_AMT_CREDIT_SUM_DEBT,\n",
            "MAX(CASE WHEN CREDIT_ACTIVE= 'Bad debt' THEN AMT_CREDIT_SUM_LIMIT ELSE 0 END) AS MAX_CREDIT_ACTIVE_Bad_debt_AMT_CREDIT_SUM_LIMIT,\n",
            "MAX(CASE WHEN CREDIT_ACTIVE= 'Bad debt' THEN AMT_CREDIT_SUM_OVERDUE ELSE 0 END) AS MAX_CREDIT_ACTIVE_Bad_debt_AMT_CREDIT_SUM_OVERDUE,\n",
            "MAX(CASE WHEN CREDIT_ACTIVE= 'Bad debt' THEN AMT_ANNUITY ELSE 0 END) AS MAX_CREDIT_ACTIVE_Bad_debt_AMT_ANNUITY,\n",
            "MAX(CASE WHEN CREDIT_ACTIVE= 'Sold' THEN AMT_CREDIT_MAX_OVERDUE ELSE 0 END) AS MAX_CREDIT_ACTIVE_Sold_AMT_CREDIT_MAX_OVERDUE,\n",
            "MAX(CASE WHEN CREDIT_ACTIVE= 'Sold' THEN CNT_CREDIT_PROLONG ELSE 0 END) AS MAX_CREDIT_ACTIVE_Sold_CNT_CREDIT_PROLONG,\n",
            "MAX(CASE WHEN CREDIT_ACTIVE= 'Sold' THEN AMT_CREDIT_SUM ELSE 0 END) AS MAX_CREDIT_ACTIVE_Sold_AMT_CREDIT_SUM,\n",
            "MAX(CASE WHEN CREDIT_ACTIVE= 'Sold' THEN AMT_CREDIT_SUM_DEBT ELSE 0 END) AS MAX_CREDIT_ACTIVE_Sold_AMT_CREDIT_SUM_DEBT,\n",
            "MAX(CASE WHEN CREDIT_ACTIVE= 'Sold' THEN AMT_CREDIT_SUM_LIMIT ELSE 0 END) AS MAX_CREDIT_ACTIVE_Sold_AMT_CREDIT_SUM_LIMIT,\n",
            "MAX(CASE WHEN CREDIT_ACTIVE= 'Sold' THEN AMT_CREDIT_SUM_OVERDUE ELSE 0 END) AS MAX_CREDIT_ACTIVE_Sold_AMT_CREDIT_SUM_OVERDUE,\n",
            "MAX(CASE WHEN CREDIT_ACTIVE= 'Sold' THEN AMT_ANNUITY ELSE 0 END) AS MAX_CREDIT_ACTIVE_Sold_AMT_ANNUITY,\n",
            "AVG(CASE WHEN CREDIT_ACTIVE= 'Active' THEN AMT_CREDIT_MAX_OVERDUE ELSE 0 END) AS AVG_CREDIT_ACTIVE_Active_AMT_CREDIT_MAX_OVERDUE,\n",
            "AVG(CASE WHEN CREDIT_ACTIVE= 'Active' THEN CNT_CREDIT_PROLONG ELSE 0 END) AS AVG_CREDIT_ACTIVE_Active_CNT_CREDIT_PROLONG,\n",
            "AVG(CASE WHEN CREDIT_ACTIVE= 'Active' THEN AMT_CREDIT_SUM ELSE 0 END) AS AVG_CREDIT_ACTIVE_Active_AMT_CREDIT_SUM,\n",
            "AVG(CASE WHEN CREDIT_ACTIVE= 'Active' THEN AMT_CREDIT_SUM_DEBT ELSE 0 END) AS AVG_CREDIT_ACTIVE_Active_AMT_CREDIT_SUM_DEBT,\n",
            "AVG(CASE WHEN CREDIT_ACTIVE= 'Active' THEN AMT_CREDIT_SUM_LIMIT ELSE 0 END) AS AVG_CREDIT_ACTIVE_Active_AMT_CREDIT_SUM_LIMIT,\n",
            "AVG(CASE WHEN CREDIT_ACTIVE= 'Active' THEN AMT_CREDIT_SUM_OVERDUE ELSE 0 END) AS AVG_CREDIT_ACTIVE_Active_AMT_CREDIT_SUM_OVERDUE,\n",
            "AVG(CASE WHEN CREDIT_ACTIVE= 'Active' THEN AMT_ANNUITY ELSE 0 END) AS AVG_CREDIT_ACTIVE_Active_AMT_ANNUITY,\n",
            "AVG(CASE WHEN CREDIT_ACTIVE= 'Closed' THEN AMT_CREDIT_MAX_OVERDUE ELSE 0 END) AS AVG_CREDIT_ACTIVE_Closed_AMT_CREDIT_MAX_OVERDUE,\n",
            "AVG(CASE WHEN CREDIT_ACTIVE= 'Closed' THEN CNT_CREDIT_PROLONG ELSE 0 END) AS AVG_CREDIT_ACTIVE_Closed_CNT_CREDIT_PROLONG,\n",
            "AVG(CASE WHEN CREDIT_ACTIVE= 'Closed' THEN AMT_CREDIT_SUM ELSE 0 END) AS AVG_CREDIT_ACTIVE_Closed_AMT_CREDIT_SUM,\n",
            "AVG(CASE WHEN CREDIT_ACTIVE= 'Closed' THEN AMT_CREDIT_SUM_DEBT ELSE 0 END) AS AVG_CREDIT_ACTIVE_Closed_AMT_CREDIT_SUM_DEBT,\n",
            "AVG(CASE WHEN CREDIT_ACTIVE= 'Closed' THEN AMT_CREDIT_SUM_LIMIT ELSE 0 END) AS AVG_CREDIT_ACTIVE_Closed_AMT_CREDIT_SUM_LIMIT,\n",
            "AVG(CASE WHEN CREDIT_ACTIVE= 'Closed' THEN AMT_CREDIT_SUM_OVERDUE ELSE 0 END) AS AVG_CREDIT_ACTIVE_Closed_AMT_CREDIT_SUM_OVERDUE,\n",
            "AVG(CASE WHEN CREDIT_ACTIVE= 'Closed' THEN AMT_ANNUITY ELSE 0 END) AS AVG_CREDIT_ACTIVE_Closed_AMT_ANNUITY,\n",
            "AVG(CASE WHEN CREDIT_ACTIVE= 'Bad debt' THEN AMT_CREDIT_MAX_OVERDUE ELSE 0 END) AS AVG_CREDIT_ACTIVE_Bad_debt_AMT_CREDIT_MAX_OVERDUE,\n",
            "AVG(CASE WHEN CREDIT_ACTIVE= 'Bad debt' THEN CNT_CREDIT_PROLONG ELSE 0 END) AS AVG_CREDIT_ACTIVE_Bad_debt_CNT_CREDIT_PROLONG,\n",
            "AVG(CASE WHEN CREDIT_ACTIVE= 'Bad debt' THEN AMT_CREDIT_SUM ELSE 0 END) AS AVG_CREDIT_ACTIVE_Bad_debt_AMT_CREDIT_SUM,\n",
            "AVG(CASE WHEN CREDIT_ACTIVE= 'Bad debt' THEN AMT_CREDIT_SUM_DEBT ELSE 0 END) AS AVG_CREDIT_ACTIVE_Bad_debt_AMT_CREDIT_SUM_DEBT,\n",
            "AVG(CASE WHEN CREDIT_ACTIVE= 'Bad debt' THEN AMT_CREDIT_SUM_LIMIT ELSE 0 END) AS AVG_CREDIT_ACTIVE_Bad_debt_AMT_CREDIT_SUM_LIMIT,\n",
            "AVG(CASE WHEN CREDIT_ACTIVE= 'Bad debt' THEN AMT_CREDIT_SUM_OVERDUE ELSE 0 END) AS AVG_CREDIT_ACTIVE_Bad_debt_AMT_CREDIT_SUM_OVERDUE,\n",
            "AVG(CASE WHEN CREDIT_ACTIVE= 'Bad debt' THEN AMT_ANNUITY ELSE 0 END) AS AVG_CREDIT_ACTIVE_Bad_debt_AMT_ANNUITY,\n",
            "AVG(CASE WHEN CREDIT_ACTIVE= 'Sold' THEN AMT_CREDIT_MAX_OVERDUE ELSE 0 END) AS AVG_CREDIT_ACTIVE_Sold_AMT_CREDIT_MAX_OVERDUE,\n",
            "AVG(CASE WHEN CREDIT_ACTIVE= 'Sold' THEN CNT_CREDIT_PROLONG ELSE 0 END) AS AVG_CREDIT_ACTIVE_Sold_CNT_CREDIT_PROLONG,\n",
            "AVG(CASE WHEN CREDIT_ACTIVE= 'Sold' THEN AMT_CREDIT_SUM ELSE 0 END) AS AVG_CREDIT_ACTIVE_Sold_AMT_CREDIT_SUM,\n",
            "AVG(CASE WHEN CREDIT_ACTIVE= 'Sold' THEN AMT_CREDIT_SUM_DEBT ELSE 0 END) AS AVG_CREDIT_ACTIVE_Sold_AMT_CREDIT_SUM_DEBT,\n",
            "AVG(CASE WHEN CREDIT_ACTIVE= 'Sold' THEN AMT_CREDIT_SUM_LIMIT ELSE 0 END) AS AVG_CREDIT_ACTIVE_Sold_AMT_CREDIT_SUM_LIMIT,\n",
            "AVG(CASE WHEN CREDIT_ACTIVE= 'Sold' THEN AMT_CREDIT_SUM_OVERDUE ELSE 0 END) AS AVG_CREDIT_ACTIVE_Sold_AMT_CREDIT_SUM_OVERDUE,\n",
            "AVG(CASE WHEN CREDIT_ACTIVE= 'Sold' THEN AMT_ANNUITY ELSE 0 END) AS AVG_CREDIT_ACTIVE_Sold_AMT_ANNUITY,\n"
          ]
        }
      ]
    },
    {
      "cell_type": "markdown",
      "source": [
        "- Criando o dataframe df_bureau_credit_active_num"
      ],
      "metadata": {
        "id": "iRpQcNPAshQq"
      }
    },
    {
      "cell_type": "code",
      "source": [
        "df_bureau_credit_active_num = spark.sql(\"\"\"\n",
        "SELECT\n",
        "  SK_ID_CURR,\n",
        "  SUM(CASE WHEN CREDIT_ACTIVE= 'Active' THEN AMT_CREDIT_MAX_OVERDUE ELSE 0 END) AS SUM_CREDIT_ACTIVE_Active_AMT_CREDIT_MAX_OVERDUE,\n",
        "SUM(CASE WHEN CREDIT_ACTIVE= 'Active' THEN CNT_CREDIT_PROLONG ELSE 0 END) AS SUM_CREDIT_ACTIVE_Active_CNT_CREDIT_PROLONG,\n",
        "SUM(CASE WHEN CREDIT_ACTIVE= 'Active' THEN AMT_CREDIT_SUM ELSE 0 END) AS SUM_CREDIT_ACTIVE_Active_AMT_CREDIT_SUM,\n",
        "SUM(CASE WHEN CREDIT_ACTIVE= 'Active' THEN AMT_CREDIT_SUM_DEBT ELSE 0 END) AS SUM_CREDIT_ACTIVE_Active_AMT_CREDIT_SUM_DEBT,\n",
        "SUM(CASE WHEN CREDIT_ACTIVE= 'Active' THEN AMT_CREDIT_SUM_LIMIT ELSE 0 END) AS SUM_CREDIT_ACTIVE_Active_AMT_CREDIT_SUM_LIMIT,\n",
        "SUM(CASE WHEN CREDIT_ACTIVE= 'Active' THEN AMT_CREDIT_SUM_OVERDUE ELSE 0 END) AS SUM_CREDIT_ACTIVE_Active_AMT_CREDIT_SUM_OVERDUE,\n",
        "SUM(CASE WHEN CREDIT_ACTIVE= 'Active' THEN AMT_ANNUITY ELSE 0 END) AS SUM_CREDIT_ACTIVE_Active_AMT_ANNUITY,\n",
        "SUM(CASE WHEN CREDIT_ACTIVE= 'Closed' THEN AMT_CREDIT_MAX_OVERDUE ELSE 0 END) AS SUM_CREDIT_ACTIVE_Closed_AMT_CREDIT_MAX_OVERDUE,\n",
        "SUM(CASE WHEN CREDIT_ACTIVE= 'Closed' THEN CNT_CREDIT_PROLONG ELSE 0 END) AS SUM_CREDIT_ACTIVE_Closed_CNT_CREDIT_PROLONG,\n",
        "SUM(CASE WHEN CREDIT_ACTIVE= 'Closed' THEN AMT_CREDIT_SUM ELSE 0 END) AS SUM_CREDIT_ACTIVE_Closed_AMT_CREDIT_SUM,\n",
        "SUM(CASE WHEN CREDIT_ACTIVE= 'Closed' THEN AMT_CREDIT_SUM_DEBT ELSE 0 END) AS SUM_CREDIT_ACTIVE_Closed_AMT_CREDIT_SUM_DEBT,\n",
        "SUM(CASE WHEN CREDIT_ACTIVE= 'Closed' THEN AMT_CREDIT_SUM_LIMIT ELSE 0 END) AS SUM_CREDIT_ACTIVE_Closed_AMT_CREDIT_SUM_LIMIT,\n",
        "SUM(CASE WHEN CREDIT_ACTIVE= 'Closed' THEN AMT_CREDIT_SUM_OVERDUE ELSE 0 END) AS SUM_CREDIT_ACTIVE_Closed_AMT_CREDIT_SUM_OVERDUE,\n",
        "SUM(CASE WHEN CREDIT_ACTIVE= 'Closed' THEN AMT_ANNUITY ELSE 0 END) AS SUM_CREDIT_ACTIVE_Closed_AMT_ANNUITY,\n",
        "SUM(CASE WHEN CREDIT_ACTIVE= 'Bad debt' THEN AMT_CREDIT_MAX_OVERDUE ELSE 0 END) AS SUM_CREDIT_ACTIVE_Bad_debt_AMT_CREDIT_MAX_OVERDUE,\n",
        "SUM(CASE WHEN CREDIT_ACTIVE= 'Bad debt' THEN CNT_CREDIT_PROLONG ELSE 0 END) AS SUM_CREDIT_ACTIVE_Bad_debt_CNT_CREDIT_PROLONG,\n",
        "SUM(CASE WHEN CREDIT_ACTIVE= 'Bad debt' THEN AMT_CREDIT_SUM ELSE 0 END) AS SUM_CREDIT_ACTIVE_Bad_debt_AMT_CREDIT_SUM,\n",
        "SUM(CASE WHEN CREDIT_ACTIVE= 'Bad debt' THEN AMT_CREDIT_SUM_DEBT ELSE 0 END) AS SUM_CREDIT_ACTIVE_Bad_debt_AMT_CREDIT_SUM_DEBT,\n",
        "SUM(CASE WHEN CREDIT_ACTIVE= 'Bad debt' THEN AMT_CREDIT_SUM_LIMIT ELSE 0 END) AS SUM_CREDIT_ACTIVE_Bad_debt_AMT_CREDIT_SUM_LIMIT,\n",
        "SUM(CASE WHEN CREDIT_ACTIVE= 'Bad debt' THEN AMT_CREDIT_SUM_OVERDUE ELSE 0 END) AS SUM_CREDIT_ACTIVE_Bad_debt_AMT_CREDIT_SUM_OVERDUE,\n",
        "SUM(CASE WHEN CREDIT_ACTIVE= 'Bad debt' THEN AMT_ANNUITY ELSE 0 END) AS SUM_CREDIT_ACTIVE_Bad_debt_AMT_ANNUITY,\n",
        "SUM(CASE WHEN CREDIT_ACTIVE= 'Sold' THEN AMT_CREDIT_MAX_OVERDUE ELSE 0 END) AS SUM_CREDIT_ACTIVE_Sold_AMT_CREDIT_MAX_OVERDUE,\n",
        "SUM(CASE WHEN CREDIT_ACTIVE= 'Sold' THEN CNT_CREDIT_PROLONG ELSE 0 END) AS SUM_CREDIT_ACTIVE_Sold_CNT_CREDIT_PROLONG,\n",
        "SUM(CASE WHEN CREDIT_ACTIVE= 'Sold' THEN AMT_CREDIT_SUM ELSE 0 END) AS SUM_CREDIT_ACTIVE_Sold_AMT_CREDIT_SUM,\n",
        "SUM(CASE WHEN CREDIT_ACTIVE= 'Sold' THEN AMT_CREDIT_SUM_DEBT ELSE 0 END) AS SUM_CREDIT_ACTIVE_Sold_AMT_CREDIT_SUM_DEBT,\n",
        "SUM(CASE WHEN CREDIT_ACTIVE= 'Sold' THEN AMT_CREDIT_SUM_LIMIT ELSE 0 END) AS SUM_CREDIT_ACTIVE_Sold_AMT_CREDIT_SUM_LIMIT,\n",
        "SUM(CASE WHEN CREDIT_ACTIVE= 'Sold' THEN AMT_CREDIT_SUM_OVERDUE ELSE 0 END) AS SUM_CREDIT_ACTIVE_Sold_AMT_CREDIT_SUM_OVERDUE,\n",
        "SUM(CASE WHEN CREDIT_ACTIVE= 'Sold' THEN AMT_ANNUITY ELSE 0 END) AS SUM_CREDIT_ACTIVE_Sold_AMT_ANNUITY,\n",
        "MIN(CASE WHEN CREDIT_ACTIVE= 'Active' THEN AMT_CREDIT_MAX_OVERDUE ELSE 0 END) AS MIN_CREDIT_ACTIVE_Active_AMT_CREDIT_MAX_OVERDUE,\n",
        "MIN(CASE WHEN CREDIT_ACTIVE= 'Active' THEN CNT_CREDIT_PROLONG ELSE 0 END) AS MIN_CREDIT_ACTIVE_Active_CNT_CREDIT_PROLONG,\n",
        "MIN(CASE WHEN CREDIT_ACTIVE= 'Active' THEN AMT_CREDIT_SUM ELSE 0 END) AS MIN_CREDIT_ACTIVE_Active_AMT_CREDIT_SUM,\n",
        "MIN(CASE WHEN CREDIT_ACTIVE= 'Active' THEN AMT_CREDIT_SUM_DEBT ELSE 0 END) AS MIN_CREDIT_ACTIVE_Active_AMT_CREDIT_SUM_DEBT,\n",
        "MIN(CASE WHEN CREDIT_ACTIVE= 'Active' THEN AMT_CREDIT_SUM_LIMIT ELSE 0 END) AS MIN_CREDIT_ACTIVE_Active_AMT_CREDIT_SUM_LIMIT,\n",
        "MIN(CASE WHEN CREDIT_ACTIVE= 'Active' THEN AMT_CREDIT_SUM_OVERDUE ELSE 0 END) AS MIN_CREDIT_ACTIVE_Active_AMT_CREDIT_SUM_OVERDUE,\n",
        "MIN(CASE WHEN CREDIT_ACTIVE= 'Active' THEN AMT_ANNUITY ELSE 0 END) AS MIN_CREDIT_ACTIVE_Active_AMT_ANNUITY,\n",
        "MIN(CASE WHEN CREDIT_ACTIVE= 'Closed' THEN AMT_CREDIT_MAX_OVERDUE ELSE 0 END) AS MIN_CREDIT_ACTIVE_Closed_AMT_CREDIT_MAX_OVERDUE,\n",
        "MIN(CASE WHEN CREDIT_ACTIVE= 'Closed' THEN CNT_CREDIT_PROLONG ELSE 0 END) AS MIN_CREDIT_ACTIVE_Closed_CNT_CREDIT_PROLONG,\n",
        "MIN(CASE WHEN CREDIT_ACTIVE= 'Closed' THEN AMT_CREDIT_SUM ELSE 0 END) AS MIN_CREDIT_ACTIVE_Closed_AMT_CREDIT_SUM,\n",
        "MIN(CASE WHEN CREDIT_ACTIVE= 'Closed' THEN AMT_CREDIT_SUM_DEBT ELSE 0 END) AS MIN_CREDIT_ACTIVE_Closed_AMT_CREDIT_SUM_DEBT,\n",
        "MIN(CASE WHEN CREDIT_ACTIVE= 'Closed' THEN AMT_CREDIT_SUM_LIMIT ELSE 0 END) AS MIN_CREDIT_ACTIVE_Closed_AMT_CREDIT_SUM_LIMIT,\n",
        "MIN(CASE WHEN CREDIT_ACTIVE= 'Closed' THEN AMT_CREDIT_SUM_OVERDUE ELSE 0 END) AS MIN_CREDIT_ACTIVE_Closed_AMT_CREDIT_SUM_OVERDUE,\n",
        "MIN(CASE WHEN CREDIT_ACTIVE= 'Closed' THEN AMT_ANNUITY ELSE 0 END) AS MIN_CREDIT_ACTIVE_Closed_AMT_ANNUITY,\n",
        "MIN(CASE WHEN CREDIT_ACTIVE= 'Bad debt' THEN AMT_CREDIT_MAX_OVERDUE ELSE 0 END) AS MIN_CREDIT_ACTIVE_Bad_debt_AMT_CREDIT_MAX_OVERDUE,\n",
        "MIN(CASE WHEN CREDIT_ACTIVE= 'Bad debt' THEN CNT_CREDIT_PROLONG ELSE 0 END) AS MIN_CREDIT_ACTIVE_Bad_debt_CNT_CREDIT_PROLONG,\n",
        "MIN(CASE WHEN CREDIT_ACTIVE= 'Bad debt' THEN AMT_CREDIT_SUM ELSE 0 END) AS MIN_CREDIT_ACTIVE_Bad_debt_AMT_CREDIT_SUM,\n",
        "MIN(CASE WHEN CREDIT_ACTIVE= 'Bad debt' THEN AMT_CREDIT_SUM_DEBT ELSE 0 END) AS MIN_CREDIT_ACTIVE_Bad_debt_AMT_CREDIT_SUM_DEBT,\n",
        "MIN(CASE WHEN CREDIT_ACTIVE= 'Bad debt' THEN AMT_CREDIT_SUM_LIMIT ELSE 0 END) AS MIN_CREDIT_ACTIVE_Bad_debt_AMT_CREDIT_SUM_LIMIT,\n",
        "MIN(CASE WHEN CREDIT_ACTIVE= 'Bad debt' THEN AMT_CREDIT_SUM_OVERDUE ELSE 0 END) AS MIN_CREDIT_ACTIVE_Bad_debt_AMT_CREDIT_SUM_OVERDUE,\n",
        "MIN(CASE WHEN CREDIT_ACTIVE= 'Bad debt' THEN AMT_ANNUITY ELSE 0 END) AS MIN_CREDIT_ACTIVE_Bad_debt_AMT_ANNUITY,\n",
        "MIN(CASE WHEN CREDIT_ACTIVE= 'Sold' THEN AMT_CREDIT_MAX_OVERDUE ELSE 0 END) AS MIN_CREDIT_ACTIVE_Sold_AMT_CREDIT_MAX_OVERDUE,\n",
        "MIN(CASE WHEN CREDIT_ACTIVE= 'Sold' THEN CNT_CREDIT_PROLONG ELSE 0 END) AS MIN_CREDIT_ACTIVE_Sold_CNT_CREDIT_PROLONG,\n",
        "MIN(CASE WHEN CREDIT_ACTIVE= 'Sold' THEN AMT_CREDIT_SUM ELSE 0 END) AS MIN_CREDIT_ACTIVE_Sold_AMT_CREDIT_SUM,\n",
        "MIN(CASE WHEN CREDIT_ACTIVE= 'Sold' THEN AMT_CREDIT_SUM_DEBT ELSE 0 END) AS MIN_CREDIT_ACTIVE_Sold_AMT_CREDIT_SUM_DEBT,\n",
        "MIN(CASE WHEN CREDIT_ACTIVE= 'Sold' THEN AMT_CREDIT_SUM_LIMIT ELSE 0 END) AS MIN_CREDIT_ACTIVE_Sold_AMT_CREDIT_SUM_LIMIT,\n",
        "MIN(CASE WHEN CREDIT_ACTIVE= 'Sold' THEN AMT_CREDIT_SUM_OVERDUE ELSE 0 END) AS MIN_CREDIT_ACTIVE_Sold_AMT_CREDIT_SUM_OVERDUE,\n",
        "MIN(CASE WHEN CREDIT_ACTIVE= 'Sold' THEN AMT_ANNUITY ELSE 0 END) AS MIN_CREDIT_ACTIVE_Sold_AMT_ANNUITY,\n",
        "MAX(CASE WHEN CREDIT_ACTIVE= 'Active' THEN AMT_CREDIT_MAX_OVERDUE ELSE 0 END) AS MAX_CREDIT_ACTIVE_Active_AMT_CREDIT_MAX_OVERDUE,\n",
        "MAX(CASE WHEN CREDIT_ACTIVE= 'Active' THEN CNT_CREDIT_PROLONG ELSE 0 END) AS MAX_CREDIT_ACTIVE_Active_CNT_CREDIT_PROLONG,\n",
        "MAX(CASE WHEN CREDIT_ACTIVE= 'Active' THEN AMT_CREDIT_SUM ELSE 0 END) AS MAX_CREDIT_ACTIVE_Active_AMT_CREDIT_SUM,\n",
        "MAX(CASE WHEN CREDIT_ACTIVE= 'Active' THEN AMT_CREDIT_SUM_DEBT ELSE 0 END) AS MAX_CREDIT_ACTIVE_Active_AMT_CREDIT_SUM_DEBT,\n",
        "MAX(CASE WHEN CREDIT_ACTIVE= 'Active' THEN AMT_CREDIT_SUM_LIMIT ELSE 0 END) AS MAX_CREDIT_ACTIVE_Active_AMT_CREDIT_SUM_LIMIT,\n",
        "MAX(CASE WHEN CREDIT_ACTIVE= 'Active' THEN AMT_CREDIT_SUM_OVERDUE ELSE 0 END) AS MAX_CREDIT_ACTIVE_Active_AMT_CREDIT_SUM_OVERDUE,\n",
        "MAX(CASE WHEN CREDIT_ACTIVE= 'Active' THEN AMT_ANNUITY ELSE 0 END) AS MAX_CREDIT_ACTIVE_Active_AMT_ANNUITY,\n",
        "MAX(CASE WHEN CREDIT_ACTIVE= 'Closed' THEN AMT_CREDIT_MAX_OVERDUE ELSE 0 END) AS MAX_CREDIT_ACTIVE_Closed_AMT_CREDIT_MAX_OVERDUE,\n",
        "MAX(CASE WHEN CREDIT_ACTIVE= 'Closed' THEN CNT_CREDIT_PROLONG ELSE 0 END) AS MAX_CREDIT_ACTIVE_Closed_CNT_CREDIT_PROLONG,\n",
        "MAX(CASE WHEN CREDIT_ACTIVE= 'Closed' THEN AMT_CREDIT_SUM ELSE 0 END) AS MAX_CREDIT_ACTIVE_Closed_AMT_CREDIT_SUM,\n",
        "MAX(CASE WHEN CREDIT_ACTIVE= 'Closed' THEN AMT_CREDIT_SUM_DEBT ELSE 0 END) AS MAX_CREDIT_ACTIVE_Closed_AMT_CREDIT_SUM_DEBT,\n",
        "MAX(CASE WHEN CREDIT_ACTIVE= 'Closed' THEN AMT_CREDIT_SUM_LIMIT ELSE 0 END) AS MAX_CREDIT_ACTIVE_Closed_AMT_CREDIT_SUM_LIMIT,\n",
        "MAX(CASE WHEN CREDIT_ACTIVE= 'Closed' THEN AMT_CREDIT_SUM_OVERDUE ELSE 0 END) AS MAX_CREDIT_ACTIVE_Closed_AMT_CREDIT_SUM_OVERDUE,\n",
        "MAX(CASE WHEN CREDIT_ACTIVE= 'Closed' THEN AMT_ANNUITY ELSE 0 END) AS MAX_CREDIT_ACTIVE_Closed_AMT_ANNUITY,\n",
        "MAX(CASE WHEN CREDIT_ACTIVE= 'Bad debt' THEN AMT_CREDIT_MAX_OVERDUE ELSE 0 END) AS MAX_CREDIT_ACTIVE_Bad_debt_AMT_CREDIT_MAX_OVERDUE,\n",
        "MAX(CASE WHEN CREDIT_ACTIVE= 'Bad debt' THEN CNT_CREDIT_PROLONG ELSE 0 END) AS MAX_CREDIT_ACTIVE_Bad_debt_CNT_CREDIT_PROLONG,\n",
        "MAX(CASE WHEN CREDIT_ACTIVE= 'Bad debt' THEN AMT_CREDIT_SUM ELSE 0 END) AS MAX_CREDIT_ACTIVE_Bad_debt_AMT_CREDIT_SUM,\n",
        "MAX(CASE WHEN CREDIT_ACTIVE= 'Bad debt' THEN AMT_CREDIT_SUM_DEBT ELSE 0 END) AS MAX_CREDIT_ACTIVE_Bad_debt_AMT_CREDIT_SUM_DEBT,\n",
        "MAX(CASE WHEN CREDIT_ACTIVE= 'Bad debt' THEN AMT_CREDIT_SUM_LIMIT ELSE 0 END) AS MAX_CREDIT_ACTIVE_Bad_debt_AMT_CREDIT_SUM_LIMIT,\n",
        "MAX(CASE WHEN CREDIT_ACTIVE= 'Bad debt' THEN AMT_CREDIT_SUM_OVERDUE ELSE 0 END) AS MAX_CREDIT_ACTIVE_Bad_debt_AMT_CREDIT_SUM_OVERDUE,\n",
        "MAX(CASE WHEN CREDIT_ACTIVE= 'Bad debt' THEN AMT_ANNUITY ELSE 0 END) AS MAX_CREDIT_ACTIVE_Bad_debt_AMT_ANNUITY,\n",
        "MAX(CASE WHEN CREDIT_ACTIVE= 'Sold' THEN AMT_CREDIT_MAX_OVERDUE ELSE 0 END) AS MAX_CREDIT_ACTIVE_Sold_AMT_CREDIT_MAX_OVERDUE,\n",
        "MAX(CASE WHEN CREDIT_ACTIVE= 'Sold' THEN CNT_CREDIT_PROLONG ELSE 0 END) AS MAX_CREDIT_ACTIVE_Sold_CNT_CREDIT_PROLONG,\n",
        "MAX(CASE WHEN CREDIT_ACTIVE= 'Sold' THEN AMT_CREDIT_SUM ELSE 0 END) AS MAX_CREDIT_ACTIVE_Sold_AMT_CREDIT_SUM,\n",
        "MAX(CASE WHEN CREDIT_ACTIVE= 'Sold' THEN AMT_CREDIT_SUM_DEBT ELSE 0 END) AS MAX_CREDIT_ACTIVE_Sold_AMT_CREDIT_SUM_DEBT,\n",
        "MAX(CASE WHEN CREDIT_ACTIVE= 'Sold' THEN AMT_CREDIT_SUM_LIMIT ELSE 0 END) AS MAX_CREDIT_ACTIVE_Sold_AMT_CREDIT_SUM_LIMIT,\n",
        "MAX(CASE WHEN CREDIT_ACTIVE= 'Sold' THEN AMT_CREDIT_SUM_OVERDUE ELSE 0 END) AS MAX_CREDIT_ACTIVE_Sold_AMT_CREDIT_SUM_OVERDUE,\n",
        "MAX(CASE WHEN CREDIT_ACTIVE= 'Sold' THEN AMT_ANNUITY ELSE 0 END) AS MAX_CREDIT_ACTIVE_Sold_AMT_ANNUITY,\n",
        "AVG(CASE WHEN CREDIT_ACTIVE= 'Active' THEN AMT_CREDIT_MAX_OVERDUE ELSE 0 END) AS AVG_CREDIT_ACTIVE_Active_AMT_CREDIT_MAX_OVERDUE,\n",
        "AVG(CASE WHEN CREDIT_ACTIVE= 'Active' THEN CNT_CREDIT_PROLONG ELSE 0 END) AS AVG_CREDIT_ACTIVE_Active_CNT_CREDIT_PROLONG,\n",
        "AVG(CASE WHEN CREDIT_ACTIVE= 'Active' THEN AMT_CREDIT_SUM ELSE 0 END) AS AVG_CREDIT_ACTIVE_Active_AMT_CREDIT_SUM,\n",
        "AVG(CASE WHEN CREDIT_ACTIVE= 'Active' THEN AMT_CREDIT_SUM_DEBT ELSE 0 END) AS AVG_CREDIT_ACTIVE_Active_AMT_CREDIT_SUM_DEBT,\n",
        "AVG(CASE WHEN CREDIT_ACTIVE= 'Active' THEN AMT_CREDIT_SUM_LIMIT ELSE 0 END) AS AVG_CREDIT_ACTIVE_Active_AMT_CREDIT_SUM_LIMIT,\n",
        "AVG(CASE WHEN CREDIT_ACTIVE= 'Active' THEN AMT_CREDIT_SUM_OVERDUE ELSE 0 END) AS AVG_CREDIT_ACTIVE_Active_AMT_CREDIT_SUM_OVERDUE,\n",
        "AVG(CASE WHEN CREDIT_ACTIVE= 'Active' THEN AMT_ANNUITY ELSE 0 END) AS AVG_CREDIT_ACTIVE_Active_AMT_ANNUITY,\n",
        "AVG(CASE WHEN CREDIT_ACTIVE= 'Closed' THEN AMT_CREDIT_MAX_OVERDUE ELSE 0 END) AS AVG_CREDIT_ACTIVE_Closed_AMT_CREDIT_MAX_OVERDUE,\n",
        "AVG(CASE WHEN CREDIT_ACTIVE= 'Closed' THEN CNT_CREDIT_PROLONG ELSE 0 END) AS AVG_CREDIT_ACTIVE_Closed_CNT_CREDIT_PROLONG,\n",
        "AVG(CASE WHEN CREDIT_ACTIVE= 'Closed' THEN AMT_CREDIT_SUM ELSE 0 END) AS AVG_CREDIT_ACTIVE_Closed_AMT_CREDIT_SUM,\n",
        "AVG(CASE WHEN CREDIT_ACTIVE= 'Closed' THEN AMT_CREDIT_SUM_DEBT ELSE 0 END) AS AVG_CREDIT_ACTIVE_Closed_AMT_CREDIT_SUM_DEBT,\n",
        "AVG(CASE WHEN CREDIT_ACTIVE= 'Closed' THEN AMT_CREDIT_SUM_LIMIT ELSE 0 END) AS AVG_CREDIT_ACTIVE_Closed_AMT_CREDIT_SUM_LIMIT,\n",
        "AVG(CASE WHEN CREDIT_ACTIVE= 'Closed' THEN AMT_CREDIT_SUM_OVERDUE ELSE 0 END) AS AVG_CREDIT_ACTIVE_Closed_AMT_CREDIT_SUM_OVERDUE,\n",
        "AVG(CASE WHEN CREDIT_ACTIVE= 'Closed' THEN AMT_ANNUITY ELSE 0 END) AS AVG_CREDIT_ACTIVE_Closed_AMT_ANNUITY,\n",
        "AVG(CASE WHEN CREDIT_ACTIVE= 'Bad debt' THEN AMT_CREDIT_MAX_OVERDUE ELSE 0 END) AS AVG_CREDIT_ACTIVE_Bad_debt_AMT_CREDIT_MAX_OVERDUE,\n",
        "AVG(CASE WHEN CREDIT_ACTIVE= 'Bad debt' THEN CNT_CREDIT_PROLONG ELSE 0 END) AS AVG_CREDIT_ACTIVE_Bad_debt_CNT_CREDIT_PROLONG,\n",
        "AVG(CASE WHEN CREDIT_ACTIVE= 'Bad debt' THEN AMT_CREDIT_SUM ELSE 0 END) AS AVG_CREDIT_ACTIVE_Bad_debt_AMT_CREDIT_SUM,\n",
        "AVG(CASE WHEN CREDIT_ACTIVE= 'Bad debt' THEN AMT_CREDIT_SUM_DEBT ELSE 0 END) AS AVG_CREDIT_ACTIVE_Bad_debt_AMT_CREDIT_SUM_DEBT,\n",
        "AVG(CASE WHEN CREDIT_ACTIVE= 'Bad debt' THEN AMT_CREDIT_SUM_LIMIT ELSE 0 END) AS AVG_CREDIT_ACTIVE_Bad_debt_AMT_CREDIT_SUM_LIMIT,\n",
        "AVG(CASE WHEN CREDIT_ACTIVE= 'Bad debt' THEN AMT_CREDIT_SUM_OVERDUE ELSE 0 END) AS AVG_CREDIT_ACTIVE_Bad_debt_AMT_CREDIT_SUM_OVERDUE,\n",
        "AVG(CASE WHEN CREDIT_ACTIVE= 'Bad debt' THEN AMT_ANNUITY ELSE 0 END) AS AVG_CREDIT_ACTIVE_Bad_debt_AMT_ANNUITY,\n",
        "AVG(CASE WHEN CREDIT_ACTIVE= 'Sold' THEN AMT_CREDIT_MAX_OVERDUE ELSE 0 END) AS AVG_CREDIT_ACTIVE_Sold_AMT_CREDIT_MAX_OVERDUE,\n",
        "AVG(CASE WHEN CREDIT_ACTIVE= 'Sold' THEN CNT_CREDIT_PROLONG ELSE 0 END) AS AVG_CREDIT_ACTIVE_Sold_CNT_CREDIT_PROLONG,\n",
        "AVG(CASE WHEN CREDIT_ACTIVE= 'Sold' THEN AMT_CREDIT_SUM ELSE 0 END) AS AVG_CREDIT_ACTIVE_Sold_AMT_CREDIT_SUM,\n",
        "AVG(CASE WHEN CREDIT_ACTIVE= 'Sold' THEN AMT_CREDIT_SUM_DEBT ELSE 0 END) AS AVG_CREDIT_ACTIVE_Sold_AMT_CREDIT_SUM_DEBT,\n",
        "AVG(CASE WHEN CREDIT_ACTIVE= 'Sold' THEN AMT_CREDIT_SUM_LIMIT ELSE 0 END) AS AVG_CREDIT_ACTIVE_Sold_AMT_CREDIT_SUM_LIMIT,\n",
        "AVG(CASE WHEN CREDIT_ACTIVE= 'Sold' THEN AMT_CREDIT_SUM_OVERDUE ELSE 0 END) AS AVG_CREDIT_ACTIVE_Sold_AMT_CREDIT_SUM_OVERDUE,\n",
        "AVG(CASE WHEN CREDIT_ACTIVE= 'Sold' THEN AMT_ANNUITY ELSE 0 END) AS AVG_CREDIT_ACTIVE_Sold_AMT_ANNUITY\n",
        "FROM\n",
        "  bureau\n",
        "GROUP BY\n",
        "  SK_ID_CURR\n",
        "\"\"\")"
      ],
      "metadata": {
        "id": "e_z7Ip9Pvb5P"
      },
      "execution_count": 24,
      "outputs": []
    },
    {
      "cell_type": "markdown",
      "source": [
        "2- Considerando a variável categórica CREDIT_CURRENCY"
      ],
      "metadata": {
        "id": "bhsfWGmHwHDx"
      }
    },
    {
      "cell_type": "code",
      "source": [
        "# Criando as agregações\n",
        "\n",
        "agg = ['SUM', 'MIN', 'MAX', 'AVG']\n",
        "\n",
        "# Criando a variável categórica\n",
        "\n",
        "cat = ['CREDIT_CURRENCY']\n",
        "\n",
        "# Criando os domínios\n",
        "\n",
        "dominios_cat = ['currency 4', 'currency 3', 'currency 2', 'currency 1']\n",
        "\n",
        "# Criando a variável numérica\n",
        "\n",
        "var_num = ['AMT_CREDIT_MAX_OVERDUE', 'CNT_CREDIT_PROLONG', 'AMT_CREDIT_SUM', \\\n",
        "           'AMT_CREDIT_SUM_DEBT', 'AMT_CREDIT_SUM_LIMIT', \\\n",
        "           'AMT_CREDIT_SUM_OVERDUE', 'AMT_ANNUITY']"
      ],
      "metadata": {
        "id": "LF-WyBg-wDeW"
      },
      "execution_count": 25,
      "outputs": []
    },
    {
      "cell_type": "code",
      "source": [
        "# Criando uma rotina que gera o texto da função de agregação\n",
        "\n",
        "for ag in agg:\n",
        "  for cate in cat:\n",
        "    for dominio in dominios_cat:\n",
        "      for var_n in var_num:\n",
        "        print(ag +'(CASE WHEN ' + cate + '= ' + \"'\" + dominio + \"'\" + \" THEN \" + var_n + \" ELSE 0 END) AS \" + ag + \"_\" + cate + \"_\" + dominio.replace(\" \", \"_\") + \"_\" + var_n + ',')\n"
      ],
      "metadata": {
        "colab": {
          "base_uri": "https://localhost:8080/"
        },
        "id": "34RZgqefwpVW",
        "outputId": "c27664f4-4a27-4f00-92ec-debae5090d95"
      },
      "execution_count": 26,
      "outputs": [
        {
          "output_type": "stream",
          "name": "stdout",
          "text": [
            "SUM(CASE WHEN CREDIT_CURRENCY= 'currency 4' THEN AMT_CREDIT_MAX_OVERDUE ELSE 0 END) AS SUM_CREDIT_CURRENCY_currency_4_AMT_CREDIT_MAX_OVERDUE,\n",
            "SUM(CASE WHEN CREDIT_CURRENCY= 'currency 4' THEN CNT_CREDIT_PROLONG ELSE 0 END) AS SUM_CREDIT_CURRENCY_currency_4_CNT_CREDIT_PROLONG,\n",
            "SUM(CASE WHEN CREDIT_CURRENCY= 'currency 4' THEN AMT_CREDIT_SUM ELSE 0 END) AS SUM_CREDIT_CURRENCY_currency_4_AMT_CREDIT_SUM,\n",
            "SUM(CASE WHEN CREDIT_CURRENCY= 'currency 4' THEN AMT_CREDIT_SUM_DEBT ELSE 0 END) AS SUM_CREDIT_CURRENCY_currency_4_AMT_CREDIT_SUM_DEBT,\n",
            "SUM(CASE WHEN CREDIT_CURRENCY= 'currency 4' THEN AMT_CREDIT_SUM_LIMIT ELSE 0 END) AS SUM_CREDIT_CURRENCY_currency_4_AMT_CREDIT_SUM_LIMIT,\n",
            "SUM(CASE WHEN CREDIT_CURRENCY= 'currency 4' THEN AMT_CREDIT_SUM_OVERDUE ELSE 0 END) AS SUM_CREDIT_CURRENCY_currency_4_AMT_CREDIT_SUM_OVERDUE,\n",
            "SUM(CASE WHEN CREDIT_CURRENCY= 'currency 4' THEN AMT_ANNUITY ELSE 0 END) AS SUM_CREDIT_CURRENCY_currency_4_AMT_ANNUITY,\n",
            "SUM(CASE WHEN CREDIT_CURRENCY= 'currency 3' THEN AMT_CREDIT_MAX_OVERDUE ELSE 0 END) AS SUM_CREDIT_CURRENCY_currency_3_AMT_CREDIT_MAX_OVERDUE,\n",
            "SUM(CASE WHEN CREDIT_CURRENCY= 'currency 3' THEN CNT_CREDIT_PROLONG ELSE 0 END) AS SUM_CREDIT_CURRENCY_currency_3_CNT_CREDIT_PROLONG,\n",
            "SUM(CASE WHEN CREDIT_CURRENCY= 'currency 3' THEN AMT_CREDIT_SUM ELSE 0 END) AS SUM_CREDIT_CURRENCY_currency_3_AMT_CREDIT_SUM,\n",
            "SUM(CASE WHEN CREDIT_CURRENCY= 'currency 3' THEN AMT_CREDIT_SUM_DEBT ELSE 0 END) AS SUM_CREDIT_CURRENCY_currency_3_AMT_CREDIT_SUM_DEBT,\n",
            "SUM(CASE WHEN CREDIT_CURRENCY= 'currency 3' THEN AMT_CREDIT_SUM_LIMIT ELSE 0 END) AS SUM_CREDIT_CURRENCY_currency_3_AMT_CREDIT_SUM_LIMIT,\n",
            "SUM(CASE WHEN CREDIT_CURRENCY= 'currency 3' THEN AMT_CREDIT_SUM_OVERDUE ELSE 0 END) AS SUM_CREDIT_CURRENCY_currency_3_AMT_CREDIT_SUM_OVERDUE,\n",
            "SUM(CASE WHEN CREDIT_CURRENCY= 'currency 3' THEN AMT_ANNUITY ELSE 0 END) AS SUM_CREDIT_CURRENCY_currency_3_AMT_ANNUITY,\n",
            "SUM(CASE WHEN CREDIT_CURRENCY= 'currency 2' THEN AMT_CREDIT_MAX_OVERDUE ELSE 0 END) AS SUM_CREDIT_CURRENCY_currency_2_AMT_CREDIT_MAX_OVERDUE,\n",
            "SUM(CASE WHEN CREDIT_CURRENCY= 'currency 2' THEN CNT_CREDIT_PROLONG ELSE 0 END) AS SUM_CREDIT_CURRENCY_currency_2_CNT_CREDIT_PROLONG,\n",
            "SUM(CASE WHEN CREDIT_CURRENCY= 'currency 2' THEN AMT_CREDIT_SUM ELSE 0 END) AS SUM_CREDIT_CURRENCY_currency_2_AMT_CREDIT_SUM,\n",
            "SUM(CASE WHEN CREDIT_CURRENCY= 'currency 2' THEN AMT_CREDIT_SUM_DEBT ELSE 0 END) AS SUM_CREDIT_CURRENCY_currency_2_AMT_CREDIT_SUM_DEBT,\n",
            "SUM(CASE WHEN CREDIT_CURRENCY= 'currency 2' THEN AMT_CREDIT_SUM_LIMIT ELSE 0 END) AS SUM_CREDIT_CURRENCY_currency_2_AMT_CREDIT_SUM_LIMIT,\n",
            "SUM(CASE WHEN CREDIT_CURRENCY= 'currency 2' THEN AMT_CREDIT_SUM_OVERDUE ELSE 0 END) AS SUM_CREDIT_CURRENCY_currency_2_AMT_CREDIT_SUM_OVERDUE,\n",
            "SUM(CASE WHEN CREDIT_CURRENCY= 'currency 2' THEN AMT_ANNUITY ELSE 0 END) AS SUM_CREDIT_CURRENCY_currency_2_AMT_ANNUITY,\n",
            "SUM(CASE WHEN CREDIT_CURRENCY= 'currency 1' THEN AMT_CREDIT_MAX_OVERDUE ELSE 0 END) AS SUM_CREDIT_CURRENCY_currency_1_AMT_CREDIT_MAX_OVERDUE,\n",
            "SUM(CASE WHEN CREDIT_CURRENCY= 'currency 1' THEN CNT_CREDIT_PROLONG ELSE 0 END) AS SUM_CREDIT_CURRENCY_currency_1_CNT_CREDIT_PROLONG,\n",
            "SUM(CASE WHEN CREDIT_CURRENCY= 'currency 1' THEN AMT_CREDIT_SUM ELSE 0 END) AS SUM_CREDIT_CURRENCY_currency_1_AMT_CREDIT_SUM,\n",
            "SUM(CASE WHEN CREDIT_CURRENCY= 'currency 1' THEN AMT_CREDIT_SUM_DEBT ELSE 0 END) AS SUM_CREDIT_CURRENCY_currency_1_AMT_CREDIT_SUM_DEBT,\n",
            "SUM(CASE WHEN CREDIT_CURRENCY= 'currency 1' THEN AMT_CREDIT_SUM_LIMIT ELSE 0 END) AS SUM_CREDIT_CURRENCY_currency_1_AMT_CREDIT_SUM_LIMIT,\n",
            "SUM(CASE WHEN CREDIT_CURRENCY= 'currency 1' THEN AMT_CREDIT_SUM_OVERDUE ELSE 0 END) AS SUM_CREDIT_CURRENCY_currency_1_AMT_CREDIT_SUM_OVERDUE,\n",
            "SUM(CASE WHEN CREDIT_CURRENCY= 'currency 1' THEN AMT_ANNUITY ELSE 0 END) AS SUM_CREDIT_CURRENCY_currency_1_AMT_ANNUITY,\n",
            "MIN(CASE WHEN CREDIT_CURRENCY= 'currency 4' THEN AMT_CREDIT_MAX_OVERDUE ELSE 0 END) AS MIN_CREDIT_CURRENCY_currency_4_AMT_CREDIT_MAX_OVERDUE,\n",
            "MIN(CASE WHEN CREDIT_CURRENCY= 'currency 4' THEN CNT_CREDIT_PROLONG ELSE 0 END) AS MIN_CREDIT_CURRENCY_currency_4_CNT_CREDIT_PROLONG,\n",
            "MIN(CASE WHEN CREDIT_CURRENCY= 'currency 4' THEN AMT_CREDIT_SUM ELSE 0 END) AS MIN_CREDIT_CURRENCY_currency_4_AMT_CREDIT_SUM,\n",
            "MIN(CASE WHEN CREDIT_CURRENCY= 'currency 4' THEN AMT_CREDIT_SUM_DEBT ELSE 0 END) AS MIN_CREDIT_CURRENCY_currency_4_AMT_CREDIT_SUM_DEBT,\n",
            "MIN(CASE WHEN CREDIT_CURRENCY= 'currency 4' THEN AMT_CREDIT_SUM_LIMIT ELSE 0 END) AS MIN_CREDIT_CURRENCY_currency_4_AMT_CREDIT_SUM_LIMIT,\n",
            "MIN(CASE WHEN CREDIT_CURRENCY= 'currency 4' THEN AMT_CREDIT_SUM_OVERDUE ELSE 0 END) AS MIN_CREDIT_CURRENCY_currency_4_AMT_CREDIT_SUM_OVERDUE,\n",
            "MIN(CASE WHEN CREDIT_CURRENCY= 'currency 4' THEN AMT_ANNUITY ELSE 0 END) AS MIN_CREDIT_CURRENCY_currency_4_AMT_ANNUITY,\n",
            "MIN(CASE WHEN CREDIT_CURRENCY= 'currency 3' THEN AMT_CREDIT_MAX_OVERDUE ELSE 0 END) AS MIN_CREDIT_CURRENCY_currency_3_AMT_CREDIT_MAX_OVERDUE,\n",
            "MIN(CASE WHEN CREDIT_CURRENCY= 'currency 3' THEN CNT_CREDIT_PROLONG ELSE 0 END) AS MIN_CREDIT_CURRENCY_currency_3_CNT_CREDIT_PROLONG,\n",
            "MIN(CASE WHEN CREDIT_CURRENCY= 'currency 3' THEN AMT_CREDIT_SUM ELSE 0 END) AS MIN_CREDIT_CURRENCY_currency_3_AMT_CREDIT_SUM,\n",
            "MIN(CASE WHEN CREDIT_CURRENCY= 'currency 3' THEN AMT_CREDIT_SUM_DEBT ELSE 0 END) AS MIN_CREDIT_CURRENCY_currency_3_AMT_CREDIT_SUM_DEBT,\n",
            "MIN(CASE WHEN CREDIT_CURRENCY= 'currency 3' THEN AMT_CREDIT_SUM_LIMIT ELSE 0 END) AS MIN_CREDIT_CURRENCY_currency_3_AMT_CREDIT_SUM_LIMIT,\n",
            "MIN(CASE WHEN CREDIT_CURRENCY= 'currency 3' THEN AMT_CREDIT_SUM_OVERDUE ELSE 0 END) AS MIN_CREDIT_CURRENCY_currency_3_AMT_CREDIT_SUM_OVERDUE,\n",
            "MIN(CASE WHEN CREDIT_CURRENCY= 'currency 3' THEN AMT_ANNUITY ELSE 0 END) AS MIN_CREDIT_CURRENCY_currency_3_AMT_ANNUITY,\n",
            "MIN(CASE WHEN CREDIT_CURRENCY= 'currency 2' THEN AMT_CREDIT_MAX_OVERDUE ELSE 0 END) AS MIN_CREDIT_CURRENCY_currency_2_AMT_CREDIT_MAX_OVERDUE,\n",
            "MIN(CASE WHEN CREDIT_CURRENCY= 'currency 2' THEN CNT_CREDIT_PROLONG ELSE 0 END) AS MIN_CREDIT_CURRENCY_currency_2_CNT_CREDIT_PROLONG,\n",
            "MIN(CASE WHEN CREDIT_CURRENCY= 'currency 2' THEN AMT_CREDIT_SUM ELSE 0 END) AS MIN_CREDIT_CURRENCY_currency_2_AMT_CREDIT_SUM,\n",
            "MIN(CASE WHEN CREDIT_CURRENCY= 'currency 2' THEN AMT_CREDIT_SUM_DEBT ELSE 0 END) AS MIN_CREDIT_CURRENCY_currency_2_AMT_CREDIT_SUM_DEBT,\n",
            "MIN(CASE WHEN CREDIT_CURRENCY= 'currency 2' THEN AMT_CREDIT_SUM_LIMIT ELSE 0 END) AS MIN_CREDIT_CURRENCY_currency_2_AMT_CREDIT_SUM_LIMIT,\n",
            "MIN(CASE WHEN CREDIT_CURRENCY= 'currency 2' THEN AMT_CREDIT_SUM_OVERDUE ELSE 0 END) AS MIN_CREDIT_CURRENCY_currency_2_AMT_CREDIT_SUM_OVERDUE,\n",
            "MIN(CASE WHEN CREDIT_CURRENCY= 'currency 2' THEN AMT_ANNUITY ELSE 0 END) AS MIN_CREDIT_CURRENCY_currency_2_AMT_ANNUITY,\n",
            "MIN(CASE WHEN CREDIT_CURRENCY= 'currency 1' THEN AMT_CREDIT_MAX_OVERDUE ELSE 0 END) AS MIN_CREDIT_CURRENCY_currency_1_AMT_CREDIT_MAX_OVERDUE,\n",
            "MIN(CASE WHEN CREDIT_CURRENCY= 'currency 1' THEN CNT_CREDIT_PROLONG ELSE 0 END) AS MIN_CREDIT_CURRENCY_currency_1_CNT_CREDIT_PROLONG,\n",
            "MIN(CASE WHEN CREDIT_CURRENCY= 'currency 1' THEN AMT_CREDIT_SUM ELSE 0 END) AS MIN_CREDIT_CURRENCY_currency_1_AMT_CREDIT_SUM,\n",
            "MIN(CASE WHEN CREDIT_CURRENCY= 'currency 1' THEN AMT_CREDIT_SUM_DEBT ELSE 0 END) AS MIN_CREDIT_CURRENCY_currency_1_AMT_CREDIT_SUM_DEBT,\n",
            "MIN(CASE WHEN CREDIT_CURRENCY= 'currency 1' THEN AMT_CREDIT_SUM_LIMIT ELSE 0 END) AS MIN_CREDIT_CURRENCY_currency_1_AMT_CREDIT_SUM_LIMIT,\n",
            "MIN(CASE WHEN CREDIT_CURRENCY= 'currency 1' THEN AMT_CREDIT_SUM_OVERDUE ELSE 0 END) AS MIN_CREDIT_CURRENCY_currency_1_AMT_CREDIT_SUM_OVERDUE,\n",
            "MIN(CASE WHEN CREDIT_CURRENCY= 'currency 1' THEN AMT_ANNUITY ELSE 0 END) AS MIN_CREDIT_CURRENCY_currency_1_AMT_ANNUITY,\n",
            "MAX(CASE WHEN CREDIT_CURRENCY= 'currency 4' THEN AMT_CREDIT_MAX_OVERDUE ELSE 0 END) AS MAX_CREDIT_CURRENCY_currency_4_AMT_CREDIT_MAX_OVERDUE,\n",
            "MAX(CASE WHEN CREDIT_CURRENCY= 'currency 4' THEN CNT_CREDIT_PROLONG ELSE 0 END) AS MAX_CREDIT_CURRENCY_currency_4_CNT_CREDIT_PROLONG,\n",
            "MAX(CASE WHEN CREDIT_CURRENCY= 'currency 4' THEN AMT_CREDIT_SUM ELSE 0 END) AS MAX_CREDIT_CURRENCY_currency_4_AMT_CREDIT_SUM,\n",
            "MAX(CASE WHEN CREDIT_CURRENCY= 'currency 4' THEN AMT_CREDIT_SUM_DEBT ELSE 0 END) AS MAX_CREDIT_CURRENCY_currency_4_AMT_CREDIT_SUM_DEBT,\n",
            "MAX(CASE WHEN CREDIT_CURRENCY= 'currency 4' THEN AMT_CREDIT_SUM_LIMIT ELSE 0 END) AS MAX_CREDIT_CURRENCY_currency_4_AMT_CREDIT_SUM_LIMIT,\n",
            "MAX(CASE WHEN CREDIT_CURRENCY= 'currency 4' THEN AMT_CREDIT_SUM_OVERDUE ELSE 0 END) AS MAX_CREDIT_CURRENCY_currency_4_AMT_CREDIT_SUM_OVERDUE,\n",
            "MAX(CASE WHEN CREDIT_CURRENCY= 'currency 4' THEN AMT_ANNUITY ELSE 0 END) AS MAX_CREDIT_CURRENCY_currency_4_AMT_ANNUITY,\n",
            "MAX(CASE WHEN CREDIT_CURRENCY= 'currency 3' THEN AMT_CREDIT_MAX_OVERDUE ELSE 0 END) AS MAX_CREDIT_CURRENCY_currency_3_AMT_CREDIT_MAX_OVERDUE,\n",
            "MAX(CASE WHEN CREDIT_CURRENCY= 'currency 3' THEN CNT_CREDIT_PROLONG ELSE 0 END) AS MAX_CREDIT_CURRENCY_currency_3_CNT_CREDIT_PROLONG,\n",
            "MAX(CASE WHEN CREDIT_CURRENCY= 'currency 3' THEN AMT_CREDIT_SUM ELSE 0 END) AS MAX_CREDIT_CURRENCY_currency_3_AMT_CREDIT_SUM,\n",
            "MAX(CASE WHEN CREDIT_CURRENCY= 'currency 3' THEN AMT_CREDIT_SUM_DEBT ELSE 0 END) AS MAX_CREDIT_CURRENCY_currency_3_AMT_CREDIT_SUM_DEBT,\n",
            "MAX(CASE WHEN CREDIT_CURRENCY= 'currency 3' THEN AMT_CREDIT_SUM_LIMIT ELSE 0 END) AS MAX_CREDIT_CURRENCY_currency_3_AMT_CREDIT_SUM_LIMIT,\n",
            "MAX(CASE WHEN CREDIT_CURRENCY= 'currency 3' THEN AMT_CREDIT_SUM_OVERDUE ELSE 0 END) AS MAX_CREDIT_CURRENCY_currency_3_AMT_CREDIT_SUM_OVERDUE,\n",
            "MAX(CASE WHEN CREDIT_CURRENCY= 'currency 3' THEN AMT_ANNUITY ELSE 0 END) AS MAX_CREDIT_CURRENCY_currency_3_AMT_ANNUITY,\n",
            "MAX(CASE WHEN CREDIT_CURRENCY= 'currency 2' THEN AMT_CREDIT_MAX_OVERDUE ELSE 0 END) AS MAX_CREDIT_CURRENCY_currency_2_AMT_CREDIT_MAX_OVERDUE,\n",
            "MAX(CASE WHEN CREDIT_CURRENCY= 'currency 2' THEN CNT_CREDIT_PROLONG ELSE 0 END) AS MAX_CREDIT_CURRENCY_currency_2_CNT_CREDIT_PROLONG,\n",
            "MAX(CASE WHEN CREDIT_CURRENCY= 'currency 2' THEN AMT_CREDIT_SUM ELSE 0 END) AS MAX_CREDIT_CURRENCY_currency_2_AMT_CREDIT_SUM,\n",
            "MAX(CASE WHEN CREDIT_CURRENCY= 'currency 2' THEN AMT_CREDIT_SUM_DEBT ELSE 0 END) AS MAX_CREDIT_CURRENCY_currency_2_AMT_CREDIT_SUM_DEBT,\n",
            "MAX(CASE WHEN CREDIT_CURRENCY= 'currency 2' THEN AMT_CREDIT_SUM_LIMIT ELSE 0 END) AS MAX_CREDIT_CURRENCY_currency_2_AMT_CREDIT_SUM_LIMIT,\n",
            "MAX(CASE WHEN CREDIT_CURRENCY= 'currency 2' THEN AMT_CREDIT_SUM_OVERDUE ELSE 0 END) AS MAX_CREDIT_CURRENCY_currency_2_AMT_CREDIT_SUM_OVERDUE,\n",
            "MAX(CASE WHEN CREDIT_CURRENCY= 'currency 2' THEN AMT_ANNUITY ELSE 0 END) AS MAX_CREDIT_CURRENCY_currency_2_AMT_ANNUITY,\n",
            "MAX(CASE WHEN CREDIT_CURRENCY= 'currency 1' THEN AMT_CREDIT_MAX_OVERDUE ELSE 0 END) AS MAX_CREDIT_CURRENCY_currency_1_AMT_CREDIT_MAX_OVERDUE,\n",
            "MAX(CASE WHEN CREDIT_CURRENCY= 'currency 1' THEN CNT_CREDIT_PROLONG ELSE 0 END) AS MAX_CREDIT_CURRENCY_currency_1_CNT_CREDIT_PROLONG,\n",
            "MAX(CASE WHEN CREDIT_CURRENCY= 'currency 1' THEN AMT_CREDIT_SUM ELSE 0 END) AS MAX_CREDIT_CURRENCY_currency_1_AMT_CREDIT_SUM,\n",
            "MAX(CASE WHEN CREDIT_CURRENCY= 'currency 1' THEN AMT_CREDIT_SUM_DEBT ELSE 0 END) AS MAX_CREDIT_CURRENCY_currency_1_AMT_CREDIT_SUM_DEBT,\n",
            "MAX(CASE WHEN CREDIT_CURRENCY= 'currency 1' THEN AMT_CREDIT_SUM_LIMIT ELSE 0 END) AS MAX_CREDIT_CURRENCY_currency_1_AMT_CREDIT_SUM_LIMIT,\n",
            "MAX(CASE WHEN CREDIT_CURRENCY= 'currency 1' THEN AMT_CREDIT_SUM_OVERDUE ELSE 0 END) AS MAX_CREDIT_CURRENCY_currency_1_AMT_CREDIT_SUM_OVERDUE,\n",
            "MAX(CASE WHEN CREDIT_CURRENCY= 'currency 1' THEN AMT_ANNUITY ELSE 0 END) AS MAX_CREDIT_CURRENCY_currency_1_AMT_ANNUITY,\n",
            "AVG(CASE WHEN CREDIT_CURRENCY= 'currency 4' THEN AMT_CREDIT_MAX_OVERDUE ELSE 0 END) AS AVG_CREDIT_CURRENCY_currency_4_AMT_CREDIT_MAX_OVERDUE,\n",
            "AVG(CASE WHEN CREDIT_CURRENCY= 'currency 4' THEN CNT_CREDIT_PROLONG ELSE 0 END) AS AVG_CREDIT_CURRENCY_currency_4_CNT_CREDIT_PROLONG,\n",
            "AVG(CASE WHEN CREDIT_CURRENCY= 'currency 4' THEN AMT_CREDIT_SUM ELSE 0 END) AS AVG_CREDIT_CURRENCY_currency_4_AMT_CREDIT_SUM,\n",
            "AVG(CASE WHEN CREDIT_CURRENCY= 'currency 4' THEN AMT_CREDIT_SUM_DEBT ELSE 0 END) AS AVG_CREDIT_CURRENCY_currency_4_AMT_CREDIT_SUM_DEBT,\n",
            "AVG(CASE WHEN CREDIT_CURRENCY= 'currency 4' THEN AMT_CREDIT_SUM_LIMIT ELSE 0 END) AS AVG_CREDIT_CURRENCY_currency_4_AMT_CREDIT_SUM_LIMIT,\n",
            "AVG(CASE WHEN CREDIT_CURRENCY= 'currency 4' THEN AMT_CREDIT_SUM_OVERDUE ELSE 0 END) AS AVG_CREDIT_CURRENCY_currency_4_AMT_CREDIT_SUM_OVERDUE,\n",
            "AVG(CASE WHEN CREDIT_CURRENCY= 'currency 4' THEN AMT_ANNUITY ELSE 0 END) AS AVG_CREDIT_CURRENCY_currency_4_AMT_ANNUITY,\n",
            "AVG(CASE WHEN CREDIT_CURRENCY= 'currency 3' THEN AMT_CREDIT_MAX_OVERDUE ELSE 0 END) AS AVG_CREDIT_CURRENCY_currency_3_AMT_CREDIT_MAX_OVERDUE,\n",
            "AVG(CASE WHEN CREDIT_CURRENCY= 'currency 3' THEN CNT_CREDIT_PROLONG ELSE 0 END) AS AVG_CREDIT_CURRENCY_currency_3_CNT_CREDIT_PROLONG,\n",
            "AVG(CASE WHEN CREDIT_CURRENCY= 'currency 3' THEN AMT_CREDIT_SUM ELSE 0 END) AS AVG_CREDIT_CURRENCY_currency_3_AMT_CREDIT_SUM,\n",
            "AVG(CASE WHEN CREDIT_CURRENCY= 'currency 3' THEN AMT_CREDIT_SUM_DEBT ELSE 0 END) AS AVG_CREDIT_CURRENCY_currency_3_AMT_CREDIT_SUM_DEBT,\n",
            "AVG(CASE WHEN CREDIT_CURRENCY= 'currency 3' THEN AMT_CREDIT_SUM_LIMIT ELSE 0 END) AS AVG_CREDIT_CURRENCY_currency_3_AMT_CREDIT_SUM_LIMIT,\n",
            "AVG(CASE WHEN CREDIT_CURRENCY= 'currency 3' THEN AMT_CREDIT_SUM_OVERDUE ELSE 0 END) AS AVG_CREDIT_CURRENCY_currency_3_AMT_CREDIT_SUM_OVERDUE,\n",
            "AVG(CASE WHEN CREDIT_CURRENCY= 'currency 3' THEN AMT_ANNUITY ELSE 0 END) AS AVG_CREDIT_CURRENCY_currency_3_AMT_ANNUITY,\n",
            "AVG(CASE WHEN CREDIT_CURRENCY= 'currency 2' THEN AMT_CREDIT_MAX_OVERDUE ELSE 0 END) AS AVG_CREDIT_CURRENCY_currency_2_AMT_CREDIT_MAX_OVERDUE,\n",
            "AVG(CASE WHEN CREDIT_CURRENCY= 'currency 2' THEN CNT_CREDIT_PROLONG ELSE 0 END) AS AVG_CREDIT_CURRENCY_currency_2_CNT_CREDIT_PROLONG,\n",
            "AVG(CASE WHEN CREDIT_CURRENCY= 'currency 2' THEN AMT_CREDIT_SUM ELSE 0 END) AS AVG_CREDIT_CURRENCY_currency_2_AMT_CREDIT_SUM,\n",
            "AVG(CASE WHEN CREDIT_CURRENCY= 'currency 2' THEN AMT_CREDIT_SUM_DEBT ELSE 0 END) AS AVG_CREDIT_CURRENCY_currency_2_AMT_CREDIT_SUM_DEBT,\n",
            "AVG(CASE WHEN CREDIT_CURRENCY= 'currency 2' THEN AMT_CREDIT_SUM_LIMIT ELSE 0 END) AS AVG_CREDIT_CURRENCY_currency_2_AMT_CREDIT_SUM_LIMIT,\n",
            "AVG(CASE WHEN CREDIT_CURRENCY= 'currency 2' THEN AMT_CREDIT_SUM_OVERDUE ELSE 0 END) AS AVG_CREDIT_CURRENCY_currency_2_AMT_CREDIT_SUM_OVERDUE,\n",
            "AVG(CASE WHEN CREDIT_CURRENCY= 'currency 2' THEN AMT_ANNUITY ELSE 0 END) AS AVG_CREDIT_CURRENCY_currency_2_AMT_ANNUITY,\n",
            "AVG(CASE WHEN CREDIT_CURRENCY= 'currency 1' THEN AMT_CREDIT_MAX_OVERDUE ELSE 0 END) AS AVG_CREDIT_CURRENCY_currency_1_AMT_CREDIT_MAX_OVERDUE,\n",
            "AVG(CASE WHEN CREDIT_CURRENCY= 'currency 1' THEN CNT_CREDIT_PROLONG ELSE 0 END) AS AVG_CREDIT_CURRENCY_currency_1_CNT_CREDIT_PROLONG,\n",
            "AVG(CASE WHEN CREDIT_CURRENCY= 'currency 1' THEN AMT_CREDIT_SUM ELSE 0 END) AS AVG_CREDIT_CURRENCY_currency_1_AMT_CREDIT_SUM,\n",
            "AVG(CASE WHEN CREDIT_CURRENCY= 'currency 1' THEN AMT_CREDIT_SUM_DEBT ELSE 0 END) AS AVG_CREDIT_CURRENCY_currency_1_AMT_CREDIT_SUM_DEBT,\n",
            "AVG(CASE WHEN CREDIT_CURRENCY= 'currency 1' THEN AMT_CREDIT_SUM_LIMIT ELSE 0 END) AS AVG_CREDIT_CURRENCY_currency_1_AMT_CREDIT_SUM_LIMIT,\n",
            "AVG(CASE WHEN CREDIT_CURRENCY= 'currency 1' THEN AMT_CREDIT_SUM_OVERDUE ELSE 0 END) AS AVG_CREDIT_CURRENCY_currency_1_AMT_CREDIT_SUM_OVERDUE,\n",
            "AVG(CASE WHEN CREDIT_CURRENCY= 'currency 1' THEN AMT_ANNUITY ELSE 0 END) AS AVG_CREDIT_CURRENCY_currency_1_AMT_ANNUITY,\n"
          ]
        }
      ]
    },
    {
      "cell_type": "markdown",
      "source": [
        "- Criando o dataframe df_bureau_credit_currency_num"
      ],
      "metadata": {
        "id": "F_z-eE9cs6Gh"
      }
    },
    {
      "cell_type": "code",
      "source": [
        "df_bureau_credit_currency_num = spark.sql(\"\"\"\n",
        "SELECT\n",
        "  SK_ID_CURR,\n",
        "  SUM(CASE WHEN CREDIT_CURRENCY= 'currency 4' THEN AMT_CREDIT_MAX_OVERDUE ELSE 0 END) AS SUM_CREDIT_CURRENCY_currency_4_AMT_CREDIT_MAX_OVERDUE,\n",
        "SUM(CASE WHEN CREDIT_CURRENCY= 'currency 4' THEN CNT_CREDIT_PROLONG ELSE 0 END) AS SUM_CREDIT_CURRENCY_currency_4_CNT_CREDIT_PROLONG,\n",
        "SUM(CASE WHEN CREDIT_CURRENCY= 'currency 4' THEN AMT_CREDIT_SUM ELSE 0 END) AS SUM_CREDIT_CURRENCY_currency_4_AMT_CREDIT_SUM,\n",
        "SUM(CASE WHEN CREDIT_CURRENCY= 'currency 4' THEN AMT_CREDIT_SUM_DEBT ELSE 0 END) AS SUM_CREDIT_CURRENCY_currency_4_AMT_CREDIT_SUM_DEBT,\n",
        "SUM(CASE WHEN CREDIT_CURRENCY= 'currency 4' THEN AMT_CREDIT_SUM_LIMIT ELSE 0 END) AS SUM_CREDIT_CURRENCY_currency_4_AMT_CREDIT_SUM_LIMIT,\n",
        "SUM(CASE WHEN CREDIT_CURRENCY= 'currency 4' THEN AMT_CREDIT_SUM_OVERDUE ELSE 0 END) AS SUM_CREDIT_CURRENCY_currency_4_AMT_CREDIT_SUM_OVERDUE,\n",
        "SUM(CASE WHEN CREDIT_CURRENCY= 'currency 4' THEN AMT_ANNUITY ELSE 0 END) AS SUM_CREDIT_CURRENCY_currency_4_AMT_ANNUITY,\n",
        "SUM(CASE WHEN CREDIT_CURRENCY= 'currency 3' THEN AMT_CREDIT_MAX_OVERDUE ELSE 0 END) AS SUM_CREDIT_CURRENCY_currency_3_AMT_CREDIT_MAX_OVERDUE,\n",
        "SUM(CASE WHEN CREDIT_CURRENCY= 'currency 3' THEN CNT_CREDIT_PROLONG ELSE 0 END) AS SUM_CREDIT_CURRENCY_currency_3_CNT_CREDIT_PROLONG,\n",
        "SUM(CASE WHEN CREDIT_CURRENCY= 'currency 3' THEN AMT_CREDIT_SUM ELSE 0 END) AS SUM_CREDIT_CURRENCY_currency_3_AMT_CREDIT_SUM,\n",
        "SUM(CASE WHEN CREDIT_CURRENCY= 'currency 3' THEN AMT_CREDIT_SUM_DEBT ELSE 0 END) AS SUM_CREDIT_CURRENCY_currency_3_AMT_CREDIT_SUM_DEBT,\n",
        "SUM(CASE WHEN CREDIT_CURRENCY= 'currency 3' THEN AMT_CREDIT_SUM_LIMIT ELSE 0 END) AS SUM_CREDIT_CURRENCY_currency_3_AMT_CREDIT_SUM_LIMIT,\n",
        "SUM(CASE WHEN CREDIT_CURRENCY= 'currency 3' THEN AMT_CREDIT_SUM_OVERDUE ELSE 0 END) AS SUM_CREDIT_CURRENCY_currency_3_AMT_CREDIT_SUM_OVERDUE,\n",
        "SUM(CASE WHEN CREDIT_CURRENCY= 'currency 3' THEN AMT_ANNUITY ELSE 0 END) AS SUM_CREDIT_CURRENCY_currency_3_AMT_ANNUITY,\n",
        "SUM(CASE WHEN CREDIT_CURRENCY= 'currency 2' THEN AMT_CREDIT_MAX_OVERDUE ELSE 0 END) AS SUM_CREDIT_CURRENCY_currency_2_AMT_CREDIT_MAX_OVERDUE,\n",
        "SUM(CASE WHEN CREDIT_CURRENCY= 'currency 2' THEN CNT_CREDIT_PROLONG ELSE 0 END) AS SUM_CREDIT_CURRENCY_currency_2_CNT_CREDIT_PROLONG,\n",
        "SUM(CASE WHEN CREDIT_CURRENCY= 'currency 2' THEN AMT_CREDIT_SUM ELSE 0 END) AS SUM_CREDIT_CURRENCY_currency_2_AMT_CREDIT_SUM,\n",
        "SUM(CASE WHEN CREDIT_CURRENCY= 'currency 2' THEN AMT_CREDIT_SUM_DEBT ELSE 0 END) AS SUM_CREDIT_CURRENCY_currency_2_AMT_CREDIT_SUM_DEBT,\n",
        "SUM(CASE WHEN CREDIT_CURRENCY= 'currency 2' THEN AMT_CREDIT_SUM_LIMIT ELSE 0 END) AS SUM_CREDIT_CURRENCY_currency_2_AMT_CREDIT_SUM_LIMIT,\n",
        "SUM(CASE WHEN CREDIT_CURRENCY= 'currency 2' THEN AMT_CREDIT_SUM_OVERDUE ELSE 0 END) AS SUM_CREDIT_CURRENCY_currency_2_AMT_CREDIT_SUM_OVERDUE,\n",
        "SUM(CASE WHEN CREDIT_CURRENCY= 'currency 2' THEN AMT_ANNUITY ELSE 0 END) AS SUM_CREDIT_CURRENCY_currency_2_AMT_ANNUITY,\n",
        "SUM(CASE WHEN CREDIT_CURRENCY= 'currency 1' THEN AMT_CREDIT_MAX_OVERDUE ELSE 0 END) AS SUM_CREDIT_CURRENCY_currency_1_AMT_CREDIT_MAX_OVERDUE,\n",
        "SUM(CASE WHEN CREDIT_CURRENCY= 'currency 1' THEN CNT_CREDIT_PROLONG ELSE 0 END) AS SUM_CREDIT_CURRENCY_currency_1_CNT_CREDIT_PROLONG,\n",
        "SUM(CASE WHEN CREDIT_CURRENCY= 'currency 1' THEN AMT_CREDIT_SUM ELSE 0 END) AS SUM_CREDIT_CURRENCY_currency_1_AMT_CREDIT_SUM,\n",
        "SUM(CASE WHEN CREDIT_CURRENCY= 'currency 1' THEN AMT_CREDIT_SUM_DEBT ELSE 0 END) AS SUM_CREDIT_CURRENCY_currency_1_AMT_CREDIT_SUM_DEBT,\n",
        "SUM(CASE WHEN CREDIT_CURRENCY= 'currency 1' THEN AMT_CREDIT_SUM_LIMIT ELSE 0 END) AS SUM_CREDIT_CURRENCY_currency_1_AMT_CREDIT_SUM_LIMIT,\n",
        "SUM(CASE WHEN CREDIT_CURRENCY= 'currency 1' THEN AMT_CREDIT_SUM_OVERDUE ELSE 0 END) AS SUM_CREDIT_CURRENCY_currency_1_AMT_CREDIT_SUM_OVERDUE,\n",
        "SUM(CASE WHEN CREDIT_CURRENCY= 'currency 1' THEN AMT_ANNUITY ELSE 0 END) AS SUM_CREDIT_CURRENCY_currency_1_AMT_ANNUITY,\n",
        "MIN(CASE WHEN CREDIT_CURRENCY= 'currency 4' THEN AMT_CREDIT_MAX_OVERDUE ELSE 0 END) AS MIN_CREDIT_CURRENCY_currency_4_AMT_CREDIT_MAX_OVERDUE,\n",
        "MIN(CASE WHEN CREDIT_CURRENCY= 'currency 4' THEN CNT_CREDIT_PROLONG ELSE 0 END) AS MIN_CREDIT_CURRENCY_currency_4_CNT_CREDIT_PROLONG,\n",
        "MIN(CASE WHEN CREDIT_CURRENCY= 'currency 4' THEN AMT_CREDIT_SUM ELSE 0 END) AS MIN_CREDIT_CURRENCY_currency_4_AMT_CREDIT_SUM,\n",
        "MIN(CASE WHEN CREDIT_CURRENCY= 'currency 4' THEN AMT_CREDIT_SUM_DEBT ELSE 0 END) AS MIN_CREDIT_CURRENCY_currency_4_AMT_CREDIT_SUM_DEBT,\n",
        "MIN(CASE WHEN CREDIT_CURRENCY= 'currency 4' THEN AMT_CREDIT_SUM_LIMIT ELSE 0 END) AS MIN_CREDIT_CURRENCY_currency_4_AMT_CREDIT_SUM_LIMIT,\n",
        "MIN(CASE WHEN CREDIT_CURRENCY= 'currency 4' THEN AMT_CREDIT_SUM_OVERDUE ELSE 0 END) AS MIN_CREDIT_CURRENCY_currency_4_AMT_CREDIT_SUM_OVERDUE,\n",
        "MIN(CASE WHEN CREDIT_CURRENCY= 'currency 4' THEN AMT_ANNUITY ELSE 0 END) AS MIN_CREDIT_CURRENCY_currency_4_AMT_ANNUITY,\n",
        "MIN(CASE WHEN CREDIT_CURRENCY= 'currency 3' THEN AMT_CREDIT_MAX_OVERDUE ELSE 0 END) AS MIN_CREDIT_CURRENCY_currency_3_AMT_CREDIT_MAX_OVERDUE,\n",
        "MIN(CASE WHEN CREDIT_CURRENCY= 'currency 3' THEN CNT_CREDIT_PROLONG ELSE 0 END) AS MIN_CREDIT_CURRENCY_currency_3_CNT_CREDIT_PROLONG,\n",
        "MIN(CASE WHEN CREDIT_CURRENCY= 'currency 3' THEN AMT_CREDIT_SUM ELSE 0 END) AS MIN_CREDIT_CURRENCY_currency_3_AMT_CREDIT_SUM,\n",
        "MIN(CASE WHEN CREDIT_CURRENCY= 'currency 3' THEN AMT_CREDIT_SUM_DEBT ELSE 0 END) AS MIN_CREDIT_CURRENCY_currency_3_AMT_CREDIT_SUM_DEBT,\n",
        "MIN(CASE WHEN CREDIT_CURRENCY= 'currency 3' THEN AMT_CREDIT_SUM_LIMIT ELSE 0 END) AS MIN_CREDIT_CURRENCY_currency_3_AMT_CREDIT_SUM_LIMIT,\n",
        "MIN(CASE WHEN CREDIT_CURRENCY= 'currency 3' THEN AMT_CREDIT_SUM_OVERDUE ELSE 0 END) AS MIN_CREDIT_CURRENCY_currency_3_AMT_CREDIT_SUM_OVERDUE,\n",
        "MIN(CASE WHEN CREDIT_CURRENCY= 'currency 3' THEN AMT_ANNUITY ELSE 0 END) AS MIN_CREDIT_CURRENCY_currency_3_AMT_ANNUITY,\n",
        "MIN(CASE WHEN CREDIT_CURRENCY= 'currency 2' THEN AMT_CREDIT_MAX_OVERDUE ELSE 0 END) AS MIN_CREDIT_CURRENCY_currency_2_AMT_CREDIT_MAX_OVERDUE,\n",
        "MIN(CASE WHEN CREDIT_CURRENCY= 'currency 2' THEN CNT_CREDIT_PROLONG ELSE 0 END) AS MIN_CREDIT_CURRENCY_currency_2_CNT_CREDIT_PROLONG,\n",
        "MIN(CASE WHEN CREDIT_CURRENCY= 'currency 2' THEN AMT_CREDIT_SUM ELSE 0 END) AS MIN_CREDIT_CURRENCY_currency_2_AMT_CREDIT_SUM,\n",
        "MIN(CASE WHEN CREDIT_CURRENCY= 'currency 2' THEN AMT_CREDIT_SUM_DEBT ELSE 0 END) AS MIN_CREDIT_CURRENCY_currency_2_AMT_CREDIT_SUM_DEBT,\n",
        "MIN(CASE WHEN CREDIT_CURRENCY= 'currency 2' THEN AMT_CREDIT_SUM_LIMIT ELSE 0 END) AS MIN_CREDIT_CURRENCY_currency_2_AMT_CREDIT_SUM_LIMIT,\n",
        "MIN(CASE WHEN CREDIT_CURRENCY= 'currency 2' THEN AMT_CREDIT_SUM_OVERDUE ELSE 0 END) AS MIN_CREDIT_CURRENCY_currency_2_AMT_CREDIT_SUM_OVERDUE,\n",
        "MIN(CASE WHEN CREDIT_CURRENCY= 'currency 2' THEN AMT_ANNUITY ELSE 0 END) AS MIN_CREDIT_CURRENCY_currency_2_AMT_ANNUITY,\n",
        "MIN(CASE WHEN CREDIT_CURRENCY= 'currency 1' THEN AMT_CREDIT_MAX_OVERDUE ELSE 0 END) AS MIN_CREDIT_CURRENCY_currency_1_AMT_CREDIT_MAX_OVERDUE,\n",
        "MIN(CASE WHEN CREDIT_CURRENCY= 'currency 1' THEN CNT_CREDIT_PROLONG ELSE 0 END) AS MIN_CREDIT_CURRENCY_currency_1_CNT_CREDIT_PROLONG,\n",
        "MIN(CASE WHEN CREDIT_CURRENCY= 'currency 1' THEN AMT_CREDIT_SUM ELSE 0 END) AS MIN_CREDIT_CURRENCY_currency_1_AMT_CREDIT_SUM,\n",
        "MIN(CASE WHEN CREDIT_CURRENCY= 'currency 1' THEN AMT_CREDIT_SUM_DEBT ELSE 0 END) AS MIN_CREDIT_CURRENCY_currency_1_AMT_CREDIT_SUM_DEBT,\n",
        "MIN(CASE WHEN CREDIT_CURRENCY= 'currency 1' THEN AMT_CREDIT_SUM_LIMIT ELSE 0 END) AS MIN_CREDIT_CURRENCY_currency_1_AMT_CREDIT_SUM_LIMIT,\n",
        "MIN(CASE WHEN CREDIT_CURRENCY= 'currency 1' THEN AMT_CREDIT_SUM_OVERDUE ELSE 0 END) AS MIN_CREDIT_CURRENCY_currency_1_AMT_CREDIT_SUM_OVERDUE,\n",
        "MIN(CASE WHEN CREDIT_CURRENCY= 'currency 1' THEN AMT_ANNUITY ELSE 0 END) AS MIN_CREDIT_CURRENCY_currency_1_AMT_ANNUITY,\n",
        "MAX(CASE WHEN CREDIT_CURRENCY= 'currency 4' THEN AMT_CREDIT_MAX_OVERDUE ELSE 0 END) AS MAX_CREDIT_CURRENCY_currency_4_AMT_CREDIT_MAX_OVERDUE,\n",
        "MAX(CASE WHEN CREDIT_CURRENCY= 'currency 4' THEN CNT_CREDIT_PROLONG ELSE 0 END) AS MAX_CREDIT_CURRENCY_currency_4_CNT_CREDIT_PROLONG,\n",
        "MAX(CASE WHEN CREDIT_CURRENCY= 'currency 4' THEN AMT_CREDIT_SUM ELSE 0 END) AS MAX_CREDIT_CURRENCY_currency_4_AMT_CREDIT_SUM,\n",
        "MAX(CASE WHEN CREDIT_CURRENCY= 'currency 4' THEN AMT_CREDIT_SUM_DEBT ELSE 0 END) AS MAX_CREDIT_CURRENCY_currency_4_AMT_CREDIT_SUM_DEBT,\n",
        "MAX(CASE WHEN CREDIT_CURRENCY= 'currency 4' THEN AMT_CREDIT_SUM_LIMIT ELSE 0 END) AS MAX_CREDIT_CURRENCY_currency_4_AMT_CREDIT_SUM_LIMIT,\n",
        "MAX(CASE WHEN CREDIT_CURRENCY= 'currency 4' THEN AMT_CREDIT_SUM_OVERDUE ELSE 0 END) AS MAX_CREDIT_CURRENCY_currency_4_AMT_CREDIT_SUM_OVERDUE,\n",
        "MAX(CASE WHEN CREDIT_CURRENCY= 'currency 4' THEN AMT_ANNUITY ELSE 0 END) AS MAX_CREDIT_CURRENCY_currency_4_AMT_ANNUITY,\n",
        "MAX(CASE WHEN CREDIT_CURRENCY= 'currency 3' THEN AMT_CREDIT_MAX_OVERDUE ELSE 0 END) AS MAX_CREDIT_CURRENCY_currency_3_AMT_CREDIT_MAX_OVERDUE,\n",
        "MAX(CASE WHEN CREDIT_CURRENCY= 'currency 3' THEN CNT_CREDIT_PROLONG ELSE 0 END) AS MAX_CREDIT_CURRENCY_currency_3_CNT_CREDIT_PROLONG,\n",
        "MAX(CASE WHEN CREDIT_CURRENCY= 'currency 3' THEN AMT_CREDIT_SUM ELSE 0 END) AS MAX_CREDIT_CURRENCY_currency_3_AMT_CREDIT_SUM,\n",
        "MAX(CASE WHEN CREDIT_CURRENCY= 'currency 3' THEN AMT_CREDIT_SUM_DEBT ELSE 0 END) AS MAX_CREDIT_CURRENCY_currency_3_AMT_CREDIT_SUM_DEBT,\n",
        "MAX(CASE WHEN CREDIT_CURRENCY= 'currency 3' THEN AMT_CREDIT_SUM_LIMIT ELSE 0 END) AS MAX_CREDIT_CURRENCY_currency_3_AMT_CREDIT_SUM_LIMIT,\n",
        "MAX(CASE WHEN CREDIT_CURRENCY= 'currency 3' THEN AMT_CREDIT_SUM_OVERDUE ELSE 0 END) AS MAX_CREDIT_CURRENCY_currency_3_AMT_CREDIT_SUM_OVERDUE,\n",
        "MAX(CASE WHEN CREDIT_CURRENCY= 'currency 3' THEN AMT_ANNUITY ELSE 0 END) AS MAX_CREDIT_CURRENCY_currency_3_AMT_ANNUITY,\n",
        "MAX(CASE WHEN CREDIT_CURRENCY= 'currency 2' THEN AMT_CREDIT_MAX_OVERDUE ELSE 0 END) AS MAX_CREDIT_CURRENCY_currency_2_AMT_CREDIT_MAX_OVERDUE,\n",
        "MAX(CASE WHEN CREDIT_CURRENCY= 'currency 2' THEN CNT_CREDIT_PROLONG ELSE 0 END) AS MAX_CREDIT_CURRENCY_currency_2_CNT_CREDIT_PROLONG,\n",
        "MAX(CASE WHEN CREDIT_CURRENCY= 'currency 2' THEN AMT_CREDIT_SUM ELSE 0 END) AS MAX_CREDIT_CURRENCY_currency_2_AMT_CREDIT_SUM,\n",
        "MAX(CASE WHEN CREDIT_CURRENCY= 'currency 2' THEN AMT_CREDIT_SUM_DEBT ELSE 0 END) AS MAX_CREDIT_CURRENCY_currency_2_AMT_CREDIT_SUM_DEBT,\n",
        "MAX(CASE WHEN CREDIT_CURRENCY= 'currency 2' THEN AMT_CREDIT_SUM_LIMIT ELSE 0 END) AS MAX_CREDIT_CURRENCY_currency_2_AMT_CREDIT_SUM_LIMIT,\n",
        "MAX(CASE WHEN CREDIT_CURRENCY= 'currency 2' THEN AMT_CREDIT_SUM_OVERDUE ELSE 0 END) AS MAX_CREDIT_CURRENCY_currency_2_AMT_CREDIT_SUM_OVERDUE,\n",
        "MAX(CASE WHEN CREDIT_CURRENCY= 'currency 2' THEN AMT_ANNUITY ELSE 0 END) AS MAX_CREDIT_CURRENCY_currency_2_AMT_ANNUITY,\n",
        "MAX(CASE WHEN CREDIT_CURRENCY= 'currency 1' THEN AMT_CREDIT_MAX_OVERDUE ELSE 0 END) AS MAX_CREDIT_CURRENCY_currency_1_AMT_CREDIT_MAX_OVERDUE,\n",
        "MAX(CASE WHEN CREDIT_CURRENCY= 'currency 1' THEN CNT_CREDIT_PROLONG ELSE 0 END) AS MAX_CREDIT_CURRENCY_currency_1_CNT_CREDIT_PROLONG,\n",
        "MAX(CASE WHEN CREDIT_CURRENCY= 'currency 1' THEN AMT_CREDIT_SUM ELSE 0 END) AS MAX_CREDIT_CURRENCY_currency_1_AMT_CREDIT_SUM,\n",
        "MAX(CASE WHEN CREDIT_CURRENCY= 'currency 1' THEN AMT_CREDIT_SUM_DEBT ELSE 0 END) AS MAX_CREDIT_CURRENCY_currency_1_AMT_CREDIT_SUM_DEBT,\n",
        "MAX(CASE WHEN CREDIT_CURRENCY= 'currency 1' THEN AMT_CREDIT_SUM_LIMIT ELSE 0 END) AS MAX_CREDIT_CURRENCY_currency_1_AMT_CREDIT_SUM_LIMIT,\n",
        "MAX(CASE WHEN CREDIT_CURRENCY= 'currency 1' THEN AMT_CREDIT_SUM_OVERDUE ELSE 0 END) AS MAX_CREDIT_CURRENCY_currency_1_AMT_CREDIT_SUM_OVERDUE,\n",
        "MAX(CASE WHEN CREDIT_CURRENCY= 'currency 1' THEN AMT_ANNUITY ELSE 0 END) AS MAX_CREDIT_CURRENCY_currency_1_AMT_ANNUITY,\n",
        "AVG(CASE WHEN CREDIT_CURRENCY= 'currency 4' THEN AMT_CREDIT_MAX_OVERDUE ELSE 0 END) AS AVG_CREDIT_CURRENCY_currency_4_AMT_CREDIT_MAX_OVERDUE,\n",
        "AVG(CASE WHEN CREDIT_CURRENCY= 'currency 4' THEN CNT_CREDIT_PROLONG ELSE 0 END) AS AVG_CREDIT_CURRENCY_currency_4_CNT_CREDIT_PROLONG,\n",
        "AVG(CASE WHEN CREDIT_CURRENCY= 'currency 4' THEN AMT_CREDIT_SUM ELSE 0 END) AS AVG_CREDIT_CURRENCY_currency_4_AMT_CREDIT_SUM,\n",
        "AVG(CASE WHEN CREDIT_CURRENCY= 'currency 4' THEN AMT_CREDIT_SUM_DEBT ELSE 0 END) AS AVG_CREDIT_CURRENCY_currency_4_AMT_CREDIT_SUM_DEBT,\n",
        "AVG(CASE WHEN CREDIT_CURRENCY= 'currency 4' THEN AMT_CREDIT_SUM_LIMIT ELSE 0 END) AS AVG_CREDIT_CURRENCY_currency_4_AMT_CREDIT_SUM_LIMIT,\n",
        "AVG(CASE WHEN CREDIT_CURRENCY= 'currency 4' THEN AMT_CREDIT_SUM_OVERDUE ELSE 0 END) AS AVG_CREDIT_CURRENCY_currency_4_AMT_CREDIT_SUM_OVERDUE,\n",
        "AVG(CASE WHEN CREDIT_CURRENCY= 'currency 4' THEN AMT_ANNUITY ELSE 0 END) AS AVG_CREDIT_CURRENCY_currency_4_AMT_ANNUITY,\n",
        "AVG(CASE WHEN CREDIT_CURRENCY= 'currency 3' THEN AMT_CREDIT_MAX_OVERDUE ELSE 0 END) AS AVG_CREDIT_CURRENCY_currency_3_AMT_CREDIT_MAX_OVERDUE,\n",
        "AVG(CASE WHEN CREDIT_CURRENCY= 'currency 3' THEN CNT_CREDIT_PROLONG ELSE 0 END) AS AVG_CREDIT_CURRENCY_currency_3_CNT_CREDIT_PROLONG,\n",
        "AVG(CASE WHEN CREDIT_CURRENCY= 'currency 3' THEN AMT_CREDIT_SUM ELSE 0 END) AS AVG_CREDIT_CURRENCY_currency_3_AMT_CREDIT_SUM,\n",
        "AVG(CASE WHEN CREDIT_CURRENCY= 'currency 3' THEN AMT_CREDIT_SUM_DEBT ELSE 0 END) AS AVG_CREDIT_CURRENCY_currency_3_AMT_CREDIT_SUM_DEBT,\n",
        "AVG(CASE WHEN CREDIT_CURRENCY= 'currency 3' THEN AMT_CREDIT_SUM_LIMIT ELSE 0 END) AS AVG_CREDIT_CURRENCY_currency_3_AMT_CREDIT_SUM_LIMIT,\n",
        "AVG(CASE WHEN CREDIT_CURRENCY= 'currency 3' THEN AMT_CREDIT_SUM_OVERDUE ELSE 0 END) AS AVG_CREDIT_CURRENCY_currency_3_AMT_CREDIT_SUM_OVERDUE,\n",
        "AVG(CASE WHEN CREDIT_CURRENCY= 'currency 3' THEN AMT_ANNUITY ELSE 0 END) AS AVG_CREDIT_CURRENCY_currency_3_AMT_ANNUITY,\n",
        "AVG(CASE WHEN CREDIT_CURRENCY= 'currency 2' THEN AMT_CREDIT_MAX_OVERDUE ELSE 0 END) AS AVG_CREDIT_CURRENCY_currency_2_AMT_CREDIT_MAX_OVERDUE,\n",
        "AVG(CASE WHEN CREDIT_CURRENCY= 'currency 2' THEN CNT_CREDIT_PROLONG ELSE 0 END) AS AVG_CREDIT_CURRENCY_currency_2_CNT_CREDIT_PROLONG,\n",
        "AVG(CASE WHEN CREDIT_CURRENCY= 'currency 2' THEN AMT_CREDIT_SUM ELSE 0 END) AS AVG_CREDIT_CURRENCY_currency_2_AMT_CREDIT_SUM,\n",
        "AVG(CASE WHEN CREDIT_CURRENCY= 'currency 2' THEN AMT_CREDIT_SUM_DEBT ELSE 0 END) AS AVG_CREDIT_CURRENCY_currency_2_AMT_CREDIT_SUM_DEBT,\n",
        "AVG(CASE WHEN CREDIT_CURRENCY= 'currency 2' THEN AMT_CREDIT_SUM_LIMIT ELSE 0 END) AS AVG_CREDIT_CURRENCY_currency_2_AMT_CREDIT_SUM_LIMIT,\n",
        "AVG(CASE WHEN CREDIT_CURRENCY= 'currency 2' THEN AMT_CREDIT_SUM_OVERDUE ELSE 0 END) AS AVG_CREDIT_CURRENCY_currency_2_AMT_CREDIT_SUM_OVERDUE,\n",
        "AVG(CASE WHEN CREDIT_CURRENCY= 'currency 2' THEN AMT_ANNUITY ELSE 0 END) AS AVG_CREDIT_CURRENCY_currency_2_AMT_ANNUITY,\n",
        "AVG(CASE WHEN CREDIT_CURRENCY= 'currency 1' THEN AMT_CREDIT_MAX_OVERDUE ELSE 0 END) AS AVG_CREDIT_CURRENCY_currency_1_AMT_CREDIT_MAX_OVERDUE,\n",
        "AVG(CASE WHEN CREDIT_CURRENCY= 'currency 1' THEN CNT_CREDIT_PROLONG ELSE 0 END) AS AVG_CREDIT_CURRENCY_currency_1_CNT_CREDIT_PROLONG,\n",
        "AVG(CASE WHEN CREDIT_CURRENCY= 'currency 1' THEN AMT_CREDIT_SUM ELSE 0 END) AS AVG_CREDIT_CURRENCY_currency_1_AMT_CREDIT_SUM,\n",
        "AVG(CASE WHEN CREDIT_CURRENCY= 'currency 1' THEN AMT_CREDIT_SUM_DEBT ELSE 0 END) AS AVG_CREDIT_CURRENCY_currency_1_AMT_CREDIT_SUM_DEBT,\n",
        "AVG(CASE WHEN CREDIT_CURRENCY= 'currency 1' THEN AMT_CREDIT_SUM_LIMIT ELSE 0 END) AS AVG_CREDIT_CURRENCY_currency_1_AMT_CREDIT_SUM_LIMIT,\n",
        "AVG(CASE WHEN CREDIT_CURRENCY= 'currency 1' THEN AMT_CREDIT_SUM_OVERDUE ELSE 0 END) AS AVG_CREDIT_CURRENCY_currency_1_AMT_CREDIT_SUM_OVERDUE,\n",
        "AVG(CASE WHEN CREDIT_CURRENCY= 'currency 1' THEN AMT_ANNUITY ELSE 0 END) AS AVG_CREDIT_CURRENCY_currency_1_AMT_ANNUIT\n",
        "FROM\n",
        "  bureau\n",
        "GROUP BY\n",
        "  SK_ID_CURR\n",
        "\"\"\")"
      ],
      "metadata": {
        "id": "vy589WQvwv0q"
      },
      "execution_count": 27,
      "outputs": []
    },
    {
      "cell_type": "markdown",
      "source": [
        "3- Considerando a variável categórica CREDIT_TYPE"
      ],
      "metadata": {
        "id": "bY2Hqxt0xNqd"
      }
    },
    {
      "cell_type": "code",
      "source": [
        "# Criando as agregações\n",
        "\n",
        "agg = ['SUM', 'MIN', 'MAX', 'AVG']\n",
        "\n",
        "# Criando a variável categórica\n",
        "\n",
        "cat = ['CREDIT_TYPE']\n",
        "\n",
        "# Criando os domínios\n",
        "\n",
        "dominios_cat = ['Mobile operator loan', 'Interbank credit', \\\n",
        "                'Loan for purchase of shares', \\\n",
        "                'Loan for the purchase of equipment', \\\n",
        "                'Real estate loan', 'Cash loan', \\\n",
        "                'Loan for working capital replenishment', \\\n",
        "                'Unknown type of loan', 'Another type of loan', \\\n",
        "                'Loan for business development', 'Microloan', \\\n",
        "                'Mortgage', 'Car loan', 'Credit card', 'Consumer credit']\n",
        "\n",
        "# Criando a variável numérica\n",
        "\n",
        "var_num = ['AMT_CREDIT_MAX_OVERDUE', 'CNT_CREDIT_PROLONG', 'AMT_CREDIT_SUM', \\\n",
        "           'AMT_CREDIT_SUM_DEBT', 'AMT_CREDIT_SUM_LIMIT', \\\n",
        "           'AMT_CREDIT_SUM_OVERDUE', 'AMT_ANNUITY']"
      ],
      "metadata": {
        "id": "at9qLFvKxRNr"
      },
      "execution_count": 28,
      "outputs": []
    },
    {
      "cell_type": "code",
      "source": [
        "# Criando uma rotina que gera o texto da função de agregação\n",
        "\n",
        "for ag in agg:\n",
        "  for cate in cat:\n",
        "    for dominio in dominios_cat:\n",
        "      for var_n in var_num:\n",
        "        print(ag +'(CASE WHEN ' + cate + '= ' + \"'\" + dominio + \"'\" + \" THEN \" + var_n + \" ELSE 0 END) AS \" + ag + \"_\" + cate + \"_\" + dominio.replace(\" \", \"_\") + \"_\" + var_n + ',')\n",
        "\n",
        "    #SUM(CASE WHEN CREDIT_Type = 'Real estate loan' THEN 1 ELSE 0 END) AS qtd_credit_type_real_estate_loan"
      ],
      "metadata": {
        "colab": {
          "base_uri": "https://localhost:8080/"
        },
        "id": "m0Z8IXpdyyCD",
        "outputId": "b4790528-a7a5-4aca-e362-4b411ac8f675"
      },
      "execution_count": 29,
      "outputs": [
        {
          "output_type": "stream",
          "name": "stdout",
          "text": [
            "SUM(CASE WHEN CREDIT_TYPE= 'Mobile operator loan' THEN AMT_CREDIT_MAX_OVERDUE ELSE 0 END) AS SUM_CREDIT_TYPE_Mobile_operator_loan_AMT_CREDIT_MAX_OVERDUE,\n",
            "SUM(CASE WHEN CREDIT_TYPE= 'Mobile operator loan' THEN CNT_CREDIT_PROLONG ELSE 0 END) AS SUM_CREDIT_TYPE_Mobile_operator_loan_CNT_CREDIT_PROLONG,\n",
            "SUM(CASE WHEN CREDIT_TYPE= 'Mobile operator loan' THEN AMT_CREDIT_SUM ELSE 0 END) AS SUM_CREDIT_TYPE_Mobile_operator_loan_AMT_CREDIT_SUM,\n",
            "SUM(CASE WHEN CREDIT_TYPE= 'Mobile operator loan' THEN AMT_CREDIT_SUM_DEBT ELSE 0 END) AS SUM_CREDIT_TYPE_Mobile_operator_loan_AMT_CREDIT_SUM_DEBT,\n",
            "SUM(CASE WHEN CREDIT_TYPE= 'Mobile operator loan' THEN AMT_CREDIT_SUM_LIMIT ELSE 0 END) AS SUM_CREDIT_TYPE_Mobile_operator_loan_AMT_CREDIT_SUM_LIMIT,\n",
            "SUM(CASE WHEN CREDIT_TYPE= 'Mobile operator loan' THEN AMT_CREDIT_SUM_OVERDUE ELSE 0 END) AS SUM_CREDIT_TYPE_Mobile_operator_loan_AMT_CREDIT_SUM_OVERDUE,\n",
            "SUM(CASE WHEN CREDIT_TYPE= 'Mobile operator loan' THEN AMT_ANNUITY ELSE 0 END) AS SUM_CREDIT_TYPE_Mobile_operator_loan_AMT_ANNUITY,\n",
            "SUM(CASE WHEN CREDIT_TYPE= 'Interbank credit' THEN AMT_CREDIT_MAX_OVERDUE ELSE 0 END) AS SUM_CREDIT_TYPE_Interbank_credit_AMT_CREDIT_MAX_OVERDUE,\n",
            "SUM(CASE WHEN CREDIT_TYPE= 'Interbank credit' THEN CNT_CREDIT_PROLONG ELSE 0 END) AS SUM_CREDIT_TYPE_Interbank_credit_CNT_CREDIT_PROLONG,\n",
            "SUM(CASE WHEN CREDIT_TYPE= 'Interbank credit' THEN AMT_CREDIT_SUM ELSE 0 END) AS SUM_CREDIT_TYPE_Interbank_credit_AMT_CREDIT_SUM,\n",
            "SUM(CASE WHEN CREDIT_TYPE= 'Interbank credit' THEN AMT_CREDIT_SUM_DEBT ELSE 0 END) AS SUM_CREDIT_TYPE_Interbank_credit_AMT_CREDIT_SUM_DEBT,\n",
            "SUM(CASE WHEN CREDIT_TYPE= 'Interbank credit' THEN AMT_CREDIT_SUM_LIMIT ELSE 0 END) AS SUM_CREDIT_TYPE_Interbank_credit_AMT_CREDIT_SUM_LIMIT,\n",
            "SUM(CASE WHEN CREDIT_TYPE= 'Interbank credit' THEN AMT_CREDIT_SUM_OVERDUE ELSE 0 END) AS SUM_CREDIT_TYPE_Interbank_credit_AMT_CREDIT_SUM_OVERDUE,\n",
            "SUM(CASE WHEN CREDIT_TYPE= 'Interbank credit' THEN AMT_ANNUITY ELSE 0 END) AS SUM_CREDIT_TYPE_Interbank_credit_AMT_ANNUITY,\n",
            "SUM(CASE WHEN CREDIT_TYPE= 'Loan for purchase of shares' THEN AMT_CREDIT_MAX_OVERDUE ELSE 0 END) AS SUM_CREDIT_TYPE_Loan_for_purchase_of_shares_AMT_CREDIT_MAX_OVERDUE,\n",
            "SUM(CASE WHEN CREDIT_TYPE= 'Loan for purchase of shares' THEN CNT_CREDIT_PROLONG ELSE 0 END) AS SUM_CREDIT_TYPE_Loan_for_purchase_of_shares_CNT_CREDIT_PROLONG,\n",
            "SUM(CASE WHEN CREDIT_TYPE= 'Loan for purchase of shares' THEN AMT_CREDIT_SUM ELSE 0 END) AS SUM_CREDIT_TYPE_Loan_for_purchase_of_shares_AMT_CREDIT_SUM,\n",
            "SUM(CASE WHEN CREDIT_TYPE= 'Loan for purchase of shares' THEN AMT_CREDIT_SUM_DEBT ELSE 0 END) AS SUM_CREDIT_TYPE_Loan_for_purchase_of_shares_AMT_CREDIT_SUM_DEBT,\n",
            "SUM(CASE WHEN CREDIT_TYPE= 'Loan for purchase of shares' THEN AMT_CREDIT_SUM_LIMIT ELSE 0 END) AS SUM_CREDIT_TYPE_Loan_for_purchase_of_shares_AMT_CREDIT_SUM_LIMIT,\n",
            "SUM(CASE WHEN CREDIT_TYPE= 'Loan for purchase of shares' THEN AMT_CREDIT_SUM_OVERDUE ELSE 0 END) AS SUM_CREDIT_TYPE_Loan_for_purchase_of_shares_AMT_CREDIT_SUM_OVERDUE,\n",
            "SUM(CASE WHEN CREDIT_TYPE= 'Loan for purchase of shares' THEN AMT_ANNUITY ELSE 0 END) AS SUM_CREDIT_TYPE_Loan_for_purchase_of_shares_AMT_ANNUITY,\n",
            "SUM(CASE WHEN CREDIT_TYPE= 'Loan for the purchase of equipment' THEN AMT_CREDIT_MAX_OVERDUE ELSE 0 END) AS SUM_CREDIT_TYPE_Loan_for_the_purchase_of_equipment_AMT_CREDIT_MAX_OVERDUE,\n",
            "SUM(CASE WHEN CREDIT_TYPE= 'Loan for the purchase of equipment' THEN CNT_CREDIT_PROLONG ELSE 0 END) AS SUM_CREDIT_TYPE_Loan_for_the_purchase_of_equipment_CNT_CREDIT_PROLONG,\n",
            "SUM(CASE WHEN CREDIT_TYPE= 'Loan for the purchase of equipment' THEN AMT_CREDIT_SUM ELSE 0 END) AS SUM_CREDIT_TYPE_Loan_for_the_purchase_of_equipment_AMT_CREDIT_SUM,\n",
            "SUM(CASE WHEN CREDIT_TYPE= 'Loan for the purchase of equipment' THEN AMT_CREDIT_SUM_DEBT ELSE 0 END) AS SUM_CREDIT_TYPE_Loan_for_the_purchase_of_equipment_AMT_CREDIT_SUM_DEBT,\n",
            "SUM(CASE WHEN CREDIT_TYPE= 'Loan for the purchase of equipment' THEN AMT_CREDIT_SUM_LIMIT ELSE 0 END) AS SUM_CREDIT_TYPE_Loan_for_the_purchase_of_equipment_AMT_CREDIT_SUM_LIMIT,\n",
            "SUM(CASE WHEN CREDIT_TYPE= 'Loan for the purchase of equipment' THEN AMT_CREDIT_SUM_OVERDUE ELSE 0 END) AS SUM_CREDIT_TYPE_Loan_for_the_purchase_of_equipment_AMT_CREDIT_SUM_OVERDUE,\n",
            "SUM(CASE WHEN CREDIT_TYPE= 'Loan for the purchase of equipment' THEN AMT_ANNUITY ELSE 0 END) AS SUM_CREDIT_TYPE_Loan_for_the_purchase_of_equipment_AMT_ANNUITY,\n",
            "SUM(CASE WHEN CREDIT_TYPE= 'Real estate loan' THEN AMT_CREDIT_MAX_OVERDUE ELSE 0 END) AS SUM_CREDIT_TYPE_Real_estate_loan_AMT_CREDIT_MAX_OVERDUE,\n",
            "SUM(CASE WHEN CREDIT_TYPE= 'Real estate loan' THEN CNT_CREDIT_PROLONG ELSE 0 END) AS SUM_CREDIT_TYPE_Real_estate_loan_CNT_CREDIT_PROLONG,\n",
            "SUM(CASE WHEN CREDIT_TYPE= 'Real estate loan' THEN AMT_CREDIT_SUM ELSE 0 END) AS SUM_CREDIT_TYPE_Real_estate_loan_AMT_CREDIT_SUM,\n",
            "SUM(CASE WHEN CREDIT_TYPE= 'Real estate loan' THEN AMT_CREDIT_SUM_DEBT ELSE 0 END) AS SUM_CREDIT_TYPE_Real_estate_loan_AMT_CREDIT_SUM_DEBT,\n",
            "SUM(CASE WHEN CREDIT_TYPE= 'Real estate loan' THEN AMT_CREDIT_SUM_LIMIT ELSE 0 END) AS SUM_CREDIT_TYPE_Real_estate_loan_AMT_CREDIT_SUM_LIMIT,\n",
            "SUM(CASE WHEN CREDIT_TYPE= 'Real estate loan' THEN AMT_CREDIT_SUM_OVERDUE ELSE 0 END) AS SUM_CREDIT_TYPE_Real_estate_loan_AMT_CREDIT_SUM_OVERDUE,\n",
            "SUM(CASE WHEN CREDIT_TYPE= 'Real estate loan' THEN AMT_ANNUITY ELSE 0 END) AS SUM_CREDIT_TYPE_Real_estate_loan_AMT_ANNUITY,\n",
            "SUM(CASE WHEN CREDIT_TYPE= 'Cash loan' THEN AMT_CREDIT_MAX_OVERDUE ELSE 0 END) AS SUM_CREDIT_TYPE_Cash_loan_AMT_CREDIT_MAX_OVERDUE,\n",
            "SUM(CASE WHEN CREDIT_TYPE= 'Cash loan' THEN CNT_CREDIT_PROLONG ELSE 0 END) AS SUM_CREDIT_TYPE_Cash_loan_CNT_CREDIT_PROLONG,\n",
            "SUM(CASE WHEN CREDIT_TYPE= 'Cash loan' THEN AMT_CREDIT_SUM ELSE 0 END) AS SUM_CREDIT_TYPE_Cash_loan_AMT_CREDIT_SUM,\n",
            "SUM(CASE WHEN CREDIT_TYPE= 'Cash loan' THEN AMT_CREDIT_SUM_DEBT ELSE 0 END) AS SUM_CREDIT_TYPE_Cash_loan_AMT_CREDIT_SUM_DEBT,\n",
            "SUM(CASE WHEN CREDIT_TYPE= 'Cash loan' THEN AMT_CREDIT_SUM_LIMIT ELSE 0 END) AS SUM_CREDIT_TYPE_Cash_loan_AMT_CREDIT_SUM_LIMIT,\n",
            "SUM(CASE WHEN CREDIT_TYPE= 'Cash loan' THEN AMT_CREDIT_SUM_OVERDUE ELSE 0 END) AS SUM_CREDIT_TYPE_Cash_loan_AMT_CREDIT_SUM_OVERDUE,\n",
            "SUM(CASE WHEN CREDIT_TYPE= 'Cash loan' THEN AMT_ANNUITY ELSE 0 END) AS SUM_CREDIT_TYPE_Cash_loan_AMT_ANNUITY,\n",
            "SUM(CASE WHEN CREDIT_TYPE= 'Loan for working capital replenishment' THEN AMT_CREDIT_MAX_OVERDUE ELSE 0 END) AS SUM_CREDIT_TYPE_Loan_for_working_capital_replenishment_AMT_CREDIT_MAX_OVERDUE,\n",
            "SUM(CASE WHEN CREDIT_TYPE= 'Loan for working capital replenishment' THEN CNT_CREDIT_PROLONG ELSE 0 END) AS SUM_CREDIT_TYPE_Loan_for_working_capital_replenishment_CNT_CREDIT_PROLONG,\n",
            "SUM(CASE WHEN CREDIT_TYPE= 'Loan for working capital replenishment' THEN AMT_CREDIT_SUM ELSE 0 END) AS SUM_CREDIT_TYPE_Loan_for_working_capital_replenishment_AMT_CREDIT_SUM,\n",
            "SUM(CASE WHEN CREDIT_TYPE= 'Loan for working capital replenishment' THEN AMT_CREDIT_SUM_DEBT ELSE 0 END) AS SUM_CREDIT_TYPE_Loan_for_working_capital_replenishment_AMT_CREDIT_SUM_DEBT,\n",
            "SUM(CASE WHEN CREDIT_TYPE= 'Loan for working capital replenishment' THEN AMT_CREDIT_SUM_LIMIT ELSE 0 END) AS SUM_CREDIT_TYPE_Loan_for_working_capital_replenishment_AMT_CREDIT_SUM_LIMIT,\n",
            "SUM(CASE WHEN CREDIT_TYPE= 'Loan for working capital replenishment' THEN AMT_CREDIT_SUM_OVERDUE ELSE 0 END) AS SUM_CREDIT_TYPE_Loan_for_working_capital_replenishment_AMT_CREDIT_SUM_OVERDUE,\n",
            "SUM(CASE WHEN CREDIT_TYPE= 'Loan for working capital replenishment' THEN AMT_ANNUITY ELSE 0 END) AS SUM_CREDIT_TYPE_Loan_for_working_capital_replenishment_AMT_ANNUITY,\n",
            "SUM(CASE WHEN CREDIT_TYPE= 'Unknown type of loan' THEN AMT_CREDIT_MAX_OVERDUE ELSE 0 END) AS SUM_CREDIT_TYPE_Unknown_type_of_loan_AMT_CREDIT_MAX_OVERDUE,\n",
            "SUM(CASE WHEN CREDIT_TYPE= 'Unknown type of loan' THEN CNT_CREDIT_PROLONG ELSE 0 END) AS SUM_CREDIT_TYPE_Unknown_type_of_loan_CNT_CREDIT_PROLONG,\n",
            "SUM(CASE WHEN CREDIT_TYPE= 'Unknown type of loan' THEN AMT_CREDIT_SUM ELSE 0 END) AS SUM_CREDIT_TYPE_Unknown_type_of_loan_AMT_CREDIT_SUM,\n",
            "SUM(CASE WHEN CREDIT_TYPE= 'Unknown type of loan' THEN AMT_CREDIT_SUM_DEBT ELSE 0 END) AS SUM_CREDIT_TYPE_Unknown_type_of_loan_AMT_CREDIT_SUM_DEBT,\n",
            "SUM(CASE WHEN CREDIT_TYPE= 'Unknown type of loan' THEN AMT_CREDIT_SUM_LIMIT ELSE 0 END) AS SUM_CREDIT_TYPE_Unknown_type_of_loan_AMT_CREDIT_SUM_LIMIT,\n",
            "SUM(CASE WHEN CREDIT_TYPE= 'Unknown type of loan' THEN AMT_CREDIT_SUM_OVERDUE ELSE 0 END) AS SUM_CREDIT_TYPE_Unknown_type_of_loan_AMT_CREDIT_SUM_OVERDUE,\n",
            "SUM(CASE WHEN CREDIT_TYPE= 'Unknown type of loan' THEN AMT_ANNUITY ELSE 0 END) AS SUM_CREDIT_TYPE_Unknown_type_of_loan_AMT_ANNUITY,\n",
            "SUM(CASE WHEN CREDIT_TYPE= 'Another type of loan' THEN AMT_CREDIT_MAX_OVERDUE ELSE 0 END) AS SUM_CREDIT_TYPE_Another_type_of_loan_AMT_CREDIT_MAX_OVERDUE,\n",
            "SUM(CASE WHEN CREDIT_TYPE= 'Another type of loan' THEN CNT_CREDIT_PROLONG ELSE 0 END) AS SUM_CREDIT_TYPE_Another_type_of_loan_CNT_CREDIT_PROLONG,\n",
            "SUM(CASE WHEN CREDIT_TYPE= 'Another type of loan' THEN AMT_CREDIT_SUM ELSE 0 END) AS SUM_CREDIT_TYPE_Another_type_of_loan_AMT_CREDIT_SUM,\n",
            "SUM(CASE WHEN CREDIT_TYPE= 'Another type of loan' THEN AMT_CREDIT_SUM_DEBT ELSE 0 END) AS SUM_CREDIT_TYPE_Another_type_of_loan_AMT_CREDIT_SUM_DEBT,\n",
            "SUM(CASE WHEN CREDIT_TYPE= 'Another type of loan' THEN AMT_CREDIT_SUM_LIMIT ELSE 0 END) AS SUM_CREDIT_TYPE_Another_type_of_loan_AMT_CREDIT_SUM_LIMIT,\n",
            "SUM(CASE WHEN CREDIT_TYPE= 'Another type of loan' THEN AMT_CREDIT_SUM_OVERDUE ELSE 0 END) AS SUM_CREDIT_TYPE_Another_type_of_loan_AMT_CREDIT_SUM_OVERDUE,\n",
            "SUM(CASE WHEN CREDIT_TYPE= 'Another type of loan' THEN AMT_ANNUITY ELSE 0 END) AS SUM_CREDIT_TYPE_Another_type_of_loan_AMT_ANNUITY,\n",
            "SUM(CASE WHEN CREDIT_TYPE= 'Loan for business development' THEN AMT_CREDIT_MAX_OVERDUE ELSE 0 END) AS SUM_CREDIT_TYPE_Loan_for_business_development_AMT_CREDIT_MAX_OVERDUE,\n",
            "SUM(CASE WHEN CREDIT_TYPE= 'Loan for business development' THEN CNT_CREDIT_PROLONG ELSE 0 END) AS SUM_CREDIT_TYPE_Loan_for_business_development_CNT_CREDIT_PROLONG,\n",
            "SUM(CASE WHEN CREDIT_TYPE= 'Loan for business development' THEN AMT_CREDIT_SUM ELSE 0 END) AS SUM_CREDIT_TYPE_Loan_for_business_development_AMT_CREDIT_SUM,\n",
            "SUM(CASE WHEN CREDIT_TYPE= 'Loan for business development' THEN AMT_CREDIT_SUM_DEBT ELSE 0 END) AS SUM_CREDIT_TYPE_Loan_for_business_development_AMT_CREDIT_SUM_DEBT,\n",
            "SUM(CASE WHEN CREDIT_TYPE= 'Loan for business development' THEN AMT_CREDIT_SUM_LIMIT ELSE 0 END) AS SUM_CREDIT_TYPE_Loan_for_business_development_AMT_CREDIT_SUM_LIMIT,\n",
            "SUM(CASE WHEN CREDIT_TYPE= 'Loan for business development' THEN AMT_CREDIT_SUM_OVERDUE ELSE 0 END) AS SUM_CREDIT_TYPE_Loan_for_business_development_AMT_CREDIT_SUM_OVERDUE,\n",
            "SUM(CASE WHEN CREDIT_TYPE= 'Loan for business development' THEN AMT_ANNUITY ELSE 0 END) AS SUM_CREDIT_TYPE_Loan_for_business_development_AMT_ANNUITY,\n",
            "SUM(CASE WHEN CREDIT_TYPE= 'Microloan' THEN AMT_CREDIT_MAX_OVERDUE ELSE 0 END) AS SUM_CREDIT_TYPE_Microloan_AMT_CREDIT_MAX_OVERDUE,\n",
            "SUM(CASE WHEN CREDIT_TYPE= 'Microloan' THEN CNT_CREDIT_PROLONG ELSE 0 END) AS SUM_CREDIT_TYPE_Microloan_CNT_CREDIT_PROLONG,\n",
            "SUM(CASE WHEN CREDIT_TYPE= 'Microloan' THEN AMT_CREDIT_SUM ELSE 0 END) AS SUM_CREDIT_TYPE_Microloan_AMT_CREDIT_SUM,\n",
            "SUM(CASE WHEN CREDIT_TYPE= 'Microloan' THEN AMT_CREDIT_SUM_DEBT ELSE 0 END) AS SUM_CREDIT_TYPE_Microloan_AMT_CREDIT_SUM_DEBT,\n",
            "SUM(CASE WHEN CREDIT_TYPE= 'Microloan' THEN AMT_CREDIT_SUM_LIMIT ELSE 0 END) AS SUM_CREDIT_TYPE_Microloan_AMT_CREDIT_SUM_LIMIT,\n",
            "SUM(CASE WHEN CREDIT_TYPE= 'Microloan' THEN AMT_CREDIT_SUM_OVERDUE ELSE 0 END) AS SUM_CREDIT_TYPE_Microloan_AMT_CREDIT_SUM_OVERDUE,\n",
            "SUM(CASE WHEN CREDIT_TYPE= 'Microloan' THEN AMT_ANNUITY ELSE 0 END) AS SUM_CREDIT_TYPE_Microloan_AMT_ANNUITY,\n",
            "SUM(CASE WHEN CREDIT_TYPE= 'Mortgage' THEN AMT_CREDIT_MAX_OVERDUE ELSE 0 END) AS SUM_CREDIT_TYPE_Mortgage_AMT_CREDIT_MAX_OVERDUE,\n",
            "SUM(CASE WHEN CREDIT_TYPE= 'Mortgage' THEN CNT_CREDIT_PROLONG ELSE 0 END) AS SUM_CREDIT_TYPE_Mortgage_CNT_CREDIT_PROLONG,\n",
            "SUM(CASE WHEN CREDIT_TYPE= 'Mortgage' THEN AMT_CREDIT_SUM ELSE 0 END) AS SUM_CREDIT_TYPE_Mortgage_AMT_CREDIT_SUM,\n",
            "SUM(CASE WHEN CREDIT_TYPE= 'Mortgage' THEN AMT_CREDIT_SUM_DEBT ELSE 0 END) AS SUM_CREDIT_TYPE_Mortgage_AMT_CREDIT_SUM_DEBT,\n",
            "SUM(CASE WHEN CREDIT_TYPE= 'Mortgage' THEN AMT_CREDIT_SUM_LIMIT ELSE 0 END) AS SUM_CREDIT_TYPE_Mortgage_AMT_CREDIT_SUM_LIMIT,\n",
            "SUM(CASE WHEN CREDIT_TYPE= 'Mortgage' THEN AMT_CREDIT_SUM_OVERDUE ELSE 0 END) AS SUM_CREDIT_TYPE_Mortgage_AMT_CREDIT_SUM_OVERDUE,\n",
            "SUM(CASE WHEN CREDIT_TYPE= 'Mortgage' THEN AMT_ANNUITY ELSE 0 END) AS SUM_CREDIT_TYPE_Mortgage_AMT_ANNUITY,\n",
            "SUM(CASE WHEN CREDIT_TYPE= 'Car loan' THEN AMT_CREDIT_MAX_OVERDUE ELSE 0 END) AS SUM_CREDIT_TYPE_Car_loan_AMT_CREDIT_MAX_OVERDUE,\n",
            "SUM(CASE WHEN CREDIT_TYPE= 'Car loan' THEN CNT_CREDIT_PROLONG ELSE 0 END) AS SUM_CREDIT_TYPE_Car_loan_CNT_CREDIT_PROLONG,\n",
            "SUM(CASE WHEN CREDIT_TYPE= 'Car loan' THEN AMT_CREDIT_SUM ELSE 0 END) AS SUM_CREDIT_TYPE_Car_loan_AMT_CREDIT_SUM,\n",
            "SUM(CASE WHEN CREDIT_TYPE= 'Car loan' THEN AMT_CREDIT_SUM_DEBT ELSE 0 END) AS SUM_CREDIT_TYPE_Car_loan_AMT_CREDIT_SUM_DEBT,\n",
            "SUM(CASE WHEN CREDIT_TYPE= 'Car loan' THEN AMT_CREDIT_SUM_LIMIT ELSE 0 END) AS SUM_CREDIT_TYPE_Car_loan_AMT_CREDIT_SUM_LIMIT,\n",
            "SUM(CASE WHEN CREDIT_TYPE= 'Car loan' THEN AMT_CREDIT_SUM_OVERDUE ELSE 0 END) AS SUM_CREDIT_TYPE_Car_loan_AMT_CREDIT_SUM_OVERDUE,\n",
            "SUM(CASE WHEN CREDIT_TYPE= 'Car loan' THEN AMT_ANNUITY ELSE 0 END) AS SUM_CREDIT_TYPE_Car_loan_AMT_ANNUITY,\n",
            "SUM(CASE WHEN CREDIT_TYPE= 'Credit card' THEN AMT_CREDIT_MAX_OVERDUE ELSE 0 END) AS SUM_CREDIT_TYPE_Credit_card_AMT_CREDIT_MAX_OVERDUE,\n",
            "SUM(CASE WHEN CREDIT_TYPE= 'Credit card' THEN CNT_CREDIT_PROLONG ELSE 0 END) AS SUM_CREDIT_TYPE_Credit_card_CNT_CREDIT_PROLONG,\n",
            "SUM(CASE WHEN CREDIT_TYPE= 'Credit card' THEN AMT_CREDIT_SUM ELSE 0 END) AS SUM_CREDIT_TYPE_Credit_card_AMT_CREDIT_SUM,\n",
            "SUM(CASE WHEN CREDIT_TYPE= 'Credit card' THEN AMT_CREDIT_SUM_DEBT ELSE 0 END) AS SUM_CREDIT_TYPE_Credit_card_AMT_CREDIT_SUM_DEBT,\n",
            "SUM(CASE WHEN CREDIT_TYPE= 'Credit card' THEN AMT_CREDIT_SUM_LIMIT ELSE 0 END) AS SUM_CREDIT_TYPE_Credit_card_AMT_CREDIT_SUM_LIMIT,\n",
            "SUM(CASE WHEN CREDIT_TYPE= 'Credit card' THEN AMT_CREDIT_SUM_OVERDUE ELSE 0 END) AS SUM_CREDIT_TYPE_Credit_card_AMT_CREDIT_SUM_OVERDUE,\n",
            "SUM(CASE WHEN CREDIT_TYPE= 'Credit card' THEN AMT_ANNUITY ELSE 0 END) AS SUM_CREDIT_TYPE_Credit_card_AMT_ANNUITY,\n",
            "SUM(CASE WHEN CREDIT_TYPE= 'Consumer credit' THEN AMT_CREDIT_MAX_OVERDUE ELSE 0 END) AS SUM_CREDIT_TYPE_Consumer_credit_AMT_CREDIT_MAX_OVERDUE,\n",
            "SUM(CASE WHEN CREDIT_TYPE= 'Consumer credit' THEN CNT_CREDIT_PROLONG ELSE 0 END) AS SUM_CREDIT_TYPE_Consumer_credit_CNT_CREDIT_PROLONG,\n",
            "SUM(CASE WHEN CREDIT_TYPE= 'Consumer credit' THEN AMT_CREDIT_SUM ELSE 0 END) AS SUM_CREDIT_TYPE_Consumer_credit_AMT_CREDIT_SUM,\n",
            "SUM(CASE WHEN CREDIT_TYPE= 'Consumer credit' THEN AMT_CREDIT_SUM_DEBT ELSE 0 END) AS SUM_CREDIT_TYPE_Consumer_credit_AMT_CREDIT_SUM_DEBT,\n",
            "SUM(CASE WHEN CREDIT_TYPE= 'Consumer credit' THEN AMT_CREDIT_SUM_LIMIT ELSE 0 END) AS SUM_CREDIT_TYPE_Consumer_credit_AMT_CREDIT_SUM_LIMIT,\n",
            "SUM(CASE WHEN CREDIT_TYPE= 'Consumer credit' THEN AMT_CREDIT_SUM_OVERDUE ELSE 0 END) AS SUM_CREDIT_TYPE_Consumer_credit_AMT_CREDIT_SUM_OVERDUE,\n",
            "SUM(CASE WHEN CREDIT_TYPE= 'Consumer credit' THEN AMT_ANNUITY ELSE 0 END) AS SUM_CREDIT_TYPE_Consumer_credit_AMT_ANNUITY,\n",
            "MIN(CASE WHEN CREDIT_TYPE= 'Mobile operator loan' THEN AMT_CREDIT_MAX_OVERDUE ELSE 0 END) AS MIN_CREDIT_TYPE_Mobile_operator_loan_AMT_CREDIT_MAX_OVERDUE,\n",
            "MIN(CASE WHEN CREDIT_TYPE= 'Mobile operator loan' THEN CNT_CREDIT_PROLONG ELSE 0 END) AS MIN_CREDIT_TYPE_Mobile_operator_loan_CNT_CREDIT_PROLONG,\n",
            "MIN(CASE WHEN CREDIT_TYPE= 'Mobile operator loan' THEN AMT_CREDIT_SUM ELSE 0 END) AS MIN_CREDIT_TYPE_Mobile_operator_loan_AMT_CREDIT_SUM,\n",
            "MIN(CASE WHEN CREDIT_TYPE= 'Mobile operator loan' THEN AMT_CREDIT_SUM_DEBT ELSE 0 END) AS MIN_CREDIT_TYPE_Mobile_operator_loan_AMT_CREDIT_SUM_DEBT,\n",
            "MIN(CASE WHEN CREDIT_TYPE= 'Mobile operator loan' THEN AMT_CREDIT_SUM_LIMIT ELSE 0 END) AS MIN_CREDIT_TYPE_Mobile_operator_loan_AMT_CREDIT_SUM_LIMIT,\n",
            "MIN(CASE WHEN CREDIT_TYPE= 'Mobile operator loan' THEN AMT_CREDIT_SUM_OVERDUE ELSE 0 END) AS MIN_CREDIT_TYPE_Mobile_operator_loan_AMT_CREDIT_SUM_OVERDUE,\n",
            "MIN(CASE WHEN CREDIT_TYPE= 'Mobile operator loan' THEN AMT_ANNUITY ELSE 0 END) AS MIN_CREDIT_TYPE_Mobile_operator_loan_AMT_ANNUITY,\n",
            "MIN(CASE WHEN CREDIT_TYPE= 'Interbank credit' THEN AMT_CREDIT_MAX_OVERDUE ELSE 0 END) AS MIN_CREDIT_TYPE_Interbank_credit_AMT_CREDIT_MAX_OVERDUE,\n",
            "MIN(CASE WHEN CREDIT_TYPE= 'Interbank credit' THEN CNT_CREDIT_PROLONG ELSE 0 END) AS MIN_CREDIT_TYPE_Interbank_credit_CNT_CREDIT_PROLONG,\n",
            "MIN(CASE WHEN CREDIT_TYPE= 'Interbank credit' THEN AMT_CREDIT_SUM ELSE 0 END) AS MIN_CREDIT_TYPE_Interbank_credit_AMT_CREDIT_SUM,\n",
            "MIN(CASE WHEN CREDIT_TYPE= 'Interbank credit' THEN AMT_CREDIT_SUM_DEBT ELSE 0 END) AS MIN_CREDIT_TYPE_Interbank_credit_AMT_CREDIT_SUM_DEBT,\n",
            "MIN(CASE WHEN CREDIT_TYPE= 'Interbank credit' THEN AMT_CREDIT_SUM_LIMIT ELSE 0 END) AS MIN_CREDIT_TYPE_Interbank_credit_AMT_CREDIT_SUM_LIMIT,\n",
            "MIN(CASE WHEN CREDIT_TYPE= 'Interbank credit' THEN AMT_CREDIT_SUM_OVERDUE ELSE 0 END) AS MIN_CREDIT_TYPE_Interbank_credit_AMT_CREDIT_SUM_OVERDUE,\n",
            "MIN(CASE WHEN CREDIT_TYPE= 'Interbank credit' THEN AMT_ANNUITY ELSE 0 END) AS MIN_CREDIT_TYPE_Interbank_credit_AMT_ANNUITY,\n",
            "MIN(CASE WHEN CREDIT_TYPE= 'Loan for purchase of shares' THEN AMT_CREDIT_MAX_OVERDUE ELSE 0 END) AS MIN_CREDIT_TYPE_Loan_for_purchase_of_shares_AMT_CREDIT_MAX_OVERDUE,\n",
            "MIN(CASE WHEN CREDIT_TYPE= 'Loan for purchase of shares' THEN CNT_CREDIT_PROLONG ELSE 0 END) AS MIN_CREDIT_TYPE_Loan_for_purchase_of_shares_CNT_CREDIT_PROLONG,\n",
            "MIN(CASE WHEN CREDIT_TYPE= 'Loan for purchase of shares' THEN AMT_CREDIT_SUM ELSE 0 END) AS MIN_CREDIT_TYPE_Loan_for_purchase_of_shares_AMT_CREDIT_SUM,\n",
            "MIN(CASE WHEN CREDIT_TYPE= 'Loan for purchase of shares' THEN AMT_CREDIT_SUM_DEBT ELSE 0 END) AS MIN_CREDIT_TYPE_Loan_for_purchase_of_shares_AMT_CREDIT_SUM_DEBT,\n",
            "MIN(CASE WHEN CREDIT_TYPE= 'Loan for purchase of shares' THEN AMT_CREDIT_SUM_LIMIT ELSE 0 END) AS MIN_CREDIT_TYPE_Loan_for_purchase_of_shares_AMT_CREDIT_SUM_LIMIT,\n",
            "MIN(CASE WHEN CREDIT_TYPE= 'Loan for purchase of shares' THEN AMT_CREDIT_SUM_OVERDUE ELSE 0 END) AS MIN_CREDIT_TYPE_Loan_for_purchase_of_shares_AMT_CREDIT_SUM_OVERDUE,\n",
            "MIN(CASE WHEN CREDIT_TYPE= 'Loan for purchase of shares' THEN AMT_ANNUITY ELSE 0 END) AS MIN_CREDIT_TYPE_Loan_for_purchase_of_shares_AMT_ANNUITY,\n",
            "MIN(CASE WHEN CREDIT_TYPE= 'Loan for the purchase of equipment' THEN AMT_CREDIT_MAX_OVERDUE ELSE 0 END) AS MIN_CREDIT_TYPE_Loan_for_the_purchase_of_equipment_AMT_CREDIT_MAX_OVERDUE,\n",
            "MIN(CASE WHEN CREDIT_TYPE= 'Loan for the purchase of equipment' THEN CNT_CREDIT_PROLONG ELSE 0 END) AS MIN_CREDIT_TYPE_Loan_for_the_purchase_of_equipment_CNT_CREDIT_PROLONG,\n",
            "MIN(CASE WHEN CREDIT_TYPE= 'Loan for the purchase of equipment' THEN AMT_CREDIT_SUM ELSE 0 END) AS MIN_CREDIT_TYPE_Loan_for_the_purchase_of_equipment_AMT_CREDIT_SUM,\n",
            "MIN(CASE WHEN CREDIT_TYPE= 'Loan for the purchase of equipment' THEN AMT_CREDIT_SUM_DEBT ELSE 0 END) AS MIN_CREDIT_TYPE_Loan_for_the_purchase_of_equipment_AMT_CREDIT_SUM_DEBT,\n",
            "MIN(CASE WHEN CREDIT_TYPE= 'Loan for the purchase of equipment' THEN AMT_CREDIT_SUM_LIMIT ELSE 0 END) AS MIN_CREDIT_TYPE_Loan_for_the_purchase_of_equipment_AMT_CREDIT_SUM_LIMIT,\n",
            "MIN(CASE WHEN CREDIT_TYPE= 'Loan for the purchase of equipment' THEN AMT_CREDIT_SUM_OVERDUE ELSE 0 END) AS MIN_CREDIT_TYPE_Loan_for_the_purchase_of_equipment_AMT_CREDIT_SUM_OVERDUE,\n",
            "MIN(CASE WHEN CREDIT_TYPE= 'Loan for the purchase of equipment' THEN AMT_ANNUITY ELSE 0 END) AS MIN_CREDIT_TYPE_Loan_for_the_purchase_of_equipment_AMT_ANNUITY,\n",
            "MIN(CASE WHEN CREDIT_TYPE= 'Real estate loan' THEN AMT_CREDIT_MAX_OVERDUE ELSE 0 END) AS MIN_CREDIT_TYPE_Real_estate_loan_AMT_CREDIT_MAX_OVERDUE,\n",
            "MIN(CASE WHEN CREDIT_TYPE= 'Real estate loan' THEN CNT_CREDIT_PROLONG ELSE 0 END) AS MIN_CREDIT_TYPE_Real_estate_loan_CNT_CREDIT_PROLONG,\n",
            "MIN(CASE WHEN CREDIT_TYPE= 'Real estate loan' THEN AMT_CREDIT_SUM ELSE 0 END) AS MIN_CREDIT_TYPE_Real_estate_loan_AMT_CREDIT_SUM,\n",
            "MIN(CASE WHEN CREDIT_TYPE= 'Real estate loan' THEN AMT_CREDIT_SUM_DEBT ELSE 0 END) AS MIN_CREDIT_TYPE_Real_estate_loan_AMT_CREDIT_SUM_DEBT,\n",
            "MIN(CASE WHEN CREDIT_TYPE= 'Real estate loan' THEN AMT_CREDIT_SUM_LIMIT ELSE 0 END) AS MIN_CREDIT_TYPE_Real_estate_loan_AMT_CREDIT_SUM_LIMIT,\n",
            "MIN(CASE WHEN CREDIT_TYPE= 'Real estate loan' THEN AMT_CREDIT_SUM_OVERDUE ELSE 0 END) AS MIN_CREDIT_TYPE_Real_estate_loan_AMT_CREDIT_SUM_OVERDUE,\n",
            "MIN(CASE WHEN CREDIT_TYPE= 'Real estate loan' THEN AMT_ANNUITY ELSE 0 END) AS MIN_CREDIT_TYPE_Real_estate_loan_AMT_ANNUITY,\n",
            "MIN(CASE WHEN CREDIT_TYPE= 'Cash loan' THEN AMT_CREDIT_MAX_OVERDUE ELSE 0 END) AS MIN_CREDIT_TYPE_Cash_loan_AMT_CREDIT_MAX_OVERDUE,\n",
            "MIN(CASE WHEN CREDIT_TYPE= 'Cash loan' THEN CNT_CREDIT_PROLONG ELSE 0 END) AS MIN_CREDIT_TYPE_Cash_loan_CNT_CREDIT_PROLONG,\n",
            "MIN(CASE WHEN CREDIT_TYPE= 'Cash loan' THEN AMT_CREDIT_SUM ELSE 0 END) AS MIN_CREDIT_TYPE_Cash_loan_AMT_CREDIT_SUM,\n",
            "MIN(CASE WHEN CREDIT_TYPE= 'Cash loan' THEN AMT_CREDIT_SUM_DEBT ELSE 0 END) AS MIN_CREDIT_TYPE_Cash_loan_AMT_CREDIT_SUM_DEBT,\n",
            "MIN(CASE WHEN CREDIT_TYPE= 'Cash loan' THEN AMT_CREDIT_SUM_LIMIT ELSE 0 END) AS MIN_CREDIT_TYPE_Cash_loan_AMT_CREDIT_SUM_LIMIT,\n",
            "MIN(CASE WHEN CREDIT_TYPE= 'Cash loan' THEN AMT_CREDIT_SUM_OVERDUE ELSE 0 END) AS MIN_CREDIT_TYPE_Cash_loan_AMT_CREDIT_SUM_OVERDUE,\n",
            "MIN(CASE WHEN CREDIT_TYPE= 'Cash loan' THEN AMT_ANNUITY ELSE 0 END) AS MIN_CREDIT_TYPE_Cash_loan_AMT_ANNUITY,\n",
            "MIN(CASE WHEN CREDIT_TYPE= 'Loan for working capital replenishment' THEN AMT_CREDIT_MAX_OVERDUE ELSE 0 END) AS MIN_CREDIT_TYPE_Loan_for_working_capital_replenishment_AMT_CREDIT_MAX_OVERDUE,\n",
            "MIN(CASE WHEN CREDIT_TYPE= 'Loan for working capital replenishment' THEN CNT_CREDIT_PROLONG ELSE 0 END) AS MIN_CREDIT_TYPE_Loan_for_working_capital_replenishment_CNT_CREDIT_PROLONG,\n",
            "MIN(CASE WHEN CREDIT_TYPE= 'Loan for working capital replenishment' THEN AMT_CREDIT_SUM ELSE 0 END) AS MIN_CREDIT_TYPE_Loan_for_working_capital_replenishment_AMT_CREDIT_SUM,\n",
            "MIN(CASE WHEN CREDIT_TYPE= 'Loan for working capital replenishment' THEN AMT_CREDIT_SUM_DEBT ELSE 0 END) AS MIN_CREDIT_TYPE_Loan_for_working_capital_replenishment_AMT_CREDIT_SUM_DEBT,\n",
            "MIN(CASE WHEN CREDIT_TYPE= 'Loan for working capital replenishment' THEN AMT_CREDIT_SUM_LIMIT ELSE 0 END) AS MIN_CREDIT_TYPE_Loan_for_working_capital_replenishment_AMT_CREDIT_SUM_LIMIT,\n",
            "MIN(CASE WHEN CREDIT_TYPE= 'Loan for working capital replenishment' THEN AMT_CREDIT_SUM_OVERDUE ELSE 0 END) AS MIN_CREDIT_TYPE_Loan_for_working_capital_replenishment_AMT_CREDIT_SUM_OVERDUE,\n",
            "MIN(CASE WHEN CREDIT_TYPE= 'Loan for working capital replenishment' THEN AMT_ANNUITY ELSE 0 END) AS MIN_CREDIT_TYPE_Loan_for_working_capital_replenishment_AMT_ANNUITY,\n",
            "MIN(CASE WHEN CREDIT_TYPE= 'Unknown type of loan' THEN AMT_CREDIT_MAX_OVERDUE ELSE 0 END) AS MIN_CREDIT_TYPE_Unknown_type_of_loan_AMT_CREDIT_MAX_OVERDUE,\n",
            "MIN(CASE WHEN CREDIT_TYPE= 'Unknown type of loan' THEN CNT_CREDIT_PROLONG ELSE 0 END) AS MIN_CREDIT_TYPE_Unknown_type_of_loan_CNT_CREDIT_PROLONG,\n",
            "MIN(CASE WHEN CREDIT_TYPE= 'Unknown type of loan' THEN AMT_CREDIT_SUM ELSE 0 END) AS MIN_CREDIT_TYPE_Unknown_type_of_loan_AMT_CREDIT_SUM,\n",
            "MIN(CASE WHEN CREDIT_TYPE= 'Unknown type of loan' THEN AMT_CREDIT_SUM_DEBT ELSE 0 END) AS MIN_CREDIT_TYPE_Unknown_type_of_loan_AMT_CREDIT_SUM_DEBT,\n",
            "MIN(CASE WHEN CREDIT_TYPE= 'Unknown type of loan' THEN AMT_CREDIT_SUM_LIMIT ELSE 0 END) AS MIN_CREDIT_TYPE_Unknown_type_of_loan_AMT_CREDIT_SUM_LIMIT,\n",
            "MIN(CASE WHEN CREDIT_TYPE= 'Unknown type of loan' THEN AMT_CREDIT_SUM_OVERDUE ELSE 0 END) AS MIN_CREDIT_TYPE_Unknown_type_of_loan_AMT_CREDIT_SUM_OVERDUE,\n",
            "MIN(CASE WHEN CREDIT_TYPE= 'Unknown type of loan' THEN AMT_ANNUITY ELSE 0 END) AS MIN_CREDIT_TYPE_Unknown_type_of_loan_AMT_ANNUITY,\n",
            "MIN(CASE WHEN CREDIT_TYPE= 'Another type of loan' THEN AMT_CREDIT_MAX_OVERDUE ELSE 0 END) AS MIN_CREDIT_TYPE_Another_type_of_loan_AMT_CREDIT_MAX_OVERDUE,\n",
            "MIN(CASE WHEN CREDIT_TYPE= 'Another type of loan' THEN CNT_CREDIT_PROLONG ELSE 0 END) AS MIN_CREDIT_TYPE_Another_type_of_loan_CNT_CREDIT_PROLONG,\n",
            "MIN(CASE WHEN CREDIT_TYPE= 'Another type of loan' THEN AMT_CREDIT_SUM ELSE 0 END) AS MIN_CREDIT_TYPE_Another_type_of_loan_AMT_CREDIT_SUM,\n",
            "MIN(CASE WHEN CREDIT_TYPE= 'Another type of loan' THEN AMT_CREDIT_SUM_DEBT ELSE 0 END) AS MIN_CREDIT_TYPE_Another_type_of_loan_AMT_CREDIT_SUM_DEBT,\n",
            "MIN(CASE WHEN CREDIT_TYPE= 'Another type of loan' THEN AMT_CREDIT_SUM_LIMIT ELSE 0 END) AS MIN_CREDIT_TYPE_Another_type_of_loan_AMT_CREDIT_SUM_LIMIT,\n",
            "MIN(CASE WHEN CREDIT_TYPE= 'Another type of loan' THEN AMT_CREDIT_SUM_OVERDUE ELSE 0 END) AS MIN_CREDIT_TYPE_Another_type_of_loan_AMT_CREDIT_SUM_OVERDUE,\n",
            "MIN(CASE WHEN CREDIT_TYPE= 'Another type of loan' THEN AMT_ANNUITY ELSE 0 END) AS MIN_CREDIT_TYPE_Another_type_of_loan_AMT_ANNUITY,\n",
            "MIN(CASE WHEN CREDIT_TYPE= 'Loan for business development' THEN AMT_CREDIT_MAX_OVERDUE ELSE 0 END) AS MIN_CREDIT_TYPE_Loan_for_business_development_AMT_CREDIT_MAX_OVERDUE,\n",
            "MIN(CASE WHEN CREDIT_TYPE= 'Loan for business development' THEN CNT_CREDIT_PROLONG ELSE 0 END) AS MIN_CREDIT_TYPE_Loan_for_business_development_CNT_CREDIT_PROLONG,\n",
            "MIN(CASE WHEN CREDIT_TYPE= 'Loan for business development' THEN AMT_CREDIT_SUM ELSE 0 END) AS MIN_CREDIT_TYPE_Loan_for_business_development_AMT_CREDIT_SUM,\n",
            "MIN(CASE WHEN CREDIT_TYPE= 'Loan for business development' THEN AMT_CREDIT_SUM_DEBT ELSE 0 END) AS MIN_CREDIT_TYPE_Loan_for_business_development_AMT_CREDIT_SUM_DEBT,\n",
            "MIN(CASE WHEN CREDIT_TYPE= 'Loan for business development' THEN AMT_CREDIT_SUM_LIMIT ELSE 0 END) AS MIN_CREDIT_TYPE_Loan_for_business_development_AMT_CREDIT_SUM_LIMIT,\n",
            "MIN(CASE WHEN CREDIT_TYPE= 'Loan for business development' THEN AMT_CREDIT_SUM_OVERDUE ELSE 0 END) AS MIN_CREDIT_TYPE_Loan_for_business_development_AMT_CREDIT_SUM_OVERDUE,\n",
            "MIN(CASE WHEN CREDIT_TYPE= 'Loan for business development' THEN AMT_ANNUITY ELSE 0 END) AS MIN_CREDIT_TYPE_Loan_for_business_development_AMT_ANNUITY,\n",
            "MIN(CASE WHEN CREDIT_TYPE= 'Microloan' THEN AMT_CREDIT_MAX_OVERDUE ELSE 0 END) AS MIN_CREDIT_TYPE_Microloan_AMT_CREDIT_MAX_OVERDUE,\n",
            "MIN(CASE WHEN CREDIT_TYPE= 'Microloan' THEN CNT_CREDIT_PROLONG ELSE 0 END) AS MIN_CREDIT_TYPE_Microloan_CNT_CREDIT_PROLONG,\n",
            "MIN(CASE WHEN CREDIT_TYPE= 'Microloan' THEN AMT_CREDIT_SUM ELSE 0 END) AS MIN_CREDIT_TYPE_Microloan_AMT_CREDIT_SUM,\n",
            "MIN(CASE WHEN CREDIT_TYPE= 'Microloan' THEN AMT_CREDIT_SUM_DEBT ELSE 0 END) AS MIN_CREDIT_TYPE_Microloan_AMT_CREDIT_SUM_DEBT,\n",
            "MIN(CASE WHEN CREDIT_TYPE= 'Microloan' THEN AMT_CREDIT_SUM_LIMIT ELSE 0 END) AS MIN_CREDIT_TYPE_Microloan_AMT_CREDIT_SUM_LIMIT,\n",
            "MIN(CASE WHEN CREDIT_TYPE= 'Microloan' THEN AMT_CREDIT_SUM_OVERDUE ELSE 0 END) AS MIN_CREDIT_TYPE_Microloan_AMT_CREDIT_SUM_OVERDUE,\n",
            "MIN(CASE WHEN CREDIT_TYPE= 'Microloan' THEN AMT_ANNUITY ELSE 0 END) AS MIN_CREDIT_TYPE_Microloan_AMT_ANNUITY,\n",
            "MIN(CASE WHEN CREDIT_TYPE= 'Mortgage' THEN AMT_CREDIT_MAX_OVERDUE ELSE 0 END) AS MIN_CREDIT_TYPE_Mortgage_AMT_CREDIT_MAX_OVERDUE,\n",
            "MIN(CASE WHEN CREDIT_TYPE= 'Mortgage' THEN CNT_CREDIT_PROLONG ELSE 0 END) AS MIN_CREDIT_TYPE_Mortgage_CNT_CREDIT_PROLONG,\n",
            "MIN(CASE WHEN CREDIT_TYPE= 'Mortgage' THEN AMT_CREDIT_SUM ELSE 0 END) AS MIN_CREDIT_TYPE_Mortgage_AMT_CREDIT_SUM,\n",
            "MIN(CASE WHEN CREDIT_TYPE= 'Mortgage' THEN AMT_CREDIT_SUM_DEBT ELSE 0 END) AS MIN_CREDIT_TYPE_Mortgage_AMT_CREDIT_SUM_DEBT,\n",
            "MIN(CASE WHEN CREDIT_TYPE= 'Mortgage' THEN AMT_CREDIT_SUM_LIMIT ELSE 0 END) AS MIN_CREDIT_TYPE_Mortgage_AMT_CREDIT_SUM_LIMIT,\n",
            "MIN(CASE WHEN CREDIT_TYPE= 'Mortgage' THEN AMT_CREDIT_SUM_OVERDUE ELSE 0 END) AS MIN_CREDIT_TYPE_Mortgage_AMT_CREDIT_SUM_OVERDUE,\n",
            "MIN(CASE WHEN CREDIT_TYPE= 'Mortgage' THEN AMT_ANNUITY ELSE 0 END) AS MIN_CREDIT_TYPE_Mortgage_AMT_ANNUITY,\n",
            "MIN(CASE WHEN CREDIT_TYPE= 'Car loan' THEN AMT_CREDIT_MAX_OVERDUE ELSE 0 END) AS MIN_CREDIT_TYPE_Car_loan_AMT_CREDIT_MAX_OVERDUE,\n",
            "MIN(CASE WHEN CREDIT_TYPE= 'Car loan' THEN CNT_CREDIT_PROLONG ELSE 0 END) AS MIN_CREDIT_TYPE_Car_loan_CNT_CREDIT_PROLONG,\n",
            "MIN(CASE WHEN CREDIT_TYPE= 'Car loan' THEN AMT_CREDIT_SUM ELSE 0 END) AS MIN_CREDIT_TYPE_Car_loan_AMT_CREDIT_SUM,\n",
            "MIN(CASE WHEN CREDIT_TYPE= 'Car loan' THEN AMT_CREDIT_SUM_DEBT ELSE 0 END) AS MIN_CREDIT_TYPE_Car_loan_AMT_CREDIT_SUM_DEBT,\n",
            "MIN(CASE WHEN CREDIT_TYPE= 'Car loan' THEN AMT_CREDIT_SUM_LIMIT ELSE 0 END) AS MIN_CREDIT_TYPE_Car_loan_AMT_CREDIT_SUM_LIMIT,\n",
            "MIN(CASE WHEN CREDIT_TYPE= 'Car loan' THEN AMT_CREDIT_SUM_OVERDUE ELSE 0 END) AS MIN_CREDIT_TYPE_Car_loan_AMT_CREDIT_SUM_OVERDUE,\n",
            "MIN(CASE WHEN CREDIT_TYPE= 'Car loan' THEN AMT_ANNUITY ELSE 0 END) AS MIN_CREDIT_TYPE_Car_loan_AMT_ANNUITY,\n",
            "MIN(CASE WHEN CREDIT_TYPE= 'Credit card' THEN AMT_CREDIT_MAX_OVERDUE ELSE 0 END) AS MIN_CREDIT_TYPE_Credit_card_AMT_CREDIT_MAX_OVERDUE,\n",
            "MIN(CASE WHEN CREDIT_TYPE= 'Credit card' THEN CNT_CREDIT_PROLONG ELSE 0 END) AS MIN_CREDIT_TYPE_Credit_card_CNT_CREDIT_PROLONG,\n",
            "MIN(CASE WHEN CREDIT_TYPE= 'Credit card' THEN AMT_CREDIT_SUM ELSE 0 END) AS MIN_CREDIT_TYPE_Credit_card_AMT_CREDIT_SUM,\n",
            "MIN(CASE WHEN CREDIT_TYPE= 'Credit card' THEN AMT_CREDIT_SUM_DEBT ELSE 0 END) AS MIN_CREDIT_TYPE_Credit_card_AMT_CREDIT_SUM_DEBT,\n",
            "MIN(CASE WHEN CREDIT_TYPE= 'Credit card' THEN AMT_CREDIT_SUM_LIMIT ELSE 0 END) AS MIN_CREDIT_TYPE_Credit_card_AMT_CREDIT_SUM_LIMIT,\n",
            "MIN(CASE WHEN CREDIT_TYPE= 'Credit card' THEN AMT_CREDIT_SUM_OVERDUE ELSE 0 END) AS MIN_CREDIT_TYPE_Credit_card_AMT_CREDIT_SUM_OVERDUE,\n",
            "MIN(CASE WHEN CREDIT_TYPE= 'Credit card' THEN AMT_ANNUITY ELSE 0 END) AS MIN_CREDIT_TYPE_Credit_card_AMT_ANNUITY,\n",
            "MIN(CASE WHEN CREDIT_TYPE= 'Consumer credit' THEN AMT_CREDIT_MAX_OVERDUE ELSE 0 END) AS MIN_CREDIT_TYPE_Consumer_credit_AMT_CREDIT_MAX_OVERDUE,\n",
            "MIN(CASE WHEN CREDIT_TYPE= 'Consumer credit' THEN CNT_CREDIT_PROLONG ELSE 0 END) AS MIN_CREDIT_TYPE_Consumer_credit_CNT_CREDIT_PROLONG,\n",
            "MIN(CASE WHEN CREDIT_TYPE= 'Consumer credit' THEN AMT_CREDIT_SUM ELSE 0 END) AS MIN_CREDIT_TYPE_Consumer_credit_AMT_CREDIT_SUM,\n",
            "MIN(CASE WHEN CREDIT_TYPE= 'Consumer credit' THEN AMT_CREDIT_SUM_DEBT ELSE 0 END) AS MIN_CREDIT_TYPE_Consumer_credit_AMT_CREDIT_SUM_DEBT,\n",
            "MIN(CASE WHEN CREDIT_TYPE= 'Consumer credit' THEN AMT_CREDIT_SUM_LIMIT ELSE 0 END) AS MIN_CREDIT_TYPE_Consumer_credit_AMT_CREDIT_SUM_LIMIT,\n",
            "MIN(CASE WHEN CREDIT_TYPE= 'Consumer credit' THEN AMT_CREDIT_SUM_OVERDUE ELSE 0 END) AS MIN_CREDIT_TYPE_Consumer_credit_AMT_CREDIT_SUM_OVERDUE,\n",
            "MIN(CASE WHEN CREDIT_TYPE= 'Consumer credit' THEN AMT_ANNUITY ELSE 0 END) AS MIN_CREDIT_TYPE_Consumer_credit_AMT_ANNUITY,\n",
            "MAX(CASE WHEN CREDIT_TYPE= 'Mobile operator loan' THEN AMT_CREDIT_MAX_OVERDUE ELSE 0 END) AS MAX_CREDIT_TYPE_Mobile_operator_loan_AMT_CREDIT_MAX_OVERDUE,\n",
            "MAX(CASE WHEN CREDIT_TYPE= 'Mobile operator loan' THEN CNT_CREDIT_PROLONG ELSE 0 END) AS MAX_CREDIT_TYPE_Mobile_operator_loan_CNT_CREDIT_PROLONG,\n",
            "MAX(CASE WHEN CREDIT_TYPE= 'Mobile operator loan' THEN AMT_CREDIT_SUM ELSE 0 END) AS MAX_CREDIT_TYPE_Mobile_operator_loan_AMT_CREDIT_SUM,\n",
            "MAX(CASE WHEN CREDIT_TYPE= 'Mobile operator loan' THEN AMT_CREDIT_SUM_DEBT ELSE 0 END) AS MAX_CREDIT_TYPE_Mobile_operator_loan_AMT_CREDIT_SUM_DEBT,\n",
            "MAX(CASE WHEN CREDIT_TYPE= 'Mobile operator loan' THEN AMT_CREDIT_SUM_LIMIT ELSE 0 END) AS MAX_CREDIT_TYPE_Mobile_operator_loan_AMT_CREDIT_SUM_LIMIT,\n",
            "MAX(CASE WHEN CREDIT_TYPE= 'Mobile operator loan' THEN AMT_CREDIT_SUM_OVERDUE ELSE 0 END) AS MAX_CREDIT_TYPE_Mobile_operator_loan_AMT_CREDIT_SUM_OVERDUE,\n",
            "MAX(CASE WHEN CREDIT_TYPE= 'Mobile operator loan' THEN AMT_ANNUITY ELSE 0 END) AS MAX_CREDIT_TYPE_Mobile_operator_loan_AMT_ANNUITY,\n",
            "MAX(CASE WHEN CREDIT_TYPE= 'Interbank credit' THEN AMT_CREDIT_MAX_OVERDUE ELSE 0 END) AS MAX_CREDIT_TYPE_Interbank_credit_AMT_CREDIT_MAX_OVERDUE,\n",
            "MAX(CASE WHEN CREDIT_TYPE= 'Interbank credit' THEN CNT_CREDIT_PROLONG ELSE 0 END) AS MAX_CREDIT_TYPE_Interbank_credit_CNT_CREDIT_PROLONG,\n",
            "MAX(CASE WHEN CREDIT_TYPE= 'Interbank credit' THEN AMT_CREDIT_SUM ELSE 0 END) AS MAX_CREDIT_TYPE_Interbank_credit_AMT_CREDIT_SUM,\n",
            "MAX(CASE WHEN CREDIT_TYPE= 'Interbank credit' THEN AMT_CREDIT_SUM_DEBT ELSE 0 END) AS MAX_CREDIT_TYPE_Interbank_credit_AMT_CREDIT_SUM_DEBT,\n",
            "MAX(CASE WHEN CREDIT_TYPE= 'Interbank credit' THEN AMT_CREDIT_SUM_LIMIT ELSE 0 END) AS MAX_CREDIT_TYPE_Interbank_credit_AMT_CREDIT_SUM_LIMIT,\n",
            "MAX(CASE WHEN CREDIT_TYPE= 'Interbank credit' THEN AMT_CREDIT_SUM_OVERDUE ELSE 0 END) AS MAX_CREDIT_TYPE_Interbank_credit_AMT_CREDIT_SUM_OVERDUE,\n",
            "MAX(CASE WHEN CREDIT_TYPE= 'Interbank credit' THEN AMT_ANNUITY ELSE 0 END) AS MAX_CREDIT_TYPE_Interbank_credit_AMT_ANNUITY,\n",
            "MAX(CASE WHEN CREDIT_TYPE= 'Loan for purchase of shares' THEN AMT_CREDIT_MAX_OVERDUE ELSE 0 END) AS MAX_CREDIT_TYPE_Loan_for_purchase_of_shares_AMT_CREDIT_MAX_OVERDUE,\n",
            "MAX(CASE WHEN CREDIT_TYPE= 'Loan for purchase of shares' THEN CNT_CREDIT_PROLONG ELSE 0 END) AS MAX_CREDIT_TYPE_Loan_for_purchase_of_shares_CNT_CREDIT_PROLONG,\n",
            "MAX(CASE WHEN CREDIT_TYPE= 'Loan for purchase of shares' THEN AMT_CREDIT_SUM ELSE 0 END) AS MAX_CREDIT_TYPE_Loan_for_purchase_of_shares_AMT_CREDIT_SUM,\n",
            "MAX(CASE WHEN CREDIT_TYPE= 'Loan for purchase of shares' THEN AMT_CREDIT_SUM_DEBT ELSE 0 END) AS MAX_CREDIT_TYPE_Loan_for_purchase_of_shares_AMT_CREDIT_SUM_DEBT,\n",
            "MAX(CASE WHEN CREDIT_TYPE= 'Loan for purchase of shares' THEN AMT_CREDIT_SUM_LIMIT ELSE 0 END) AS MAX_CREDIT_TYPE_Loan_for_purchase_of_shares_AMT_CREDIT_SUM_LIMIT,\n",
            "MAX(CASE WHEN CREDIT_TYPE= 'Loan for purchase of shares' THEN AMT_CREDIT_SUM_OVERDUE ELSE 0 END) AS MAX_CREDIT_TYPE_Loan_for_purchase_of_shares_AMT_CREDIT_SUM_OVERDUE,\n",
            "MAX(CASE WHEN CREDIT_TYPE= 'Loan for purchase of shares' THEN AMT_ANNUITY ELSE 0 END) AS MAX_CREDIT_TYPE_Loan_for_purchase_of_shares_AMT_ANNUITY,\n",
            "MAX(CASE WHEN CREDIT_TYPE= 'Loan for the purchase of equipment' THEN AMT_CREDIT_MAX_OVERDUE ELSE 0 END) AS MAX_CREDIT_TYPE_Loan_for_the_purchase_of_equipment_AMT_CREDIT_MAX_OVERDUE,\n",
            "MAX(CASE WHEN CREDIT_TYPE= 'Loan for the purchase of equipment' THEN CNT_CREDIT_PROLONG ELSE 0 END) AS MAX_CREDIT_TYPE_Loan_for_the_purchase_of_equipment_CNT_CREDIT_PROLONG,\n",
            "MAX(CASE WHEN CREDIT_TYPE= 'Loan for the purchase of equipment' THEN AMT_CREDIT_SUM ELSE 0 END) AS MAX_CREDIT_TYPE_Loan_for_the_purchase_of_equipment_AMT_CREDIT_SUM,\n",
            "MAX(CASE WHEN CREDIT_TYPE= 'Loan for the purchase of equipment' THEN AMT_CREDIT_SUM_DEBT ELSE 0 END) AS MAX_CREDIT_TYPE_Loan_for_the_purchase_of_equipment_AMT_CREDIT_SUM_DEBT,\n",
            "MAX(CASE WHEN CREDIT_TYPE= 'Loan for the purchase of equipment' THEN AMT_CREDIT_SUM_LIMIT ELSE 0 END) AS MAX_CREDIT_TYPE_Loan_for_the_purchase_of_equipment_AMT_CREDIT_SUM_LIMIT,\n",
            "MAX(CASE WHEN CREDIT_TYPE= 'Loan for the purchase of equipment' THEN AMT_CREDIT_SUM_OVERDUE ELSE 0 END) AS MAX_CREDIT_TYPE_Loan_for_the_purchase_of_equipment_AMT_CREDIT_SUM_OVERDUE,\n",
            "MAX(CASE WHEN CREDIT_TYPE= 'Loan for the purchase of equipment' THEN AMT_ANNUITY ELSE 0 END) AS MAX_CREDIT_TYPE_Loan_for_the_purchase_of_equipment_AMT_ANNUITY,\n",
            "MAX(CASE WHEN CREDIT_TYPE= 'Real estate loan' THEN AMT_CREDIT_MAX_OVERDUE ELSE 0 END) AS MAX_CREDIT_TYPE_Real_estate_loan_AMT_CREDIT_MAX_OVERDUE,\n",
            "MAX(CASE WHEN CREDIT_TYPE= 'Real estate loan' THEN CNT_CREDIT_PROLONG ELSE 0 END) AS MAX_CREDIT_TYPE_Real_estate_loan_CNT_CREDIT_PROLONG,\n",
            "MAX(CASE WHEN CREDIT_TYPE= 'Real estate loan' THEN AMT_CREDIT_SUM ELSE 0 END) AS MAX_CREDIT_TYPE_Real_estate_loan_AMT_CREDIT_SUM,\n",
            "MAX(CASE WHEN CREDIT_TYPE= 'Real estate loan' THEN AMT_CREDIT_SUM_DEBT ELSE 0 END) AS MAX_CREDIT_TYPE_Real_estate_loan_AMT_CREDIT_SUM_DEBT,\n",
            "MAX(CASE WHEN CREDIT_TYPE= 'Real estate loan' THEN AMT_CREDIT_SUM_LIMIT ELSE 0 END) AS MAX_CREDIT_TYPE_Real_estate_loan_AMT_CREDIT_SUM_LIMIT,\n",
            "MAX(CASE WHEN CREDIT_TYPE= 'Real estate loan' THEN AMT_CREDIT_SUM_OVERDUE ELSE 0 END) AS MAX_CREDIT_TYPE_Real_estate_loan_AMT_CREDIT_SUM_OVERDUE,\n",
            "MAX(CASE WHEN CREDIT_TYPE= 'Real estate loan' THEN AMT_ANNUITY ELSE 0 END) AS MAX_CREDIT_TYPE_Real_estate_loan_AMT_ANNUITY,\n",
            "MAX(CASE WHEN CREDIT_TYPE= 'Cash loan' THEN AMT_CREDIT_MAX_OVERDUE ELSE 0 END) AS MAX_CREDIT_TYPE_Cash_loan_AMT_CREDIT_MAX_OVERDUE,\n",
            "MAX(CASE WHEN CREDIT_TYPE= 'Cash loan' THEN CNT_CREDIT_PROLONG ELSE 0 END) AS MAX_CREDIT_TYPE_Cash_loan_CNT_CREDIT_PROLONG,\n",
            "MAX(CASE WHEN CREDIT_TYPE= 'Cash loan' THEN AMT_CREDIT_SUM ELSE 0 END) AS MAX_CREDIT_TYPE_Cash_loan_AMT_CREDIT_SUM,\n",
            "MAX(CASE WHEN CREDIT_TYPE= 'Cash loan' THEN AMT_CREDIT_SUM_DEBT ELSE 0 END) AS MAX_CREDIT_TYPE_Cash_loan_AMT_CREDIT_SUM_DEBT,\n",
            "MAX(CASE WHEN CREDIT_TYPE= 'Cash loan' THEN AMT_CREDIT_SUM_LIMIT ELSE 0 END) AS MAX_CREDIT_TYPE_Cash_loan_AMT_CREDIT_SUM_LIMIT,\n",
            "MAX(CASE WHEN CREDIT_TYPE= 'Cash loan' THEN AMT_CREDIT_SUM_OVERDUE ELSE 0 END) AS MAX_CREDIT_TYPE_Cash_loan_AMT_CREDIT_SUM_OVERDUE,\n",
            "MAX(CASE WHEN CREDIT_TYPE= 'Cash loan' THEN AMT_ANNUITY ELSE 0 END) AS MAX_CREDIT_TYPE_Cash_loan_AMT_ANNUITY,\n",
            "MAX(CASE WHEN CREDIT_TYPE= 'Loan for working capital replenishment' THEN AMT_CREDIT_MAX_OVERDUE ELSE 0 END) AS MAX_CREDIT_TYPE_Loan_for_working_capital_replenishment_AMT_CREDIT_MAX_OVERDUE,\n",
            "MAX(CASE WHEN CREDIT_TYPE= 'Loan for working capital replenishment' THEN CNT_CREDIT_PROLONG ELSE 0 END) AS MAX_CREDIT_TYPE_Loan_for_working_capital_replenishment_CNT_CREDIT_PROLONG,\n",
            "MAX(CASE WHEN CREDIT_TYPE= 'Loan for working capital replenishment' THEN AMT_CREDIT_SUM ELSE 0 END) AS MAX_CREDIT_TYPE_Loan_for_working_capital_replenishment_AMT_CREDIT_SUM,\n",
            "MAX(CASE WHEN CREDIT_TYPE= 'Loan for working capital replenishment' THEN AMT_CREDIT_SUM_DEBT ELSE 0 END) AS MAX_CREDIT_TYPE_Loan_for_working_capital_replenishment_AMT_CREDIT_SUM_DEBT,\n",
            "MAX(CASE WHEN CREDIT_TYPE= 'Loan for working capital replenishment' THEN AMT_CREDIT_SUM_LIMIT ELSE 0 END) AS MAX_CREDIT_TYPE_Loan_for_working_capital_replenishment_AMT_CREDIT_SUM_LIMIT,\n",
            "MAX(CASE WHEN CREDIT_TYPE= 'Loan for working capital replenishment' THEN AMT_CREDIT_SUM_OVERDUE ELSE 0 END) AS MAX_CREDIT_TYPE_Loan_for_working_capital_replenishment_AMT_CREDIT_SUM_OVERDUE,\n",
            "MAX(CASE WHEN CREDIT_TYPE= 'Loan for working capital replenishment' THEN AMT_ANNUITY ELSE 0 END) AS MAX_CREDIT_TYPE_Loan_for_working_capital_replenishment_AMT_ANNUITY,\n",
            "MAX(CASE WHEN CREDIT_TYPE= 'Unknown type of loan' THEN AMT_CREDIT_MAX_OVERDUE ELSE 0 END) AS MAX_CREDIT_TYPE_Unknown_type_of_loan_AMT_CREDIT_MAX_OVERDUE,\n",
            "MAX(CASE WHEN CREDIT_TYPE= 'Unknown type of loan' THEN CNT_CREDIT_PROLONG ELSE 0 END) AS MAX_CREDIT_TYPE_Unknown_type_of_loan_CNT_CREDIT_PROLONG,\n",
            "MAX(CASE WHEN CREDIT_TYPE= 'Unknown type of loan' THEN AMT_CREDIT_SUM ELSE 0 END) AS MAX_CREDIT_TYPE_Unknown_type_of_loan_AMT_CREDIT_SUM,\n",
            "MAX(CASE WHEN CREDIT_TYPE= 'Unknown type of loan' THEN AMT_CREDIT_SUM_DEBT ELSE 0 END) AS MAX_CREDIT_TYPE_Unknown_type_of_loan_AMT_CREDIT_SUM_DEBT,\n",
            "MAX(CASE WHEN CREDIT_TYPE= 'Unknown type of loan' THEN AMT_CREDIT_SUM_LIMIT ELSE 0 END) AS MAX_CREDIT_TYPE_Unknown_type_of_loan_AMT_CREDIT_SUM_LIMIT,\n",
            "MAX(CASE WHEN CREDIT_TYPE= 'Unknown type of loan' THEN AMT_CREDIT_SUM_OVERDUE ELSE 0 END) AS MAX_CREDIT_TYPE_Unknown_type_of_loan_AMT_CREDIT_SUM_OVERDUE,\n",
            "MAX(CASE WHEN CREDIT_TYPE= 'Unknown type of loan' THEN AMT_ANNUITY ELSE 0 END) AS MAX_CREDIT_TYPE_Unknown_type_of_loan_AMT_ANNUITY,\n",
            "MAX(CASE WHEN CREDIT_TYPE= 'Another type of loan' THEN AMT_CREDIT_MAX_OVERDUE ELSE 0 END) AS MAX_CREDIT_TYPE_Another_type_of_loan_AMT_CREDIT_MAX_OVERDUE,\n",
            "MAX(CASE WHEN CREDIT_TYPE= 'Another type of loan' THEN CNT_CREDIT_PROLONG ELSE 0 END) AS MAX_CREDIT_TYPE_Another_type_of_loan_CNT_CREDIT_PROLONG,\n",
            "MAX(CASE WHEN CREDIT_TYPE= 'Another type of loan' THEN AMT_CREDIT_SUM ELSE 0 END) AS MAX_CREDIT_TYPE_Another_type_of_loan_AMT_CREDIT_SUM,\n",
            "MAX(CASE WHEN CREDIT_TYPE= 'Another type of loan' THEN AMT_CREDIT_SUM_DEBT ELSE 0 END) AS MAX_CREDIT_TYPE_Another_type_of_loan_AMT_CREDIT_SUM_DEBT,\n",
            "MAX(CASE WHEN CREDIT_TYPE= 'Another type of loan' THEN AMT_CREDIT_SUM_LIMIT ELSE 0 END) AS MAX_CREDIT_TYPE_Another_type_of_loan_AMT_CREDIT_SUM_LIMIT,\n",
            "MAX(CASE WHEN CREDIT_TYPE= 'Another type of loan' THEN AMT_CREDIT_SUM_OVERDUE ELSE 0 END) AS MAX_CREDIT_TYPE_Another_type_of_loan_AMT_CREDIT_SUM_OVERDUE,\n",
            "MAX(CASE WHEN CREDIT_TYPE= 'Another type of loan' THEN AMT_ANNUITY ELSE 0 END) AS MAX_CREDIT_TYPE_Another_type_of_loan_AMT_ANNUITY,\n",
            "MAX(CASE WHEN CREDIT_TYPE= 'Loan for business development' THEN AMT_CREDIT_MAX_OVERDUE ELSE 0 END) AS MAX_CREDIT_TYPE_Loan_for_business_development_AMT_CREDIT_MAX_OVERDUE,\n",
            "MAX(CASE WHEN CREDIT_TYPE= 'Loan for business development' THEN CNT_CREDIT_PROLONG ELSE 0 END) AS MAX_CREDIT_TYPE_Loan_for_business_development_CNT_CREDIT_PROLONG,\n",
            "MAX(CASE WHEN CREDIT_TYPE= 'Loan for business development' THEN AMT_CREDIT_SUM ELSE 0 END) AS MAX_CREDIT_TYPE_Loan_for_business_development_AMT_CREDIT_SUM,\n",
            "MAX(CASE WHEN CREDIT_TYPE= 'Loan for business development' THEN AMT_CREDIT_SUM_DEBT ELSE 0 END) AS MAX_CREDIT_TYPE_Loan_for_business_development_AMT_CREDIT_SUM_DEBT,\n",
            "MAX(CASE WHEN CREDIT_TYPE= 'Loan for business development' THEN AMT_CREDIT_SUM_LIMIT ELSE 0 END) AS MAX_CREDIT_TYPE_Loan_for_business_development_AMT_CREDIT_SUM_LIMIT,\n",
            "MAX(CASE WHEN CREDIT_TYPE= 'Loan for business development' THEN AMT_CREDIT_SUM_OVERDUE ELSE 0 END) AS MAX_CREDIT_TYPE_Loan_for_business_development_AMT_CREDIT_SUM_OVERDUE,\n",
            "MAX(CASE WHEN CREDIT_TYPE= 'Loan for business development' THEN AMT_ANNUITY ELSE 0 END) AS MAX_CREDIT_TYPE_Loan_for_business_development_AMT_ANNUITY,\n",
            "MAX(CASE WHEN CREDIT_TYPE= 'Microloan' THEN AMT_CREDIT_MAX_OVERDUE ELSE 0 END) AS MAX_CREDIT_TYPE_Microloan_AMT_CREDIT_MAX_OVERDUE,\n",
            "MAX(CASE WHEN CREDIT_TYPE= 'Microloan' THEN CNT_CREDIT_PROLONG ELSE 0 END) AS MAX_CREDIT_TYPE_Microloan_CNT_CREDIT_PROLONG,\n",
            "MAX(CASE WHEN CREDIT_TYPE= 'Microloan' THEN AMT_CREDIT_SUM ELSE 0 END) AS MAX_CREDIT_TYPE_Microloan_AMT_CREDIT_SUM,\n",
            "MAX(CASE WHEN CREDIT_TYPE= 'Microloan' THEN AMT_CREDIT_SUM_DEBT ELSE 0 END) AS MAX_CREDIT_TYPE_Microloan_AMT_CREDIT_SUM_DEBT,\n",
            "MAX(CASE WHEN CREDIT_TYPE= 'Microloan' THEN AMT_CREDIT_SUM_LIMIT ELSE 0 END) AS MAX_CREDIT_TYPE_Microloan_AMT_CREDIT_SUM_LIMIT,\n",
            "MAX(CASE WHEN CREDIT_TYPE= 'Microloan' THEN AMT_CREDIT_SUM_OVERDUE ELSE 0 END) AS MAX_CREDIT_TYPE_Microloan_AMT_CREDIT_SUM_OVERDUE,\n",
            "MAX(CASE WHEN CREDIT_TYPE= 'Microloan' THEN AMT_ANNUITY ELSE 0 END) AS MAX_CREDIT_TYPE_Microloan_AMT_ANNUITY,\n",
            "MAX(CASE WHEN CREDIT_TYPE= 'Mortgage' THEN AMT_CREDIT_MAX_OVERDUE ELSE 0 END) AS MAX_CREDIT_TYPE_Mortgage_AMT_CREDIT_MAX_OVERDUE,\n",
            "MAX(CASE WHEN CREDIT_TYPE= 'Mortgage' THEN CNT_CREDIT_PROLONG ELSE 0 END) AS MAX_CREDIT_TYPE_Mortgage_CNT_CREDIT_PROLONG,\n",
            "MAX(CASE WHEN CREDIT_TYPE= 'Mortgage' THEN AMT_CREDIT_SUM ELSE 0 END) AS MAX_CREDIT_TYPE_Mortgage_AMT_CREDIT_SUM,\n",
            "MAX(CASE WHEN CREDIT_TYPE= 'Mortgage' THEN AMT_CREDIT_SUM_DEBT ELSE 0 END) AS MAX_CREDIT_TYPE_Mortgage_AMT_CREDIT_SUM_DEBT,\n",
            "MAX(CASE WHEN CREDIT_TYPE= 'Mortgage' THEN AMT_CREDIT_SUM_LIMIT ELSE 0 END) AS MAX_CREDIT_TYPE_Mortgage_AMT_CREDIT_SUM_LIMIT,\n",
            "MAX(CASE WHEN CREDIT_TYPE= 'Mortgage' THEN AMT_CREDIT_SUM_OVERDUE ELSE 0 END) AS MAX_CREDIT_TYPE_Mortgage_AMT_CREDIT_SUM_OVERDUE,\n",
            "MAX(CASE WHEN CREDIT_TYPE= 'Mortgage' THEN AMT_ANNUITY ELSE 0 END) AS MAX_CREDIT_TYPE_Mortgage_AMT_ANNUITY,\n",
            "MAX(CASE WHEN CREDIT_TYPE= 'Car loan' THEN AMT_CREDIT_MAX_OVERDUE ELSE 0 END) AS MAX_CREDIT_TYPE_Car_loan_AMT_CREDIT_MAX_OVERDUE,\n",
            "MAX(CASE WHEN CREDIT_TYPE= 'Car loan' THEN CNT_CREDIT_PROLONG ELSE 0 END) AS MAX_CREDIT_TYPE_Car_loan_CNT_CREDIT_PROLONG,\n",
            "MAX(CASE WHEN CREDIT_TYPE= 'Car loan' THEN AMT_CREDIT_SUM ELSE 0 END) AS MAX_CREDIT_TYPE_Car_loan_AMT_CREDIT_SUM,\n",
            "MAX(CASE WHEN CREDIT_TYPE= 'Car loan' THEN AMT_CREDIT_SUM_DEBT ELSE 0 END) AS MAX_CREDIT_TYPE_Car_loan_AMT_CREDIT_SUM_DEBT,\n",
            "MAX(CASE WHEN CREDIT_TYPE= 'Car loan' THEN AMT_CREDIT_SUM_LIMIT ELSE 0 END) AS MAX_CREDIT_TYPE_Car_loan_AMT_CREDIT_SUM_LIMIT,\n",
            "MAX(CASE WHEN CREDIT_TYPE= 'Car loan' THEN AMT_CREDIT_SUM_OVERDUE ELSE 0 END) AS MAX_CREDIT_TYPE_Car_loan_AMT_CREDIT_SUM_OVERDUE,\n",
            "MAX(CASE WHEN CREDIT_TYPE= 'Car loan' THEN AMT_ANNUITY ELSE 0 END) AS MAX_CREDIT_TYPE_Car_loan_AMT_ANNUITY,\n",
            "MAX(CASE WHEN CREDIT_TYPE= 'Credit card' THEN AMT_CREDIT_MAX_OVERDUE ELSE 0 END) AS MAX_CREDIT_TYPE_Credit_card_AMT_CREDIT_MAX_OVERDUE,\n",
            "MAX(CASE WHEN CREDIT_TYPE= 'Credit card' THEN CNT_CREDIT_PROLONG ELSE 0 END) AS MAX_CREDIT_TYPE_Credit_card_CNT_CREDIT_PROLONG,\n",
            "MAX(CASE WHEN CREDIT_TYPE= 'Credit card' THEN AMT_CREDIT_SUM ELSE 0 END) AS MAX_CREDIT_TYPE_Credit_card_AMT_CREDIT_SUM,\n",
            "MAX(CASE WHEN CREDIT_TYPE= 'Credit card' THEN AMT_CREDIT_SUM_DEBT ELSE 0 END) AS MAX_CREDIT_TYPE_Credit_card_AMT_CREDIT_SUM_DEBT,\n",
            "MAX(CASE WHEN CREDIT_TYPE= 'Credit card' THEN AMT_CREDIT_SUM_LIMIT ELSE 0 END) AS MAX_CREDIT_TYPE_Credit_card_AMT_CREDIT_SUM_LIMIT,\n",
            "MAX(CASE WHEN CREDIT_TYPE= 'Credit card' THEN AMT_CREDIT_SUM_OVERDUE ELSE 0 END) AS MAX_CREDIT_TYPE_Credit_card_AMT_CREDIT_SUM_OVERDUE,\n",
            "MAX(CASE WHEN CREDIT_TYPE= 'Credit card' THEN AMT_ANNUITY ELSE 0 END) AS MAX_CREDIT_TYPE_Credit_card_AMT_ANNUITY,\n",
            "MAX(CASE WHEN CREDIT_TYPE= 'Consumer credit' THEN AMT_CREDIT_MAX_OVERDUE ELSE 0 END) AS MAX_CREDIT_TYPE_Consumer_credit_AMT_CREDIT_MAX_OVERDUE,\n",
            "MAX(CASE WHEN CREDIT_TYPE= 'Consumer credit' THEN CNT_CREDIT_PROLONG ELSE 0 END) AS MAX_CREDIT_TYPE_Consumer_credit_CNT_CREDIT_PROLONG,\n",
            "MAX(CASE WHEN CREDIT_TYPE= 'Consumer credit' THEN AMT_CREDIT_SUM ELSE 0 END) AS MAX_CREDIT_TYPE_Consumer_credit_AMT_CREDIT_SUM,\n",
            "MAX(CASE WHEN CREDIT_TYPE= 'Consumer credit' THEN AMT_CREDIT_SUM_DEBT ELSE 0 END) AS MAX_CREDIT_TYPE_Consumer_credit_AMT_CREDIT_SUM_DEBT,\n",
            "MAX(CASE WHEN CREDIT_TYPE= 'Consumer credit' THEN AMT_CREDIT_SUM_LIMIT ELSE 0 END) AS MAX_CREDIT_TYPE_Consumer_credit_AMT_CREDIT_SUM_LIMIT,\n",
            "MAX(CASE WHEN CREDIT_TYPE= 'Consumer credit' THEN AMT_CREDIT_SUM_OVERDUE ELSE 0 END) AS MAX_CREDIT_TYPE_Consumer_credit_AMT_CREDIT_SUM_OVERDUE,\n",
            "MAX(CASE WHEN CREDIT_TYPE= 'Consumer credit' THEN AMT_ANNUITY ELSE 0 END) AS MAX_CREDIT_TYPE_Consumer_credit_AMT_ANNUITY,\n",
            "AVG(CASE WHEN CREDIT_TYPE= 'Mobile operator loan' THEN AMT_CREDIT_MAX_OVERDUE ELSE 0 END) AS AVG_CREDIT_TYPE_Mobile_operator_loan_AMT_CREDIT_MAX_OVERDUE,\n",
            "AVG(CASE WHEN CREDIT_TYPE= 'Mobile operator loan' THEN CNT_CREDIT_PROLONG ELSE 0 END) AS AVG_CREDIT_TYPE_Mobile_operator_loan_CNT_CREDIT_PROLONG,\n",
            "AVG(CASE WHEN CREDIT_TYPE= 'Mobile operator loan' THEN AMT_CREDIT_SUM ELSE 0 END) AS AVG_CREDIT_TYPE_Mobile_operator_loan_AMT_CREDIT_SUM,\n",
            "AVG(CASE WHEN CREDIT_TYPE= 'Mobile operator loan' THEN AMT_CREDIT_SUM_DEBT ELSE 0 END) AS AVG_CREDIT_TYPE_Mobile_operator_loan_AMT_CREDIT_SUM_DEBT,\n",
            "AVG(CASE WHEN CREDIT_TYPE= 'Mobile operator loan' THEN AMT_CREDIT_SUM_LIMIT ELSE 0 END) AS AVG_CREDIT_TYPE_Mobile_operator_loan_AMT_CREDIT_SUM_LIMIT,\n",
            "AVG(CASE WHEN CREDIT_TYPE= 'Mobile operator loan' THEN AMT_CREDIT_SUM_OVERDUE ELSE 0 END) AS AVG_CREDIT_TYPE_Mobile_operator_loan_AMT_CREDIT_SUM_OVERDUE,\n",
            "AVG(CASE WHEN CREDIT_TYPE= 'Mobile operator loan' THEN AMT_ANNUITY ELSE 0 END) AS AVG_CREDIT_TYPE_Mobile_operator_loan_AMT_ANNUITY,\n",
            "AVG(CASE WHEN CREDIT_TYPE= 'Interbank credit' THEN AMT_CREDIT_MAX_OVERDUE ELSE 0 END) AS AVG_CREDIT_TYPE_Interbank_credit_AMT_CREDIT_MAX_OVERDUE,\n",
            "AVG(CASE WHEN CREDIT_TYPE= 'Interbank credit' THEN CNT_CREDIT_PROLONG ELSE 0 END) AS AVG_CREDIT_TYPE_Interbank_credit_CNT_CREDIT_PROLONG,\n",
            "AVG(CASE WHEN CREDIT_TYPE= 'Interbank credit' THEN AMT_CREDIT_SUM ELSE 0 END) AS AVG_CREDIT_TYPE_Interbank_credit_AMT_CREDIT_SUM,\n",
            "AVG(CASE WHEN CREDIT_TYPE= 'Interbank credit' THEN AMT_CREDIT_SUM_DEBT ELSE 0 END) AS AVG_CREDIT_TYPE_Interbank_credit_AMT_CREDIT_SUM_DEBT,\n",
            "AVG(CASE WHEN CREDIT_TYPE= 'Interbank credit' THEN AMT_CREDIT_SUM_LIMIT ELSE 0 END) AS AVG_CREDIT_TYPE_Interbank_credit_AMT_CREDIT_SUM_LIMIT,\n",
            "AVG(CASE WHEN CREDIT_TYPE= 'Interbank credit' THEN AMT_CREDIT_SUM_OVERDUE ELSE 0 END) AS AVG_CREDIT_TYPE_Interbank_credit_AMT_CREDIT_SUM_OVERDUE,\n",
            "AVG(CASE WHEN CREDIT_TYPE= 'Interbank credit' THEN AMT_ANNUITY ELSE 0 END) AS AVG_CREDIT_TYPE_Interbank_credit_AMT_ANNUITY,\n",
            "AVG(CASE WHEN CREDIT_TYPE= 'Loan for purchase of shares' THEN AMT_CREDIT_MAX_OVERDUE ELSE 0 END) AS AVG_CREDIT_TYPE_Loan_for_purchase_of_shares_AMT_CREDIT_MAX_OVERDUE,\n",
            "AVG(CASE WHEN CREDIT_TYPE= 'Loan for purchase of shares' THEN CNT_CREDIT_PROLONG ELSE 0 END) AS AVG_CREDIT_TYPE_Loan_for_purchase_of_shares_CNT_CREDIT_PROLONG,\n",
            "AVG(CASE WHEN CREDIT_TYPE= 'Loan for purchase of shares' THEN AMT_CREDIT_SUM ELSE 0 END) AS AVG_CREDIT_TYPE_Loan_for_purchase_of_shares_AMT_CREDIT_SUM,\n",
            "AVG(CASE WHEN CREDIT_TYPE= 'Loan for purchase of shares' THEN AMT_CREDIT_SUM_DEBT ELSE 0 END) AS AVG_CREDIT_TYPE_Loan_for_purchase_of_shares_AMT_CREDIT_SUM_DEBT,\n",
            "AVG(CASE WHEN CREDIT_TYPE= 'Loan for purchase of shares' THEN AMT_CREDIT_SUM_LIMIT ELSE 0 END) AS AVG_CREDIT_TYPE_Loan_for_purchase_of_shares_AMT_CREDIT_SUM_LIMIT,\n",
            "AVG(CASE WHEN CREDIT_TYPE= 'Loan for purchase of shares' THEN AMT_CREDIT_SUM_OVERDUE ELSE 0 END) AS AVG_CREDIT_TYPE_Loan_for_purchase_of_shares_AMT_CREDIT_SUM_OVERDUE,\n",
            "AVG(CASE WHEN CREDIT_TYPE= 'Loan for purchase of shares' THEN AMT_ANNUITY ELSE 0 END) AS AVG_CREDIT_TYPE_Loan_for_purchase_of_shares_AMT_ANNUITY,\n",
            "AVG(CASE WHEN CREDIT_TYPE= 'Loan for the purchase of equipment' THEN AMT_CREDIT_MAX_OVERDUE ELSE 0 END) AS AVG_CREDIT_TYPE_Loan_for_the_purchase_of_equipment_AMT_CREDIT_MAX_OVERDUE,\n",
            "AVG(CASE WHEN CREDIT_TYPE= 'Loan for the purchase of equipment' THEN CNT_CREDIT_PROLONG ELSE 0 END) AS AVG_CREDIT_TYPE_Loan_for_the_purchase_of_equipment_CNT_CREDIT_PROLONG,\n",
            "AVG(CASE WHEN CREDIT_TYPE= 'Loan for the purchase of equipment' THEN AMT_CREDIT_SUM ELSE 0 END) AS AVG_CREDIT_TYPE_Loan_for_the_purchase_of_equipment_AMT_CREDIT_SUM,\n",
            "AVG(CASE WHEN CREDIT_TYPE= 'Loan for the purchase of equipment' THEN AMT_CREDIT_SUM_DEBT ELSE 0 END) AS AVG_CREDIT_TYPE_Loan_for_the_purchase_of_equipment_AMT_CREDIT_SUM_DEBT,\n",
            "AVG(CASE WHEN CREDIT_TYPE= 'Loan for the purchase of equipment' THEN AMT_CREDIT_SUM_LIMIT ELSE 0 END) AS AVG_CREDIT_TYPE_Loan_for_the_purchase_of_equipment_AMT_CREDIT_SUM_LIMIT,\n",
            "AVG(CASE WHEN CREDIT_TYPE= 'Loan for the purchase of equipment' THEN AMT_CREDIT_SUM_OVERDUE ELSE 0 END) AS AVG_CREDIT_TYPE_Loan_for_the_purchase_of_equipment_AMT_CREDIT_SUM_OVERDUE,\n",
            "AVG(CASE WHEN CREDIT_TYPE= 'Loan for the purchase of equipment' THEN AMT_ANNUITY ELSE 0 END) AS AVG_CREDIT_TYPE_Loan_for_the_purchase_of_equipment_AMT_ANNUITY,\n",
            "AVG(CASE WHEN CREDIT_TYPE= 'Real estate loan' THEN AMT_CREDIT_MAX_OVERDUE ELSE 0 END) AS AVG_CREDIT_TYPE_Real_estate_loan_AMT_CREDIT_MAX_OVERDUE,\n",
            "AVG(CASE WHEN CREDIT_TYPE= 'Real estate loan' THEN CNT_CREDIT_PROLONG ELSE 0 END) AS AVG_CREDIT_TYPE_Real_estate_loan_CNT_CREDIT_PROLONG,\n",
            "AVG(CASE WHEN CREDIT_TYPE= 'Real estate loan' THEN AMT_CREDIT_SUM ELSE 0 END) AS AVG_CREDIT_TYPE_Real_estate_loan_AMT_CREDIT_SUM,\n",
            "AVG(CASE WHEN CREDIT_TYPE= 'Real estate loan' THEN AMT_CREDIT_SUM_DEBT ELSE 0 END) AS AVG_CREDIT_TYPE_Real_estate_loan_AMT_CREDIT_SUM_DEBT,\n",
            "AVG(CASE WHEN CREDIT_TYPE= 'Real estate loan' THEN AMT_CREDIT_SUM_LIMIT ELSE 0 END) AS AVG_CREDIT_TYPE_Real_estate_loan_AMT_CREDIT_SUM_LIMIT,\n",
            "AVG(CASE WHEN CREDIT_TYPE= 'Real estate loan' THEN AMT_CREDIT_SUM_OVERDUE ELSE 0 END) AS AVG_CREDIT_TYPE_Real_estate_loan_AMT_CREDIT_SUM_OVERDUE,\n",
            "AVG(CASE WHEN CREDIT_TYPE= 'Real estate loan' THEN AMT_ANNUITY ELSE 0 END) AS AVG_CREDIT_TYPE_Real_estate_loan_AMT_ANNUITY,\n",
            "AVG(CASE WHEN CREDIT_TYPE= 'Cash loan' THEN AMT_CREDIT_MAX_OVERDUE ELSE 0 END) AS AVG_CREDIT_TYPE_Cash_loan_AMT_CREDIT_MAX_OVERDUE,\n",
            "AVG(CASE WHEN CREDIT_TYPE= 'Cash loan' THEN CNT_CREDIT_PROLONG ELSE 0 END) AS AVG_CREDIT_TYPE_Cash_loan_CNT_CREDIT_PROLONG,\n",
            "AVG(CASE WHEN CREDIT_TYPE= 'Cash loan' THEN AMT_CREDIT_SUM ELSE 0 END) AS AVG_CREDIT_TYPE_Cash_loan_AMT_CREDIT_SUM,\n",
            "AVG(CASE WHEN CREDIT_TYPE= 'Cash loan' THEN AMT_CREDIT_SUM_DEBT ELSE 0 END) AS AVG_CREDIT_TYPE_Cash_loan_AMT_CREDIT_SUM_DEBT,\n",
            "AVG(CASE WHEN CREDIT_TYPE= 'Cash loan' THEN AMT_CREDIT_SUM_LIMIT ELSE 0 END) AS AVG_CREDIT_TYPE_Cash_loan_AMT_CREDIT_SUM_LIMIT,\n",
            "AVG(CASE WHEN CREDIT_TYPE= 'Cash loan' THEN AMT_CREDIT_SUM_OVERDUE ELSE 0 END) AS AVG_CREDIT_TYPE_Cash_loan_AMT_CREDIT_SUM_OVERDUE,\n",
            "AVG(CASE WHEN CREDIT_TYPE= 'Cash loan' THEN AMT_ANNUITY ELSE 0 END) AS AVG_CREDIT_TYPE_Cash_loan_AMT_ANNUITY,\n",
            "AVG(CASE WHEN CREDIT_TYPE= 'Loan for working capital replenishment' THEN AMT_CREDIT_MAX_OVERDUE ELSE 0 END) AS AVG_CREDIT_TYPE_Loan_for_working_capital_replenishment_AMT_CREDIT_MAX_OVERDUE,\n",
            "AVG(CASE WHEN CREDIT_TYPE= 'Loan for working capital replenishment' THEN CNT_CREDIT_PROLONG ELSE 0 END) AS AVG_CREDIT_TYPE_Loan_for_working_capital_replenishment_CNT_CREDIT_PROLONG,\n",
            "AVG(CASE WHEN CREDIT_TYPE= 'Loan for working capital replenishment' THEN AMT_CREDIT_SUM ELSE 0 END) AS AVG_CREDIT_TYPE_Loan_for_working_capital_replenishment_AMT_CREDIT_SUM,\n",
            "AVG(CASE WHEN CREDIT_TYPE= 'Loan for working capital replenishment' THEN AMT_CREDIT_SUM_DEBT ELSE 0 END) AS AVG_CREDIT_TYPE_Loan_for_working_capital_replenishment_AMT_CREDIT_SUM_DEBT,\n",
            "AVG(CASE WHEN CREDIT_TYPE= 'Loan for working capital replenishment' THEN AMT_CREDIT_SUM_LIMIT ELSE 0 END) AS AVG_CREDIT_TYPE_Loan_for_working_capital_replenishment_AMT_CREDIT_SUM_LIMIT,\n",
            "AVG(CASE WHEN CREDIT_TYPE= 'Loan for working capital replenishment' THEN AMT_CREDIT_SUM_OVERDUE ELSE 0 END) AS AVG_CREDIT_TYPE_Loan_for_working_capital_replenishment_AMT_CREDIT_SUM_OVERDUE,\n",
            "AVG(CASE WHEN CREDIT_TYPE= 'Loan for working capital replenishment' THEN AMT_ANNUITY ELSE 0 END) AS AVG_CREDIT_TYPE_Loan_for_working_capital_replenishment_AMT_ANNUITY,\n",
            "AVG(CASE WHEN CREDIT_TYPE= 'Unknown type of loan' THEN AMT_CREDIT_MAX_OVERDUE ELSE 0 END) AS AVG_CREDIT_TYPE_Unknown_type_of_loan_AMT_CREDIT_MAX_OVERDUE,\n",
            "AVG(CASE WHEN CREDIT_TYPE= 'Unknown type of loan' THEN CNT_CREDIT_PROLONG ELSE 0 END) AS AVG_CREDIT_TYPE_Unknown_type_of_loan_CNT_CREDIT_PROLONG,\n",
            "AVG(CASE WHEN CREDIT_TYPE= 'Unknown type of loan' THEN AMT_CREDIT_SUM ELSE 0 END) AS AVG_CREDIT_TYPE_Unknown_type_of_loan_AMT_CREDIT_SUM,\n",
            "AVG(CASE WHEN CREDIT_TYPE= 'Unknown type of loan' THEN AMT_CREDIT_SUM_DEBT ELSE 0 END) AS AVG_CREDIT_TYPE_Unknown_type_of_loan_AMT_CREDIT_SUM_DEBT,\n",
            "AVG(CASE WHEN CREDIT_TYPE= 'Unknown type of loan' THEN AMT_CREDIT_SUM_LIMIT ELSE 0 END) AS AVG_CREDIT_TYPE_Unknown_type_of_loan_AMT_CREDIT_SUM_LIMIT,\n",
            "AVG(CASE WHEN CREDIT_TYPE= 'Unknown type of loan' THEN AMT_CREDIT_SUM_OVERDUE ELSE 0 END) AS AVG_CREDIT_TYPE_Unknown_type_of_loan_AMT_CREDIT_SUM_OVERDUE,\n",
            "AVG(CASE WHEN CREDIT_TYPE= 'Unknown type of loan' THEN AMT_ANNUITY ELSE 0 END) AS AVG_CREDIT_TYPE_Unknown_type_of_loan_AMT_ANNUITY,\n",
            "AVG(CASE WHEN CREDIT_TYPE= 'Another type of loan' THEN AMT_CREDIT_MAX_OVERDUE ELSE 0 END) AS AVG_CREDIT_TYPE_Another_type_of_loan_AMT_CREDIT_MAX_OVERDUE,\n",
            "AVG(CASE WHEN CREDIT_TYPE= 'Another type of loan' THEN CNT_CREDIT_PROLONG ELSE 0 END) AS AVG_CREDIT_TYPE_Another_type_of_loan_CNT_CREDIT_PROLONG,\n",
            "AVG(CASE WHEN CREDIT_TYPE= 'Another type of loan' THEN AMT_CREDIT_SUM ELSE 0 END) AS AVG_CREDIT_TYPE_Another_type_of_loan_AMT_CREDIT_SUM,\n",
            "AVG(CASE WHEN CREDIT_TYPE= 'Another type of loan' THEN AMT_CREDIT_SUM_DEBT ELSE 0 END) AS AVG_CREDIT_TYPE_Another_type_of_loan_AMT_CREDIT_SUM_DEBT,\n",
            "AVG(CASE WHEN CREDIT_TYPE= 'Another type of loan' THEN AMT_CREDIT_SUM_LIMIT ELSE 0 END) AS AVG_CREDIT_TYPE_Another_type_of_loan_AMT_CREDIT_SUM_LIMIT,\n",
            "AVG(CASE WHEN CREDIT_TYPE= 'Another type of loan' THEN AMT_CREDIT_SUM_OVERDUE ELSE 0 END) AS AVG_CREDIT_TYPE_Another_type_of_loan_AMT_CREDIT_SUM_OVERDUE,\n",
            "AVG(CASE WHEN CREDIT_TYPE= 'Another type of loan' THEN AMT_ANNUITY ELSE 0 END) AS AVG_CREDIT_TYPE_Another_type_of_loan_AMT_ANNUITY,\n",
            "AVG(CASE WHEN CREDIT_TYPE= 'Loan for business development' THEN AMT_CREDIT_MAX_OVERDUE ELSE 0 END) AS AVG_CREDIT_TYPE_Loan_for_business_development_AMT_CREDIT_MAX_OVERDUE,\n",
            "AVG(CASE WHEN CREDIT_TYPE= 'Loan for business development' THEN CNT_CREDIT_PROLONG ELSE 0 END) AS AVG_CREDIT_TYPE_Loan_for_business_development_CNT_CREDIT_PROLONG,\n",
            "AVG(CASE WHEN CREDIT_TYPE= 'Loan for business development' THEN AMT_CREDIT_SUM ELSE 0 END) AS AVG_CREDIT_TYPE_Loan_for_business_development_AMT_CREDIT_SUM,\n",
            "AVG(CASE WHEN CREDIT_TYPE= 'Loan for business development' THEN AMT_CREDIT_SUM_DEBT ELSE 0 END) AS AVG_CREDIT_TYPE_Loan_for_business_development_AMT_CREDIT_SUM_DEBT,\n",
            "AVG(CASE WHEN CREDIT_TYPE= 'Loan for business development' THEN AMT_CREDIT_SUM_LIMIT ELSE 0 END) AS AVG_CREDIT_TYPE_Loan_for_business_development_AMT_CREDIT_SUM_LIMIT,\n",
            "AVG(CASE WHEN CREDIT_TYPE= 'Loan for business development' THEN AMT_CREDIT_SUM_OVERDUE ELSE 0 END) AS AVG_CREDIT_TYPE_Loan_for_business_development_AMT_CREDIT_SUM_OVERDUE,\n",
            "AVG(CASE WHEN CREDIT_TYPE= 'Loan for business development' THEN AMT_ANNUITY ELSE 0 END) AS AVG_CREDIT_TYPE_Loan_for_business_development_AMT_ANNUITY,\n",
            "AVG(CASE WHEN CREDIT_TYPE= 'Microloan' THEN AMT_CREDIT_MAX_OVERDUE ELSE 0 END) AS AVG_CREDIT_TYPE_Microloan_AMT_CREDIT_MAX_OVERDUE,\n",
            "AVG(CASE WHEN CREDIT_TYPE= 'Microloan' THEN CNT_CREDIT_PROLONG ELSE 0 END) AS AVG_CREDIT_TYPE_Microloan_CNT_CREDIT_PROLONG,\n",
            "AVG(CASE WHEN CREDIT_TYPE= 'Microloan' THEN AMT_CREDIT_SUM ELSE 0 END) AS AVG_CREDIT_TYPE_Microloan_AMT_CREDIT_SUM,\n",
            "AVG(CASE WHEN CREDIT_TYPE= 'Microloan' THEN AMT_CREDIT_SUM_DEBT ELSE 0 END) AS AVG_CREDIT_TYPE_Microloan_AMT_CREDIT_SUM_DEBT,\n",
            "AVG(CASE WHEN CREDIT_TYPE= 'Microloan' THEN AMT_CREDIT_SUM_LIMIT ELSE 0 END) AS AVG_CREDIT_TYPE_Microloan_AMT_CREDIT_SUM_LIMIT,\n",
            "AVG(CASE WHEN CREDIT_TYPE= 'Microloan' THEN AMT_CREDIT_SUM_OVERDUE ELSE 0 END) AS AVG_CREDIT_TYPE_Microloan_AMT_CREDIT_SUM_OVERDUE,\n",
            "AVG(CASE WHEN CREDIT_TYPE= 'Microloan' THEN AMT_ANNUITY ELSE 0 END) AS AVG_CREDIT_TYPE_Microloan_AMT_ANNUITY,\n",
            "AVG(CASE WHEN CREDIT_TYPE= 'Mortgage' THEN AMT_CREDIT_MAX_OVERDUE ELSE 0 END) AS AVG_CREDIT_TYPE_Mortgage_AMT_CREDIT_MAX_OVERDUE,\n",
            "AVG(CASE WHEN CREDIT_TYPE= 'Mortgage' THEN CNT_CREDIT_PROLONG ELSE 0 END) AS AVG_CREDIT_TYPE_Mortgage_CNT_CREDIT_PROLONG,\n",
            "AVG(CASE WHEN CREDIT_TYPE= 'Mortgage' THEN AMT_CREDIT_SUM ELSE 0 END) AS AVG_CREDIT_TYPE_Mortgage_AMT_CREDIT_SUM,\n",
            "AVG(CASE WHEN CREDIT_TYPE= 'Mortgage' THEN AMT_CREDIT_SUM_DEBT ELSE 0 END) AS AVG_CREDIT_TYPE_Mortgage_AMT_CREDIT_SUM_DEBT,\n",
            "AVG(CASE WHEN CREDIT_TYPE= 'Mortgage' THEN AMT_CREDIT_SUM_LIMIT ELSE 0 END) AS AVG_CREDIT_TYPE_Mortgage_AMT_CREDIT_SUM_LIMIT,\n",
            "AVG(CASE WHEN CREDIT_TYPE= 'Mortgage' THEN AMT_CREDIT_SUM_OVERDUE ELSE 0 END) AS AVG_CREDIT_TYPE_Mortgage_AMT_CREDIT_SUM_OVERDUE,\n",
            "AVG(CASE WHEN CREDIT_TYPE= 'Mortgage' THEN AMT_ANNUITY ELSE 0 END) AS AVG_CREDIT_TYPE_Mortgage_AMT_ANNUITY,\n",
            "AVG(CASE WHEN CREDIT_TYPE= 'Car loan' THEN AMT_CREDIT_MAX_OVERDUE ELSE 0 END) AS AVG_CREDIT_TYPE_Car_loan_AMT_CREDIT_MAX_OVERDUE,\n",
            "AVG(CASE WHEN CREDIT_TYPE= 'Car loan' THEN CNT_CREDIT_PROLONG ELSE 0 END) AS AVG_CREDIT_TYPE_Car_loan_CNT_CREDIT_PROLONG,\n",
            "AVG(CASE WHEN CREDIT_TYPE= 'Car loan' THEN AMT_CREDIT_SUM ELSE 0 END) AS AVG_CREDIT_TYPE_Car_loan_AMT_CREDIT_SUM,\n",
            "AVG(CASE WHEN CREDIT_TYPE= 'Car loan' THEN AMT_CREDIT_SUM_DEBT ELSE 0 END) AS AVG_CREDIT_TYPE_Car_loan_AMT_CREDIT_SUM_DEBT,\n",
            "AVG(CASE WHEN CREDIT_TYPE= 'Car loan' THEN AMT_CREDIT_SUM_LIMIT ELSE 0 END) AS AVG_CREDIT_TYPE_Car_loan_AMT_CREDIT_SUM_LIMIT,\n",
            "AVG(CASE WHEN CREDIT_TYPE= 'Car loan' THEN AMT_CREDIT_SUM_OVERDUE ELSE 0 END) AS AVG_CREDIT_TYPE_Car_loan_AMT_CREDIT_SUM_OVERDUE,\n",
            "AVG(CASE WHEN CREDIT_TYPE= 'Car loan' THEN AMT_ANNUITY ELSE 0 END) AS AVG_CREDIT_TYPE_Car_loan_AMT_ANNUITY,\n",
            "AVG(CASE WHEN CREDIT_TYPE= 'Credit card' THEN AMT_CREDIT_MAX_OVERDUE ELSE 0 END) AS AVG_CREDIT_TYPE_Credit_card_AMT_CREDIT_MAX_OVERDUE,\n",
            "AVG(CASE WHEN CREDIT_TYPE= 'Credit card' THEN CNT_CREDIT_PROLONG ELSE 0 END) AS AVG_CREDIT_TYPE_Credit_card_CNT_CREDIT_PROLONG,\n",
            "AVG(CASE WHEN CREDIT_TYPE= 'Credit card' THEN AMT_CREDIT_SUM ELSE 0 END) AS AVG_CREDIT_TYPE_Credit_card_AMT_CREDIT_SUM,\n",
            "AVG(CASE WHEN CREDIT_TYPE= 'Credit card' THEN AMT_CREDIT_SUM_DEBT ELSE 0 END) AS AVG_CREDIT_TYPE_Credit_card_AMT_CREDIT_SUM_DEBT,\n",
            "AVG(CASE WHEN CREDIT_TYPE= 'Credit card' THEN AMT_CREDIT_SUM_LIMIT ELSE 0 END) AS AVG_CREDIT_TYPE_Credit_card_AMT_CREDIT_SUM_LIMIT,\n",
            "AVG(CASE WHEN CREDIT_TYPE= 'Credit card' THEN AMT_CREDIT_SUM_OVERDUE ELSE 0 END) AS AVG_CREDIT_TYPE_Credit_card_AMT_CREDIT_SUM_OVERDUE,\n",
            "AVG(CASE WHEN CREDIT_TYPE= 'Credit card' THEN AMT_ANNUITY ELSE 0 END) AS AVG_CREDIT_TYPE_Credit_card_AMT_ANNUITY,\n",
            "AVG(CASE WHEN CREDIT_TYPE= 'Consumer credit' THEN AMT_CREDIT_MAX_OVERDUE ELSE 0 END) AS AVG_CREDIT_TYPE_Consumer_credit_AMT_CREDIT_MAX_OVERDUE,\n",
            "AVG(CASE WHEN CREDIT_TYPE= 'Consumer credit' THEN CNT_CREDIT_PROLONG ELSE 0 END) AS AVG_CREDIT_TYPE_Consumer_credit_CNT_CREDIT_PROLONG,\n",
            "AVG(CASE WHEN CREDIT_TYPE= 'Consumer credit' THEN AMT_CREDIT_SUM ELSE 0 END) AS AVG_CREDIT_TYPE_Consumer_credit_AMT_CREDIT_SUM,\n",
            "AVG(CASE WHEN CREDIT_TYPE= 'Consumer credit' THEN AMT_CREDIT_SUM_DEBT ELSE 0 END) AS AVG_CREDIT_TYPE_Consumer_credit_AMT_CREDIT_SUM_DEBT,\n",
            "AVG(CASE WHEN CREDIT_TYPE= 'Consumer credit' THEN AMT_CREDIT_SUM_LIMIT ELSE 0 END) AS AVG_CREDIT_TYPE_Consumer_credit_AMT_CREDIT_SUM_LIMIT,\n",
            "AVG(CASE WHEN CREDIT_TYPE= 'Consumer credit' THEN AMT_CREDIT_SUM_OVERDUE ELSE 0 END) AS AVG_CREDIT_TYPE_Consumer_credit_AMT_CREDIT_SUM_OVERDUE,\n",
            "AVG(CASE WHEN CREDIT_TYPE= 'Consumer credit' THEN AMT_ANNUITY ELSE 0 END) AS AVG_CREDIT_TYPE_Consumer_credit_AMT_ANNUITY,\n"
          ]
        }
      ]
    },
    {
      "cell_type": "markdown",
      "source": [
        "- Craindo o dataframe df_bureau_credit_type_num"
      ],
      "metadata": {
        "id": "fgj_cJOJtFPA"
      }
    },
    {
      "cell_type": "code",
      "source": [
        "df_bureau_credit_type_num = spark.sql(\"\"\"\n",
        "SELECT\n",
        "  SK_ID_CURR,\n",
        "SUM(CASE WHEN CREDIT_TYPE= 'Mobile operator loan' THEN AMT_CREDIT_MAX_OVERDUE ELSE 0 END) AS SUM_CREDIT_TYPE_Mobile_operator_loan_AMT_CREDIT_MAX_OVERDUE,\n",
        "SUM(CASE WHEN CREDIT_TYPE= 'Mobile operator loan' THEN CNT_CREDIT_PROLONG ELSE 0 END) AS SUM_CREDIT_TYPE_Mobile_operator_loan_CNT_CREDIT_PROLONG,\n",
        "SUM(CASE WHEN CREDIT_TYPE= 'Mobile operator loan' THEN AMT_CREDIT_SUM ELSE 0 END) AS SUM_CREDIT_TYPE_Mobile_operator_loan_AMT_CREDIT_SUM,\n",
        "SUM(CASE WHEN CREDIT_TYPE= 'Mobile operator loan' THEN AMT_CREDIT_SUM_DEBT ELSE 0 END) AS SUM_CREDIT_TYPE_Mobile_operator_loan_AMT_CREDIT_SUM_DEBT,\n",
        "SUM(CASE WHEN CREDIT_TYPE= 'Mobile operator loan' THEN AMT_CREDIT_SUM_LIMIT ELSE 0 END) AS SUM_CREDIT_TYPE_Mobile_operator_loan_AMT_CREDIT_SUM_LIMIT,\n",
        "SUM(CASE WHEN CREDIT_TYPE= 'Mobile operator loan' THEN AMT_CREDIT_SUM_OVERDUE ELSE 0 END) AS SUM_CREDIT_TYPE_Mobile_operator_loan_AMT_CREDIT_SUM_OVERDUE,\n",
        "SUM(CASE WHEN CREDIT_TYPE= 'Mobile operator loan' THEN AMT_ANNUITY ELSE 0 END) AS SUM_CREDIT_TYPE_Mobile_operator_loan_AMT_ANNUITY,\n",
        "SUM(CASE WHEN CREDIT_TYPE= 'Interbank credit' THEN AMT_CREDIT_MAX_OVERDUE ELSE 0 END) AS SUM_CREDIT_TYPE_Interbank_credit_AMT_CREDIT_MAX_OVERDUE,\n",
        "SUM(CASE WHEN CREDIT_TYPE= 'Interbank credit' THEN CNT_CREDIT_PROLONG ELSE 0 END) AS SUM_CREDIT_TYPE_Interbank_credit_CNT_CREDIT_PROLONG,\n",
        "SUM(CASE WHEN CREDIT_TYPE= 'Interbank credit' THEN AMT_CREDIT_SUM ELSE 0 END) AS SUM_CREDIT_TYPE_Interbank_credit_AMT_CREDIT_SUM,\n",
        "SUM(CASE WHEN CREDIT_TYPE= 'Interbank credit' THEN AMT_CREDIT_SUM_DEBT ELSE 0 END) AS SUM_CREDIT_TYPE_Interbank_credit_AMT_CREDIT_SUM_DEBT,\n",
        "SUM(CASE WHEN CREDIT_TYPE= 'Interbank credit' THEN AMT_CREDIT_SUM_LIMIT ELSE 0 END) AS SUM_CREDIT_TYPE_Interbank_credit_AMT_CREDIT_SUM_LIMIT,\n",
        "SUM(CASE WHEN CREDIT_TYPE= 'Interbank credit' THEN AMT_CREDIT_SUM_OVERDUE ELSE 0 END) AS SUM_CREDIT_TYPE_Interbank_credit_AMT_CREDIT_SUM_OVERDUE,\n",
        "SUM(CASE WHEN CREDIT_TYPE= 'Interbank credit' THEN AMT_ANNUITY ELSE 0 END) AS SUM_CREDIT_TYPE_Interbank_credit_AMT_ANNUITY,\n",
        "SUM(CASE WHEN CREDIT_TYPE= 'Loan for purchase of shares' THEN AMT_CREDIT_MAX_OVERDUE ELSE 0 END) AS SUM_CREDIT_TYPE_Loan_for_purchase_of_shares_AMT_CREDIT_MAX_OVERDUE,\n",
        "SUM(CASE WHEN CREDIT_TYPE= 'Loan for purchase of shares' THEN CNT_CREDIT_PROLONG ELSE 0 END) AS SUM_CREDIT_TYPE_Loan_for_purchase_of_shares_CNT_CREDIT_PROLONG,\n",
        "SUM(CASE WHEN CREDIT_TYPE= 'Loan for purchase of shares' THEN AMT_CREDIT_SUM ELSE 0 END) AS SUM_CREDIT_TYPE_Loan_for_purchase_of_shares_AMT_CREDIT_SUM,\n",
        "SUM(CASE WHEN CREDIT_TYPE= 'Loan for purchase of shares' THEN AMT_CREDIT_SUM_DEBT ELSE 0 END) AS SUM_CREDIT_TYPE_Loan_for_purchase_of_shares_AMT_CREDIT_SUM_DEBT,\n",
        "SUM(CASE WHEN CREDIT_TYPE= 'Loan for purchase of shares' THEN AMT_CREDIT_SUM_LIMIT ELSE 0 END) AS SUM_CREDIT_TYPE_Loan_for_purchase_of_shares_AMT_CREDIT_SUM_LIMIT,\n",
        "SUM(CASE WHEN CREDIT_TYPE= 'Loan for purchase of shares' THEN AMT_CREDIT_SUM_OVERDUE ELSE 0 END) AS SUM_CREDIT_TYPE_Loan_for_purchase_of_shares_AMT_CREDIT_SUM_OVERDUE,\n",
        "SUM(CASE WHEN CREDIT_TYPE= 'Loan for purchase of shares' THEN AMT_ANNUITY ELSE 0 END) AS SUM_CREDIT_TYPE_Loan_for_purchase_of_shares_AMT_ANNUITY,\n",
        "SUM(CASE WHEN CREDIT_TYPE= 'Loan for the purchase of equipment' THEN AMT_CREDIT_MAX_OVERDUE ELSE 0 END) AS SUM_CREDIT_TYPE_Loan_for_the_purchase_of_equipment_AMT_CREDIT_MAX_OVERDUE,\n",
        "SUM(CASE WHEN CREDIT_TYPE= 'Loan for the purchase of equipment' THEN CNT_CREDIT_PROLONG ELSE 0 END) AS SUM_CREDIT_TYPE_Loan_for_the_purchase_of_equipment_CNT_CREDIT_PROLONG,\n",
        "SUM(CASE WHEN CREDIT_TYPE= 'Loan for the purchase of equipment' THEN AMT_CREDIT_SUM ELSE 0 END) AS SUM_CREDIT_TYPE_Loan_for_the_purchase_of_equipment_AMT_CREDIT_SUM,\n",
        "SUM(CASE WHEN CREDIT_TYPE= 'Loan for the purchase of equipment' THEN AMT_CREDIT_SUM_DEBT ELSE 0 END) AS SUM_CREDIT_TYPE_Loan_for_the_purchase_of_equipment_AMT_CREDIT_SUM_DEBT,\n",
        "SUM(CASE WHEN CREDIT_TYPE= 'Loan for the purchase of equipment' THEN AMT_CREDIT_SUM_LIMIT ELSE 0 END) AS SUM_CREDIT_TYPE_Loan_for_the_purchase_of_equipment_AMT_CREDIT_SUM_LIMIT,\n",
        "SUM(CASE WHEN CREDIT_TYPE= 'Loan for the purchase of equipment' THEN AMT_CREDIT_SUM_OVERDUE ELSE 0 END) AS SUM_CREDIT_TYPE_Loan_for_the_purchase_of_equipment_AMT_CREDIT_SUM_OVERDUE,\n",
        "SUM(CASE WHEN CREDIT_TYPE= 'Loan for the purchase of equipment' THEN AMT_ANNUITY ELSE 0 END) AS SUM_CREDIT_TYPE_Loan_for_the_purchase_of_equipment_AMT_ANNUITY,\n",
        "SUM(CASE WHEN CREDIT_TYPE= 'Real estate loan' THEN AMT_CREDIT_MAX_OVERDUE ELSE 0 END) AS SUM_CREDIT_TYPE_Real_estate_loan_AMT_CREDIT_MAX_OVERDUE,\n",
        "SUM(CASE WHEN CREDIT_TYPE= 'Real estate loan' THEN CNT_CREDIT_PROLONG ELSE 0 END) AS SUM_CREDIT_TYPE_Real_estate_loan_CNT_CREDIT_PROLONG,\n",
        "SUM(CASE WHEN CREDIT_TYPE= 'Real estate loan' THEN AMT_CREDIT_SUM ELSE 0 END) AS SUM_CREDIT_TYPE_Real_estate_loan_AMT_CREDIT_SUM,\n",
        "SUM(CASE WHEN CREDIT_TYPE= 'Real estate loan' THEN AMT_CREDIT_SUM_DEBT ELSE 0 END) AS SUM_CREDIT_TYPE_Real_estate_loan_AMT_CREDIT_SUM_DEBT,\n",
        "SUM(CASE WHEN CREDIT_TYPE= 'Real estate loan' THEN AMT_CREDIT_SUM_LIMIT ELSE 0 END) AS SUM_CREDIT_TYPE_Real_estate_loan_AMT_CREDIT_SUM_LIMIT,\n",
        "SUM(CASE WHEN CREDIT_TYPE= 'Real estate loan' THEN AMT_CREDIT_SUM_OVERDUE ELSE 0 END) AS SUM_CREDIT_TYPE_Real_estate_loan_AMT_CREDIT_SUM_OVERDUE,\n",
        "SUM(CASE WHEN CREDIT_TYPE= 'Real estate loan' THEN AMT_ANNUITY ELSE 0 END) AS SUM_CREDIT_TYPE_Real_estate_loan_AMT_ANNUITY,\n",
        "SUM(CASE WHEN CREDIT_TYPE= 'Cash loan' THEN AMT_CREDIT_MAX_OVERDUE ELSE 0 END) AS SUM_CREDIT_TYPE_Cash_loan_AMT_CREDIT_MAX_OVERDUE,\n",
        "SUM(CASE WHEN CREDIT_TYPE= 'Cash loan' THEN CNT_CREDIT_PROLONG ELSE 0 END) AS SUM_CREDIT_TYPE_Cash_loan_CNT_CREDIT_PROLONG,\n",
        "SUM(CASE WHEN CREDIT_TYPE= 'Cash loan' THEN AMT_CREDIT_SUM ELSE 0 END) AS SUM_CREDIT_TYPE_Cash_loan_AMT_CREDIT_SUM,\n",
        "SUM(CASE WHEN CREDIT_TYPE= 'Cash loan' THEN AMT_CREDIT_SUM_DEBT ELSE 0 END) AS SUM_CREDIT_TYPE_Cash_loan_AMT_CREDIT_SUM_DEBT,\n",
        "SUM(CASE WHEN CREDIT_TYPE= 'Cash loan' THEN AMT_CREDIT_SUM_LIMIT ELSE 0 END) AS SUM_CREDIT_TYPE_Cash_loan_AMT_CREDIT_SUM_LIMIT,\n",
        "SUM(CASE WHEN CREDIT_TYPE= 'Cash loan' THEN AMT_CREDIT_SUM_OVERDUE ELSE 0 END) AS SUM_CREDIT_TYPE_Cash_loan_AMT_CREDIT_SUM_OVERDUE,\n",
        "SUM(CASE WHEN CREDIT_TYPE= 'Cash loan' THEN AMT_ANNUITY ELSE 0 END) AS SUM_CREDIT_TYPE_Cash_loan_AMT_ANNUITY,\n",
        "SUM(CASE WHEN CREDIT_TYPE= 'Loan for working capital replenishment' THEN AMT_CREDIT_MAX_OVERDUE ELSE 0 END) AS SUM_CREDIT_TYPE_Loan_for_working_capital_replenishment_AMT_CREDIT_MAX_OVERDUE,\n",
        "SUM(CASE WHEN CREDIT_TYPE= 'Loan for working capital replenishment' THEN CNT_CREDIT_PROLONG ELSE 0 END) AS SUM_CREDIT_TYPE_Loan_for_working_capital_replenishment_CNT_CREDIT_PROLONG,\n",
        "SUM(CASE WHEN CREDIT_TYPE= 'Loan for working capital replenishment' THEN AMT_CREDIT_SUM ELSE 0 END) AS SUM_CREDIT_TYPE_Loan_for_working_capital_replenishment_AMT_CREDIT_SUM,\n",
        "SUM(CASE WHEN CREDIT_TYPE= 'Loan for working capital replenishment' THEN AMT_CREDIT_SUM_DEBT ELSE 0 END) AS SUM_CREDIT_TYPE_Loan_for_working_capital_replenishment_AMT_CREDIT_SUM_DEBT,\n",
        "SUM(CASE WHEN CREDIT_TYPE= 'Loan for working capital replenishment' THEN AMT_CREDIT_SUM_LIMIT ELSE 0 END) AS SUM_CREDIT_TYPE_Loan_for_working_capital_replenishment_AMT_CREDIT_SUM_LIMIT,\n",
        "SUM(CASE WHEN CREDIT_TYPE= 'Loan for working capital replenishment' THEN AMT_CREDIT_SUM_OVERDUE ELSE 0 END) AS SUM_CREDIT_TYPE_Loan_for_working_capital_replenishment_AMT_CREDIT_SUM_OVERDUE,\n",
        "SUM(CASE WHEN CREDIT_TYPE= 'Loan for working capital replenishment' THEN AMT_ANNUITY ELSE 0 END) AS SUM_CREDIT_TYPE_Loan_for_working_capital_replenishment_AMT_ANNUITY,\n",
        "SUM(CASE WHEN CREDIT_TYPE= 'Unknown type of loan' THEN AMT_CREDIT_MAX_OVERDUE ELSE 0 END) AS SUM_CREDIT_TYPE_Unknown_type_of_loan_AMT_CREDIT_MAX_OVERDUE,\n",
        "SUM(CASE WHEN CREDIT_TYPE= 'Unknown type of loan' THEN CNT_CREDIT_PROLONG ELSE 0 END) AS SUM_CREDIT_TYPE_Unknown_type_of_loan_CNT_CREDIT_PROLONG,\n",
        "SUM(CASE WHEN CREDIT_TYPE= 'Unknown type of loan' THEN AMT_CREDIT_SUM ELSE 0 END) AS SUM_CREDIT_TYPE_Unknown_type_of_loan_AMT_CREDIT_SUM,\n",
        "SUM(CASE WHEN CREDIT_TYPE= 'Unknown type of loan' THEN AMT_CREDIT_SUM_DEBT ELSE 0 END) AS SUM_CREDIT_TYPE_Unknown_type_of_loan_AMT_CREDIT_SUM_DEBT,\n",
        "SUM(CASE WHEN CREDIT_TYPE= 'Unknown type of loan' THEN AMT_CREDIT_SUM_LIMIT ELSE 0 END) AS SUM_CREDIT_TYPE_Unknown_type_of_loan_AMT_CREDIT_SUM_LIMIT,\n",
        "SUM(CASE WHEN CREDIT_TYPE= 'Unknown type of loan' THEN AMT_CREDIT_SUM_OVERDUE ELSE 0 END) AS SUM_CREDIT_TYPE_Unknown_type_of_loan_AMT_CREDIT_SUM_OVERDUE,\n",
        "SUM(CASE WHEN CREDIT_TYPE= 'Unknown type of loan' THEN AMT_ANNUITY ELSE 0 END) AS SUM_CREDIT_TYPE_Unknown_type_of_loan_AMT_ANNUITY,\n",
        "SUM(CASE WHEN CREDIT_TYPE= 'Another type of loan' THEN AMT_CREDIT_MAX_OVERDUE ELSE 0 END) AS SUM_CREDIT_TYPE_Another_type_of_loan_AMT_CREDIT_MAX_OVERDUE,\n",
        "SUM(CASE WHEN CREDIT_TYPE= 'Another type of loan' THEN CNT_CREDIT_PROLONG ELSE 0 END) AS SUM_CREDIT_TYPE_Another_type_of_loan_CNT_CREDIT_PROLONG,\n",
        "SUM(CASE WHEN CREDIT_TYPE= 'Another type of loan' THEN AMT_CREDIT_SUM ELSE 0 END) AS SUM_CREDIT_TYPE_Another_type_of_loan_AMT_CREDIT_SUM,\n",
        "SUM(CASE WHEN CREDIT_TYPE= 'Another type of loan' THEN AMT_CREDIT_SUM_DEBT ELSE 0 END) AS SUM_CREDIT_TYPE_Another_type_of_loan_AMT_CREDIT_SUM_DEBT,\n",
        "SUM(CASE WHEN CREDIT_TYPE= 'Another type of loan' THEN AMT_CREDIT_SUM_LIMIT ELSE 0 END) AS SUM_CREDIT_TYPE_Another_type_of_loan_AMT_CREDIT_SUM_LIMIT,\n",
        "SUM(CASE WHEN CREDIT_TYPE= 'Another type of loan' THEN AMT_CREDIT_SUM_OVERDUE ELSE 0 END) AS SUM_CREDIT_TYPE_Another_type_of_loan_AMT_CREDIT_SUM_OVERDUE,\n",
        "SUM(CASE WHEN CREDIT_TYPE= 'Another type of loan' THEN AMT_ANNUITY ELSE 0 END) AS SUM_CREDIT_TYPE_Another_type_of_loan_AMT_ANNUITY,\n",
        "SUM(CASE WHEN CREDIT_TYPE= 'Loan for business development' THEN AMT_CREDIT_MAX_OVERDUE ELSE 0 END) AS SUM_CREDIT_TYPE_Loan_for_business_development_AMT_CREDIT_MAX_OVERDUE,\n",
        "SUM(CASE WHEN CREDIT_TYPE= 'Loan for business development' THEN CNT_CREDIT_PROLONG ELSE 0 END) AS SUM_CREDIT_TYPE_Loan_for_business_development_CNT_CREDIT_PROLONG,\n",
        "SUM(CASE WHEN CREDIT_TYPE= 'Loan for business development' THEN AMT_CREDIT_SUM ELSE 0 END) AS SUM_CREDIT_TYPE_Loan_for_business_development_AMT_CREDIT_SUM,\n",
        "SUM(CASE WHEN CREDIT_TYPE= 'Loan for business development' THEN AMT_CREDIT_SUM_DEBT ELSE 0 END) AS SUM_CREDIT_TYPE_Loan_for_business_development_AMT_CREDIT_SUM_DEBT,\n",
        "SUM(CASE WHEN CREDIT_TYPE= 'Loan for business development' THEN AMT_CREDIT_SUM_LIMIT ELSE 0 END) AS SUM_CREDIT_TYPE_Loan_for_business_development_AMT_CREDIT_SUM_LIMIT,\n",
        "SUM(CASE WHEN CREDIT_TYPE= 'Loan for business development' THEN AMT_CREDIT_SUM_OVERDUE ELSE 0 END) AS SUM_CREDIT_TYPE_Loan_for_business_development_AMT_CREDIT_SUM_OVERDUE,\n",
        "SUM(CASE WHEN CREDIT_TYPE= 'Loan for business development' THEN AMT_ANNUITY ELSE 0 END) AS SUM_CREDIT_TYPE_Loan_for_business_development_AMT_ANNUITY,\n",
        "SUM(CASE WHEN CREDIT_TYPE= 'Microloan' THEN AMT_CREDIT_MAX_OVERDUE ELSE 0 END) AS SUM_CREDIT_TYPE_Microloan_AMT_CREDIT_MAX_OVERDUE,\n",
        "SUM(CASE WHEN CREDIT_TYPE= 'Microloan' THEN CNT_CREDIT_PROLONG ELSE 0 END) AS SUM_CREDIT_TYPE_Microloan_CNT_CREDIT_PROLONG,\n",
        "SUM(CASE WHEN CREDIT_TYPE= 'Microloan' THEN AMT_CREDIT_SUM ELSE 0 END) AS SUM_CREDIT_TYPE_Microloan_AMT_CREDIT_SUM,\n",
        "SUM(CASE WHEN CREDIT_TYPE= 'Microloan' THEN AMT_CREDIT_SUM_DEBT ELSE 0 END) AS SUM_CREDIT_TYPE_Microloan_AMT_CREDIT_SUM_DEBT,\n",
        "SUM(CASE WHEN CREDIT_TYPE= 'Microloan' THEN AMT_CREDIT_SUM_LIMIT ELSE 0 END) AS SUM_CREDIT_TYPE_Microloan_AMT_CREDIT_SUM_LIMIT,\n",
        "SUM(CASE WHEN CREDIT_TYPE= 'Microloan' THEN AMT_CREDIT_SUM_OVERDUE ELSE 0 END) AS SUM_CREDIT_TYPE_Microloan_AMT_CREDIT_SUM_OVERDUE,\n",
        "SUM(CASE WHEN CREDIT_TYPE= 'Microloan' THEN AMT_ANNUITY ELSE 0 END) AS SUM_CREDIT_TYPE_Microloan_AMT_ANNUITY,\n",
        "SUM(CASE WHEN CREDIT_TYPE= 'Mortgage' THEN AMT_CREDIT_MAX_OVERDUE ELSE 0 END) AS SUM_CREDIT_TYPE_Mortgage_AMT_CREDIT_MAX_OVERDUE,\n",
        "SUM(CASE WHEN CREDIT_TYPE= 'Mortgage' THEN CNT_CREDIT_PROLONG ELSE 0 END) AS SUM_CREDIT_TYPE_Mortgage_CNT_CREDIT_PROLONG,\n",
        "SUM(CASE WHEN CREDIT_TYPE= 'Mortgage' THEN AMT_CREDIT_SUM ELSE 0 END) AS SUM_CREDIT_TYPE_Mortgage_AMT_CREDIT_SUM,\n",
        "SUM(CASE WHEN CREDIT_TYPE= 'Mortgage' THEN AMT_CREDIT_SUM_DEBT ELSE 0 END) AS SUM_CREDIT_TYPE_Mortgage_AMT_CREDIT_SUM_DEBT,\n",
        "SUM(CASE WHEN CREDIT_TYPE= 'Mortgage' THEN AMT_CREDIT_SUM_LIMIT ELSE 0 END) AS SUM_CREDIT_TYPE_Mortgage_AMT_CREDIT_SUM_LIMIT,\n",
        "SUM(CASE WHEN CREDIT_TYPE= 'Mortgage' THEN AMT_CREDIT_SUM_OVERDUE ELSE 0 END) AS SUM_CREDIT_TYPE_Mortgage_AMT_CREDIT_SUM_OVERDUE,\n",
        "SUM(CASE WHEN CREDIT_TYPE= 'Mortgage' THEN AMT_ANNUITY ELSE 0 END) AS SUM_CREDIT_TYPE_Mortgage_AMT_ANNUITY,\n",
        "SUM(CASE WHEN CREDIT_TYPE= 'Car loan' THEN AMT_CREDIT_MAX_OVERDUE ELSE 0 END) AS SUM_CREDIT_TYPE_Car_loan_AMT_CREDIT_MAX_OVERDUE,\n",
        "SUM(CASE WHEN CREDIT_TYPE= 'Car loan' THEN CNT_CREDIT_PROLONG ELSE 0 END) AS SUM_CREDIT_TYPE_Car_loan_CNT_CREDIT_PROLONG,\n",
        "SUM(CASE WHEN CREDIT_TYPE= 'Car loan' THEN AMT_CREDIT_SUM ELSE 0 END) AS SUM_CREDIT_TYPE_Car_loan_AMT_CREDIT_SUM,\n",
        "SUM(CASE WHEN CREDIT_TYPE= 'Car loan' THEN AMT_CREDIT_SUM_DEBT ELSE 0 END) AS SUM_CREDIT_TYPE_Car_loan_AMT_CREDIT_SUM_DEBT,\n",
        "SUM(CASE WHEN CREDIT_TYPE= 'Car loan' THEN AMT_CREDIT_SUM_LIMIT ELSE 0 END) AS SUM_CREDIT_TYPE_Car_loan_AMT_CREDIT_SUM_LIMIT,\n",
        "SUM(CASE WHEN CREDIT_TYPE= 'Car loan' THEN AMT_CREDIT_SUM_OVERDUE ELSE 0 END) AS SUM_CREDIT_TYPE_Car_loan_AMT_CREDIT_SUM_OVERDUE,\n",
        "SUM(CASE WHEN CREDIT_TYPE= 'Car loan' THEN AMT_ANNUITY ELSE 0 END) AS SUM_CREDIT_TYPE_Car_loan_AMT_ANNUITY,\n",
        "SUM(CASE WHEN CREDIT_TYPE= 'Credit card' THEN AMT_CREDIT_MAX_OVERDUE ELSE 0 END) AS SUM_CREDIT_TYPE_Credit_card_AMT_CREDIT_MAX_OVERDUE,\n",
        "SUM(CASE WHEN CREDIT_TYPE= 'Credit card' THEN CNT_CREDIT_PROLONG ELSE 0 END) AS SUM_CREDIT_TYPE_Credit_card_CNT_CREDIT_PROLONG,\n",
        "SUM(CASE WHEN CREDIT_TYPE= 'Credit card' THEN AMT_CREDIT_SUM ELSE 0 END) AS SUM_CREDIT_TYPE_Credit_card_AMT_CREDIT_SUM,\n",
        "SUM(CASE WHEN CREDIT_TYPE= 'Credit card' THEN AMT_CREDIT_SUM_DEBT ELSE 0 END) AS SUM_CREDIT_TYPE_Credit_card_AMT_CREDIT_SUM_DEBT,\n",
        "SUM(CASE WHEN CREDIT_TYPE= 'Credit card' THEN AMT_CREDIT_SUM_LIMIT ELSE 0 END) AS SUM_CREDIT_TYPE_Credit_card_AMT_CREDIT_SUM_LIMIT,\n",
        "SUM(CASE WHEN CREDIT_TYPE= 'Credit card' THEN AMT_CREDIT_SUM_OVERDUE ELSE 0 END) AS SUM_CREDIT_TYPE_Credit_card_AMT_CREDIT_SUM_OVERDUE,\n",
        "SUM(CASE WHEN CREDIT_TYPE= 'Credit card' THEN AMT_ANNUITY ELSE 0 END) AS SUM_CREDIT_TYPE_Credit_card_AMT_ANNUITY,\n",
        "SUM(CASE WHEN CREDIT_TYPE= 'Consumer credit' THEN AMT_CREDIT_MAX_OVERDUE ELSE 0 END) AS SUM_CREDIT_TYPE_Consumer_credit_AMT_CREDIT_MAX_OVERDUE,\n",
        "SUM(CASE WHEN CREDIT_TYPE= 'Consumer credit' THEN CNT_CREDIT_PROLONG ELSE 0 END) AS SUM_CREDIT_TYPE_Consumer_credit_CNT_CREDIT_PROLONG,\n",
        "SUM(CASE WHEN CREDIT_TYPE= 'Consumer credit' THEN AMT_CREDIT_SUM ELSE 0 END) AS SUM_CREDIT_TYPE_Consumer_credit_AMT_CREDIT_SUM,\n",
        "SUM(CASE WHEN CREDIT_TYPE= 'Consumer credit' THEN AMT_CREDIT_SUM_DEBT ELSE 0 END) AS SUM_CREDIT_TYPE_Consumer_credit_AMT_CREDIT_SUM_DEBT,\n",
        "SUM(CASE WHEN CREDIT_TYPE= 'Consumer credit' THEN AMT_CREDIT_SUM_LIMIT ELSE 0 END) AS SUM_CREDIT_TYPE_Consumer_credit_AMT_CREDIT_SUM_LIMIT,\n",
        "SUM(CASE WHEN CREDIT_TYPE= 'Consumer credit' THEN AMT_CREDIT_SUM_OVERDUE ELSE 0 END) AS SUM_CREDIT_TYPE_Consumer_credit_AMT_CREDIT_SUM_OVERDUE,\n",
        "SUM(CASE WHEN CREDIT_TYPE= 'Consumer credit' THEN AMT_ANNUITY ELSE 0 END) AS SUM_CREDIT_TYPE_Consumer_credit_AMT_ANNUITY,\n",
        "MIN(CASE WHEN CREDIT_TYPE= 'Mobile operator loan' THEN AMT_CREDIT_MAX_OVERDUE ELSE 0 END) AS MIN_CREDIT_TYPE_Mobile_operator_loan_AMT_CREDIT_MAX_OVERDUE,\n",
        "MIN(CASE WHEN CREDIT_TYPE= 'Mobile operator loan' THEN CNT_CREDIT_PROLONG ELSE 0 END) AS MIN_CREDIT_TYPE_Mobile_operator_loan_CNT_CREDIT_PROLONG,\n",
        "MIN(CASE WHEN CREDIT_TYPE= 'Mobile operator loan' THEN AMT_CREDIT_SUM ELSE 0 END) AS MIN_CREDIT_TYPE_Mobile_operator_loan_AMT_CREDIT_SUM,\n",
        "MIN(CASE WHEN CREDIT_TYPE= 'Mobile operator loan' THEN AMT_CREDIT_SUM_DEBT ELSE 0 END) AS MIN_CREDIT_TYPE_Mobile_operator_loan_AMT_CREDIT_SUM_DEBT,\n",
        "MIN(CASE WHEN CREDIT_TYPE= 'Mobile operator loan' THEN AMT_CREDIT_SUM_LIMIT ELSE 0 END) AS MIN_CREDIT_TYPE_Mobile_operator_loan_AMT_CREDIT_SUM_LIMIT,\n",
        "MIN(CASE WHEN CREDIT_TYPE= 'Mobile operator loan' THEN AMT_CREDIT_SUM_OVERDUE ELSE 0 END) AS MIN_CREDIT_TYPE_Mobile_operator_loan_AMT_CREDIT_SUM_OVERDUE,\n",
        "MIN(CASE WHEN CREDIT_TYPE= 'Mobile operator loan' THEN AMT_ANNUITY ELSE 0 END) AS MIN_CREDIT_TYPE_Mobile_operator_loan_AMT_ANNUITY,\n",
        "MIN(CASE WHEN CREDIT_TYPE= 'Interbank credit' THEN AMT_CREDIT_MAX_OVERDUE ELSE 0 END) AS MIN_CREDIT_TYPE_Interbank_credit_AMT_CREDIT_MAX_OVERDUE,\n",
        "MIN(CASE WHEN CREDIT_TYPE= 'Interbank credit' THEN CNT_CREDIT_PROLONG ELSE 0 END) AS MIN_CREDIT_TYPE_Interbank_credit_CNT_CREDIT_PROLONG,\n",
        "MIN(CASE WHEN CREDIT_TYPE= 'Interbank credit' THEN AMT_CREDIT_SUM ELSE 0 END) AS MIN_CREDIT_TYPE_Interbank_credit_AMT_CREDIT_SUM,\n",
        "MIN(CASE WHEN CREDIT_TYPE= 'Interbank credit' THEN AMT_CREDIT_SUM_DEBT ELSE 0 END) AS MIN_CREDIT_TYPE_Interbank_credit_AMT_CREDIT_SUM_DEBT,\n",
        "MIN(CASE WHEN CREDIT_TYPE= 'Interbank credit' THEN AMT_CREDIT_SUM_LIMIT ELSE 0 END) AS MIN_CREDIT_TYPE_Interbank_credit_AMT_CREDIT_SUM_LIMIT,\n",
        "MIN(CASE WHEN CREDIT_TYPE= 'Interbank credit' THEN AMT_CREDIT_SUM_OVERDUE ELSE 0 END) AS MIN_CREDIT_TYPE_Interbank_credit_AMT_CREDIT_SUM_OVERDUE,\n",
        "MIN(CASE WHEN CREDIT_TYPE= 'Interbank credit' THEN AMT_ANNUITY ELSE 0 END) AS MIN_CREDIT_TYPE_Interbank_credit_AMT_ANNUITY,\n",
        "MIN(CASE WHEN CREDIT_TYPE= 'Loan for purchase of shares' THEN AMT_CREDIT_MAX_OVERDUE ELSE 0 END) AS MIN_CREDIT_TYPE_Loan_for_purchase_of_shares_AMT_CREDIT_MAX_OVERDUE,\n",
        "MIN(CASE WHEN CREDIT_TYPE= 'Loan for purchase of shares' THEN CNT_CREDIT_PROLONG ELSE 0 END) AS MIN_CREDIT_TYPE_Loan_for_purchase_of_shares_CNT_CREDIT_PROLONG,\n",
        "MIN(CASE WHEN CREDIT_TYPE= 'Loan for purchase of shares' THEN AMT_CREDIT_SUM ELSE 0 END) AS MIN_CREDIT_TYPE_Loan_for_purchase_of_shares_AMT_CREDIT_SUM,\n",
        "MIN(CASE WHEN CREDIT_TYPE= 'Loan for purchase of shares' THEN AMT_CREDIT_SUM_DEBT ELSE 0 END) AS MIN_CREDIT_TYPE_Loan_for_purchase_of_shares_AMT_CREDIT_SUM_DEBT,\n",
        "MIN(CASE WHEN CREDIT_TYPE= 'Loan for purchase of shares' THEN AMT_CREDIT_SUM_LIMIT ELSE 0 END) AS MIN_CREDIT_TYPE_Loan_for_purchase_of_shares_AMT_CREDIT_SUM_LIMIT,\n",
        "MIN(CASE WHEN CREDIT_TYPE= 'Loan for purchase of shares' THEN AMT_CREDIT_SUM_OVERDUE ELSE 0 END) AS MIN_CREDIT_TYPE_Loan_for_purchase_of_shares_AMT_CREDIT_SUM_OVERDUE,\n",
        "MIN(CASE WHEN CREDIT_TYPE= 'Loan for purchase of shares' THEN AMT_ANNUITY ELSE 0 END) AS MIN_CREDIT_TYPE_Loan_for_purchase_of_shares_AMT_ANNUITY,\n",
        "MIN(CASE WHEN CREDIT_TYPE= 'Loan for the purchase of equipment' THEN AMT_CREDIT_MAX_OVERDUE ELSE 0 END) AS MIN_CREDIT_TYPE_Loan_for_the_purchase_of_equipment_AMT_CREDIT_MAX_OVERDUE,\n",
        "MIN(CASE WHEN CREDIT_TYPE= 'Loan for the purchase of equipment' THEN CNT_CREDIT_PROLONG ELSE 0 END) AS MIN_CREDIT_TYPE_Loan_for_the_purchase_of_equipment_CNT_CREDIT_PROLONG,\n",
        "MIN(CASE WHEN CREDIT_TYPE= 'Loan for the purchase of equipment' THEN AMT_CREDIT_SUM ELSE 0 END) AS MIN_CREDIT_TYPE_Loan_for_the_purchase_of_equipment_AMT_CREDIT_SUM,\n",
        "MIN(CASE WHEN CREDIT_TYPE= 'Loan for the purchase of equipment' THEN AMT_CREDIT_SUM_DEBT ELSE 0 END) AS MIN_CREDIT_TYPE_Loan_for_the_purchase_of_equipment_AMT_CREDIT_SUM_DEBT,\n",
        "MIN(CASE WHEN CREDIT_TYPE= 'Loan for the purchase of equipment' THEN AMT_CREDIT_SUM_LIMIT ELSE 0 END) AS MIN_CREDIT_TYPE_Loan_for_the_purchase_of_equipment_AMT_CREDIT_SUM_LIMIT,\n",
        "MIN(CASE WHEN CREDIT_TYPE= 'Loan for the purchase of equipment' THEN AMT_CREDIT_SUM_OVERDUE ELSE 0 END) AS MIN_CREDIT_TYPE_Loan_for_the_purchase_of_equipment_AMT_CREDIT_SUM_OVERDUE,\n",
        "MIN(CASE WHEN CREDIT_TYPE= 'Loan for the purchase of equipment' THEN AMT_ANNUITY ELSE 0 END) AS MIN_CREDIT_TYPE_Loan_for_the_purchase_of_equipment_AMT_ANNUITY,\n",
        "MIN(CASE WHEN CREDIT_TYPE= 'Real estate loan' THEN AMT_CREDIT_MAX_OVERDUE ELSE 0 END) AS MIN_CREDIT_TYPE_Real_estate_loan_AMT_CREDIT_MAX_OVERDUE,\n",
        "MIN(CASE WHEN CREDIT_TYPE= 'Real estate loan' THEN CNT_CREDIT_PROLONG ELSE 0 END) AS MIN_CREDIT_TYPE_Real_estate_loan_CNT_CREDIT_PROLONG,\n",
        "MIN(CASE WHEN CREDIT_TYPE= 'Real estate loan' THEN AMT_CREDIT_SUM ELSE 0 END) AS MIN_CREDIT_TYPE_Real_estate_loan_AMT_CREDIT_SUM,\n",
        "MIN(CASE WHEN CREDIT_TYPE= 'Real estate loan' THEN AMT_CREDIT_SUM_DEBT ELSE 0 END) AS MIN_CREDIT_TYPE_Real_estate_loan_AMT_CREDIT_SUM_DEBT,\n",
        "MIN(CASE WHEN CREDIT_TYPE= 'Real estate loan' THEN AMT_CREDIT_SUM_LIMIT ELSE 0 END) AS MIN_CREDIT_TYPE_Real_estate_loan_AMT_CREDIT_SUM_LIMIT,\n",
        "MIN(CASE WHEN CREDIT_TYPE= 'Real estate loan' THEN AMT_CREDIT_SUM_OVERDUE ELSE 0 END) AS MIN_CREDIT_TYPE_Real_estate_loan_AMT_CREDIT_SUM_OVERDUE,\n",
        "MIN(CASE WHEN CREDIT_TYPE= 'Real estate loan' THEN AMT_ANNUITY ELSE 0 END) AS MIN_CREDIT_TYPE_Real_estate_loan_AMT_ANNUITY,\n",
        "MIN(CASE WHEN CREDIT_TYPE= 'Cash loan' THEN AMT_CREDIT_MAX_OVERDUE ELSE 0 END) AS MIN_CREDIT_TYPE_Cash_loan_AMT_CREDIT_MAX_OVERDUE,\n",
        "MIN(CASE WHEN CREDIT_TYPE= 'Cash loan' THEN CNT_CREDIT_PROLONG ELSE 0 END) AS MIN_CREDIT_TYPE_Cash_loan_CNT_CREDIT_PROLONG,\n",
        "MIN(CASE WHEN CREDIT_TYPE= 'Cash loan' THEN AMT_CREDIT_SUM ELSE 0 END) AS MIN_CREDIT_TYPE_Cash_loan_AMT_CREDIT_SUM,\n",
        "MIN(CASE WHEN CREDIT_TYPE= 'Cash loan' THEN AMT_CREDIT_SUM_DEBT ELSE 0 END) AS MIN_CREDIT_TYPE_Cash_loan_AMT_CREDIT_SUM_DEBT,\n",
        "MIN(CASE WHEN CREDIT_TYPE= 'Cash loan' THEN AMT_CREDIT_SUM_LIMIT ELSE 0 END) AS MIN_CREDIT_TYPE_Cash_loan_AMT_CREDIT_SUM_LIMIT,\n",
        "MIN(CASE WHEN CREDIT_TYPE= 'Cash loan' THEN AMT_CREDIT_SUM_OVERDUE ELSE 0 END) AS MIN_CREDIT_TYPE_Cash_loan_AMT_CREDIT_SUM_OVERDUE,\n",
        "MIN(CASE WHEN CREDIT_TYPE= 'Cash loan' THEN AMT_ANNUITY ELSE 0 END) AS MIN_CREDIT_TYPE_Cash_loan_AMT_ANNUITY,\n",
        "MIN(CASE WHEN CREDIT_TYPE= 'Loan for working capital replenishment' THEN AMT_CREDIT_MAX_OVERDUE ELSE 0 END) AS MIN_CREDIT_TYPE_Loan_for_working_capital_replenishment_AMT_CREDIT_MAX_OVERDUE,\n",
        "MIN(CASE WHEN CREDIT_TYPE= 'Loan for working capital replenishment' THEN CNT_CREDIT_PROLONG ELSE 0 END) AS MIN_CREDIT_TYPE_Loan_for_working_capital_replenishment_CNT_CREDIT_PROLONG,\n",
        "MIN(CASE WHEN CREDIT_TYPE= 'Loan for working capital replenishment' THEN AMT_CREDIT_SUM ELSE 0 END) AS MIN_CREDIT_TYPE_Loan_for_working_capital_replenishment_AMT_CREDIT_SUM,\n",
        "MIN(CASE WHEN CREDIT_TYPE= 'Loan for working capital replenishment' THEN AMT_CREDIT_SUM_DEBT ELSE 0 END) AS MIN_CREDIT_TYPE_Loan_for_working_capital_replenishment_AMT_CREDIT_SUM_DEBT,\n",
        "MIN(CASE WHEN CREDIT_TYPE= 'Loan for working capital replenishment' THEN AMT_CREDIT_SUM_LIMIT ELSE 0 END) AS MIN_CREDIT_TYPE_Loan_for_working_capital_replenishment_AMT_CREDIT_SUM_LIMIT,\n",
        "MIN(CASE WHEN CREDIT_TYPE= 'Loan for working capital replenishment' THEN AMT_CREDIT_SUM_OVERDUE ELSE 0 END) AS MIN_CREDIT_TYPE_Loan_for_working_capital_replenishment_AMT_CREDIT_SUM_OVERDUE,\n",
        "MIN(CASE WHEN CREDIT_TYPE= 'Loan for working capital replenishment' THEN AMT_ANNUITY ELSE 0 END) AS MIN_CREDIT_TYPE_Loan_for_working_capital_replenishment_AMT_ANNUITY,\n",
        "MIN(CASE WHEN CREDIT_TYPE= 'Unknown type of loan' THEN AMT_CREDIT_MAX_OVERDUE ELSE 0 END) AS MIN_CREDIT_TYPE_Unknown_type_of_loan_AMT_CREDIT_MAX_OVERDUE,\n",
        "MIN(CASE WHEN CREDIT_TYPE= 'Unknown type of loan' THEN CNT_CREDIT_PROLONG ELSE 0 END) AS MIN_CREDIT_TYPE_Unknown_type_of_loan_CNT_CREDIT_PROLONG,\n",
        "MIN(CASE WHEN CREDIT_TYPE= 'Unknown type of loan' THEN AMT_CREDIT_SUM ELSE 0 END) AS MIN_CREDIT_TYPE_Unknown_type_of_loan_AMT_CREDIT_SUM,\n",
        "MIN(CASE WHEN CREDIT_TYPE= 'Unknown type of loan' THEN AMT_CREDIT_SUM_DEBT ELSE 0 END) AS MIN_CREDIT_TYPE_Unknown_type_of_loan_AMT_CREDIT_SUM_DEBT,\n",
        "MIN(CASE WHEN CREDIT_TYPE= 'Unknown type of loan' THEN AMT_CREDIT_SUM_LIMIT ELSE 0 END) AS MIN_CREDIT_TYPE_Unknown_type_of_loan_AMT_CREDIT_SUM_LIMIT,\n",
        "MIN(CASE WHEN CREDIT_TYPE= 'Unknown type of loan' THEN AMT_CREDIT_SUM_OVERDUE ELSE 0 END) AS MIN_CREDIT_TYPE_Unknown_type_of_loan_AMT_CREDIT_SUM_OVERDUE,\n",
        "MIN(CASE WHEN CREDIT_TYPE= 'Unknown type of loan' THEN AMT_ANNUITY ELSE 0 END) AS MIN_CREDIT_TYPE_Unknown_type_of_loan_AMT_ANNUITY,\n",
        "MIN(CASE WHEN CREDIT_TYPE= 'Another type of loan' THEN AMT_CREDIT_MAX_OVERDUE ELSE 0 END) AS MIN_CREDIT_TYPE_Another_type_of_loan_AMT_CREDIT_MAX_OVERDUE,\n",
        "MIN(CASE WHEN CREDIT_TYPE= 'Another type of loan' THEN CNT_CREDIT_PROLONG ELSE 0 END) AS MIN_CREDIT_TYPE_Another_type_of_loan_CNT_CREDIT_PROLONG,\n",
        "MIN(CASE WHEN CREDIT_TYPE= 'Another type of loan' THEN AMT_CREDIT_SUM ELSE 0 END) AS MIN_CREDIT_TYPE_Another_type_of_loan_AMT_CREDIT_SUM,\n",
        "MIN(CASE WHEN CREDIT_TYPE= 'Another type of loan' THEN AMT_CREDIT_SUM_DEBT ELSE 0 END) AS MIN_CREDIT_TYPE_Another_type_of_loan_AMT_CREDIT_SUM_DEBT,\n",
        "MIN(CASE WHEN CREDIT_TYPE= 'Another type of loan' THEN AMT_CREDIT_SUM_LIMIT ELSE 0 END) AS MIN_CREDIT_TYPE_Another_type_of_loan_AMT_CREDIT_SUM_LIMIT,\n",
        "MIN(CASE WHEN CREDIT_TYPE= 'Another type of loan' THEN AMT_CREDIT_SUM_OVERDUE ELSE 0 END) AS MIN_CREDIT_TYPE_Another_type_of_loan_AMT_CREDIT_SUM_OVERDUE,\n",
        "MIN(CASE WHEN CREDIT_TYPE= 'Another type of loan' THEN AMT_ANNUITY ELSE 0 END) AS MIN_CREDIT_TYPE_Another_type_of_loan_AMT_ANNUITY,\n",
        "MIN(CASE WHEN CREDIT_TYPE= 'Loan for business development' THEN AMT_CREDIT_MAX_OVERDUE ELSE 0 END) AS MIN_CREDIT_TYPE_Loan_for_business_development_AMT_CREDIT_MAX_OVERDUE,\n",
        "MIN(CASE WHEN CREDIT_TYPE= 'Loan for business development' THEN CNT_CREDIT_PROLONG ELSE 0 END) AS MIN_CREDIT_TYPE_Loan_for_business_development_CNT_CREDIT_PROLONG,\n",
        "MIN(CASE WHEN CREDIT_TYPE= 'Loan for business development' THEN AMT_CREDIT_SUM ELSE 0 END) AS MIN_CREDIT_TYPE_Loan_for_business_development_AMT_CREDIT_SUM,\n",
        "MIN(CASE WHEN CREDIT_TYPE= 'Loan for business development' THEN AMT_CREDIT_SUM_DEBT ELSE 0 END) AS MIN_CREDIT_TYPE_Loan_for_business_development_AMT_CREDIT_SUM_DEBT,\n",
        "MIN(CASE WHEN CREDIT_TYPE= 'Loan for business development' THEN AMT_CREDIT_SUM_LIMIT ELSE 0 END) AS MIN_CREDIT_TYPE_Loan_for_business_development_AMT_CREDIT_SUM_LIMIT,\n",
        "MIN(CASE WHEN CREDIT_TYPE= 'Loan for business development' THEN AMT_CREDIT_SUM_OVERDUE ELSE 0 END) AS MIN_CREDIT_TYPE_Loan_for_business_development_AMT_CREDIT_SUM_OVERDUE,\n",
        "MIN(CASE WHEN CREDIT_TYPE= 'Loan for business development' THEN AMT_ANNUITY ELSE 0 END) AS MIN_CREDIT_TYPE_Loan_for_business_development_AMT_ANNUITY,\n",
        "MIN(CASE WHEN CREDIT_TYPE= 'Microloan' THEN AMT_CREDIT_MAX_OVERDUE ELSE 0 END) AS MIN_CREDIT_TYPE_Microloan_AMT_CREDIT_MAX_OVERDUE,\n",
        "MIN(CASE WHEN CREDIT_TYPE= 'Microloan' THEN CNT_CREDIT_PROLONG ELSE 0 END) AS MIN_CREDIT_TYPE_Microloan_CNT_CREDIT_PROLONG,\n",
        "MIN(CASE WHEN CREDIT_TYPE= 'Microloan' THEN AMT_CREDIT_SUM ELSE 0 END) AS MIN_CREDIT_TYPE_Microloan_AMT_CREDIT_SUM,\n",
        "MIN(CASE WHEN CREDIT_TYPE= 'Microloan' THEN AMT_CREDIT_SUM_DEBT ELSE 0 END) AS MIN_CREDIT_TYPE_Microloan_AMT_CREDIT_SUM_DEBT,\n",
        "MIN(CASE WHEN CREDIT_TYPE= 'Microloan' THEN AMT_CREDIT_SUM_LIMIT ELSE 0 END) AS MIN_CREDIT_TYPE_Microloan_AMT_CREDIT_SUM_LIMIT,\n",
        "MIN(CASE WHEN CREDIT_TYPE= 'Microloan' THEN AMT_CREDIT_SUM_OVERDUE ELSE 0 END) AS MIN_CREDIT_TYPE_Microloan_AMT_CREDIT_SUM_OVERDUE,\n",
        "MIN(CASE WHEN CREDIT_TYPE= 'Microloan' THEN AMT_ANNUITY ELSE 0 END) AS MIN_CREDIT_TYPE_Microloan_AMT_ANNUITY,\n",
        "MIN(CASE WHEN CREDIT_TYPE= 'Mortgage' THEN AMT_CREDIT_MAX_OVERDUE ELSE 0 END) AS MIN_CREDIT_TYPE_Mortgage_AMT_CREDIT_MAX_OVERDUE,\n",
        "MIN(CASE WHEN CREDIT_TYPE= 'Mortgage' THEN CNT_CREDIT_PROLONG ELSE 0 END) AS MIN_CREDIT_TYPE_Mortgage_CNT_CREDIT_PROLONG,\n",
        "MIN(CASE WHEN CREDIT_TYPE= 'Mortgage' THEN AMT_CREDIT_SUM ELSE 0 END) AS MIN_CREDIT_TYPE_Mortgage_AMT_CREDIT_SUM,\n",
        "MIN(CASE WHEN CREDIT_TYPE= 'Mortgage' THEN AMT_CREDIT_SUM_DEBT ELSE 0 END) AS MIN_CREDIT_TYPE_Mortgage_AMT_CREDIT_SUM_DEBT,\n",
        "MIN(CASE WHEN CREDIT_TYPE= 'Mortgage' THEN AMT_CREDIT_SUM_LIMIT ELSE 0 END) AS MIN_CREDIT_TYPE_Mortgage_AMT_CREDIT_SUM_LIMIT,\n",
        "MIN(CASE WHEN CREDIT_TYPE= 'Mortgage' THEN AMT_CREDIT_SUM_OVERDUE ELSE 0 END) AS MIN_CREDIT_TYPE_Mortgage_AMT_CREDIT_SUM_OVERDUE,\n",
        "MIN(CASE WHEN CREDIT_TYPE= 'Mortgage' THEN AMT_ANNUITY ELSE 0 END) AS MIN_CREDIT_TYPE_Mortgage_AMT_ANNUITY,\n",
        "MIN(CASE WHEN CREDIT_TYPE= 'Car loan' THEN AMT_CREDIT_MAX_OVERDUE ELSE 0 END) AS MIN_CREDIT_TYPE_Car_loan_AMT_CREDIT_MAX_OVERDUE,\n",
        "MIN(CASE WHEN CREDIT_TYPE= 'Car loan' THEN CNT_CREDIT_PROLONG ELSE 0 END) AS MIN_CREDIT_TYPE_Car_loan_CNT_CREDIT_PROLONG,\n",
        "MIN(CASE WHEN CREDIT_TYPE= 'Car loan' THEN AMT_CREDIT_SUM ELSE 0 END) AS MIN_CREDIT_TYPE_Car_loan_AMT_CREDIT_SUM,\n",
        "MIN(CASE WHEN CREDIT_TYPE= 'Car loan' THEN AMT_CREDIT_SUM_DEBT ELSE 0 END) AS MIN_CREDIT_TYPE_Car_loan_AMT_CREDIT_SUM_DEBT,\n",
        "MIN(CASE WHEN CREDIT_TYPE= 'Car loan' THEN AMT_CREDIT_SUM_LIMIT ELSE 0 END) AS MIN_CREDIT_TYPE_Car_loan_AMT_CREDIT_SUM_LIMIT,\n",
        "MIN(CASE WHEN CREDIT_TYPE= 'Car loan' THEN AMT_CREDIT_SUM_OVERDUE ELSE 0 END) AS MIN_CREDIT_TYPE_Car_loan_AMT_CREDIT_SUM_OVERDUE,\n",
        "MIN(CASE WHEN CREDIT_TYPE= 'Car loan' THEN AMT_ANNUITY ELSE 0 END) AS MIN_CREDIT_TYPE_Car_loan_AMT_ANNUITY,\n",
        "MIN(CASE WHEN CREDIT_TYPE= 'Credit card' THEN AMT_CREDIT_MAX_OVERDUE ELSE 0 END) AS MIN_CREDIT_TYPE_Credit_card_AMT_CREDIT_MAX_OVERDUE,\n",
        "MIN(CASE WHEN CREDIT_TYPE= 'Credit card' THEN CNT_CREDIT_PROLONG ELSE 0 END) AS MIN_CREDIT_TYPE_Credit_card_CNT_CREDIT_PROLONG,\n",
        "MIN(CASE WHEN CREDIT_TYPE= 'Credit card' THEN AMT_CREDIT_SUM ELSE 0 END) AS MIN_CREDIT_TYPE_Credit_card_AMT_CREDIT_SUM,\n",
        "MIN(CASE WHEN CREDIT_TYPE= 'Credit card' THEN AMT_CREDIT_SUM_DEBT ELSE 0 END) AS MIN_CREDIT_TYPE_Credit_card_AMT_CREDIT_SUM_DEBT,\n",
        "MIN(CASE WHEN CREDIT_TYPE= 'Credit card' THEN AMT_CREDIT_SUM_LIMIT ELSE 0 END) AS MIN_CREDIT_TYPE_Credit_card_AMT_CREDIT_SUM_LIMIT,\n",
        "MIN(CASE WHEN CREDIT_TYPE= 'Credit card' THEN AMT_CREDIT_SUM_OVERDUE ELSE 0 END) AS MIN_CREDIT_TYPE_Credit_card_AMT_CREDIT_SUM_OVERDUE,\n",
        "MIN(CASE WHEN CREDIT_TYPE= 'Credit card' THEN AMT_ANNUITY ELSE 0 END) AS MIN_CREDIT_TYPE_Credit_card_AMT_ANNUITY,\n",
        "MIN(CASE WHEN CREDIT_TYPE= 'Consumer credit' THEN AMT_CREDIT_MAX_OVERDUE ELSE 0 END) AS MIN_CREDIT_TYPE_Consumer_credit_AMT_CREDIT_MAX_OVERDUE,\n",
        "MIN(CASE WHEN CREDIT_TYPE= 'Consumer credit' THEN CNT_CREDIT_PROLONG ELSE 0 END) AS MIN_CREDIT_TYPE_Consumer_credit_CNT_CREDIT_PROLONG,\n",
        "MIN(CASE WHEN CREDIT_TYPE= 'Consumer credit' THEN AMT_CREDIT_SUM ELSE 0 END) AS MIN_CREDIT_TYPE_Consumer_credit_AMT_CREDIT_SUM,\n",
        "MIN(CASE WHEN CREDIT_TYPE= 'Consumer credit' THEN AMT_CREDIT_SUM_DEBT ELSE 0 END) AS MIN_CREDIT_TYPE_Consumer_credit_AMT_CREDIT_SUM_DEBT,\n",
        "MIN(CASE WHEN CREDIT_TYPE= 'Consumer credit' THEN AMT_CREDIT_SUM_LIMIT ELSE 0 END) AS MIN_CREDIT_TYPE_Consumer_credit_AMT_CREDIT_SUM_LIMIT,\n",
        "MIN(CASE WHEN CREDIT_TYPE= 'Consumer credit' THEN AMT_CREDIT_SUM_OVERDUE ELSE 0 END) AS MIN_CREDIT_TYPE_Consumer_credit_AMT_CREDIT_SUM_OVERDUE,\n",
        "MIN(CASE WHEN CREDIT_TYPE= 'Consumer credit' THEN AMT_ANNUITY ELSE 0 END) AS MIN_CREDIT_TYPE_Consumer_credit_AMT_ANNUITY,\n",
        "MAX(CASE WHEN CREDIT_TYPE= 'Mobile operator loan' THEN AMT_CREDIT_MAX_OVERDUE ELSE 0 END) AS MAX_CREDIT_TYPE_Mobile_operator_loan_AMT_CREDIT_MAX_OVERDUE,\n",
        "MAX(CASE WHEN CREDIT_TYPE= 'Mobile operator loan' THEN CNT_CREDIT_PROLONG ELSE 0 END) AS MAX_CREDIT_TYPE_Mobile_operator_loan_CNT_CREDIT_PROLONG,\n",
        "MAX(CASE WHEN CREDIT_TYPE= 'Mobile operator loan' THEN AMT_CREDIT_SUM ELSE 0 END) AS MAX_CREDIT_TYPE_Mobile_operator_loan_AMT_CREDIT_SUM,\n",
        "MAX(CASE WHEN CREDIT_TYPE= 'Mobile operator loan' THEN AMT_CREDIT_SUM_DEBT ELSE 0 END) AS MAX_CREDIT_TYPE_Mobile_operator_loan_AMT_CREDIT_SUM_DEBT,\n",
        "MAX(CASE WHEN CREDIT_TYPE= 'Mobile operator loan' THEN AMT_CREDIT_SUM_LIMIT ELSE 0 END) AS MAX_CREDIT_TYPE_Mobile_operator_loan_AMT_CREDIT_SUM_LIMIT,\n",
        "MAX(CASE WHEN CREDIT_TYPE= 'Mobile operator loan' THEN AMT_CREDIT_SUM_OVERDUE ELSE 0 END) AS MAX_CREDIT_TYPE_Mobile_operator_loan_AMT_CREDIT_SUM_OVERDUE,\n",
        "MAX(CASE WHEN CREDIT_TYPE= 'Mobile operator loan' THEN AMT_ANNUITY ELSE 0 END) AS MAX_CREDIT_TYPE_Mobile_operator_loan_AMT_ANNUITY,\n",
        "MAX(CASE WHEN CREDIT_TYPE= 'Interbank credit' THEN AMT_CREDIT_MAX_OVERDUE ELSE 0 END) AS MAX_CREDIT_TYPE_Interbank_credit_AMT_CREDIT_MAX_OVERDUE,\n",
        "MAX(CASE WHEN CREDIT_TYPE= 'Interbank credit' THEN CNT_CREDIT_PROLONG ELSE 0 END) AS MAX_CREDIT_TYPE_Interbank_credit_CNT_CREDIT_PROLONG,\n",
        "MAX(CASE WHEN CREDIT_TYPE= 'Interbank credit' THEN AMT_CREDIT_SUM ELSE 0 END) AS MAX_CREDIT_TYPE_Interbank_credit_AMT_CREDIT_SUM,\n",
        "MAX(CASE WHEN CREDIT_TYPE= 'Interbank credit' THEN AMT_CREDIT_SUM_DEBT ELSE 0 END) AS MAX_CREDIT_TYPE_Interbank_credit_AMT_CREDIT_SUM_DEBT,\n",
        "MAX(CASE WHEN CREDIT_TYPE= 'Interbank credit' THEN AMT_CREDIT_SUM_LIMIT ELSE 0 END) AS MAX_CREDIT_TYPE_Interbank_credit_AMT_CREDIT_SUM_LIMIT,\n",
        "MAX(CASE WHEN CREDIT_TYPE= 'Interbank credit' THEN AMT_CREDIT_SUM_OVERDUE ELSE 0 END) AS MAX_CREDIT_TYPE_Interbank_credit_AMT_CREDIT_SUM_OVERDUE,\n",
        "MAX(CASE WHEN CREDIT_TYPE= 'Interbank credit' THEN AMT_ANNUITY ELSE 0 END) AS MAX_CREDIT_TYPE_Interbank_credit_AMT_ANNUITY,\n",
        "MAX(CASE WHEN CREDIT_TYPE= 'Loan for purchase of shares' THEN AMT_CREDIT_MAX_OVERDUE ELSE 0 END) AS MAX_CREDIT_TYPE_Loan_for_purchase_of_shares_AMT_CREDIT_MAX_OVERDUE,\n",
        "MAX(CASE WHEN CREDIT_TYPE= 'Loan for purchase of shares' THEN CNT_CREDIT_PROLONG ELSE 0 END) AS MAX_CREDIT_TYPE_Loan_for_purchase_of_shares_CNT_CREDIT_PROLONG,\n",
        "MAX(CASE WHEN CREDIT_TYPE= 'Loan for purchase of shares' THEN AMT_CREDIT_SUM ELSE 0 END) AS MAX_CREDIT_TYPE_Loan_for_purchase_of_shares_AMT_CREDIT_SUM,\n",
        "MAX(CASE WHEN CREDIT_TYPE= 'Loan for purchase of shares' THEN AMT_CREDIT_SUM_DEBT ELSE 0 END) AS MAX_CREDIT_TYPE_Loan_for_purchase_of_shares_AMT_CREDIT_SUM_DEBT,\n",
        "MAX(CASE WHEN CREDIT_TYPE= 'Loan for purchase of shares' THEN AMT_CREDIT_SUM_LIMIT ELSE 0 END) AS MAX_CREDIT_TYPE_Loan_for_purchase_of_shares_AMT_CREDIT_SUM_LIMIT,\n",
        "MAX(CASE WHEN CREDIT_TYPE= 'Loan for purchase of shares' THEN AMT_CREDIT_SUM_OVERDUE ELSE 0 END) AS MAX_CREDIT_TYPE_Loan_for_purchase_of_shares_AMT_CREDIT_SUM_OVERDUE,\n",
        "MAX(CASE WHEN CREDIT_TYPE= 'Loan for purchase of shares' THEN AMT_ANNUITY ELSE 0 END) AS MAX_CREDIT_TYPE_Loan_for_purchase_of_shares_AMT_ANNUITY,\n",
        "MAX(CASE WHEN CREDIT_TYPE= 'Loan for the purchase of equipment' THEN AMT_CREDIT_MAX_OVERDUE ELSE 0 END) AS MAX_CREDIT_TYPE_Loan_for_the_purchase_of_equipment_AMT_CREDIT_MAX_OVERDUE,\n",
        "MAX(CASE WHEN CREDIT_TYPE= 'Loan for the purchase of equipment' THEN CNT_CREDIT_PROLONG ELSE 0 END) AS MAX_CREDIT_TYPE_Loan_for_the_purchase_of_equipment_CNT_CREDIT_PROLONG,\n",
        "MAX(CASE WHEN CREDIT_TYPE= 'Loan for the purchase of equipment' THEN AMT_CREDIT_SUM ELSE 0 END) AS MAX_CREDIT_TYPE_Loan_for_the_purchase_of_equipment_AMT_CREDIT_SUM,\n",
        "MAX(CASE WHEN CREDIT_TYPE= 'Loan for the purchase of equipment' THEN AMT_CREDIT_SUM_DEBT ELSE 0 END) AS MAX_CREDIT_TYPE_Loan_for_the_purchase_of_equipment_AMT_CREDIT_SUM_DEBT,\n",
        "MAX(CASE WHEN CREDIT_TYPE= 'Loan for the purchase of equipment' THEN AMT_CREDIT_SUM_LIMIT ELSE 0 END) AS MAX_CREDIT_TYPE_Loan_for_the_purchase_of_equipment_AMT_CREDIT_SUM_LIMIT,\n",
        "MAX(CASE WHEN CREDIT_TYPE= 'Loan for the purchase of equipment' THEN AMT_CREDIT_SUM_OVERDUE ELSE 0 END) AS MAX_CREDIT_TYPE_Loan_for_the_purchase_of_equipment_AMT_CREDIT_SUM_OVERDUE,\n",
        "MAX(CASE WHEN CREDIT_TYPE= 'Loan for the purchase of equipment' THEN AMT_ANNUITY ELSE 0 END) AS MAX_CREDIT_TYPE_Loan_for_the_purchase_of_equipment_AMT_ANNUITY,\n",
        "MAX(CASE WHEN CREDIT_TYPE= 'Real estate loan' THEN AMT_CREDIT_MAX_OVERDUE ELSE 0 END) AS MAX_CREDIT_TYPE_Real_estate_loan_AMT_CREDIT_MAX_OVERDUE,\n",
        "MAX(CASE WHEN CREDIT_TYPE= 'Real estate loan' THEN CNT_CREDIT_PROLONG ELSE 0 END) AS MAX_CREDIT_TYPE_Real_estate_loan_CNT_CREDIT_PROLONG,\n",
        "MAX(CASE WHEN CREDIT_TYPE= 'Real estate loan' THEN AMT_CREDIT_SUM ELSE 0 END) AS MAX_CREDIT_TYPE_Real_estate_loan_AMT_CREDIT_SUM,\n",
        "MAX(CASE WHEN CREDIT_TYPE= 'Real estate loan' THEN AMT_CREDIT_SUM_DEBT ELSE 0 END) AS MAX_CREDIT_TYPE_Real_estate_loan_AMT_CREDIT_SUM_DEBT,\n",
        "MAX(CASE WHEN CREDIT_TYPE= 'Real estate loan' THEN AMT_CREDIT_SUM_LIMIT ELSE 0 END) AS MAX_CREDIT_TYPE_Real_estate_loan_AMT_CREDIT_SUM_LIMIT,\n",
        "MAX(CASE WHEN CREDIT_TYPE= 'Real estate loan' THEN AMT_CREDIT_SUM_OVERDUE ELSE 0 END) AS MAX_CREDIT_TYPE_Real_estate_loan_AMT_CREDIT_SUM_OVERDUE,\n",
        "MAX(CASE WHEN CREDIT_TYPE= 'Real estate loan' THEN AMT_ANNUITY ELSE 0 END) AS MAX_CREDIT_TYPE_Real_estate_loan_AMT_ANNUITY,\n",
        "MAX(CASE WHEN CREDIT_TYPE= 'Cash loan' THEN AMT_CREDIT_MAX_OVERDUE ELSE 0 END) AS MAX_CREDIT_TYPE_Cash_loan_AMT_CREDIT_MAX_OVERDUE,\n",
        "MAX(CASE WHEN CREDIT_TYPE= 'Cash loan' THEN CNT_CREDIT_PROLONG ELSE 0 END) AS MAX_CREDIT_TYPE_Cash_loan_CNT_CREDIT_PROLONG,\n",
        "MAX(CASE WHEN CREDIT_TYPE= 'Cash loan' THEN AMT_CREDIT_SUM ELSE 0 END) AS MAX_CREDIT_TYPE_Cash_loan_AMT_CREDIT_SUM,\n",
        "MAX(CASE WHEN CREDIT_TYPE= 'Cash loan' THEN AMT_CREDIT_SUM_DEBT ELSE 0 END) AS MAX_CREDIT_TYPE_Cash_loan_AMT_CREDIT_SUM_DEBT,\n",
        "MAX(CASE WHEN CREDIT_TYPE= 'Cash loan' THEN AMT_CREDIT_SUM_LIMIT ELSE 0 END) AS MAX_CREDIT_TYPE_Cash_loan_AMT_CREDIT_SUM_LIMIT,\n",
        "MAX(CASE WHEN CREDIT_TYPE= 'Cash loan' THEN AMT_CREDIT_SUM_OVERDUE ELSE 0 END) AS MAX_CREDIT_TYPE_Cash_loan_AMT_CREDIT_SUM_OVERDUE,\n",
        "MAX(CASE WHEN CREDIT_TYPE= 'Cash loan' THEN AMT_ANNUITY ELSE 0 END) AS MAX_CREDIT_TYPE_Cash_loan_AMT_ANNUITY,\n",
        "MAX(CASE WHEN CREDIT_TYPE= 'Loan for working capital replenishment' THEN AMT_CREDIT_MAX_OVERDUE ELSE 0 END) AS MAX_CREDIT_TYPE_Loan_for_working_capital_replenishment_AMT_CREDIT_MAX_OVERDUE,\n",
        "MAX(CASE WHEN CREDIT_TYPE= 'Loan for working capital replenishment' THEN CNT_CREDIT_PROLONG ELSE 0 END) AS MAX_CREDIT_TYPE_Loan_for_working_capital_replenishment_CNT_CREDIT_PROLONG,\n",
        "MAX(CASE WHEN CREDIT_TYPE= 'Loan for working capital replenishment' THEN AMT_CREDIT_SUM ELSE 0 END) AS MAX_CREDIT_TYPE_Loan_for_working_capital_replenishment_AMT_CREDIT_SUM,\n",
        "MAX(CASE WHEN CREDIT_TYPE= 'Loan for working capital replenishment' THEN AMT_CREDIT_SUM_DEBT ELSE 0 END) AS MAX_CREDIT_TYPE_Loan_for_working_capital_replenishment_AMT_CREDIT_SUM_DEBT,\n",
        "MAX(CASE WHEN CREDIT_TYPE= 'Loan for working capital replenishment' THEN AMT_CREDIT_SUM_LIMIT ELSE 0 END) AS MAX_CREDIT_TYPE_Loan_for_working_capital_replenishment_AMT_CREDIT_SUM_LIMIT,\n",
        "MAX(CASE WHEN CREDIT_TYPE= 'Loan for working capital replenishment' THEN AMT_CREDIT_SUM_OVERDUE ELSE 0 END) AS MAX_CREDIT_TYPE_Loan_for_working_capital_replenishment_AMT_CREDIT_SUM_OVERDUE,\n",
        "MAX(CASE WHEN CREDIT_TYPE= 'Loan for working capital replenishment' THEN AMT_ANNUITY ELSE 0 END) AS MAX_CREDIT_TYPE_Loan_for_working_capital_replenishment_AMT_ANNUITY,\n",
        "MAX(CASE WHEN CREDIT_TYPE= 'Unknown type of loan' THEN AMT_CREDIT_MAX_OVERDUE ELSE 0 END) AS MAX_CREDIT_TYPE_Unknown_type_of_loan_AMT_CREDIT_MAX_OVERDUE,\n",
        "MAX(CASE WHEN CREDIT_TYPE= 'Unknown type of loan' THEN CNT_CREDIT_PROLONG ELSE 0 END) AS MAX_CREDIT_TYPE_Unknown_type_of_loan_CNT_CREDIT_PROLONG,\n",
        "MAX(CASE WHEN CREDIT_TYPE= 'Unknown type of loan' THEN AMT_CREDIT_SUM ELSE 0 END) AS MAX_CREDIT_TYPE_Unknown_type_of_loan_AMT_CREDIT_SUM,\n",
        "MAX(CASE WHEN CREDIT_TYPE= 'Unknown type of loan' THEN AMT_CREDIT_SUM_DEBT ELSE 0 END) AS MAX_CREDIT_TYPE_Unknown_type_of_loan_AMT_CREDIT_SUM_DEBT,\n",
        "MAX(CASE WHEN CREDIT_TYPE= 'Unknown type of loan' THEN AMT_CREDIT_SUM_LIMIT ELSE 0 END) AS MAX_CREDIT_TYPE_Unknown_type_of_loan_AMT_CREDIT_SUM_LIMIT,\n",
        "MAX(CASE WHEN CREDIT_TYPE= 'Unknown type of loan' THEN AMT_CREDIT_SUM_OVERDUE ELSE 0 END) AS MAX_CREDIT_TYPE_Unknown_type_of_loan_AMT_CREDIT_SUM_OVERDUE,\n",
        "MAX(CASE WHEN CREDIT_TYPE= 'Unknown type of loan' THEN AMT_ANNUITY ELSE 0 END) AS MAX_CREDIT_TYPE_Unknown_type_of_loan_AMT_ANNUITY,\n",
        "MAX(CASE WHEN CREDIT_TYPE= 'Another type of loan' THEN AMT_CREDIT_MAX_OVERDUE ELSE 0 END) AS MAX_CREDIT_TYPE_Another_type_of_loan_AMT_CREDIT_MAX_OVERDUE,\n",
        "MAX(CASE WHEN CREDIT_TYPE= 'Another type of loan' THEN CNT_CREDIT_PROLONG ELSE 0 END) AS MAX_CREDIT_TYPE_Another_type_of_loan_CNT_CREDIT_PROLONG,\n",
        "MAX(CASE WHEN CREDIT_TYPE= 'Another type of loan' THEN AMT_CREDIT_SUM ELSE 0 END) AS MAX_CREDIT_TYPE_Another_type_of_loan_AMT_CREDIT_SUM,\n",
        "MAX(CASE WHEN CREDIT_TYPE= 'Another type of loan' THEN AMT_CREDIT_SUM_DEBT ELSE 0 END) AS MAX_CREDIT_TYPE_Another_type_of_loan_AMT_CREDIT_SUM_DEBT,\n",
        "MAX(CASE WHEN CREDIT_TYPE= 'Another type of loan' THEN AMT_CREDIT_SUM_LIMIT ELSE 0 END) AS MAX_CREDIT_TYPE_Another_type_of_loan_AMT_CREDIT_SUM_LIMIT,\n",
        "MAX(CASE WHEN CREDIT_TYPE= 'Another type of loan' THEN AMT_CREDIT_SUM_OVERDUE ELSE 0 END) AS MAX_CREDIT_TYPE_Another_type_of_loan_AMT_CREDIT_SUM_OVERDUE,\n",
        "MAX(CASE WHEN CREDIT_TYPE= 'Another type of loan' THEN AMT_ANNUITY ELSE 0 END) AS MAX_CREDIT_TYPE_Another_type_of_loan_AMT_ANNUITY,\n",
        "MAX(CASE WHEN CREDIT_TYPE= 'Loan for business development' THEN AMT_CREDIT_MAX_OVERDUE ELSE 0 END) AS MAX_CREDIT_TYPE_Loan_for_business_development_AMT_CREDIT_MAX_OVERDUE,\n",
        "MAX(CASE WHEN CREDIT_TYPE= 'Loan for business development' THEN CNT_CREDIT_PROLONG ELSE 0 END) AS MAX_CREDIT_TYPE_Loan_for_business_development_CNT_CREDIT_PROLONG,\n",
        "MAX(CASE WHEN CREDIT_TYPE= 'Loan for business development' THEN AMT_CREDIT_SUM ELSE 0 END) AS MAX_CREDIT_TYPE_Loan_for_business_development_AMT_CREDIT_SUM,\n",
        "MAX(CASE WHEN CREDIT_TYPE= 'Loan for business development' THEN AMT_CREDIT_SUM_DEBT ELSE 0 END) AS MAX_CREDIT_TYPE_Loan_for_business_development_AMT_CREDIT_SUM_DEBT,\n",
        "MAX(CASE WHEN CREDIT_TYPE= 'Loan for business development' THEN AMT_CREDIT_SUM_LIMIT ELSE 0 END) AS MAX_CREDIT_TYPE_Loan_for_business_development_AMT_CREDIT_SUM_LIMIT,\n",
        "MAX(CASE WHEN CREDIT_TYPE= 'Loan for business development' THEN AMT_CREDIT_SUM_OVERDUE ELSE 0 END) AS MAX_CREDIT_TYPE_Loan_for_business_development_AMT_CREDIT_SUM_OVERDUE,\n",
        "MAX(CASE WHEN CREDIT_TYPE= 'Loan for business development' THEN AMT_ANNUITY ELSE 0 END) AS MAX_CREDIT_TYPE_Loan_for_business_development_AMT_ANNUITY,\n",
        "MAX(CASE WHEN CREDIT_TYPE= 'Microloan' THEN AMT_CREDIT_MAX_OVERDUE ELSE 0 END) AS MAX_CREDIT_TYPE_Microloan_AMT_CREDIT_MAX_OVERDUE,\n",
        "MAX(CASE WHEN CREDIT_TYPE= 'Microloan' THEN CNT_CREDIT_PROLONG ELSE 0 END) AS MAX_CREDIT_TYPE_Microloan_CNT_CREDIT_PROLONG,\n",
        "MAX(CASE WHEN CREDIT_TYPE= 'Microloan' THEN AMT_CREDIT_SUM ELSE 0 END) AS MAX_CREDIT_TYPE_Microloan_AMT_CREDIT_SUM,\n",
        "MAX(CASE WHEN CREDIT_TYPE= 'Microloan' THEN AMT_CREDIT_SUM_DEBT ELSE 0 END) AS MAX_CREDIT_TYPE_Microloan_AMT_CREDIT_SUM_DEBT,\n",
        "MAX(CASE WHEN CREDIT_TYPE= 'Microloan' THEN AMT_CREDIT_SUM_LIMIT ELSE 0 END) AS MAX_CREDIT_TYPE_Microloan_AMT_CREDIT_SUM_LIMIT,\n",
        "MAX(CASE WHEN CREDIT_TYPE= 'Microloan' THEN AMT_CREDIT_SUM_OVERDUE ELSE 0 END) AS MAX_CREDIT_TYPE_Microloan_AMT_CREDIT_SUM_OVERDUE,\n",
        "MAX(CASE WHEN CREDIT_TYPE= 'Microloan' THEN AMT_ANNUITY ELSE 0 END) AS MAX_CREDIT_TYPE_Microloan_AMT_ANNUITY,\n",
        "MAX(CASE WHEN CREDIT_TYPE= 'Mortgage' THEN AMT_CREDIT_MAX_OVERDUE ELSE 0 END) AS MAX_CREDIT_TYPE_Mortgage_AMT_CREDIT_MAX_OVERDUE,\n",
        "MAX(CASE WHEN CREDIT_TYPE= 'Mortgage' THEN CNT_CREDIT_PROLONG ELSE 0 END) AS MAX_CREDIT_TYPE_Mortgage_CNT_CREDIT_PROLONG,\n",
        "MAX(CASE WHEN CREDIT_TYPE= 'Mortgage' THEN AMT_CREDIT_SUM ELSE 0 END) AS MAX_CREDIT_TYPE_Mortgage_AMT_CREDIT_SUM,\n",
        "MAX(CASE WHEN CREDIT_TYPE= 'Mortgage' THEN AMT_CREDIT_SUM_DEBT ELSE 0 END) AS MAX_CREDIT_TYPE_Mortgage_AMT_CREDIT_SUM_DEBT,\n",
        "MAX(CASE WHEN CREDIT_TYPE= 'Mortgage' THEN AMT_CREDIT_SUM_LIMIT ELSE 0 END) AS MAX_CREDIT_TYPE_Mortgage_AMT_CREDIT_SUM_LIMIT,\n",
        "MAX(CASE WHEN CREDIT_TYPE= 'Mortgage' THEN AMT_CREDIT_SUM_OVERDUE ELSE 0 END) AS MAX_CREDIT_TYPE_Mortgage_AMT_CREDIT_SUM_OVERDUE,\n",
        "MAX(CASE WHEN CREDIT_TYPE= 'Mortgage' THEN AMT_ANNUITY ELSE 0 END) AS MAX_CREDIT_TYPE_Mortgage_AMT_ANNUITY,\n",
        "MAX(CASE WHEN CREDIT_TYPE= 'Car loan' THEN AMT_CREDIT_MAX_OVERDUE ELSE 0 END) AS MAX_CREDIT_TYPE_Car_loan_AMT_CREDIT_MAX_OVERDUE,\n",
        "MAX(CASE WHEN CREDIT_TYPE= 'Car loan' THEN CNT_CREDIT_PROLONG ELSE 0 END) AS MAX_CREDIT_TYPE_Car_loan_CNT_CREDIT_PROLONG,\n",
        "MAX(CASE WHEN CREDIT_TYPE= 'Car loan' THEN AMT_CREDIT_SUM ELSE 0 END) AS MAX_CREDIT_TYPE_Car_loan_AMT_CREDIT_SUM,\n",
        "MAX(CASE WHEN CREDIT_TYPE= 'Car loan' THEN AMT_CREDIT_SUM_DEBT ELSE 0 END) AS MAX_CREDIT_TYPE_Car_loan_AMT_CREDIT_SUM_DEBT,\n",
        "MAX(CASE WHEN CREDIT_TYPE= 'Car loan' THEN AMT_CREDIT_SUM_LIMIT ELSE 0 END) AS MAX_CREDIT_TYPE_Car_loan_AMT_CREDIT_SUM_LIMIT,\n",
        "MAX(CASE WHEN CREDIT_TYPE= 'Car loan' THEN AMT_CREDIT_SUM_OVERDUE ELSE 0 END) AS MAX_CREDIT_TYPE_Car_loan_AMT_CREDIT_SUM_OVERDUE,\n",
        "MAX(CASE WHEN CREDIT_TYPE= 'Car loan' THEN AMT_ANNUITY ELSE 0 END) AS MAX_CREDIT_TYPE_Car_loan_AMT_ANNUITY,\n",
        "MAX(CASE WHEN CREDIT_TYPE= 'Credit card' THEN AMT_CREDIT_MAX_OVERDUE ELSE 0 END) AS MAX_CREDIT_TYPE_Credit_card_AMT_CREDIT_MAX_OVERDUE,\n",
        "MAX(CASE WHEN CREDIT_TYPE= 'Credit card' THEN CNT_CREDIT_PROLONG ELSE 0 END) AS MAX_CREDIT_TYPE_Credit_card_CNT_CREDIT_PROLONG,\n",
        "MAX(CASE WHEN CREDIT_TYPE= 'Credit card' THEN AMT_CREDIT_SUM ELSE 0 END) AS MAX_CREDIT_TYPE_Credit_card_AMT_CREDIT_SUM,\n",
        "MAX(CASE WHEN CREDIT_TYPE= 'Credit card' THEN AMT_CREDIT_SUM_DEBT ELSE 0 END) AS MAX_CREDIT_TYPE_Credit_card_AMT_CREDIT_SUM_DEBT,\n",
        "MAX(CASE WHEN CREDIT_TYPE= 'Credit card' THEN AMT_CREDIT_SUM_LIMIT ELSE 0 END) AS MAX_CREDIT_TYPE_Credit_card_AMT_CREDIT_SUM_LIMIT,\n",
        "MAX(CASE WHEN CREDIT_TYPE= 'Credit card' THEN AMT_CREDIT_SUM_OVERDUE ELSE 0 END) AS MAX_CREDIT_TYPE_Credit_card_AMT_CREDIT_SUM_OVERDUE,\n",
        "MAX(CASE WHEN CREDIT_TYPE= 'Credit card' THEN AMT_ANNUITY ELSE 0 END) AS MAX_CREDIT_TYPE_Credit_card_AMT_ANNUITY,\n",
        "MAX(CASE WHEN CREDIT_TYPE= 'Consumer credit' THEN AMT_CREDIT_MAX_OVERDUE ELSE 0 END) AS MAX_CREDIT_TYPE_Consumer_credit_AMT_CREDIT_MAX_OVERDUE,\n",
        "MAX(CASE WHEN CREDIT_TYPE= 'Consumer credit' THEN CNT_CREDIT_PROLONG ELSE 0 END) AS MAX_CREDIT_TYPE_Consumer_credit_CNT_CREDIT_PROLONG,\n",
        "MAX(CASE WHEN CREDIT_TYPE= 'Consumer credit' THEN AMT_CREDIT_SUM ELSE 0 END) AS MAX_CREDIT_TYPE_Consumer_credit_AMT_CREDIT_SUM,\n",
        "MAX(CASE WHEN CREDIT_TYPE= 'Consumer credit' THEN AMT_CREDIT_SUM_DEBT ELSE 0 END) AS MAX_CREDIT_TYPE_Consumer_credit_AMT_CREDIT_SUM_DEBT,\n",
        "MAX(CASE WHEN CREDIT_TYPE= 'Consumer credit' THEN AMT_CREDIT_SUM_LIMIT ELSE 0 END) AS MAX_CREDIT_TYPE_Consumer_credit_AMT_CREDIT_SUM_LIMIT,\n",
        "MAX(CASE WHEN CREDIT_TYPE= 'Consumer credit' THEN AMT_CREDIT_SUM_OVERDUE ELSE 0 END) AS MAX_CREDIT_TYPE_Consumer_credit_AMT_CREDIT_SUM_OVERDUE,\n",
        "MAX(CASE WHEN CREDIT_TYPE= 'Consumer credit' THEN AMT_ANNUITY ELSE 0 END) AS MAX_CREDIT_TYPE_Consumer_credit_AMT_ANNUITY,\n",
        "AVG(CASE WHEN CREDIT_TYPE= 'Mobile operator loan' THEN AMT_CREDIT_MAX_OVERDUE ELSE 0 END) AS AVG_CREDIT_TYPE_Mobile_operator_loan_AMT_CREDIT_MAX_OVERDUE,\n",
        "AVG(CASE WHEN CREDIT_TYPE= 'Mobile operator loan' THEN CNT_CREDIT_PROLONG ELSE 0 END) AS AVG_CREDIT_TYPE_Mobile_operator_loan_CNT_CREDIT_PROLONG,\n",
        "AVG(CASE WHEN CREDIT_TYPE= 'Mobile operator loan' THEN AMT_CREDIT_SUM ELSE 0 END) AS AVG_CREDIT_TYPE_Mobile_operator_loan_AMT_CREDIT_SUM,\n",
        "AVG(CASE WHEN CREDIT_TYPE= 'Mobile operator loan' THEN AMT_CREDIT_SUM_DEBT ELSE 0 END) AS AVG_CREDIT_TYPE_Mobile_operator_loan_AMT_CREDIT_SUM_DEBT,\n",
        "AVG(CASE WHEN CREDIT_TYPE= 'Mobile operator loan' THEN AMT_CREDIT_SUM_LIMIT ELSE 0 END) AS AVG_CREDIT_TYPE_Mobile_operator_loan_AMT_CREDIT_SUM_LIMIT,\n",
        "AVG(CASE WHEN CREDIT_TYPE= 'Mobile operator loan' THEN AMT_CREDIT_SUM_OVERDUE ELSE 0 END) AS AVG_CREDIT_TYPE_Mobile_operator_loan_AMT_CREDIT_SUM_OVERDUE,\n",
        "AVG(CASE WHEN CREDIT_TYPE= 'Mobile operator loan' THEN AMT_ANNUITY ELSE 0 END) AS AVG_CREDIT_TYPE_Mobile_operator_loan_AMT_ANNUITY,\n",
        "AVG(CASE WHEN CREDIT_TYPE= 'Interbank credit' THEN AMT_CREDIT_MAX_OVERDUE ELSE 0 END) AS AVG_CREDIT_TYPE_Interbank_credit_AMT_CREDIT_MAX_OVERDUE,\n",
        "AVG(CASE WHEN CREDIT_TYPE= 'Interbank credit' THEN CNT_CREDIT_PROLONG ELSE 0 END) AS AVG_CREDIT_TYPE_Interbank_credit_CNT_CREDIT_PROLONG,\n",
        "AVG(CASE WHEN CREDIT_TYPE= 'Interbank credit' THEN AMT_CREDIT_SUM ELSE 0 END) AS AVG_CREDIT_TYPE_Interbank_credit_AMT_CREDIT_SUM,\n",
        "AVG(CASE WHEN CREDIT_TYPE= 'Interbank credit' THEN AMT_CREDIT_SUM_DEBT ELSE 0 END) AS AVG_CREDIT_TYPE_Interbank_credit_AMT_CREDIT_SUM_DEBT,\n",
        "AVG(CASE WHEN CREDIT_TYPE= 'Interbank credit' THEN AMT_CREDIT_SUM_LIMIT ELSE 0 END) AS AVG_CREDIT_TYPE_Interbank_credit_AMT_CREDIT_SUM_LIMIT,\n",
        "AVG(CASE WHEN CREDIT_TYPE= 'Interbank credit' THEN AMT_CREDIT_SUM_OVERDUE ELSE 0 END) AS AVG_CREDIT_TYPE_Interbank_credit_AMT_CREDIT_SUM_OVERDUE,\n",
        "AVG(CASE WHEN CREDIT_TYPE= 'Interbank credit' THEN AMT_ANNUITY ELSE 0 END) AS AVG_CREDIT_TYPE_Interbank_credit_AMT_ANNUITY,\n",
        "AVG(CASE WHEN CREDIT_TYPE= 'Loan for purchase of shares' THEN AMT_CREDIT_MAX_OVERDUE ELSE 0 END) AS AVG_CREDIT_TYPE_Loan_for_purchase_of_shares_AMT_CREDIT_MAX_OVERDUE,\n",
        "AVG(CASE WHEN CREDIT_TYPE= 'Loan for purchase of shares' THEN CNT_CREDIT_PROLONG ELSE 0 END) AS AVG_CREDIT_TYPE_Loan_for_purchase_of_shares_CNT_CREDIT_PROLONG,\n",
        "AVG(CASE WHEN CREDIT_TYPE= 'Loan for purchase of shares' THEN AMT_CREDIT_SUM ELSE 0 END) AS AVG_CREDIT_TYPE_Loan_for_purchase_of_shares_AMT_CREDIT_SUM,\n",
        "AVG(CASE WHEN CREDIT_TYPE= 'Loan for purchase of shares' THEN AMT_CREDIT_SUM_DEBT ELSE 0 END) AS AVG_CREDIT_TYPE_Loan_for_purchase_of_shares_AMT_CREDIT_SUM_DEBT,\n",
        "AVG(CASE WHEN CREDIT_TYPE= 'Loan for purchase of shares' THEN AMT_CREDIT_SUM_LIMIT ELSE 0 END) AS AVG_CREDIT_TYPE_Loan_for_purchase_of_shares_AMT_CREDIT_SUM_LIMIT,\n",
        "AVG(CASE WHEN CREDIT_TYPE= 'Loan for purchase of shares' THEN AMT_CREDIT_SUM_OVERDUE ELSE 0 END) AS AVG_CREDIT_TYPE_Loan_for_purchase_of_shares_AMT_CREDIT_SUM_OVERDUE,\n",
        "AVG(CASE WHEN CREDIT_TYPE= 'Loan for purchase of shares' THEN AMT_ANNUITY ELSE 0 END) AS AVG_CREDIT_TYPE_Loan_for_purchase_of_shares_AMT_ANNUITY,\n",
        "AVG(CASE WHEN CREDIT_TYPE= 'Loan for the purchase of equipment' THEN AMT_CREDIT_MAX_OVERDUE ELSE 0 END) AS AVG_CREDIT_TYPE_Loan_for_the_purchase_of_equipment_AMT_CREDIT_MAX_OVERDUE,\n",
        "AVG(CASE WHEN CREDIT_TYPE= 'Loan for the purchase of equipment' THEN CNT_CREDIT_PROLONG ELSE 0 END) AS AVG_CREDIT_TYPE_Loan_for_the_purchase_of_equipment_CNT_CREDIT_PROLONG,\n",
        "AVG(CASE WHEN CREDIT_TYPE= 'Loan for the purchase of equipment' THEN AMT_CREDIT_SUM ELSE 0 END) AS AVG_CREDIT_TYPE_Loan_for_the_purchase_of_equipment_AMT_CREDIT_SUM,\n",
        "AVG(CASE WHEN CREDIT_TYPE= 'Loan for the purchase of equipment' THEN AMT_CREDIT_SUM_DEBT ELSE 0 END) AS AVG_CREDIT_TYPE_Loan_for_the_purchase_of_equipment_AMT_CREDIT_SUM_DEBT,\n",
        "AVG(CASE WHEN CREDIT_TYPE= 'Loan for the purchase of equipment' THEN AMT_CREDIT_SUM_LIMIT ELSE 0 END) AS AVG_CREDIT_TYPE_Loan_for_the_purchase_of_equipment_AMT_CREDIT_SUM_LIMIT,\n",
        "AVG(CASE WHEN CREDIT_TYPE= 'Loan for the purchase of equipment' THEN AMT_CREDIT_SUM_OVERDUE ELSE 0 END) AS AVG_CREDIT_TYPE_Loan_for_the_purchase_of_equipment_AMT_CREDIT_SUM_OVERDUE,\n",
        "AVG(CASE WHEN CREDIT_TYPE= 'Loan for the purchase of equipment' THEN AMT_ANNUITY ELSE 0 END) AS AVG_CREDIT_TYPE_Loan_for_the_purchase_of_equipment_AMT_ANNUITY,\n",
        "AVG(CASE WHEN CREDIT_TYPE= 'Real estate loan' THEN AMT_CREDIT_MAX_OVERDUE ELSE 0 END) AS AVG_CREDIT_TYPE_Real_estate_loan_AMT_CREDIT_MAX_OVERDUE,\n",
        "AVG(CASE WHEN CREDIT_TYPE= 'Real estate loan' THEN CNT_CREDIT_PROLONG ELSE 0 END) AS AVG_CREDIT_TYPE_Real_estate_loan_CNT_CREDIT_PROLONG,\n",
        "AVG(CASE WHEN CREDIT_TYPE= 'Real estate loan' THEN AMT_CREDIT_SUM ELSE 0 END) AS AVG_CREDIT_TYPE_Real_estate_loan_AMT_CREDIT_SUM,\n",
        "AVG(CASE WHEN CREDIT_TYPE= 'Real estate loan' THEN AMT_CREDIT_SUM_DEBT ELSE 0 END) AS AVG_CREDIT_TYPE_Real_estate_loan_AMT_CREDIT_SUM_DEBT,\n",
        "AVG(CASE WHEN CREDIT_TYPE= 'Real estate loan' THEN AMT_CREDIT_SUM_LIMIT ELSE 0 END) AS AVG_CREDIT_TYPE_Real_estate_loan_AMT_CREDIT_SUM_LIMIT,\n",
        "AVG(CASE WHEN CREDIT_TYPE= 'Real estate loan' THEN AMT_CREDIT_SUM_OVERDUE ELSE 0 END) AS AVG_CREDIT_TYPE_Real_estate_loan_AMT_CREDIT_SUM_OVERDUE,\n",
        "AVG(CASE WHEN CREDIT_TYPE= 'Real estate loan' THEN AMT_ANNUITY ELSE 0 END) AS AVG_CREDIT_TYPE_Real_estate_loan_AMT_ANNUITY,\n",
        "AVG(CASE WHEN CREDIT_TYPE= 'Cash loan' THEN AMT_CREDIT_MAX_OVERDUE ELSE 0 END) AS AVG_CREDIT_TYPE_Cash_loan_AMT_CREDIT_MAX_OVERDUE,\n",
        "AVG(CASE WHEN CREDIT_TYPE= 'Cash loan' THEN CNT_CREDIT_PROLONG ELSE 0 END) AS AVG_CREDIT_TYPE_Cash_loan_CNT_CREDIT_PROLONG,\n",
        "AVG(CASE WHEN CREDIT_TYPE= 'Cash loan' THEN AMT_CREDIT_SUM ELSE 0 END) AS AVG_CREDIT_TYPE_Cash_loan_AMT_CREDIT_SUM,\n",
        "AVG(CASE WHEN CREDIT_TYPE= 'Cash loan' THEN AMT_CREDIT_SUM_DEBT ELSE 0 END) AS AVG_CREDIT_TYPE_Cash_loan_AMT_CREDIT_SUM_DEBT,\n",
        "AVG(CASE WHEN CREDIT_TYPE= 'Cash loan' THEN AMT_CREDIT_SUM_LIMIT ELSE 0 END) AS AVG_CREDIT_TYPE_Cash_loan_AMT_CREDIT_SUM_LIMIT,\n",
        "AVG(CASE WHEN CREDIT_TYPE= 'Cash loan' THEN AMT_CREDIT_SUM_OVERDUE ELSE 0 END) AS AVG_CREDIT_TYPE_Cash_loan_AMT_CREDIT_SUM_OVERDUE,\n",
        "AVG(CASE WHEN CREDIT_TYPE= 'Cash loan' THEN AMT_ANNUITY ELSE 0 END) AS AVG_CREDIT_TYPE_Cash_loan_AMT_ANNUITY,\n",
        "AVG(CASE WHEN CREDIT_TYPE= 'Loan for working capital replenishment' THEN AMT_CREDIT_MAX_OVERDUE ELSE 0 END) AS AVG_CREDIT_TYPE_Loan_for_working_capital_replenishment_AMT_CREDIT_MAX_OVERDUE,\n",
        "AVG(CASE WHEN CREDIT_TYPE= 'Loan for working capital replenishment' THEN CNT_CREDIT_PROLONG ELSE 0 END) AS AVG_CREDIT_TYPE_Loan_for_working_capital_replenishment_CNT_CREDIT_PROLONG,\n",
        "AVG(CASE WHEN CREDIT_TYPE= 'Loan for working capital replenishment' THEN AMT_CREDIT_SUM ELSE 0 END) AS AVG_CREDIT_TYPE_Loan_for_working_capital_replenishment_AMT_CREDIT_SUM,\n",
        "AVG(CASE WHEN CREDIT_TYPE= 'Loan for working capital replenishment' THEN AMT_CREDIT_SUM_DEBT ELSE 0 END) AS AVG_CREDIT_TYPE_Loan_for_working_capital_replenishment_AMT_CREDIT_SUM_DEBT,\n",
        "AVG(CASE WHEN CREDIT_TYPE= 'Loan for working capital replenishment' THEN AMT_CREDIT_SUM_LIMIT ELSE 0 END) AS AVG_CREDIT_TYPE_Loan_for_working_capital_replenishment_AMT_CREDIT_SUM_LIMIT,\n",
        "AVG(CASE WHEN CREDIT_TYPE= 'Loan for working capital replenishment' THEN AMT_CREDIT_SUM_OVERDUE ELSE 0 END) AS AVG_CREDIT_TYPE_Loan_for_working_capital_replenishment_AMT_CREDIT_SUM_OVERDUE,\n",
        "AVG(CASE WHEN CREDIT_TYPE= 'Loan for working capital replenishment' THEN AMT_ANNUITY ELSE 0 END) AS AVG_CREDIT_TYPE_Loan_for_working_capital_replenishment_AMT_ANNUITY,\n",
        "AVG(CASE WHEN CREDIT_TYPE= 'Unknown type of loan' THEN AMT_CREDIT_MAX_OVERDUE ELSE 0 END) AS AVG_CREDIT_TYPE_Unknown_type_of_loan_AMT_CREDIT_MAX_OVERDUE,\n",
        "AVG(CASE WHEN CREDIT_TYPE= 'Unknown type of loan' THEN CNT_CREDIT_PROLONG ELSE 0 END) AS AVG_CREDIT_TYPE_Unknown_type_of_loan_CNT_CREDIT_PROLONG,\n",
        "AVG(CASE WHEN CREDIT_TYPE= 'Unknown type of loan' THEN AMT_CREDIT_SUM ELSE 0 END) AS AVG_CREDIT_TYPE_Unknown_type_of_loan_AMT_CREDIT_SUM,\n",
        "AVG(CASE WHEN CREDIT_TYPE= 'Unknown type of loan' THEN AMT_CREDIT_SUM_DEBT ELSE 0 END) AS AVG_CREDIT_TYPE_Unknown_type_of_loan_AMT_CREDIT_SUM_DEBT,\n",
        "AVG(CASE WHEN CREDIT_TYPE= 'Unknown type of loan' THEN AMT_CREDIT_SUM_LIMIT ELSE 0 END) AS AVG_CREDIT_TYPE_Unknown_type_of_loan_AMT_CREDIT_SUM_LIMIT,\n",
        "AVG(CASE WHEN CREDIT_TYPE= 'Unknown type of loan' THEN AMT_CREDIT_SUM_OVERDUE ELSE 0 END) AS AVG_CREDIT_TYPE_Unknown_type_of_loan_AMT_CREDIT_SUM_OVERDUE,\n",
        "AVG(CASE WHEN CREDIT_TYPE= 'Unknown type of loan' THEN AMT_ANNUITY ELSE 0 END) AS AVG_CREDIT_TYPE_Unknown_type_of_loan_AMT_ANNUITY,\n",
        "AVG(CASE WHEN CREDIT_TYPE= 'Another type of loan' THEN AMT_CREDIT_MAX_OVERDUE ELSE 0 END) AS AVG_CREDIT_TYPE_Another_type_of_loan_AMT_CREDIT_MAX_OVERDUE,\n",
        "AVG(CASE WHEN CREDIT_TYPE= 'Another type of loan' THEN CNT_CREDIT_PROLONG ELSE 0 END) AS AVG_CREDIT_TYPE_Another_type_of_loan_CNT_CREDIT_PROLONG,\n",
        "AVG(CASE WHEN CREDIT_TYPE= 'Another type of loan' THEN AMT_CREDIT_SUM ELSE 0 END) AS AVG_CREDIT_TYPE_Another_type_of_loan_AMT_CREDIT_SUM,\n",
        "AVG(CASE WHEN CREDIT_TYPE= 'Another type of loan' THEN AMT_CREDIT_SUM_DEBT ELSE 0 END) AS AVG_CREDIT_TYPE_Another_type_of_loan_AMT_CREDIT_SUM_DEBT,\n",
        "AVG(CASE WHEN CREDIT_TYPE= 'Another type of loan' THEN AMT_CREDIT_SUM_LIMIT ELSE 0 END) AS AVG_CREDIT_TYPE_Another_type_of_loan_AMT_CREDIT_SUM_LIMIT,\n",
        "AVG(CASE WHEN CREDIT_TYPE= 'Another type of loan' THEN AMT_CREDIT_SUM_OVERDUE ELSE 0 END) AS AVG_CREDIT_TYPE_Another_type_of_loan_AMT_CREDIT_SUM_OVERDUE,\n",
        "AVG(CASE WHEN CREDIT_TYPE= 'Another type of loan' THEN AMT_ANNUITY ELSE 0 END) AS AVG_CREDIT_TYPE_Another_type_of_loan_AMT_ANNUITY,\n",
        "AVG(CASE WHEN CREDIT_TYPE= 'Loan for business development' THEN AMT_CREDIT_MAX_OVERDUE ELSE 0 END) AS AVG_CREDIT_TYPE_Loan_for_business_development_AMT_CREDIT_MAX_OVERDUE,\n",
        "AVG(CASE WHEN CREDIT_TYPE= 'Loan for business development' THEN CNT_CREDIT_PROLONG ELSE 0 END) AS AVG_CREDIT_TYPE_Loan_for_business_development_CNT_CREDIT_PROLONG,\n",
        "AVG(CASE WHEN CREDIT_TYPE= 'Loan for business development' THEN AMT_CREDIT_SUM ELSE 0 END) AS AVG_CREDIT_TYPE_Loan_for_business_development_AMT_CREDIT_SUM,\n",
        "AVG(CASE WHEN CREDIT_TYPE= 'Loan for business development' THEN AMT_CREDIT_SUM_DEBT ELSE 0 END) AS AVG_CREDIT_TYPE_Loan_for_business_development_AMT_CREDIT_SUM_DEBT,\n",
        "AVG(CASE WHEN CREDIT_TYPE= 'Loan for business development' THEN AMT_CREDIT_SUM_LIMIT ELSE 0 END) AS AVG_CREDIT_TYPE_Loan_for_business_development_AMT_CREDIT_SUM_LIMIT,\n",
        "AVG(CASE WHEN CREDIT_TYPE= 'Loan for business development' THEN AMT_CREDIT_SUM_OVERDUE ELSE 0 END) AS AVG_CREDIT_TYPE_Loan_for_business_development_AMT_CREDIT_SUM_OVERDUE,\n",
        "AVG(CASE WHEN CREDIT_TYPE= 'Loan for business development' THEN AMT_ANNUITY ELSE 0 END) AS AVG_CREDIT_TYPE_Loan_for_business_development_AMT_ANNUITY,\n",
        "AVG(CASE WHEN CREDIT_TYPE= 'Microloan' THEN AMT_CREDIT_MAX_OVERDUE ELSE 0 END) AS AVG_CREDIT_TYPE_Microloan_AMT_CREDIT_MAX_OVERDUE,\n",
        "AVG(CASE WHEN CREDIT_TYPE= 'Microloan' THEN CNT_CREDIT_PROLONG ELSE 0 END) AS AVG_CREDIT_TYPE_Microloan_CNT_CREDIT_PROLONG,\n",
        "AVG(CASE WHEN CREDIT_TYPE= 'Microloan' THEN AMT_CREDIT_SUM ELSE 0 END) AS AVG_CREDIT_TYPE_Microloan_AMT_CREDIT_SUM,\n",
        "AVG(CASE WHEN CREDIT_TYPE= 'Microloan' THEN AMT_CREDIT_SUM_DEBT ELSE 0 END) AS AVG_CREDIT_TYPE_Microloan_AMT_CREDIT_SUM_DEBT,\n",
        "AVG(CASE WHEN CREDIT_TYPE= 'Microloan' THEN AMT_CREDIT_SUM_LIMIT ELSE 0 END) AS AVG_CREDIT_TYPE_Microloan_AMT_CREDIT_SUM_LIMIT,\n",
        "AVG(CASE WHEN CREDIT_TYPE= 'Microloan' THEN AMT_CREDIT_SUM_OVERDUE ELSE 0 END) AS AVG_CREDIT_TYPE_Microloan_AMT_CREDIT_SUM_OVERDUE,\n",
        "AVG(CASE WHEN CREDIT_TYPE= 'Microloan' THEN AMT_ANNUITY ELSE 0 END) AS AVG_CREDIT_TYPE_Microloan_AMT_ANNUITY,\n",
        "AVG(CASE WHEN CREDIT_TYPE= 'Mortgage' THEN AMT_CREDIT_MAX_OVERDUE ELSE 0 END) AS AVG_CREDIT_TYPE_Mortgage_AMT_CREDIT_MAX_OVERDUE,\n",
        "AVG(CASE WHEN CREDIT_TYPE= 'Mortgage' THEN CNT_CREDIT_PROLONG ELSE 0 END) AS AVG_CREDIT_TYPE_Mortgage_CNT_CREDIT_PROLONG,\n",
        "AVG(CASE WHEN CREDIT_TYPE= 'Mortgage' THEN AMT_CREDIT_SUM ELSE 0 END) AS AVG_CREDIT_TYPE_Mortgage_AMT_CREDIT_SUM,\n",
        "AVG(CASE WHEN CREDIT_TYPE= 'Mortgage' THEN AMT_CREDIT_SUM_DEBT ELSE 0 END) AS AVG_CREDIT_TYPE_Mortgage_AMT_CREDIT_SUM_DEBT,\n",
        "AVG(CASE WHEN CREDIT_TYPE= 'Mortgage' THEN AMT_CREDIT_SUM_LIMIT ELSE 0 END) AS AVG_CREDIT_TYPE_Mortgage_AMT_CREDIT_SUM_LIMIT,\n",
        "AVG(CASE WHEN CREDIT_TYPE= 'Mortgage' THEN AMT_CREDIT_SUM_OVERDUE ELSE 0 END) AS AVG_CREDIT_TYPE_Mortgage_AMT_CREDIT_SUM_OVERDUE,\n",
        "AVG(CASE WHEN CREDIT_TYPE= 'Mortgage' THEN AMT_ANNUITY ELSE 0 END) AS AVG_CREDIT_TYPE_Mortgage_AMT_ANNUITY,\n",
        "AVG(CASE WHEN CREDIT_TYPE= 'Car loan' THEN AMT_CREDIT_MAX_OVERDUE ELSE 0 END) AS AVG_CREDIT_TYPE_Car_loan_AMT_CREDIT_MAX_OVERDUE,\n",
        "AVG(CASE WHEN CREDIT_TYPE= 'Car loan' THEN CNT_CREDIT_PROLONG ELSE 0 END) AS AVG_CREDIT_TYPE_Car_loan_CNT_CREDIT_PROLONG,\n",
        "AVG(CASE WHEN CREDIT_TYPE= 'Car loan' THEN AMT_CREDIT_SUM ELSE 0 END) AS AVG_CREDIT_TYPE_Car_loan_AMT_CREDIT_SUM,\n",
        "AVG(CASE WHEN CREDIT_TYPE= 'Car loan' THEN AMT_CREDIT_SUM_DEBT ELSE 0 END) AS AVG_CREDIT_TYPE_Car_loan_AMT_CREDIT_SUM_DEBT,\n",
        "AVG(CASE WHEN CREDIT_TYPE= 'Car loan' THEN AMT_CREDIT_SUM_LIMIT ELSE 0 END) AS AVG_CREDIT_TYPE_Car_loan_AMT_CREDIT_SUM_LIMIT,\n",
        "AVG(CASE WHEN CREDIT_TYPE= 'Car loan' THEN AMT_CREDIT_SUM_OVERDUE ELSE 0 END) AS AVG_CREDIT_TYPE_Car_loan_AMT_CREDIT_SUM_OVERDUE,\n",
        "AVG(CASE WHEN CREDIT_TYPE= 'Car loan' THEN AMT_ANNUITY ELSE 0 END) AS AVG_CREDIT_TYPE_Car_loan_AMT_ANNUITY,\n",
        "AVG(CASE WHEN CREDIT_TYPE= 'Credit card' THEN AMT_CREDIT_MAX_OVERDUE ELSE 0 END) AS AVG_CREDIT_TYPE_Credit_card_AMT_CREDIT_MAX_OVERDUE,\n",
        "AVG(CASE WHEN CREDIT_TYPE= 'Credit card' THEN CNT_CREDIT_PROLONG ELSE 0 END) AS AVG_CREDIT_TYPE_Credit_card_CNT_CREDIT_PROLONG,\n",
        "AVG(CASE WHEN CREDIT_TYPE= 'Credit card' THEN AMT_CREDIT_SUM ELSE 0 END) AS AVG_CREDIT_TYPE_Credit_card_AMT_CREDIT_SUM,\n",
        "AVG(CASE WHEN CREDIT_TYPE= 'Credit card' THEN AMT_CREDIT_SUM_DEBT ELSE 0 END) AS AVG_CREDIT_TYPE_Credit_card_AMT_CREDIT_SUM_DEBT,\n",
        "AVG(CASE WHEN CREDIT_TYPE= 'Credit card' THEN AMT_CREDIT_SUM_LIMIT ELSE 0 END) AS AVG_CREDIT_TYPE_Credit_card_AMT_CREDIT_SUM_LIMIT,\n",
        "AVG(CASE WHEN CREDIT_TYPE= 'Credit card' THEN AMT_CREDIT_SUM_OVERDUE ELSE 0 END) AS AVG_CREDIT_TYPE_Credit_card_AMT_CREDIT_SUM_OVERDUE,\n",
        "AVG(CASE WHEN CREDIT_TYPE= 'Credit card' THEN AMT_ANNUITY ELSE 0 END) AS AVG_CREDIT_TYPE_Credit_card_AMT_ANNUITY,\n",
        "AVG(CASE WHEN CREDIT_TYPE= 'Consumer credit' THEN AMT_CREDIT_MAX_OVERDUE ELSE 0 END) AS AVG_CREDIT_TYPE_Consumer_credit_AMT_CREDIT_MAX_OVERDUE,\n",
        "AVG(CASE WHEN CREDIT_TYPE= 'Consumer credit' THEN CNT_CREDIT_PROLONG ELSE 0 END) AS AVG_CREDIT_TYPE_Consumer_credit_CNT_CREDIT_PROLONG,\n",
        "AVG(CASE WHEN CREDIT_TYPE= 'Consumer credit' THEN AMT_CREDIT_SUM ELSE 0 END) AS AVG_CREDIT_TYPE_Consumer_credit_AMT_CREDIT_SUM,\n",
        "AVG(CASE WHEN CREDIT_TYPE= 'Consumer credit' THEN AMT_CREDIT_SUM_DEBT ELSE 0 END) AS AVG_CREDIT_TYPE_Consumer_credit_AMT_CREDIT_SUM_DEBT,\n",
        "AVG(CASE WHEN CREDIT_TYPE= 'Consumer credit' THEN AMT_CREDIT_SUM_LIMIT ELSE 0 END) AS AVG_CREDIT_TYPE_Consumer_credit_AMT_CREDIT_SUM_LIMIT,\n",
        "AVG(CASE WHEN CREDIT_TYPE= 'Consumer credit' THEN AMT_CREDIT_SUM_OVERDUE ELSE 0 END) AS AVG_CREDIT_TYPE_Consumer_credit_AMT_CREDIT_SUM_OVERDUE,\n",
        "AVG(CASE WHEN CREDIT_TYPE= 'Consumer credit' THEN AMT_ANNUITY ELSE 0 END) AS AVG_CREDIT_TYPE_Consumer_credit_AMT_ANNUITY \n",
        "FROM\n",
        "  bureau\n",
        "GROUP BY\n",
        "  SK_ID_CURR\n",
        "\"\"\")"
      ],
      "metadata": {
        "id": "0UjtWNZK1B6Y"
      },
      "execution_count": 30,
      "outputs": []
    },
    {
      "cell_type": "markdown",
      "source": [
        "###Criando variáveis agregadas somente com as variáveis numéricas e datas da tabela bureau"
      ],
      "metadata": {
        "id": "GTm0BGMdtOdd"
      }
    },
    {
      "cell_type": "markdown",
      "source": [
        "As colunas numéricas e de datas são:\n",
        "\n",
        "- AMT_CREDIT_MAX_OVERDUE\n",
        "- CNT_CREDIT_PROLONG\n",
        "- AMT_CREDIT_SUM\n",
        "- AMT_CREDIT_SUM_DEBT\n",
        "- AMT_CREDIT_SUM_LIMIT\n",
        "- AMT_CREDIT_SUM_OVERDUE\n",
        "- AMT_ANNUITY \n",
        "- DAYS_CREDIT\n",
        "- CREDIT_DAY_OVERDUE\n",
        "- DAYS_CREDIT_ENDDATE\n",
        "- DAYS_ENDDATE_FACT\n",
        "- DAYS_CREDIT_UPDATE"
      ],
      "metadata": {
        "id": "3so9j4zN4CGV"
      }
    },
    {
      "cell_type": "code",
      "source": [
        "# Criando as agregações\n",
        "\n",
        "agg = ['SUM', 'MIN', 'MAX', 'AVG']\n",
        "\n",
        "# Criando a variável numérica e de data\n",
        "\n",
        "var_num = ['AMT_CREDIT_MAX_OVERDUE', 'CNT_CREDIT_PROLONG', 'AMT_CREDIT_SUM', \\\n",
        "           'AMT_CREDIT_SUM_DEBT', 'AMT_CREDIT_SUM_LIMIT', \\\n",
        "           'AMT_CREDIT_SUM_OVERDUE', 'AMT_ANNUITY', 'DAYS_CREDIT',\n",
        "           'CREDIT_DAY_OVERDUE', 'DAYS_CREDIT_ENDDATE', 'DAYS_ENDDATE_FACT', \\\n",
        "           'DAYS_CREDIT_UPDATE'] "
      ],
      "metadata": {
        "id": "qah4iG_v8fdZ"
      },
      "execution_count": 31,
      "outputs": []
    },
    {
      "cell_type": "code",
      "source": [
        "# Criando uma rotina que gera o texto da função de agregação\n",
        "\n",
        "for ag in agg:\n",
        "  for var_n in var_num:\n",
        "        print(ag + \"(\" + var_n + \") AS \" + ag + \"_\" + var_n + ',')\n",
        "\n",
        "    #SUM(AMT_CREDIT_MAX_OVERDUE) AS sum_credit_max_overdue"
      ],
      "metadata": {
        "id": "r6dJJF4O8qo9",
        "colab": {
          "base_uri": "https://localhost:8080/"
        },
        "outputId": "925face8-9714-436d-b0d2-7e738eb6344a"
      },
      "execution_count": 32,
      "outputs": [
        {
          "output_type": "stream",
          "name": "stdout",
          "text": [
            "SUM(AMT_CREDIT_MAX_OVERDUE) AS SUM_AMT_CREDIT_MAX_OVERDUE,\n",
            "SUM(CNT_CREDIT_PROLONG) AS SUM_CNT_CREDIT_PROLONG,\n",
            "SUM(AMT_CREDIT_SUM) AS SUM_AMT_CREDIT_SUM,\n",
            "SUM(AMT_CREDIT_SUM_DEBT) AS SUM_AMT_CREDIT_SUM_DEBT,\n",
            "SUM(AMT_CREDIT_SUM_LIMIT) AS SUM_AMT_CREDIT_SUM_LIMIT,\n",
            "SUM(AMT_CREDIT_SUM_OVERDUE) AS SUM_AMT_CREDIT_SUM_OVERDUE,\n",
            "SUM(AMT_ANNUITY) AS SUM_AMT_ANNUITY,\n",
            "SUM(DAYS_CREDIT) AS SUM_DAYS_CREDIT,\n",
            "SUM(CREDIT_DAY_OVERDUE) AS SUM_CREDIT_DAY_OVERDUE,\n",
            "SUM(DAYS_CREDIT_ENDDATE) AS SUM_DAYS_CREDIT_ENDDATE,\n",
            "SUM(DAYS_ENDDATE_FACT) AS SUM_DAYS_ENDDATE_FACT,\n",
            "SUM(DAYS_CREDIT_UPDATE) AS SUM_DAYS_CREDIT_UPDATE,\n",
            "MIN(AMT_CREDIT_MAX_OVERDUE) AS MIN_AMT_CREDIT_MAX_OVERDUE,\n",
            "MIN(CNT_CREDIT_PROLONG) AS MIN_CNT_CREDIT_PROLONG,\n",
            "MIN(AMT_CREDIT_SUM) AS MIN_AMT_CREDIT_SUM,\n",
            "MIN(AMT_CREDIT_SUM_DEBT) AS MIN_AMT_CREDIT_SUM_DEBT,\n",
            "MIN(AMT_CREDIT_SUM_LIMIT) AS MIN_AMT_CREDIT_SUM_LIMIT,\n",
            "MIN(AMT_CREDIT_SUM_OVERDUE) AS MIN_AMT_CREDIT_SUM_OVERDUE,\n",
            "MIN(AMT_ANNUITY) AS MIN_AMT_ANNUITY,\n",
            "MIN(DAYS_CREDIT) AS MIN_DAYS_CREDIT,\n",
            "MIN(CREDIT_DAY_OVERDUE) AS MIN_CREDIT_DAY_OVERDUE,\n",
            "MIN(DAYS_CREDIT_ENDDATE) AS MIN_DAYS_CREDIT_ENDDATE,\n",
            "MIN(DAYS_ENDDATE_FACT) AS MIN_DAYS_ENDDATE_FACT,\n",
            "MIN(DAYS_CREDIT_UPDATE) AS MIN_DAYS_CREDIT_UPDATE,\n",
            "MAX(AMT_CREDIT_MAX_OVERDUE) AS MAX_AMT_CREDIT_MAX_OVERDUE,\n",
            "MAX(CNT_CREDIT_PROLONG) AS MAX_CNT_CREDIT_PROLONG,\n",
            "MAX(AMT_CREDIT_SUM) AS MAX_AMT_CREDIT_SUM,\n",
            "MAX(AMT_CREDIT_SUM_DEBT) AS MAX_AMT_CREDIT_SUM_DEBT,\n",
            "MAX(AMT_CREDIT_SUM_LIMIT) AS MAX_AMT_CREDIT_SUM_LIMIT,\n",
            "MAX(AMT_CREDIT_SUM_OVERDUE) AS MAX_AMT_CREDIT_SUM_OVERDUE,\n",
            "MAX(AMT_ANNUITY) AS MAX_AMT_ANNUITY,\n",
            "MAX(DAYS_CREDIT) AS MAX_DAYS_CREDIT,\n",
            "MAX(CREDIT_DAY_OVERDUE) AS MAX_CREDIT_DAY_OVERDUE,\n",
            "MAX(DAYS_CREDIT_ENDDATE) AS MAX_DAYS_CREDIT_ENDDATE,\n",
            "MAX(DAYS_ENDDATE_FACT) AS MAX_DAYS_ENDDATE_FACT,\n",
            "MAX(DAYS_CREDIT_UPDATE) AS MAX_DAYS_CREDIT_UPDATE,\n",
            "AVG(AMT_CREDIT_MAX_OVERDUE) AS AVG_AMT_CREDIT_MAX_OVERDUE,\n",
            "AVG(CNT_CREDIT_PROLONG) AS AVG_CNT_CREDIT_PROLONG,\n",
            "AVG(AMT_CREDIT_SUM) AS AVG_AMT_CREDIT_SUM,\n",
            "AVG(AMT_CREDIT_SUM_DEBT) AS AVG_AMT_CREDIT_SUM_DEBT,\n",
            "AVG(AMT_CREDIT_SUM_LIMIT) AS AVG_AMT_CREDIT_SUM_LIMIT,\n",
            "AVG(AMT_CREDIT_SUM_OVERDUE) AS AVG_AMT_CREDIT_SUM_OVERDUE,\n",
            "AVG(AMT_ANNUITY) AS AVG_AMT_ANNUITY,\n",
            "AVG(DAYS_CREDIT) AS AVG_DAYS_CREDIT,\n",
            "AVG(CREDIT_DAY_OVERDUE) AS AVG_CREDIT_DAY_OVERDUE,\n",
            "AVG(DAYS_CREDIT_ENDDATE) AS AVG_DAYS_CREDIT_ENDDATE,\n",
            "AVG(DAYS_ENDDATE_FACT) AS AVG_DAYS_ENDDATE_FACT,\n",
            "AVG(DAYS_CREDIT_UPDATE) AS AVG_DAYS_CREDIT_UPDATE,\n"
          ]
        }
      ]
    },
    {
      "cell_type": "markdown",
      "source": [
        "- Criando o dataframe df_num_bureau"
      ],
      "metadata": {
        "id": "gw3TRAm7uzWO"
      }
    },
    {
      "cell_type": "code",
      "source": [
        "df_num_bureau = spark.sql(\"\"\"\n",
        "SELECT\n",
        "  SK_ID_CURR,\n",
        "SUM(AMT_CREDIT_MAX_OVERDUE) AS SUM_AMT_CREDIT_MAX_OVERDUE,\n",
        "SUM(CNT_CREDIT_PROLONG) AS SUM_CNT_CREDIT_PROLONG,\n",
        "SUM(AMT_CREDIT_SUM) AS SUM_AMT_CREDIT_SUM,\n",
        "SUM(AMT_CREDIT_SUM_DEBT) AS SUM_AMT_CREDIT_SUM_DEBT,\n",
        "SUM(AMT_CREDIT_SUM_LIMIT) AS SUM_AMT_CREDIT_SUM_LIMIT,\n",
        "SUM(AMT_CREDIT_SUM_OVERDUE) AS SUM_AMT_CREDIT_SUM_OVERDUE,\n",
        "SUM(AMT_ANNUITY) AS SUM_AMT_ANNUITY,\n",
        "SUM(DAYS_CREDIT) AS SUM_DAYS_CREDIT,\n",
        "SUM(CREDIT_DAY_OVERDUE) AS SUM_CREDIT_DAY_OVERDUE,\n",
        "SUM(DAYS_CREDIT_ENDDATE) AS SUM_DAYS_CREDIT_ENDDATE,\n",
        "SUM(DAYS_ENDDATE_FACT) AS SUM_DAYS_ENDDATE_FACT,\n",
        "SUM(DAYS_CREDIT_UPDATE) AS SUM_DAYS_CREDIT_UPDATE,\n",
        "MIN(AMT_CREDIT_MAX_OVERDUE) AS MIN_AMT_CREDIT_MAX_OVERDUE,\n",
        "MIN(CNT_CREDIT_PROLONG) AS MIN_CNT_CREDIT_PROLONG,\n",
        "MIN(AMT_CREDIT_SUM) AS MIN_AMT_CREDIT_SUM,\n",
        "MIN(AMT_CREDIT_SUM_DEBT) AS MIN_AMT_CREDIT_SUM_DEBT,\n",
        "MIN(AMT_CREDIT_SUM_LIMIT) AS MIN_AMT_CREDIT_SUM_LIMIT,\n",
        "MIN(AMT_CREDIT_SUM_OVERDUE) AS MIN_AMT_CREDIT_SUM_OVERDUE,\n",
        "MIN(AMT_ANNUITY) AS MIN_AMT_ANNUITY,\n",
        "MIN(DAYS_CREDIT) AS MIN_DAYS_CREDIT,\n",
        "MIN(CREDIT_DAY_OVERDUE) AS MIN_CREDIT_DAY_OVERDUE,\n",
        "MIN(DAYS_CREDIT_ENDDATE) AS MIN_DAYS_CREDIT_ENDDATE,\n",
        "MIN(DAYS_ENDDATE_FACT) AS MIN_DAYS_ENDDATE_FACT,\n",
        "MIN(DAYS_CREDIT_UPDATE) AS MIN_DAYS_CREDIT_UPDATE,\n",
        "MAX(AMT_CREDIT_MAX_OVERDUE) AS MAX_AMT_CREDIT_MAX_OVERDUE,\n",
        "MAX(CNT_CREDIT_PROLONG) AS MAX_CNT_CREDIT_PROLONG,\n",
        "MAX(AMT_CREDIT_SUM) AS MAX_AMT_CREDIT_SUM,\n",
        "MAX(AMT_CREDIT_SUM_DEBT) AS MAX_AMT_CREDIT_SUM_DEBT,\n",
        "MAX(AMT_CREDIT_SUM_LIMIT) AS MAX_AMT_CREDIT_SUM_LIMIT,\n",
        "MAX(AMT_CREDIT_SUM_OVERDUE) AS MAX_AMT_CREDIT_SUM_OVERDUE,\n",
        "MAX(AMT_ANNUITY) AS MAX_AMT_ANNUITY,\n",
        "MAX(DAYS_CREDIT) AS MAX_DAYS_CREDIT,\n",
        "MAX(CREDIT_DAY_OVERDUE) AS MAX_CREDIT_DAY_OVERDUE,\n",
        "MAX(DAYS_CREDIT_ENDDATE) AS MAX_DAYS_CREDIT_ENDDATE,\n",
        "MAX(DAYS_ENDDATE_FACT) AS MAX_DAYS_ENDDATE_FACT,\n",
        "MAX(DAYS_CREDIT_UPDATE) AS MAX_DAYS_CREDIT_UPDATE,\n",
        "AVG(AMT_CREDIT_MAX_OVERDUE) AS AVG_AMT_CREDIT_MAX_OVERDUE,\n",
        "AVG(CNT_CREDIT_PROLONG) AS AVG_CNT_CREDIT_PROLONG,\n",
        "AVG(AMT_CREDIT_SUM) AS AVG_AMT_CREDIT_SUM,\n",
        "AVG(AMT_CREDIT_SUM_DEBT) AS AVG_AMT_CREDIT_SUM_DEBT,\n",
        "AVG(AMT_CREDIT_SUM_LIMIT) AS AVG_AMT_CREDIT_SUM_LIMIT,\n",
        "AVG(AMT_CREDIT_SUM_OVERDUE) AS AVG_AMT_CREDIT_SUM_OVERDUE,\n",
        "AVG(AMT_ANNUITY) AS AVG_AMT_ANNUITY,\n",
        "AVG(DAYS_CREDIT) AS AVG_DAYS_CREDIT,\n",
        "AVG(CREDIT_DAY_OVERDUE) AS AVG_CREDIT_DAY_OVERDUE,\n",
        "AVG(DAYS_CREDIT_ENDDATE) AS AVG_DAYS_CREDIT_ENDDATE,\n",
        "AVG(DAYS_ENDDATE_FACT) AS AVG_DAYS_ENDDATE_FACT,\n",
        "AVG(DAYS_CREDIT_UPDATE) AS AVG_DAYS_CREDIT_UPDATE\n",
        "FROM\n",
        "  bureau\n",
        "GROUP BY\n",
        "  SK_ID_CURR\n",
        "\"\"\")"
      ],
      "metadata": {
        "id": "_mPZPdob99_s"
      },
      "execution_count": 33,
      "outputs": []
    },
    {
      "cell_type": "markdown",
      "source": [
        "###Criando variáveis numéricas que envolvem regras de negócio da tabela bureau"
      ],
      "metadata": {
        "id": "_tyv-eVFv-mV"
      }
    },
    {
      "cell_type": "markdown",
      "source": [
        "- Duração do Crédito, Crédito/Conta e Diferença de data\n",
        " - CREDIT_DURATION = DAYS_CREDIT + DAYS_CREDIT_ENDDATE\n",
        " - ENDDATE_DIF = DAYS_CREDIT_ENDDATE - DAYS_ENDDATE_FACT\n",
        "\n",
        "- Taxa e Diferença de Credito para Débito: \n",
        " - DEBT_PERCENTAGE = AMT_CREDIT_SUM / AMT_CREDIT_SUM_DEBT\n",
        " - DEBT_CREDIT_DIFF = AMT_CREDIT_SUM - AMT_CREDIT_SUM_DEBT\n",
        " - CREDIT_TO_ANNUITY_RATIO = AMT_CREDIT_SUM / AMT_ANNUITY\n",
        " - BUREAU_CREDIT_FACT_DIFF = DAYS_CREDIT - DAYS_ENDDATE_FACT\n",
        " - BUREAU_CREDIT_ENDDATE_DIFF = DAYS_CREDIT - DAYS_CREDIT_ENDDATE\n",
        " - BUREAU_CREDIT_DEBT_RATIO = AMT_CREDIT_SUM_DEBT / AMT_CREDIT_SUM\n",
        "\n"
      ],
      "metadata": {
        "id": "ZyTLkpByBU3F"
      }
    },
    {
      "cell_type": "markdown",
      "source": [
        "- Criando o dataframe df_bureau_regras_data"
      ],
      "metadata": {
        "id": "EGBTMqOByTlk"
      }
    },
    {
      "cell_type": "code",
      "source": [
        "df_bureau_regras_data = spark.sql(\"\"\"\n",
        "SELECT\n",
        "SK_ID_CURR,\n",
        "(DAYS_CREDIT + DAYS_CREDIT_ENDDATE) AS CREDIT_DURATION,\n",
        "(DAYS_CREDIT_ENDDATE - DAYS_ENDDATE_FACT) AS ENDDATE_DIF,\n",
        "ROUND((AMT_CREDIT_SUM / AMT_CREDIT_SUM_DEBT), 2) AS DEBT_PERCENTAGE,\n",
        "ROUND((AMT_CREDIT_SUM - AMT_CREDIT_SUM_DEBT), 2) AS DEBT_CREDIT_DIFF,\n",
        "ROUND((AMT_CREDIT_SUM / AMT_ANNUITY), 2) AS CREDIT_TO_ANNUITY_RATIO,\n",
        "ROUND((DAYS_CREDIT - DAYS_CREDIT_ENDDATE), 2) AS BUREAU_CREDIT_ENDDATE_DIFF,\n",
        "ROUND((AMT_CREDIT_SUM_DEBT /AMT_CREDIT_SUM), 2) AS BUREAU_CREDIT_DEBT_RATIO,\n",
        "(DAYS_CREDIT - DAYS_ENDDATE_FACT) AS BUREAU_CREDIT_FACT_DIFF\n",
        "FROM\n",
        "bureau\n",
        "\"\"\")\n"
      ],
      "metadata": {
        "id": "0tA3og0rBaFn"
      },
      "execution_count": 34,
      "outputs": []
    },
    {
      "cell_type": "markdown",
      "source": [
        "###Criando variáveis numéricas que envolvem regras de negócio da tabela application_train"
      ],
      "metadata": {
        "id": "hRr-cSBQy4qX"
      }
    },
    {
      "cell_type": "markdown",
      "source": [
        "- Idade:\n",
        " - AGE_YEARS = -DAYS_BIRTH / 365\n",
        "\n",
        "- Porcentagens:\n",
        " - DAYS_EMPLOYED_PERC = DAYS_EMPLOYED / DAYS_BIRTH\n",
        " - INCOME_CREDIT_PERC = AMT_INCOME_TOTAL / AMT_CREDIT\n",
        " - INCOME_PER_PERSON = AMT_INCOME_TOTAL / CNT_FAM_MEMBERS\n",
        " - ANNUITY_INCOME_PERC = AMT_ANNUITY / AMT_INCOME_TOTAL\n",
        " - PAYMENT_RATE = AMT_ANNUITY / AMT_CREDIT\n",
        "\n",
        "- Índice de Crédito\n",
        " - CREDIT_TO_GOODS_RATIO = AMT_CREDIT / AMT_GOODS_PRICE\n",
        "    \n",
        "- Índices de Receita\n",
        " - INCOME_TO_EMPLOYED_RATIO = AMT_INCOME_TOTAL / DAYS_EMPLOYED\n",
        " - INCOME_TO_BIRTH_RATIO = AMT_INCOME_TOTAL / DAYS_BIRTH\n",
        "    \n",
        "- Razões de tempo\n",
        " - ID_TO_BIRTH_RATIO = DAYS_ID_PUBLISH / DAYS_BIRTH\n",
        " - CAR_TO_BIRTH_RATIO = OWN_CAR_AGE / DAYS_BIRTH\n",
        " - CAR_TO_EMPLOYED_RATIO = OWN_CAR_AGE / DAYS_EMPLOYED\n",
        " - PHONE_TO_BIRTH_RATIO = DAYS_LAST_PHONE_CHANGE / DAYS_BIRTH\n"
      ],
      "metadata": {
        "id": "j-lpNyfyNDqZ"
      }
    },
    {
      "cell_type": "markdown",
      "source": [
        "- Criando o dataframe df_reg_application_train"
      ],
      "metadata": {
        "id": "QpkW76H50C1I"
      }
    },
    {
      "cell_type": "code",
      "source": [
        "df_reg_application_train = spark.sql(\"\"\"\n",
        "SELECT\n",
        "SK_ID_CURR,\n",
        "ROUND((-DAYS_BIRTH / 365), 1) AS AGE_YEARS,\n",
        "ROUND((DAYS_EMPLOYED / DAYS_BIRTH), 2) AS DAYS_EMPLOYED_PERC,\n",
        "ROUND((AMT_INCOME_TOTAL / AMT_CREDIT), 2) AS INCOME_CREDIT_PERC,\n",
        "ROUND((AMT_INCOME_TOTAL / CNT_FAM_MEMBERS), 2) AS INCOME_PER_PERSON,\n",
        "ROUND((AMT_ANNUITY / AMT_INCOME_TOTAL), 2) AS ANNUITY_INCOME_PERC,\n",
        "ROUND((AMT_ANNUITY / AMT_CREDIT), 2) AS PAYMENT_RATE,\n",
        "ROUND((AMT_CREDIT / AMT_GOODS_PRICE), 2) AS CREDIT_TO_GOODS_RATIO,\n",
        "ROUND((AMT_INCOME_TOTAL / DAYS_EMPLOYED), 2) AS INCOME_TO_EMPLOYED_RATIO,\n",
        "ROUND((AMT_INCOME_TOTAL / DAYS_BIRTH), 2) AS INCOME_TO_BIRTH_RATIO,\n",
        "ROUND((DAYS_ID_PUBLISH / DAYS_BIRTH), 2) AS ID_TO_BIRTH_RATIO,\n",
        "ROUND((OWN_CAR_AGE / DAYS_BIRTH), 2) AS CAR_TO_BIRTH_RATIO,\n",
        "ROUND((OWN_CAR_AGE / DAYS_EMPLOYED), 2) AS CAR_TO_EMPLOYED_RATIO,\n",
        "ROUND((DAYS_LAST_PHONE_CHANGE / DAYS_BIRTH), 2) AS PHONE_TO_BIRTH_RATIO \n",
        "FROM\n",
        "  application_train\n",
        "\"\"\")"
      ],
      "metadata": {
        "id": "odosm6XaRG9I"
      },
      "execution_count": 35,
      "outputs": []
    },
    {
      "cell_type": "markdown",
      "source": [
        "###Calculando o número de colunas de cada dataframe"
      ],
      "metadata": {
        "id": "Y254isci-3jI"
      }
    },
    {
      "cell_type": "markdown",
      "source": [
        "Além do dataframe df_application_train que tem 122 colunas e do df_bureau que tem 17 colunas, criamos mais 7 novos dataframes utilizando agregações e regras de negócio, onde:\n",
        "\n",
        "- df_bureau_cat: 93 colunas\n",
        "- df_bureau_credit_active_num: 113 colunas\n",
        "- df_bureau_credit_currency_num: 113 colunas\n",
        "- df_bureau_credit_type_num: 421 colunas\n",
        "- df_num_bureau: 49 colunas\n",
        "- df_bureau_regras_data: 9 colunas\n",
        "- df_reg_application_train: 14 colunas\n",
        "\n",
        "Lembrando que para todos os dataframes temos que o número de variáveis é igual ao número de colunas - 1, pois a coluna 'SK_ID_CURR' é a chave de todos os dataframes. Então, inicialmente tínhamos 121 variáveis para a tabela df_application_train e 16 variáveis para o df_bureau, que ao todo são 137 variáveis.\n",
        "Abaixo tem uma rotina que calcula no número de colunase os nomes da colunas.\n"
      ],
      "metadata": {
        "id": "Qg53GFbY0M43"
      }
    },
    {
      "cell_type": "code",
      "source": [
        "# Conta o número de colunas na tabela\n",
        "num_colunas = len(df_reg_application_train.columns)\n",
        "\n",
        "# Obtém os nomes das colunas\n",
        "nomes_colunas = df_reg_application_train.columns\n",
        "\n",
        "# Imprime o resultado\n",
        "print(\"O df_reg_application_train possui \", num_colunas, \"colunas.\")\n",
        "print('')\n",
        "print('Os nomes das colunas:')\n",
        "for nome_coluna in nomes_colunas:\n",
        "    print(nome_coluna)"
      ],
      "metadata": {
        "id": "mtZSvzS13qjx",
        "colab": {
          "base_uri": "https://localhost:8080/"
        },
        "outputId": "c9c4c0d9-91b7-4ab4-959a-510a4b22abcb"
      },
      "execution_count": 36,
      "outputs": [
        {
          "output_type": "stream",
          "name": "stdout",
          "text": [
            "O df_reg_application_train possui  14 colunas.\n",
            "\n",
            "Os nomes das colunas:\n",
            "SK_ID_CURR\n",
            "AGE_YEARS\n",
            "DAYS_EMPLOYED_PERC\n",
            "INCOME_CREDIT_PERC\n",
            "INCOME_PER_PERSON\n",
            "ANNUITY_INCOME_PERC\n",
            "PAYMENT_RATE\n",
            "CREDIT_TO_GOODS_RATIO\n",
            "INCOME_TO_EMPLOYED_RATIO\n",
            "INCOME_TO_BIRTH_RATIO\n",
            "ID_TO_BIRTH_RATIO\n",
            "CAR_TO_BIRTH_RATIO\n",
            "CAR_TO_EMPLOYED_RATIO\n",
            "PHONE_TO_BIRTH_RATIO\n"
          ]
        }
      ]
    },
    {
      "cell_type": "markdown",
      "source": [
        "###Juntando ao df_application_train os 7 dataframes criados usando a coluna SK_ID_CURR"
      ],
      "metadata": {
        "id": "SrdahiysVXry"
      }
    },
    {
      "cell_type": "code",
      "source": [
        "df_junto = df_application_train.join(df_bureau_cat, \"SK_ID_CURR\")\\\n",
        "               .join(df_bureau_credit_active_num, \"SK_ID_CURR\")\\\n",
        "               .join(df_bureau_credit_currency_num, \"SK_ID_CURR\")\\\n",
        "               .join(df_bureau_credit_type_num, \"SK_ID_CURR\")\\\n",
        "               .join(df_num_bureau, \"SK_ID_CURR\")\\\n",
        "               .join(df_bureau_regras_data, \"SK_ID_CURR\")\\\n",
        "               .join(df_reg_application_train, \"SK_ID_CURR\")"
      ],
      "metadata": {
        "id": "7zoIHCWX6Pf1"
      },
      "execution_count": 37,
      "outputs": []
    },
    {
      "cell_type": "markdown",
      "source": [
        "###Calculando o número de colunas do dataframe df_junto"
      ],
      "metadata": {
        "id": "JrT4NAgK6qkX"
      }
    },
    {
      "cell_type": "code",
      "source": [
        "# Contando o número de colunas do df_junto\n",
        "num_colunas = len(df_junto.columns)\n",
        "\n",
        "# Imprimindo o resultado\n",
        "print(num_colunas, \"colunas.\")"
      ],
      "metadata": {
        "colab": {
          "base_uri": "https://localhost:8080/"
        },
        "id": "kmQNSCd26Pjt",
        "outputId": "eac2af85-686e-490e-cfa1-9be940b3b8f9"
      },
      "execution_count": 38,
      "outputs": [
        {
          "output_type": "stream",
          "name": "stdout",
          "text": [
            "927 colunas.\n"
          ]
        }
      ]
    },
    {
      "cell_type": "markdown",
      "source": [
        "***Então, temos o dataframe final df_junto com 926 variáveis. \n",
        "De 137 variáveis iniciais passamos para 815 variáveis, ou seja, aumentamos o número de variáveis em aproximandamente 6 vezes.***"
      ],
      "metadata": {
        "id": "If7n1rcO_MmI"
      }
    },
    {
      "cell_type": "markdown",
      "source": [
        "###Conclusão"
      ],
      "metadata": {
        "id": "gtoag_5_AVzA"
      }
    },
    {
      "cell_type": "markdown",
      "source": [
        "Por meio, do Pyspark SQL foi possível executar várias operações como filtragem, agregação e junção com dois conjuntos de dados de tamanho razoável, tendo 307511 linhas o df_application_train e 1716728 linhas o df_bureau, de forma eficiente. \n",
        "também aumentamos o nosso book de variáveis com 815 novas variáveis, e com isso, aumentamos o poder preditvo na parte de modelagem em aproximadamente 6 vezes."
      ],
      "metadata": {
        "id": "m3t4GcLwCwU2"
      }
    }
  ]
}